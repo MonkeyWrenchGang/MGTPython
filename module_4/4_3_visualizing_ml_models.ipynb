{
  "nbformat": 4,
  "nbformat_minor": 0,
  "metadata": {
    "colab": {
      "provenance": [],
      "include_colab_link": true
    },
    "kernelspec": {
      "name": "python3",
      "display_name": "Python 3"
    },
    "language_info": {
      "name": "python"
    }
  },
  "cells": [
    {
      "cell_type": "markdown",
      "metadata": {
        "id": "view-in-github",
        "colab_type": "text"
      },
      "source": [
        "<a href=\"https://colab.research.google.com/github/MonkeyWrenchGang/MGTPython/blob/main/module_4/4_3_visualizing_ml_models.ipynb\" target=\"_parent\"><img src=\"https://colab.research.google.com/assets/colab-badge.svg\" alt=\"Open In Colab\"/></a>"
      ]
    },
    {
      "cell_type": "markdown",
      "source": [
        "# Visualising ML Models\n",
        "\n",
        "\n",
        "---\n",
        "\n",
        "Here is a simple notebook that will provide some examples of how a analyst can start to visualize the predictions of a classification model. \n",
        "\n",
        "We'll start by \n",
        "\n",
        "0. loading libraries\n",
        "1. loading data \n",
        "2. exploring the target (actual outcome) \n",
        "3. exploring numeric variables relative to the target\n",
        "4. exploring categorical variables relative to the target\n",
        "5. finally look at predicted probabilities\n",
        "\n",
        "About the data: \n",
        "\n",
        "Deliveroo is a British online food delivery company founded by Will Shu and Greg Orlowski in 2013 in London, England. It operates in the United Kingdom, France, Belgium, Ireland, Italy, Singapore, Hong Kong, the United Arab Emirates and Kuwait. They have a problem where drivers are often late - this data has been wrangled to help identify and classify if a delivery is likely late or not. It contains some helpful variables including:\n",
        "\n",
        "1. delivery_status (1 = late, 0 = on-time)\n",
        "2. predict_status (1 = late, 0 = on-time)\n",
        "3. predict_proba (probablity that the delivery will be late) \n",
        "\n",
        "let's jump in! "
      ],
      "metadata": {
        "id": "ug69JEodLyZP"
      }
    },
    {
      "cell_type": "code",
      "metadata": {
        "id": "mDhLwyyhw5tS"
      },
      "source": [
        "# 0. load libraries \n",
        "import pandas as pd\n",
        "import matplotlib.pyplot as plt\n",
        "import seaborn as sns\n",
        "from sklearn.metrics import roc_auc_score, precision_score"
      ],
      "execution_count": null,
      "outputs": []
    },
    {
      "cell_type": "code",
      "metadata": {
        "colab": {
          "base_uri": "https://localhost:8080/",
          "height": 309
        },
        "id": "Itrwd-NIxQFP",
        "outputId": "bc01cd2f-558b-48e3-955e-b83630d5fd05"
      },
      "source": [
        "# 1. load data \n",
        "roo = pd.read_csv(\"/content/deliveroo_on_time_deliveries.csv\")\n",
        "roo.head()"
      ],
      "execution_count": null,
      "outputs": [
        {
          "output_type": "execute_result",
          "data": {
            "text/html": [
              "<div>\n",
              "<style scoped>\n",
              "    .dataframe tbody tr th:only-of-type {\n",
              "        vertical-align: middle;\n",
              "    }\n",
              "\n",
              "    .dataframe tbody tr th {\n",
              "        vertical-align: top;\n",
              "    }\n",
              "\n",
              "    .dataframe thead th {\n",
              "        text-align: right;\n",
              "    }\n",
              "</style>\n",
              "<table border=\"1\" class=\"dataframe\">\n",
              "  <thead>\n",
              "    <tr style=\"text-align: right;\">\n",
              "      <th></th>\n",
              "      <th>distance_from_resturant</th>\n",
              "      <th>distance_to_address</th>\n",
              "      <th>weather_quality</th>\n",
              "      <th>order_price</th>\n",
              "      <th>number_of_deliveries</th>\n",
              "      <th>rush_hour</th>\n",
              "      <th>urban_address</th>\n",
              "      <th>previous_delivery_2_address</th>\n",
              "      <th>resturant_type</th>\n",
              "      <th>event_timestamp</th>\n",
              "      <th>predict_proba</th>\n",
              "      <th>predict_status</th>\n",
              "      <th>delivery_status</th>\n",
              "    </tr>\n",
              "  </thead>\n",
              "  <tbody>\n",
              "    <tr>\n",
              "      <th>0</th>\n",
              "      <td>4.4</td>\n",
              "      <td>4.1</td>\n",
              "      <td>49.0</td>\n",
              "      <td>14.5</td>\n",
              "      <td>7.0</td>\n",
              "      <td>Yes</td>\n",
              "      <td>Yes</td>\n",
              "      <td>Yes</td>\n",
              "      <td>Food Truck</td>\n",
              "      <td>2020-06-29 16:21:13</td>\n",
              "      <td>0.996515</td>\n",
              "      <td>1</td>\n",
              "      <td>1</td>\n",
              "    </tr>\n",
              "    <tr>\n",
              "      <th>1</th>\n",
              "      <td>5.7</td>\n",
              "      <td>8.0</td>\n",
              "      <td>46.0</td>\n",
              "      <td>6.7</td>\n",
              "      <td>6.0</td>\n",
              "      <td>No</td>\n",
              "      <td>Yes</td>\n",
              "      <td>Yes</td>\n",
              "      <td>Chain</td>\n",
              "      <td>2021-02-25 06:26:32</td>\n",
              "      <td>0.007169</td>\n",
              "      <td>0</td>\n",
              "      <td>0</td>\n",
              "    </tr>\n",
              "    <tr>\n",
              "      <th>2</th>\n",
              "      <td>3.7</td>\n",
              "      <td>5.1</td>\n",
              "      <td>38.0</td>\n",
              "      <td>9.6</td>\n",
              "      <td>20.0</td>\n",
              "      <td>Yes</td>\n",
              "      <td>No</td>\n",
              "      <td>No</td>\n",
              "      <td>Food Truck</td>\n",
              "      <td>2020-07-28 00:23:58</td>\n",
              "      <td>0.021323</td>\n",
              "      <td>0</td>\n",
              "      <td>0</td>\n",
              "    </tr>\n",
              "    <tr>\n",
              "      <th>3</th>\n",
              "      <td>5.4</td>\n",
              "      <td>5.5</td>\n",
              "      <td>45.0</td>\n",
              "      <td>12.3</td>\n",
              "      <td>13.0</td>\n",
              "      <td>No</td>\n",
              "      <td>No</td>\n",
              "      <td>Yes</td>\n",
              "      <td>Chain</td>\n",
              "      <td>2020-06-12 03:25:14</td>\n",
              "      <td>0.231995</td>\n",
              "      <td>0</td>\n",
              "      <td>0</td>\n",
              "    </tr>\n",
              "    <tr>\n",
              "      <th>4</th>\n",
              "      <td>4.9</td>\n",
              "      <td>6.5</td>\n",
              "      <td>48.0</td>\n",
              "      <td>11.6</td>\n",
              "      <td>13.0</td>\n",
              "      <td>Yes</td>\n",
              "      <td>No</td>\n",
              "      <td>No</td>\n",
              "      <td>Chain</td>\n",
              "      <td>2021-02-23 09:37:00</td>\n",
              "      <td>0.004056</td>\n",
              "      <td>0</td>\n",
              "      <td>0</td>\n",
              "    </tr>\n",
              "  </tbody>\n",
              "</table>\n",
              "</div>"
            ],
            "text/plain": [
              "   distance_from_resturant  ...  delivery_status\n",
              "0                      4.4  ...                1\n",
              "1                      5.7  ...                0\n",
              "2                      3.7  ...                0\n",
              "3                      5.4  ...                0\n",
              "4                      4.9  ...                0\n",
              "\n",
              "[5 rows x 13 columns]"
            ]
          },
          "metadata": {
            "tags": []
          },
          "execution_count": 134
        }
      ]
    },
    {
      "cell_type": "markdown",
      "metadata": {
        "id": "EkGhDgbcxYNB"
      },
      "source": [
        "# 2. Explore Target\n",
        "\n",
        "\n",
        "---\n",
        "\n",
        "How often are deliveries late? what % of deliveries are late? \n"
      ]
    },
    {
      "cell_type": "code",
      "metadata": {
        "colab": {
          "base_uri": "https://localhost:8080/"
        },
        "id": "yQggvzj_xaHL",
        "outputId": "ecf6b750-8753-4ed7-a035-ccc05b9ea398"
      },
      "source": [
        "roo['delivery_status'].value_counts()"
      ],
      "execution_count": null,
      "outputs": [
        {
          "output_type": "execute_result",
          "data": {
            "text/plain": [
              "0    10457\n",
              "1     4543\n",
              "Name: delivery_status, dtype: int64"
            ]
          },
          "metadata": {
            "tags": []
          },
          "execution_count": 135
        }
      ]
    },
    {
      "cell_type": "code",
      "metadata": {
        "colab": {
          "base_uri": "https://localhost:8080/"
        },
        "id": "R0IB74EvxaO-",
        "outputId": "36f43ad7-c51b-4c11-833b-8ed19a8554e9"
      },
      "source": [
        "roo['delivery_status'].value_counts(normalize=True)"
      ],
      "execution_count": null,
      "outputs": [
        {
          "output_type": "execute_result",
          "data": {
            "text/plain": [
              "0    0.697133\n",
              "1    0.302867\n",
              "Name: delivery_status, dtype: float64"
            ]
          },
          "metadata": {
            "tags": []
          },
          "execution_count": 136
        }
      ]
    },
    {
      "cell_type": "markdown",
      "source": [
        "## 2a. Make a plot.\n",
        "\n",
        "\n",
        "---\n",
        "\n",
        "Barchart is likely helpful\n"
      ],
      "metadata": {
        "id": "VCAr7BxoN5vS"
      }
    },
    {
      "cell_type": "code",
      "metadata": {
        "colab": {
          "base_uri": "https://localhost:8080/",
          "height": 351
        },
        "id": "TokvKalrxj-O",
        "outputId": "d60cfb8c-6978-4512-a5fe-ca8f31e4ec0b"
      },
      "source": [
        "res0 = (roo\n",
        "        .groupby('delivery_status')[['predict_status']].agg('count')\n",
        "        .rename(columns={\"predict_status\": \"count\"})\n",
        "        .reset_index()\n",
        ")\n",
        "# -- make a % of total -- \n",
        "res0['pct_ontime'] = res0['count']/ (res0['count'].sum())\n",
        "res0\n",
        "\n",
        "plt.figure(figsize=(10,5))\n",
        "# -- line plot --\n",
        "sns.barplot(x = res0['delivery_status'], y=res0['pct_ontime'], )\n",
        "\n",
        "plt.title('Pct Ontime Delivery')\n",
        "plt.ylabel('% on time ')\n",
        "plt.xlabel('delivery status ')\n",
        "\n",
        "plt.xticks(rotation=45)\n",
        "plt.show()"
      ],
      "execution_count": null,
      "outputs": [
        {
          "output_type": "display_data",
          "data": {
            "image/png": "[encoded data removed]",
            "text/plain": [
              "<Figure size 720x360 with 1 Axes>"
            ]
          },
          "metadata": {
            "tags": [],
            "needs_background": "light"
          }
        }
      ]
    },
    {
      "cell_type": "code",
      "metadata": {
        "colab": {
          "base_uri": "https://localhost:8080/",
          "height": 351
        },
        "id": "5I4isd2yzkhB",
        "outputId": "d841d80d-9dbd-4c94-e1d3-119d03f4ceb0"
      },
      "source": [
        "# Side by side w. subplots! \n",
        "fig, (ax1, ax2) = plt.subplots(ncols=2, sharey=False, figsize=(12,5))\n",
        "\n",
        "sns.barplot(x = res0['delivery_status'], y=res0['pct_ontime'], ax=ax1)\n",
        "sns.barplot(x = res0['delivery_status'], y=res0['count'], ax=ax2)\n",
        "ax1.set_title ('Pct Ontime Delivery')\n",
        "ax1.set_ylabel('% on time ')\n",
        "ax1.set_xlabel('delivery status ')\n",
        "ax2.set_title ('Count Ontime Delivery')\n",
        "ax2.set_ylabel('Count ')\n",
        "ax2.set_xlabel('delivery status ')\n",
        "ax1.tick_params(labelrotation=45)\n",
        "ax2.tick_params(labelrotation=45)\n",
        "#plt.show()"
      ],
      "execution_count": null,
      "outputs": [
        {
          "output_type": "display_data",
          "data": {
            "image/png": "[encoded data removed]",
            "text/plain": [
              "<Figure size 864x360 with 2 Axes>"
            ]
          },
          "metadata": {
            "tags": [],
            "needs_background": "light"
          }
        }
      ]
    },
    {
      "cell_type": "markdown",
      "source": [
        "## 2b. Subplots! \n",
        "\n",
        "`plt.subplots` creates a figure and a grid of subplots within a single call, while providing reasonable control over how the individual plots are created. here we can simply say how many columns (ncols=) or rows (nrows=) to create our subplots then simply reference which \"ax\" the plot should occupy. see below! "
      ],
      "metadata": {
        "id": "Vo4Kwz3cOByH"
      }
    },
    {
      "cell_type": "code",
      "metadata": {
        "colab": {
          "base_uri": "https://localhost:8080/",
          "height": 358
        },
        "id": "JbpUchlL1Gv4",
        "outputId": "91d503dc-41c8-4f8b-b03a-bc5dddc20153"
      },
      "source": [
        "# Side by side w. subplots! \n",
        "fig, (ax1, ax2) = plt.subplots(ncols=2, sharey=False, figsize=(12,5))\n",
        "\n",
        "sns.histplot(x = roo['delivery_status'], y=res0['pct_ontime'], ax=ax1)\n",
        "sns.barplot(x = res0['delivery_status'], y=res0['count'], ax=ax2)\n",
        "ax1.set_title ('Pct Ontime Delivery')\n",
        "ax1.set_ylabel('% on time ')\n",
        "ax1.set_xlabel('delivery status ')\n",
        "ax2.set_title ('Count Ontime Delivery')\n",
        "ax2.set_ylabel('Count ')\n",
        "ax2.set_xlabel('delivery status ')\n",
        "ax1.tick_params(labelrotation=45)\n",
        "ax2.tick_params(labelrotation=45)\n",
        "#plt.show()"
      ],
      "execution_count": null,
      "outputs": [
        {
          "output_type": "display_data",
          "data": {
            "image/png": "[encoded data removed]",
            "text/plain": [
              "<Figure size 864x360 with 2 Axes>"
            ]
          },
          "metadata": {
            "tags": [],
            "needs_background": "light"
          }
        }
      ]
    },
    {
      "cell_type": "markdown",
      "source": [
        "# 3. exploring likely numeric variables relative to the target\n",
        "\n",
        "\n",
        "---\n",
        "\n",
        "Here we'll overlay two histograms usign Seaborn and the Hue option, check it out! \n",
        "\n"
      ],
      "metadata": {
        "id": "IZhVijh-OeIN"
      }
    },
    {
      "cell_type": "code",
      "metadata": {
        "colab": {
          "base_uri": "https://localhost:8080/",
          "height": 357
        },
        "id": "b_eiSX7iAH1w",
        "outputId": "fbe123ed-45f0-490c-ad2b-7b6b25f9ce27"
      },
      "source": [
        "\n",
        "plt.figure(figsize=(10,5))\n",
        "# -- histogram plot --\n",
        "sns.histplot(data=roo, x = roo['distance_from_resturant'], \n",
        "             bins=50, \n",
        "             stat=\"count\",\n",
        "             #multiple=\"stack\", \n",
        "             #multiple=\"dodge\",\n",
        "             #multiple=\"layer\",\n",
        "             hue=\"delivery_status\", alpha=0.5)\n",
        "plt.title('Distribution of Distance to Resturant')\n",
        "plt.ylabel('count')\n",
        "plt.xlabel('distance_from_resturant')\n",
        "plt.xticks(rotation=45)\n",
        "plt.show()"
      ],
      "execution_count": null,
      "outputs": [
        {
          "output_type": "display_data",
          "data": {
            "image/png": "[encoded data removed]",
            "text/plain": [
              "<Figure size 720x360 with 1 Axes>"
            ]
          },
          "metadata": {
            "tags": [],
            "needs_background": "light"
          }
        }
      ]
    },
    {
      "cell_type": "markdown",
      "source": [
        "# stretched histogram / bar charts! \n",
        "\n",
        "\n",
        "\n",
        "---\n",
        "This is one of the most powerful, but often under-used, visuals to explain relationships to target varibles. \n",
        "\n",
        "with Seaborn set the option `multiple = \"fill\"`\n",
        "\n",
        "flip this off and on and see what happens. "
      ],
      "metadata": {
        "id": "GQh0noqqO3SY"
      }
    },
    {
      "cell_type": "code",
      "metadata": {
        "colab": {
          "base_uri": "https://localhost:8080/",
          "height": 352
        },
        "id": "q7Rc8vNEBQ-k",
        "outputId": "3e611da1-3ba3-4e34-dbf3-0be268deca7b"
      },
      "source": [
        "plt.figure(figsize=(10,5))\n",
        "# -- line plot --\n",
        "sns.histplot(data=roo, \n",
        "             x = roo['distance_from_resturant'], \n",
        "             bins=50, \n",
        "             stat=\"probability\",\n",
        "             multiple=\"fill\", # check this out! \n",
        "             hue=\"delivery_status\")\n",
        "plt.title('Distribution of Distance to Resturant')\n",
        "plt.ylabel('count')\n",
        "plt.xlabel('distance_from_resturant')\n",
        "plt.xticks(rotation=45)\n",
        "plt.show()"
      ],
      "execution_count": null,
      "outputs": [
        {
          "output_type": "display_data",
          "data": {
            "image/png": "[encoded data removed]",
            "text/plain": [
              "<Figure size 720x360 with 1 Axes>"
            ]
          },
          "metadata": {
            "tags": [],
            "needs_background": "light"
          }
        }
      ]
    },
    {
      "cell_type": "code",
      "metadata": {
        "colab": {
          "base_uri": "https://localhost:8080/",
          "height": 363
        },
        "id": "rxIn3ft4L-F5",
        "outputId": "3cff562e-268f-443d-bdfa-5f1eb46be4d4"
      },
      "source": [
        "plt.figure(figsize=(10,5))\n",
        "# -- line plot --\n",
        "sns.histplot(data=roo, \n",
        "             x = roo['order_price'], \n",
        "             bins=50, \n",
        "             stat=\"count\",\n",
        "             multiple=\"layer\", \n",
        "             hue=\"delivery_status\")\n",
        "plt.title('Distribution of order_price')\n",
        "plt.ylabel('count')\n",
        "plt.xlabel('order_price')\n",
        "plt.xticks(rotation=45)\n",
        "plt.show()"
      ],
      "execution_count": null,
      "outputs": [
        {
          "output_type": "display_data",
          "data": {
            "image/png": "[encoded data removed]",
            "text/plain": [
              "<Figure size 720x360 with 1 Axes>"
            ]
          },
          "metadata": {
            "tags": [],
            "needs_background": "light"
          }
        }
      ]
    },
    {
      "cell_type": "markdown",
      "source": [
        "# 4. Categorical Relation to Target \n",
        "\n",
        "---\n",
        "\n",
        "Here we need to break our process up inot two steps. \n",
        "1. summarize \n",
        "2. visualize \n",
        "\n",
        "By taking the mean of the actual delivery status we get the percentage of ontime vs late deliveries. \n"
      ],
      "metadata": {
        "id": "s-Ac0PjVPKRg"
      }
    },
    {
      "cell_type": "code",
      "metadata": {
        "colab": {
          "base_uri": "https://localhost:8080/",
          "height": 204
        },
        "id": "ERm5WHN3Mdir",
        "outputId": "c1c533b3-a78c-4cd4-d28b-f61cf9e4642c"
      },
      "source": [
        "res01 = (roo\n",
        "         .groupby(\"resturant_type\")[['delivery_status']]\n",
        "         .agg(['count', 'mean'])\n",
        "         .reset_index()\n",
        "         .sort_values([('delivery_status', 'mean')], ascending=False)\n",
        "         )\n",
        "\n",
        "res01\n",
        "\n",
        "res01.columns = res01.columns = ['_'.join(col) for col in res01.columns.values]\n",
        "res01"
      ],
      "execution_count": null,
      "outputs": [
        {
          "output_type": "execute_result",
          "data": {
            "text/html": [
              "<div>\n",
              "<style scoped>\n",
              "    .dataframe tbody tr th:only-of-type {\n",
              "        vertical-align: middle;\n",
              "    }\n",
              "\n",
              "    .dataframe tbody tr th {\n",
              "        vertical-align: top;\n",
              "    }\n",
              "\n",
              "    .dataframe thead th {\n",
              "        text-align: right;\n",
              "    }\n",
              "</style>\n",
              "<table border=\"1\" class=\"dataframe\">\n",
              "  <thead>\n",
              "    <tr style=\"text-align: right;\">\n",
              "      <th></th>\n",
              "      <th>resturant_type_</th>\n",
              "      <th>delivery_status_count</th>\n",
              "      <th>delivery_status_mean</th>\n",
              "    </tr>\n",
              "  </thead>\n",
              "  <tbody>\n",
              "    <tr>\n",
              "      <th>3</th>\n",
              "      <td>Fine Dining</td>\n",
              "      <td>122</td>\n",
              "      <td>1.000000</td>\n",
              "    </tr>\n",
              "    <tr>\n",
              "      <th>2</th>\n",
              "      <td>Fast Food</td>\n",
              "      <td>1215</td>\n",
              "      <td>0.916872</td>\n",
              "    </tr>\n",
              "    <tr>\n",
              "      <th>0</th>\n",
              "      <td>Chain</td>\n",
              "      <td>5670</td>\n",
              "      <td>0.322046</td>\n",
              "    </tr>\n",
              "    <tr>\n",
              "      <th>4</th>\n",
              "      <td>Food Truck</td>\n",
              "      <td>7524</td>\n",
              "      <td>0.185540</td>\n",
              "    </tr>\n",
              "    <tr>\n",
              "      <th>1</th>\n",
              "      <td>Fast Casual</td>\n",
              "      <td>468</td>\n",
              "      <td>0.181624</td>\n",
              "    </tr>\n",
              "  </tbody>\n",
              "</table>\n",
              "</div>"
            ],
            "text/plain": [
              "  resturant_type_  delivery_status_count  delivery_status_mean\n",
              "3     Fine Dining                    122              1.000000\n",
              "2       Fast Food                   1215              0.916872\n",
              "0           Chain                   5670              0.322046\n",
              "4      Food Truck                   7524              0.185540\n",
              "1     Fast Casual                    468              0.181624"
            ]
          },
          "metadata": {
            "tags": []
          },
          "execution_count": 152
        }
      ]
    },
    {
      "cell_type": "code",
      "metadata": {
        "colab": {
          "base_uri": "https://localhost:8080/",
          "height": 358
        },
        "id": "HWZgrJ3tCBVz",
        "outputId": "5cc15a3b-24d8-42d2-ffd0-44c168eca346"
      },
      "source": [
        "# take a look at resturan type\n",
        "\n",
        "res01 = (roo\n",
        "         .groupby(\"resturant_type\")[['delivery_status']]\n",
        "         .agg(['count', 'mean'])\n",
        "         .reset_index()\n",
        "         .sort_values([('delivery_status', 'mean')], ascending=False)\n",
        "         )\n",
        "# -- flatten multi-index indexes \n",
        "res01.columns = res01.columns = ['_'.join(col) for col in res01.columns.values]\n",
        "res01\n",
        "\n",
        "plt.figure(figsize=(10,5))\n",
        "# -- line plot --\n",
        "sns.barplot(\n",
        "             y = res01['resturant_type_'], \n",
        "             x = res01['delivery_status_mean'],\n",
        "             palette=\"Blues_d\")\n",
        "plt.title('PCT late by Resturant Type')\n",
        "plt.xlabel('PCT')\n",
        "plt.ylabel('resturant_type')\n",
        "plt.xticks(rotation=45)\n",
        "plt.show()\n"
      ],
      "execution_count": null,
      "outputs": [
        {
          "output_type": "display_data",
          "data": {
            "image/png": "[encoded data removed]",
            "text/plain": [
              "<Figure size 720x360 with 1 Axes>"
            ]
          },
          "metadata": {
            "tags": [],
            "needs_background": "light"
          }
        }
      ]
    },
    {
      "cell_type": "markdown",
      "source": [
        "## 4. Crosstabs \n",
        "\n",
        "\n",
        "---\n",
        "We have a whole section comming up on crosstabulations but for now just realize they exist and are pretty easy to work with! \n",
        "\n",
        "\n"
      ],
      "metadata": {
        "id": "UxtGdsX7Pl0h"
      }
    },
    {
      "cell_type": "code",
      "metadata": {
        "colab": {
          "base_uri": "https://localhost:8080/",
          "height": 235
        },
        "id": "w6n2NONTDshu",
        "outputId": "7e34c9de-9606-4f71-95b4-3b6b150c8971"
      },
      "source": [
        "pd.crosstab(roo['resturant_type'], roo['delivery_status'])"
      ],
      "execution_count": null,
      "outputs": [
        {
          "output_type": "execute_result",
          "data": {
            "text/html": [
              "<div>\n",
              "<style scoped>\n",
              "    .dataframe tbody tr th:only-of-type {\n",
              "        vertical-align: middle;\n",
              "    }\n",
              "\n",
              "    .dataframe tbody tr th {\n",
              "        vertical-align: top;\n",
              "    }\n",
              "\n",
              "    .dataframe thead th {\n",
              "        text-align: right;\n",
              "    }\n",
              "</style>\n",
              "<table border=\"1\" class=\"dataframe\">\n",
              "  <thead>\n",
              "    <tr style=\"text-align: right;\">\n",
              "      <th>delivery_status</th>\n",
              "      <th>0</th>\n",
              "      <th>1</th>\n",
              "    </tr>\n",
              "    <tr>\n",
              "      <th>resturant_type</th>\n",
              "      <th></th>\n",
              "      <th></th>\n",
              "    </tr>\n",
              "  </thead>\n",
              "  <tbody>\n",
              "    <tr>\n",
              "      <th>Chain</th>\n",
              "      <td>3844</td>\n",
              "      <td>1826</td>\n",
              "    </tr>\n",
              "    <tr>\n",
              "      <th>Fast Casual</th>\n",
              "      <td>383</td>\n",
              "      <td>85</td>\n",
              "    </tr>\n",
              "    <tr>\n",
              "      <th>Fast Food</th>\n",
              "      <td>101</td>\n",
              "      <td>1114</td>\n",
              "    </tr>\n",
              "    <tr>\n",
              "      <th>Fine Dining</th>\n",
              "      <td>0</td>\n",
              "      <td>122</td>\n",
              "    </tr>\n",
              "    <tr>\n",
              "      <th>Food Truck</th>\n",
              "      <td>6128</td>\n",
              "      <td>1396</td>\n",
              "    </tr>\n",
              "  </tbody>\n",
              "</table>\n",
              "</div>"
            ],
            "text/plain": [
              "delivery_status     0     1\n",
              "resturant_type             \n",
              "Chain            3844  1826\n",
              "Fast Casual       383    85\n",
              "Fast Food         101  1114\n",
              "Fine Dining         0   122\n",
              "Food Truck       6128  1396"
            ]
          },
          "metadata": {
            "tags": []
          },
          "execution_count": 154
        }
      ]
    },
    {
      "cell_type": "code",
      "metadata": {
        "colab": {
          "base_uri": "https://localhost:8080/",
          "height": 365
        },
        "id": "ErUnwhGVFiyP",
        "outputId": "74335532-86be-406d-8910-aab451364319"
      },
      "source": [
        "res01 = (\n",
        "   pd.crosstab(roo['resturant_type'], roo['delivery_status'])\n",
        "  .reset_index()\n",
        "  .rename(columns={0:\"ontime\",1:\"late\"})\n",
        "  .sort_values('late', ascending=False)\n",
        ")\n",
        "\n",
        "plt.figure(figsize=(10,5))\n",
        "# -- line plot --\n",
        "sns.barplot(\n",
        "             y = res01['resturant_type'], \n",
        "             x = res01['late'],\n",
        "             palette=\"Blues_d\")\n",
        "plt.title('Count late by Resturant Type')\n",
        "plt.xlabel('Count')\n",
        "plt.ylabel('resturant_type')\n",
        "plt.xticks(rotation=45)\n",
        "plt.show()\n"
      ],
      "execution_count": null,
      "outputs": [
        {
          "output_type": "display_data",
          "data": {
            "image/png": "[encoded data removed]",
            "text/plain": [
              "<Figure size 720x360 with 1 Axes>"
            ]
          },
          "metadata": {
            "tags": [],
            "needs_background": "light"
          }
        }
      ]
    },
    {
      "cell_type": "code",
      "metadata": {
        "colab": {
          "base_uri": "https://localhost:8080/",
          "height": 142
        },
        "id": "4ZD-Qos4NS0o",
        "outputId": "06738c31-0678-4ce5-8ab4-de6f94b84d88"
      },
      "source": [
        "res01 = (\n",
        "    pd.crosstab(roo['delivery_status'], roo['predict_status'])\n",
        "  #.reset_index()\n",
        "  #.rename(columns={0:\"ontime\",1:\"late\"})\n",
        "  #.sort_values('late', ascending=False)\n",
        ")\n",
        "res01"
      ],
      "execution_count": null,
      "outputs": [
        {
          "output_type": "execute_result",
          "data": {
            "text/html": [
              "<div>\n",
              "<style scoped>\n",
              "    .dataframe tbody tr th:only-of-type {\n",
              "        vertical-align: middle;\n",
              "    }\n",
              "\n",
              "    .dataframe tbody tr th {\n",
              "        vertical-align: top;\n",
              "    }\n",
              "\n",
              "    .dataframe thead th {\n",
              "        text-align: right;\n",
              "    }\n",
              "</style>\n",
              "<table border=\"1\" class=\"dataframe\">\n",
              "  <thead>\n",
              "    <tr style=\"text-align: right;\">\n",
              "      <th>predict_status</th>\n",
              "      <th>0</th>\n",
              "      <th>1</th>\n",
              "    </tr>\n",
              "    <tr>\n",
              "      <th>delivery_status</th>\n",
              "      <th></th>\n",
              "      <th></th>\n",
              "    </tr>\n",
              "  </thead>\n",
              "  <tbody>\n",
              "    <tr>\n",
              "      <th>0</th>\n",
              "      <td>10378</td>\n",
              "      <td>79</td>\n",
              "    </tr>\n",
              "    <tr>\n",
              "      <th>1</th>\n",
              "      <td>148</td>\n",
              "      <td>4395</td>\n",
              "    </tr>\n",
              "  </tbody>\n",
              "</table>\n",
              "</div>"
            ],
            "text/plain": [
              "predict_status       0     1\n",
              "delivery_status             \n",
              "0                10378    79\n",
              "1                  148  4395"
            ]
          },
          "metadata": {
            "tags": []
          },
          "execution_count": 156
        }
      ]
    },
    {
      "cell_type": "code",
      "metadata": {
        "colab": {
          "base_uri": "https://localhost:8080/",
          "height": 367
        },
        "id": "_oq24yAnHkDa",
        "outputId": "b3d49320-0fa6-427a-d34c-239b33dbcb31"
      },
      "source": [
        "res01 = (\n",
        "    pd.crosstab(roo['delivery_status'], roo['predict_status'])\n",
        "  #.reset_index()\n",
        "  #.rename(columns={0:\"ontime\",1:\"late\"})\n",
        "  #.sort_values('late', ascending=False)\n",
        ")\n",
        "res01\n",
        "\n",
        "plt.figure(figsize=(10,5))\n",
        "sns.heatmap(res01, annot=True, cmap='Blues', fmt='g')\n",
        "plt.title('Confusion Matrix')\n",
        "plt.xlabel('Predicted')\n",
        "plt.ylabel('Actual')\n"
      ],
      "execution_count": null,
      "outputs": [
        {
          "output_type": "execute_result",
          "data": {
            "text/plain": [
              "Text(69.0, 0.5, 'Actual')"
            ]
          },
          "metadata": {
            "tags": []
          },
          "execution_count": 157
        },
        {
          "output_type": "display_data",
          "data": {
            "image/png": "[encoded data removed]",
            "text/plain": [
              "<Figure size 720x360 with 2 Axes>"
            ]
          },
          "metadata": {
            "tags": [],
            "needs_background": "light"
          }
        }
      ]
    },
    {
      "cell_type": "markdown",
      "source": [
        "#5. Deal with Predicted Proabilities \n",
        "\n",
        "\n",
        "---\n",
        "The predicted probabliy comes from our machine learning model - actually most classification models will generate a predicted probabilty which is used in a busienss rule to assign the \"predicted outcome\" this is how we make use of ML models - they give us a proabablity of some event occuring we translate that into an action for some given business problem. \n",
        "\n",
        "For example what is the probablity that your food delivery is late? well given the distance, weather, driver, food type etc. we can generate a likely probablity of it being late! \n",
        "\n",
        "\n",
        "---\n",
        "\n"
      ],
      "metadata": {
        "id": "B6Ol25VCPxdA"
      }
    },
    {
      "cell_type": "code",
      "metadata": {
        "colab": {
          "base_uri": "https://localhost:8080/",
          "height": 358
        },
        "id": "Zo6f5Mr2IqRP",
        "outputId": "3a1c89eb-b93b-4843-bf64-d9151d8a2f2a"
      },
      "source": [
        "plt.figure(figsize=(10,5))\n",
        "# -- line plot --\n",
        "sns.histplot(data=roo, x = roo['predict_proba'], \n",
        "             bins=50, \n",
        "             stat=\"count\",\n",
        "             multiple=\"layer\", \n",
        "             hue=\"delivery_status\", alpha=0.5)\n",
        "plt.title('Distribution of Predicted Probability of being Late')\n",
        "plt.ylabel('count')\n",
        "plt.xlabel('predicted probablity')\n",
        "plt.axvline(0.5, ymin=0, ymax=roo['predict_proba'].max())\n",
        "plt.xticks(rotation=45)\n",
        "plt.show()"
      ],
      "execution_count": null,
      "outputs": [
        {
          "output_type": "display_data",
          "data": {
            "image/png": "[encoded data removed]",
            "text/plain": [
              "<Figure size 720x360 with 1 Axes>"
            ]
          },
          "metadata": {
            "tags": [],
            "needs_background": "light"
          }
        }
      ]
    },
    {
      "cell_type": "code",
      "metadata": {
        "colab": {
          "base_uri": "https://localhost:8080/",
          "height": 358
        },
        "id": "k5z7dwWKI5UW",
        "outputId": "abc76d17-dd3e-43af-c905-8c42b66a10af"
      },
      "source": [
        "plt.figure(figsize=(10,5))\n",
        "# -- line plot --\n",
        "\n",
        "sns.histplot(data=roo, \n",
        "             x = roo['predict_proba'], \n",
        "             bins=100, \n",
        "             stat=\"probability\",\n",
        "             multiple=\"fill\", \n",
        "             hue=\"delivery_status\")\n",
        "plt.title('Distribution of Predicted Probability of being Late')\n",
        "plt.ylabel('pct')\n",
        "plt.axvline(0.5, ymin=0, ymax=roo['predict_proba'].max())\n",
        "plt.xlabel('predicted probablity')\n",
        "plt.xticks(rotation=45)\n",
        "plt.show()"
      ],
      "execution_count": null,
      "outputs": [
        {
          "output_type": "display_data",
          "data": {
            "image/png": "[encoded data removed]",
            "text/plain": [
              "<Figure size 720x360 with 1 Axes>"
            ]
          },
          "metadata": {
            "tags": [],
            "needs_background": "light"
          }
        }
      ]
    }
  ]
}