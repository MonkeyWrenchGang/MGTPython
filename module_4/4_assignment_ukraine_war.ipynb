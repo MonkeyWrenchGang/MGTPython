{
  "nbformat": 4,
  "nbformat_minor": 0,
  "metadata": {
    "colab": {
      "provenance": [],
      "authorship_tag": "ABX9TyNtqrM+UzDSeq9TiqAK+Hwa",
      "include_colab_link": true
    },
    "kernelspec": {
      "name": "python3",
      "display_name": "Python 3"
    },
    "language_info": {
      "name": "python"
    }
  },
  "cells": [
    {
      "cell_type": "markdown",
      "metadata": {
        "id": "view-in-github",
        "colab_type": "text"
      },
      "source": [
        "<a href=\"https://colab.research.google.com/github/MonkeyWrenchGang/MGTPython/blob/main/module_4/4_assignment_ukraine_war.ipynb\" target=\"_parent\"><img src=\"https://colab.research.google.com/assets/colab-badge.svg\" alt=\"Open In Colab\"/></a>"
      ]
    },
    {
      "cell_type": "markdown",
      "source": [
        "# Assignment 4 - Analysis of Ukraine War \n",
        "\n",
        "\n",
        "---\n",
        "\n",
        "\n",
        "The current Ukraine crisis poses a unique threat to international security — from the potentially devastating human costs and the involvement of a major nuclear power, to the significant geopolitical and economic ramifications the war could entail for the entire world. To help track these trends as they develop, ACLED has created this dedicated Research Hub to provide near real-time information on the conflict, including a curated data file, interactive data visualization tools, and weekly analysis of violence patterns in Ukraine, Russia, and the broader region.\n",
        "\n",
        "### This data comes from \n",
        "\n",
        "https://acleddata.com/ukraine-crisis/#data\n",
        "\n",
        "\n",
        "And contains all political violence events, demonstration events, and strategic developments recorded in Ukraine and the Black Sea from the beginning of ACLED coverage in 2018 to the present.\n",
        "\n",
        "\n",
        "\n",
        "---\n",
        "\n",
        "There are 10 questions you'll be asked to answer on Ukraine conflict - requiring filtering, summarization, visualization and potentially date manipulation. Your task is to perform the following:\n",
        "\n",
        "- import libraries \n",
        "- import the XLSX dataset using read_excel()\n",
        "- get a feel for the data (head,info,describe) \n",
        "- clean up column names? \n",
        "\n",
        "**Note questions may require more than 1 chart!**\n",
        "\n",
        "## Questions:\n",
        "\n",
        "1. Make a line plot of events for 2022 filter date == 2022 or year == 2022\n",
        "  - 1a. pick a LOCATION and repeat.\n",
        "\n",
        "2. Make a line plot of the SUM of fatalities (FATALITIES) by date (EVENT_DATE) for 2020 - 2022\n",
        "  - 2a. pick a LOCATION and repeat.\n",
        "\n",
        "3. Make a line plot of the SUM of protests (EVENT_TYPE) by date (EVENT_DATE) for 2021 - 2022\n",
        "  - 3a. pick a LOCATION and repeat. \n",
        "\n",
        "4. Make a bar-chart of the top 10 SUM of fatalities (FATALITIES) by LOCATION for 2022. ANSWER: what is the most dangerous location in Ukraine is it near Russia or or near Kiev? \n",
        "\n",
        "\n",
        "5. Make a line chart of demonstrations (EVENT_TYPE) for 2018 - April 2019 - this is the lead up to Ukraine’s presidential elections. ANSWER: is there a decline in protests? and what could explain the decline? \n",
        "  - 5a. Filter for a LOCATION (your choice) and repeat. \n",
        "\n",
        "6. Filter for ASSOC_ACTOR_1 for \"Luhansk People's Militia\" and sum fatalities by year. Take a moment to google  \"Luhansk People's Militia\" ANSWER: what year was most deadly? \n",
        "\n",
        "7. Make a chart of fatalities by SUB_EVENT_TYPE - for 2022\n",
        "  - 7a. same but summarize by LOCATION instaed of SUB_EVENT_TYPE \n",
        "  -   - 7a. same but summarize by LOCATION instaed of by Month of 2022\n",
        "\n",
        "8. make a chart of SUB_EVENT_TYPE == Air/drone strike by \"month and year\". ANSWER has drone fatalities increased or decreased as conflict has gone on? What Year did the drone first show up? \n",
        "  - 8b. repeat but summarize by LOCATION\n",
        "\n",
        "9. Make a chart that answers the question have riots(EVENT_TYPE) increased or decreased overtime. \n",
        "  - 9a. have they become more deadly? \n",
        "\n",
        "10. Make a chart that answers the question is the  Violence against civilians\t(EVENT_TYPE) increased or decerased from 2020 to present \n",
        "  - 10a. have they become more deadly? \n",
        "  - 10b. pick a LOCATION and repeat.\n",
        "\n",
        "Turn in the HTML version of your notebook and answers to the questions! \n",
        "\n",
        "## RUBRIC\n",
        "- does the code answer the question?\n",
        "- is there a clear title on the chart?\n",
        "- is the x and y axis appropriately labeled?\n",
        "- is the size of the chart correct?\n",
        "- is your notebook clean and tidy, easy to follow. did you use markdown? typically we want to follow Markdown, Query, Chart style. you'll need to add appropriate Code and Markdown (Text) cells below. \n",
        "\n",
        "Good luck!"
      ],
      "metadata": {
        "id": "2o9SG7xKXn2Q"
      }
    },
    {
      "cell_type": "code",
      "execution_count": 2,
      "metadata": {
        "id": "d2qzJrJXXncQ"
      },
      "outputs": [],
      "source": []
    },
    {
      "cell_type": "code",
      "source": [],
      "metadata": {
        "id": "RoG4jCB4ZD5K"
      },
      "execution_count": 17,
      "outputs": []
    },
    {
      "cell_type": "code",
      "source": [],
      "metadata": {
        "id": "DJsBR2krZDAs"
      },
      "execution_count": 17,
      "outputs": []
    }
  ]
}