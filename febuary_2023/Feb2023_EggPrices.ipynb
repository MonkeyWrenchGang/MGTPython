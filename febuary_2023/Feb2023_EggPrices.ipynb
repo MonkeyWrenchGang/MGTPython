{
  "nbformat": 4,
  "nbformat_minor": 0,
  "metadata": {
    "colab": {
      "provenance": [],
      "authorship_tag": "ABX9TyNVPcUSv5yOI7GpFXleNlBP",
      "include_colab_link": true
    },
    "kernelspec": {
      "name": "python3",
      "display_name": "Python 3"
    },
    "language_info": {
      "name": "python"
    }
  },
  "cells": [
    {
      "cell_type": "markdown",
      "metadata": {
        "id": "view-in-github",
        "colab_type": "text"
      },
      "source": [
        "<a href=\"https://colab.research.google.com/github/MonkeyWrenchGang/MGTPython/blob/main/febuary_2023/Feb2023_EggPrices.ipynb\" target=\"_parent\"><img src=\"https://colab.research.google.com/assets/colab-badge.svg\" alt=\"Open In Colab\"/></a>"
      ]
    },
    {
      "cell_type": "markdown",
      "source": [
        "# Egg Prices & Python\n",
        "\n",
        "\n",
        "---\n",
        "\n",
        "According to the WSJ, the Avian-flu outbreak keeps supply of the grocery staple tight as inflation rises *Egg Prices Have Soared 60% in a Year. Here Is Why They Are So Expensive.\n",
        "*\n",
        "\n",
        "The price of eggs rose more than any other grocery item in 2022, according to Information Resources Inc. Wholesale prices of Midwest large eggs hit a record `$5.46` a dozen in December, according to the research firm Urner Barry, and have declined to `$3.77` a dozen this month after holiday-driven demand eased. In mid-January 2022, wholesale prices of Midwest large eggs were `$1.30` a dozen. \n",
        "\n",
        "The data comes from [FRED](https://fred.stlouisfed.org/series/APU0000708111)\n",
        "\n",
        "Let's see the data! \n",
        "\n"
      ],
      "metadata": {
        "id": "NLMkGrT_XDmI"
      }
    },
    {
      "cell_type": "code",
      "execution_count": 187,
      "metadata": {
        "id": "ZW4QDI_gW_MM"
      },
      "outputs": [],
      "source": [
        "# --------------------------------\n",
        "import warnings\n",
        "warnings.filterwarnings('ignore')\n",
        "# --------------------------------\n",
        "\n",
        "import pandas as pd\n",
        "import numpy as np\n",
        "import matplotlib.pyplot  as plt\n",
        "import seaborn as sns\n",
        "\n",
        "%matplotlib inline"
      ]
    },
    {
      "cell_type": "code",
      "source": [
        "eggs = pd.read_csv(\"https://raw.githubusercontent.com/MonkeyWrenchGang/MGTPython/main/module_4/data/egg_prices_to2022.csv\")\n",
        "# -- rename columns \n",
        "eggs.columns = [\"date\",\"price\"]\n",
        "# -- convert date to datetime \n",
        "eggs[\"date\"] = pd.to_datetime(eggs[\"date\"])\n",
        "\n",
        "# -- eyeball first 5 records\n",
        "eggs.head()"
      ],
      "metadata": {
        "colab": {
          "base_uri": "https://localhost:8080/",
          "height": 206
        },
        "id": "YGgYAJoYYx5s",
        "outputId": "60217007-1cd0-453a-d50f-fd92be964c0b"
      },
      "execution_count": 189,
      "outputs": [
        {
          "output_type": "execute_result",
          "data": {
            "text/plain": [
              "        date  price\n",
              "0 1980-01-01  0.879\n",
              "1 1980-02-01  0.774\n",
              "2 1980-03-01  0.812\n",
              "3 1980-04-01  0.797\n",
              "4 1980-05-01  0.737"
            ],
            "text/html": [
              "\n",
              "  <div id=\"df-aa59a59c-57a4-4599-943a-50246964385c\">\n",
              "    <div class=\"colab-df-container\">\n",
              "      <div>\n",
              "<style scoped>\n",
              "    .dataframe tbody tr th:only-of-type {\n",
              "        vertical-align: middle;\n",
              "    }\n",
              "\n",
              "    .dataframe tbody tr th {\n",
              "        vertical-align: top;\n",
              "    }\n",
              "\n",
              "    .dataframe thead th {\n",
              "        text-align: right;\n",
              "    }\n",
              "</style>\n",
              "<table border=\"1\" class=\"dataframe\">\n",
              "  <thead>\n",
              "    <tr style=\"text-align: right;\">\n",
              "      <th></th>\n",
              "      <th>date</th>\n",
              "      <th>price</th>\n",
              "    </tr>\n",
              "  </thead>\n",
              "  <tbody>\n",
              "    <tr>\n",
              "      <th>0</th>\n",
              "      <td>1980-01-01</td>\n",
              "      <td>0.879</td>\n",
              "    </tr>\n",
              "    <tr>\n",
              "      <th>1</th>\n",
              "      <td>1980-02-01</td>\n",
              "      <td>0.774</td>\n",
              "    </tr>\n",
              "    <tr>\n",
              "      <th>2</th>\n",
              "      <td>1980-03-01</td>\n",
              "      <td>0.812</td>\n",
              "    </tr>\n",
              "    <tr>\n",
              "      <th>3</th>\n",
              "      <td>1980-04-01</td>\n",
              "      <td>0.797</td>\n",
              "    </tr>\n",
              "    <tr>\n",
              "      <th>4</th>\n",
              "      <td>1980-05-01</td>\n",
              "      <td>0.737</td>\n",
              "    </tr>\n",
              "  </tbody>\n",
              "</table>\n",
              "</div>\n",
              "      <button class=\"colab-df-convert\" onclick=\"convertToInteractive('df-aa59a59c-57a4-4599-943a-50246964385c')\"\n",
              "              title=\"Convert this dataframe to an interactive table.\"\n",
              "              style=\"display:none;\">\n",
              "        \n",
              "  <svg xmlns=\"http://www.w3.org/2000/svg\" height=\"24px\"viewBox=\"0 0 24 24\"\n",
              "       width=\"24px\">\n",
              "    <path d=\"M0 0h24v24H0V0z\" fill=\"none\"/>\n",
              "    <path d=\"M18.56 5.44l.94 2.06.94-2.06 2.06-.94-2.06-.94-.94-2.06-.94 2.06-2.06.94zm-11 1L8.5 8.5l.94-2.06 2.06-.94-2.06-.94L8.5 2.5l-.94 2.06-2.06.94zm10 10l.94 2.06.94-2.06 2.06-.94-2.06-.94-.94-2.06-.94 2.06-2.06.94z\"/><path d=\"M17.41 7.96l-1.37-1.37c-.4-.4-.92-.59-1.43-.59-.52 0-1.04.2-1.43.59L10.3 9.45l-7.72 7.72c-.78.78-.78 2.05 0 2.83L4 21.41c.39.39.9.59 1.41.59.51 0 1.02-.2 1.41-.59l7.78-7.78 2.81-2.81c.8-.78.8-2.07 0-2.86zM5.41 20L4 18.59l7.72-7.72 1.47 1.35L5.41 20z\"/>\n",
              "  </svg>\n",
              "      </button>\n",
              "      \n",
              "  <style>\n",
              "    .colab-df-container {\n",
              "      display:flex;\n",
              "      flex-wrap:wrap;\n",
              "      gap: 12px;\n",
              "    }\n",
              "\n",
              "    .colab-df-convert {\n",
              "      background-color: #E8F0FE;\n",
              "      border: none;\n",
              "      border-radius: 50%;\n",
              "      cursor: pointer;\n",
              "      display: none;\n",
              "      fill: #1967D2;\n",
              "      height: 32px;\n",
              "      padding: 0 0 0 0;\n",
              "      width: 32px;\n",
              "    }\n",
              "\n",
              "    .colab-df-convert:hover {\n",
              "      background-color: #E2EBFA;\n",
              "      box-shadow: 0px 1px 2px rgba(60, 64, 67, 0.3), 0px 1px 3px 1px rgba(60, 64, 67, 0.15);\n",
              "      fill: #174EA6;\n",
              "    }\n",
              "\n",
              "    [theme=dark] .colab-df-convert {\n",
              "      background-color: #3B4455;\n",
              "      fill: #D2E3FC;\n",
              "    }\n",
              "\n",
              "    [theme=dark] .colab-df-convert:hover {\n",
              "      background-color: #434B5C;\n",
              "      box-shadow: 0px 1px 3px 1px rgba(0, 0, 0, 0.15);\n",
              "      filter: drop-shadow(0px 1px 2px rgba(0, 0, 0, 0.3));\n",
              "      fill: #FFFFFF;\n",
              "    }\n",
              "  </style>\n",
              "\n",
              "      <script>\n",
              "        const buttonEl =\n",
              "          document.querySelector('#df-aa59a59c-57a4-4599-943a-50246964385c button.colab-df-convert');\n",
              "        buttonEl.style.display =\n",
              "          google.colab.kernel.accessAllowed ? 'block' : 'none';\n",
              "\n",
              "        async function convertToInteractive(key) {\n",
              "          const element = document.querySelector('#df-aa59a59c-57a4-4599-943a-50246964385c');\n",
              "          const dataTable =\n",
              "            await google.colab.kernel.invokeFunction('convertToInteractive',\n",
              "                                                     [key], {});\n",
              "          if (!dataTable) return;\n",
              "\n",
              "          const docLinkHtml = 'Like what you see? Visit the ' +\n",
              "            '<a target=\"_blank\" href=https://colab.research.google.com/notebooks/data_table.ipynb>data table notebook</a>'\n",
              "            + ' to learn more about interactive tables.';\n",
              "          element.innerHTML = '';\n",
              "          dataTable['output_type'] = 'display_data';\n",
              "          await google.colab.output.renderOutput(dataTable, element);\n",
              "          const docLink = document.createElement('div');\n",
              "          docLink.innerHTML = docLinkHtml;\n",
              "          element.appendChild(docLink);\n",
              "        }\n",
              "      </script>\n",
              "    </div>\n",
              "  </div>\n",
              "  "
            ]
          },
          "metadata": {},
          "execution_count": 189
        }
      ]
    },
    {
      "cell_type": "markdown",
      "source": [
        "# Summary Statistics "
      ],
      "metadata": {
        "id": "093N3RKKZN9u"
      }
    },
    {
      "cell_type": "code",
      "source": [
        "summary_stat = (eggs\n",
        "                .describe()\n",
        "                .reset_index()\n",
        "                .rename(columns={\"index\":\"stat\"})\n",
        ")\n",
        "              \n",
        "summary_stat"
      ],
      "metadata": {
        "colab": {
          "base_uri": "https://localhost:8080/",
          "height": 300
        },
        "id": "b-mY_MAZZNrx",
        "outputId": "a5bc41d0-e6a8-4038-8cd0-03ae1cb62195"
      },
      "execution_count": 190,
      "outputs": [
        {
          "output_type": "execute_result",
          "data": {
            "text/plain": [
              "    stat       price\n",
              "0  count  516.000000\n",
              "1   mean    1.297062\n",
              "2    std    0.508144\n",
              "3    min    0.678000\n",
              "4    25%    0.902750\n",
              "5    50%    1.099000\n",
              "6    75%    1.627250\n",
              "7    max    4.250000"
            ],
            "text/html": [
              "\n",
              "  <div id=\"df-21b01d8b-b15f-438c-a469-c52d98d6a039\">\n",
              "    <div class=\"colab-df-container\">\n",
              "      <div>\n",
              "<style scoped>\n",
              "    .dataframe tbody tr th:only-of-type {\n",
              "        vertical-align: middle;\n",
              "    }\n",
              "\n",
              "    .dataframe tbody tr th {\n",
              "        vertical-align: top;\n",
              "    }\n",
              "\n",
              "    .dataframe thead th {\n",
              "        text-align: right;\n",
              "    }\n",
              "</style>\n",
              "<table border=\"1\" class=\"dataframe\">\n",
              "  <thead>\n",
              "    <tr style=\"text-align: right;\">\n",
              "      <th></th>\n",
              "      <th>stat</th>\n",
              "      <th>price</th>\n",
              "    </tr>\n",
              "  </thead>\n",
              "  <tbody>\n",
              "    <tr>\n",
              "      <th>0</th>\n",
              "      <td>count</td>\n",
              "      <td>516.000000</td>\n",
              "    </tr>\n",
              "    <tr>\n",
              "      <th>1</th>\n",
              "      <td>mean</td>\n",
              "      <td>1.297062</td>\n",
              "    </tr>\n",
              "    <tr>\n",
              "      <th>2</th>\n",
              "      <td>std</td>\n",
              "      <td>0.508144</td>\n",
              "    </tr>\n",
              "    <tr>\n",
              "      <th>3</th>\n",
              "      <td>min</td>\n",
              "      <td>0.678000</td>\n",
              "    </tr>\n",
              "    <tr>\n",
              "      <th>4</th>\n",
              "      <td>25%</td>\n",
              "      <td>0.902750</td>\n",
              "    </tr>\n",
              "    <tr>\n",
              "      <th>5</th>\n",
              "      <td>50%</td>\n",
              "      <td>1.099000</td>\n",
              "    </tr>\n",
              "    <tr>\n",
              "      <th>6</th>\n",
              "      <td>75%</td>\n",
              "      <td>1.627250</td>\n",
              "    </tr>\n",
              "    <tr>\n",
              "      <th>7</th>\n",
              "      <td>max</td>\n",
              "      <td>4.250000</td>\n",
              "    </tr>\n",
              "  </tbody>\n",
              "</table>\n",
              "</div>\n",
              "      <button class=\"colab-df-convert\" onclick=\"convertToInteractive('df-21b01d8b-b15f-438c-a469-c52d98d6a039')\"\n",
              "              title=\"Convert this dataframe to an interactive table.\"\n",
              "              style=\"display:none;\">\n",
              "        \n",
              "  <svg xmlns=\"http://www.w3.org/2000/svg\" height=\"24px\"viewBox=\"0 0 24 24\"\n",
              "       width=\"24px\">\n",
              "    <path d=\"M0 0h24v24H0V0z\" fill=\"none\"/>\n",
              "    <path d=\"M18.56 5.44l.94 2.06.94-2.06 2.06-.94-2.06-.94-.94-2.06-.94 2.06-2.06.94zm-11 1L8.5 8.5l.94-2.06 2.06-.94-2.06-.94L8.5 2.5l-.94 2.06-2.06.94zm10 10l.94 2.06.94-2.06 2.06-.94-2.06-.94-.94-2.06-.94 2.06-2.06.94z\"/><path d=\"M17.41 7.96l-1.37-1.37c-.4-.4-.92-.59-1.43-.59-.52 0-1.04.2-1.43.59L10.3 9.45l-7.72 7.72c-.78.78-.78 2.05 0 2.83L4 21.41c.39.39.9.59 1.41.59.51 0 1.02-.2 1.41-.59l7.78-7.78 2.81-2.81c.8-.78.8-2.07 0-2.86zM5.41 20L4 18.59l7.72-7.72 1.47 1.35L5.41 20z\"/>\n",
              "  </svg>\n",
              "      </button>\n",
              "      \n",
              "  <style>\n",
              "    .colab-df-container {\n",
              "      display:flex;\n",
              "      flex-wrap:wrap;\n",
              "      gap: 12px;\n",
              "    }\n",
              "\n",
              "    .colab-df-convert {\n",
              "      background-color: #E8F0FE;\n",
              "      border: none;\n",
              "      border-radius: 50%;\n",
              "      cursor: pointer;\n",
              "      display: none;\n",
              "      fill: #1967D2;\n",
              "      height: 32px;\n",
              "      padding: 0 0 0 0;\n",
              "      width: 32px;\n",
              "    }\n",
              "\n",
              "    .colab-df-convert:hover {\n",
              "      background-color: #E2EBFA;\n",
              "      box-shadow: 0px 1px 2px rgba(60, 64, 67, 0.3), 0px 1px 3px 1px rgba(60, 64, 67, 0.15);\n",
              "      fill: #174EA6;\n",
              "    }\n",
              "\n",
              "    [theme=dark] .colab-df-convert {\n",
              "      background-color: #3B4455;\n",
              "      fill: #D2E3FC;\n",
              "    }\n",
              "\n",
              "    [theme=dark] .colab-df-convert:hover {\n",
              "      background-color: #434B5C;\n",
              "      box-shadow: 0px 1px 3px 1px rgba(0, 0, 0, 0.15);\n",
              "      filter: drop-shadow(0px 1px 2px rgba(0, 0, 0, 0.3));\n",
              "      fill: #FFFFFF;\n",
              "    }\n",
              "  </style>\n",
              "\n",
              "      <script>\n",
              "        const buttonEl =\n",
              "          document.querySelector('#df-21b01d8b-b15f-438c-a469-c52d98d6a039 button.colab-df-convert');\n",
              "        buttonEl.style.display =\n",
              "          google.colab.kernel.accessAllowed ? 'block' : 'none';\n",
              "\n",
              "        async function convertToInteractive(key) {\n",
              "          const element = document.querySelector('#df-21b01d8b-b15f-438c-a469-c52d98d6a039');\n",
              "          const dataTable =\n",
              "            await google.colab.kernel.invokeFunction('convertToInteractive',\n",
              "                                                     [key], {});\n",
              "          if (!dataTable) return;\n",
              "\n",
              "          const docLinkHtml = 'Like what you see? Visit the ' +\n",
              "            '<a target=\"_blank\" href=https://colab.research.google.com/notebooks/data_table.ipynb>data table notebook</a>'\n",
              "            + ' to learn more about interactive tables.';\n",
              "          element.innerHTML = '';\n",
              "          dataTable['output_type'] = 'display_data';\n",
              "          await google.colab.output.renderOutput(dataTable, element);\n",
              "          const docLink = document.createElement('div');\n",
              "          docLink.innerHTML = docLinkHtml;\n",
              "          element.appendChild(docLink);\n",
              "        }\n",
              "      </script>\n",
              "    </div>\n",
              "  </div>\n",
              "  "
            ]
          },
          "metadata": {},
          "execution_count": 190
        }
      ]
    },
    {
      "cell_type": "markdown",
      "source": [
        "# Boxplot"
      ],
      "metadata": {
        "id": "C6YisuMPaGN8"
      }
    },
    {
      "cell_type": "code",
      "source": [
        "# Set the figure size\n",
        "plt.figure(figsize=(8, 6))\n",
        "\n",
        "# Plot a boxplot of the 'price' column\n",
        "sns.boxplot(x=eggs['price'])\n",
        "\n",
        "# Add a title to the plot\n",
        "plt.title(\"Boxplot of Price \")\n",
        "\n",
        "# Add labels to the x and y axis\n",
        "plt.xlabel(\"Price\")\n",
        "plt.ylabel(\" \")\n",
        "\n",
        "# Show the plot\n",
        "plt.show()"
      ],
      "metadata": {
        "colab": {
          "base_uri": "https://localhost:8080/",
          "height": 404
        },
        "id": "FIMGO97HaGWi",
        "outputId": "e1eccd98-7a9d-468c-c35a-46919e277f5b"
      },
      "execution_count": 191,
      "outputs": [
        {
          "output_type": "display_data",
          "data": {
            "text/plain": [
              "<Figure size 576x432 with 1 Axes>"
            ],
            "image/png": "[encoded data removed]"
          },
          "metadata": {
            "needs_background": "light"
          }
        }
      ]
    },
    {
      "cell_type": "markdown",
      "source": [
        "# Histogram"
      ],
      "metadata": {
        "id": "wFUwee1GaCxH"
      }
    },
    {
      "cell_type": "code",
      "source": [
        "\n",
        "# Set the figure size\n",
        "plt.figure(figsize=(8, 4))\n",
        "# Plot a histogram of column\n",
        "sns.histplot(x=eggs['price'], \n",
        "             bins = 24)\n",
        "\n",
        "# Add a title to the plot\n",
        "plt.title(\"Histogram of a Price \")\n",
        "\n",
        "# Add labels to the x and y axis\n",
        "plt.xlabel(\"price\")\n",
        "plt.ylabel(\" \")\n",
        "\n",
        "# Show the plot\n",
        "plt.show()"
      ],
      "metadata": {
        "colab": {
          "base_uri": "https://localhost:8080/",
          "height": 295
        },
        "id": "t7Q2DCHYZx4q",
        "outputId": "b1853af0-2e13-4b1d-a6a4-ee97ffa2c984"
      },
      "execution_count": 192,
      "outputs": [
        {
          "output_type": "display_data",
          "data": {
            "text/plain": [
              "<Figure size 576x288 with 1 Axes>"
            ],
            "image/png": "[encoded data removed]"
          },
          "metadata": {
            "needs_background": "light"
          }
        }
      ]
    },
    {
      "cell_type": "markdown",
      "source": [],
      "metadata": {
        "id": "fSEBBIkJgxfC"
      }
    },
    {
      "cell_type": "code",
      "source": [
        "fig, axes = plt.subplots(1,2,figsize=(15,3))\n",
        "\n",
        "eggs[\"year\"] = eggs[\"date\"].dt.year\n",
        "\n",
        "# create histograms assign the axes \n",
        "sns.lineplot(data=eggs.query('year == 2021'),\n",
        "    x='date', \n",
        "    y='price',\n",
        "             ax = axes[0])\n",
        "\n",
        "sns.lineplot(data=eggs.query('year == 2022'),\n",
        "    x='date', \n",
        "    y='price',\n",
        "             ax = axes[1])\n",
        "\n",
        "# title the axes \n",
        "axes[0].set_title('Year == 2021 ', \n",
        "             fontweight =\"bold\")\n",
        "axes[1].set_title('Year == 2022', \n",
        "             fontweight =\"bold\")\n",
        "# show\n",
        "plt.show()"
      ],
      "metadata": {
        "colab": {
          "base_uri": "https://localhost:8080/",
          "height": 241
        },
        "id": "9wXLYRDtgx2c",
        "outputId": "5f42f812-93ee-420c-a797-502bcc1524cb"
      },
      "execution_count": 193,
      "outputs": [
        {
          "output_type": "display_data",
          "data": {
            "text/plain": [
              "<Figure size 1080x216 with 2 Axes>"
            ],
            "image/png": "[encoded data removed]"
          },
          "metadata": {
            "needs_background": "light"
          }
        }
      ]
    },
    {
      "cell_type": "markdown",
      "source": [
        "## Boxplot 2020, 2021 and 2022\n",
        "\n",
        "\n",
        "\n",
        "---\n",
        "Let's compare 2020, 2021 and 2022. to do this we need to create a new column \"year\" and we'll make a boxplot\n",
        "1. create new column \"year\"\n",
        "2. plot the boxplot hue by year\n",
        "\n"
      ],
      "metadata": {
        "id": "r93p6tZraJpf"
      }
    },
    {
      "cell_type": "code",
      "source": [
        "eggs.dtypes"
      ],
      "metadata": {
        "colab": {
          "base_uri": "https://localhost:8080/"
        },
        "id": "P_AUtuPwcGbt",
        "outputId": "5a6b2b6f-b548-4450-8cde-37c158aa204a"
      },
      "execution_count": 154,
      "outputs": [
        {
          "output_type": "execute_result",
          "data": {
            "text/plain": [
              "date     datetime64[ns]\n",
              "price           float64\n",
              "year              int64\n",
              "dtype: object"
            ]
          },
          "metadata": {},
          "execution_count": 154
        }
      ]
    },
    {
      "cell_type": "code",
      "source": [
        "eggs[\"year\"] = eggs[\"date\"].dt.year\n",
        "eggs.head()\n",
        "res1 = eggs.query('year == [2020,2021,2022]')\n",
        "\n",
        "# Set the figure size\n",
        "plt.figure(figsize=(8, 6))\n",
        "\n",
        "# Plot a boxplot of the 'price' column\n",
        "sns.boxplot(data= res1, y='price', x=\"year\")\n",
        "\n",
        "# Add a title to the plot\n",
        "plt.title(\"Boxplot of Price for 2020 - 2022\")\n",
        "\n",
        "# Add labels to the x and y axis\n",
        "plt.xlabel(\"Price\")\n",
        "plt.ylabel(\" \")\n",
        "\n",
        "# Show the plot\n",
        "plt.show()"
      ],
      "metadata": {
        "colab": {
          "base_uri": "https://localhost:8080/",
          "height": 404
        },
        "id": "o2jDeovDaJxR",
        "outputId": "a0584879-33b8-4c0d-f794-08c69577f4d5"
      },
      "execution_count": 194,
      "outputs": [
        {
          "output_type": "display_data",
          "data": {
            "text/plain": [
              "<Figure size 576x432 with 1 Axes>"
            ],
            "image/png": "[encoded data removed]"
          },
          "metadata": {
            "needs_background": "light"
          }
        }
      ]
    },
    {
      "cell_type": "markdown",
      "source": [
        "# Line Plots\n",
        "\n",
        "1. 1980 - 2022 "
      ],
      "metadata": {
        "id": "zEaBT6pinSQc"
      }
    },
    {
      "cell_type": "code",
      "source": [
        "# Set the figure size\n",
        "plt.figure(figsize=(15, 4))\n",
        "# Plot a histogram of column\n",
        "sns.lineplot(data = eggs, \n",
        "             x='date', \n",
        "             y=\"price\"\n",
        "            )\n",
        "# Add a title to the plot\n",
        "plt.title(\"Price of Eggs overtime \")\n",
        "\n",
        "# Add labels to the x and y axis\n",
        "plt.xlabel(\"date\")\n",
        "plt.ylabel(\"price\")\n",
        "\n",
        "# Show the plot\n",
        "plt.show()"
      ],
      "metadata": {
        "colab": {
          "base_uri": "https://localhost:8080/",
          "height": 295
        },
        "id": "kT-n1xJgnSeh",
        "outputId": "f30ae189-0917-4cd5-a705-b0c5bad4ee92"
      },
      "execution_count": 195,
      "outputs": [
        {
          "output_type": "display_data",
          "data": {
            "text/plain": [
              "<Figure size 1080x288 with 1 Axes>"
            ],
            "image/png": "[encoded data removed]"
          },
          "metadata": {
            "needs_background": "light"
          }
        }
      ]
    },
    {
      "cell_type": "markdown",
      "source": [
        "## Prices 2020 - 2022\n",
        "\n",
        "---\n",
        "\n"
      ],
      "metadata": {
        "id": "VDnirHclntyN"
      }
    },
    {
      "cell_type": "code",
      "source": [
        "# Set the figure size\n",
        "plt.figure(figsize=(15, 4))\n",
        "# Plot a histogram of column\n",
        "sns.lineplot(data = eggs.query('year >=2020'), \n",
        "             x='date', \n",
        "             y=\"price\"\n",
        "            )\n",
        "# Add a title to the plot\n",
        "plt.title(\"Price of Eggs 2020 - Present \")\n",
        "\n",
        "# Add labels to the x and y axis\n",
        "plt.xlabel(\"date\")\n",
        "plt.ylabel(\"price\")\n",
        "\n",
        "# Show the plot\n",
        "plt.show()"
      ],
      "metadata": {
        "colab": {
          "base_uri": "https://localhost:8080/",
          "height": 295
        },
        "id": "tOF3ldOTnuDH",
        "outputId": "8f7fc4d0-4c8e-401b-d8f9-131780e34d59"
      },
      "execution_count": 196,
      "outputs": [
        {
          "output_type": "display_data",
          "data": {
            "text/plain": [
              "<Figure size 1080x288 with 1 Axes>"
            ],
            "image/png": "[encoded data removed]"
          },
          "metadata": {
            "needs_background": "light"
          }
        }
      ]
    },
    {
      "cell_type": "markdown",
      "source": [
        "## Investing In Eggs? \n",
        "\n",
        "So if you had the abilty to invest $1 in eggs in January and hold it until December when you sell. Would that be a profitable investment strategy? \n",
        "\n",
        "Essentially, we are simply look at the growth of a dollars worth eggs at the start of each year and see how the $1 investment changes from January to December. \n",
        "\n",
        "\n",
        "---\n",
        "\n",
        "Yes this is an odd analysis but it likely highlights the impact of inflation each year on a carton of eggs. Think of this as if eggs were an investment like a stock. If you invested a $1 in an egg at the beggining of each year to see how your investment grew over the year. \n",
        "\n",
        "To do this we need to\n",
        "1. normalize the price of eggs so that the first day of january the price is a dollar. \n",
        "2. create a month name value so we can plot them along the same x-axis\n",
        "3. filter for the years of interest\n",
        "4. plot the growth of a $1 egg investment over the year. \n",
        "\n",
        "\n"
      ],
      "metadata": {
        "id": "oWPhOJy7Hi0T"
      }
    },
    {
      "cell_type": "code",
      "source": [
        "# group the data by 'group' and divide the 'value' column by the first value of each group\n",
        "eggs['normalized_price'] = eggs.groupby('year')['price'].transform(lambda x: x / x.iloc[0])\n",
        "# get the month number and name\n",
        "eggs[\"month_no\"] = eggs[\"date\"].dt.month\n",
        "eggs[\"month_name\"] = eggs[\"date\"].dt.month_name()\n",
        "# did it work? \n",
        "eggs.head()"
      ],
      "metadata": {
        "colab": {
          "base_uri": "https://localhost:8080/",
          "height": 206
        },
        "id": "ioFjJoFvHi-s",
        "outputId": "d21f18fc-7871-41d7-fee0-53c379e03b6a"
      },
      "execution_count": 198,
      "outputs": [
        {
          "output_type": "execute_result",
          "data": {
            "text/plain": [
              "        date  price  year  normalized_price  month_no month_name\n",
              "0 1980-01-01  0.879  1980          1.000000         1    January\n",
              "1 1980-02-01  0.774  1980          0.880546         2   February\n",
              "2 1980-03-01  0.812  1980          0.923777         3      March\n",
              "3 1980-04-01  0.797  1980          0.906712         4      April\n",
              "4 1980-05-01  0.737  1980          0.838453         5        May"
            ],
            "text/html": [
              "\n",
              "  <div id=\"df-0a0d3d29-ac7e-40fa-9b61-a91209059ed8\">\n",
              "    <div class=\"colab-df-container\">\n",
              "      <div>\n",
              "<style scoped>\n",
              "    .dataframe tbody tr th:only-of-type {\n",
              "        vertical-align: middle;\n",
              "    }\n",
              "\n",
              "    .dataframe tbody tr th {\n",
              "        vertical-align: top;\n",
              "    }\n",
              "\n",
              "    .dataframe thead th {\n",
              "        text-align: right;\n",
              "    }\n",
              "</style>\n",
              "<table border=\"1\" class=\"dataframe\">\n",
              "  <thead>\n",
              "    <tr style=\"text-align: right;\">\n",
              "      <th></th>\n",
              "      <th>date</th>\n",
              "      <th>price</th>\n",
              "      <th>year</th>\n",
              "      <th>normalized_price</th>\n",
              "      <th>month_no</th>\n",
              "      <th>month_name</th>\n",
              "    </tr>\n",
              "  </thead>\n",
              "  <tbody>\n",
              "    <tr>\n",
              "      <th>0</th>\n",
              "      <td>1980-01-01</td>\n",
              "      <td>0.879</td>\n",
              "      <td>1980</td>\n",
              "      <td>1.000000</td>\n",
              "      <td>1</td>\n",
              "      <td>January</td>\n",
              "    </tr>\n",
              "    <tr>\n",
              "      <th>1</th>\n",
              "      <td>1980-02-01</td>\n",
              "      <td>0.774</td>\n",
              "      <td>1980</td>\n",
              "      <td>0.880546</td>\n",
              "      <td>2</td>\n",
              "      <td>February</td>\n",
              "    </tr>\n",
              "    <tr>\n",
              "      <th>2</th>\n",
              "      <td>1980-03-01</td>\n",
              "      <td>0.812</td>\n",
              "      <td>1980</td>\n",
              "      <td>0.923777</td>\n",
              "      <td>3</td>\n",
              "      <td>March</td>\n",
              "    </tr>\n",
              "    <tr>\n",
              "      <th>3</th>\n",
              "      <td>1980-04-01</td>\n",
              "      <td>0.797</td>\n",
              "      <td>1980</td>\n",
              "      <td>0.906712</td>\n",
              "      <td>4</td>\n",
              "      <td>April</td>\n",
              "    </tr>\n",
              "    <tr>\n",
              "      <th>4</th>\n",
              "      <td>1980-05-01</td>\n",
              "      <td>0.737</td>\n",
              "      <td>1980</td>\n",
              "      <td>0.838453</td>\n",
              "      <td>5</td>\n",
              "      <td>May</td>\n",
              "    </tr>\n",
              "  </tbody>\n",
              "</table>\n",
              "</div>\n",
              "      <button class=\"colab-df-convert\" onclick=\"convertToInteractive('df-0a0d3d29-ac7e-40fa-9b61-a91209059ed8')\"\n",
              "              title=\"Convert this dataframe to an interactive table.\"\n",
              "              style=\"display:none;\">\n",
              "        \n",
              "  <svg xmlns=\"http://www.w3.org/2000/svg\" height=\"24px\"viewBox=\"0 0 24 24\"\n",
              "       width=\"24px\">\n",
              "    <path d=\"M0 0h24v24H0V0z\" fill=\"none\"/>\n",
              "    <path d=\"M18.56 5.44l.94 2.06.94-2.06 2.06-.94-2.06-.94-.94-2.06-.94 2.06-2.06.94zm-11 1L8.5 8.5l.94-2.06 2.06-.94-2.06-.94L8.5 2.5l-.94 2.06-2.06.94zm10 10l.94 2.06.94-2.06 2.06-.94-2.06-.94-.94-2.06-.94 2.06-2.06.94z\"/><path d=\"M17.41 7.96l-1.37-1.37c-.4-.4-.92-.59-1.43-.59-.52 0-1.04.2-1.43.59L10.3 9.45l-7.72 7.72c-.78.78-.78 2.05 0 2.83L4 21.41c.39.39.9.59 1.41.59.51 0 1.02-.2 1.41-.59l7.78-7.78 2.81-2.81c.8-.78.8-2.07 0-2.86zM5.41 20L4 18.59l7.72-7.72 1.47 1.35L5.41 20z\"/>\n",
              "  </svg>\n",
              "      </button>\n",
              "      \n",
              "  <style>\n",
              "    .colab-df-container {\n",
              "      display:flex;\n",
              "      flex-wrap:wrap;\n",
              "      gap: 12px;\n",
              "    }\n",
              "\n",
              "    .colab-df-convert {\n",
              "      background-color: #E8F0FE;\n",
              "      border: none;\n",
              "      border-radius: 50%;\n",
              "      cursor: pointer;\n",
              "      display: none;\n",
              "      fill: #1967D2;\n",
              "      height: 32px;\n",
              "      padding: 0 0 0 0;\n",
              "      width: 32px;\n",
              "    }\n",
              "\n",
              "    .colab-df-convert:hover {\n",
              "      background-color: #E2EBFA;\n",
              "      box-shadow: 0px 1px 2px rgba(60, 64, 67, 0.3), 0px 1px 3px 1px rgba(60, 64, 67, 0.15);\n",
              "      fill: #174EA6;\n",
              "    }\n",
              "\n",
              "    [theme=dark] .colab-df-convert {\n",
              "      background-color: #3B4455;\n",
              "      fill: #D2E3FC;\n",
              "    }\n",
              "\n",
              "    [theme=dark] .colab-df-convert:hover {\n",
              "      background-color: #434B5C;\n",
              "      box-shadow: 0px 1px 3px 1px rgba(0, 0, 0, 0.15);\n",
              "      filter: drop-shadow(0px 1px 2px rgba(0, 0, 0, 0.3));\n",
              "      fill: #FFFFFF;\n",
              "    }\n",
              "  </style>\n",
              "\n",
              "      <script>\n",
              "        const buttonEl =\n",
              "          document.querySelector('#df-0a0d3d29-ac7e-40fa-9b61-a91209059ed8 button.colab-df-convert');\n",
              "        buttonEl.style.display =\n",
              "          google.colab.kernel.accessAllowed ? 'block' : 'none';\n",
              "\n",
              "        async function convertToInteractive(key) {\n",
              "          const element = document.querySelector('#df-0a0d3d29-ac7e-40fa-9b61-a91209059ed8');\n",
              "          const dataTable =\n",
              "            await google.colab.kernel.invokeFunction('convertToInteractive',\n",
              "                                                     [key], {});\n",
              "          if (!dataTable) return;\n",
              "\n",
              "          const docLinkHtml = 'Like what you see? Visit the ' +\n",
              "            '<a target=\"_blank\" href=https://colab.research.google.com/notebooks/data_table.ipynb>data table notebook</a>'\n",
              "            + ' to learn more about interactive tables.';\n",
              "          element.innerHTML = '';\n",
              "          dataTable['output_type'] = 'display_data';\n",
              "          await google.colab.output.renderOutput(dataTable, element);\n",
              "          const docLink = document.createElement('div');\n",
              "          docLink.innerHTML = docLinkHtml;\n",
              "          element.appendChild(docLink);\n",
              "        }\n",
              "      </script>\n",
              "    </div>\n",
              "  </div>\n",
              "  "
            ]
          },
          "metadata": {},
          "execution_count": 198
        }
      ]
    },
    {
      "cell_type": "code",
      "source": [
        "# Set the figure size\n",
        "plt.figure(figsize=(15, 4))\n",
        "# set palette\n",
        "sns.set_palette(\"husl\")\n",
        "# Plot a histogram of column\n",
        "sns.lineplot(data = eggs.query('year >= 2020'), \n",
        "             x='month_name', \n",
        "             y=\"normalized_price\",\n",
        "             hue = \"year\",\n",
        "\n",
        "            )\n",
        "# Add a title to the plot\n",
        "plt.title(\"Price of Eggs 2020 - Present \")\n",
        "\n",
        "# Add labels to the x and y axis\n",
        "plt.xlabel(\"date\")\n",
        "plt.ylabel(\"price\")\n",
        "\n",
        "# Show the plot\n",
        "plt.show()"
      ],
      "metadata": {
        "colab": {
          "base_uri": "https://localhost:8080/",
          "height": 295
        },
        "id": "E9sJPeFDrf4a",
        "outputId": "a9a2828a-ed9c-4819-d481-5c25fe444a72"
      },
      "execution_count": 199,
      "outputs": [
        {
          "output_type": "display_data",
          "data": {
            "text/plain": [
              "<Figure size 1080x288 with 1 Axes>"
            ],
            "image/png": "[encoded data removed]"
          },
          "metadata": {
            "needs_background": "light"
          }
        }
      ]
    },
    {
      "cell_type": "markdown",
      "source": [
        "## If you invested one-dollar in eggs begging of 2022? \n",
        "\n",
        "How much would your investment be worth at end of 2022?\n",
        "\n",
        "---\n",
        "\n",
        "\n",
        "\n"
      ],
      "metadata": {
        "id": "CPbJ2X4iqORh"
      }
    },
    {
      "cell_type": "code",
      "source": [
        "december_price = eggs.query('year >= 2022 and month_no == 12')[\"normalized_price\"].values[0]\n",
        "print('A $1 investment in eggs in January would be worth ${:.2f} at end of 2022 \\n'.format(december_price))\n",
        "\n"
      ],
      "metadata": {
        "colab": {
          "base_uri": "https://localhost:8080/"
        },
        "id": "CbuxeRMps9S3",
        "outputId": "2375db43-27ef-41a8-d765-7381721ac775"
      },
      "execution_count": 200,
      "outputs": [
        {
          "output_type": "stream",
          "name": "stdout",
          "text": [
            "A $1 investment in eggs in January would be worth $2.20 at end of 2022 \n",
            "\n"
          ]
        }
      ]
    },
    {
      "cell_type": "code",
      "source": [
        "for year in [2019,2020,2021,2022]:\n",
        "  december_price = eggs.query('year >= @year and month_no == 12')[\"normalized_price\"].values[0]\n",
        "  print('A $1 investment in eggs in January would be worth ${:.2f} by December of {}'.format(december_price, year))\n",
        "\n"
      ],
      "metadata": {
        "colab": {
          "base_uri": "https://localhost:8080/"
        },
        "id": "-Zql2XDUtvFT",
        "outputId": "650367e7-621d-4156-d584-d028176a6859"
      },
      "execution_count": 201,
      "outputs": [
        {
          "output_type": "stream",
          "name": "stdout",
          "text": [
            "A $1 investment in eggs in January would be worth $0.99 by December of 2019\n",
            "A $1 investment in eggs in January would be worth $1.01 by December of 2020\n",
            "A $1 investment in eggs in January would be worth $1.22 by December of 2021\n",
            "A $1 investment in eggs in January would be worth $2.20 by December of 2022\n"
          ]
        }
      ]
    },
    {
      "cell_type": "code",
      "source": [
        "profit = 0\n",
        "for year in list(range(2010,2023)):\n",
        "  december_price = eggs.query('year >= @year and month_no == 12')[\"normalized_price\"].values[0]\n",
        "  profit = profit + (december_price - 1)\n",
        "  print('A $1 egg investment in January would be worth ${:.2f} by December of {} a profit of ${:.2f}'.format(december_price, year, december_price - 1))\n",
        "\n",
        "print('Profit of our strategy {}'.format(profit))"
      ],
      "metadata": {
        "colab": {
          "base_uri": "https://localhost:8080/"
        },
        "id": "qMQbovR7t4wk",
        "outputId": "9c516bfe-8a39-415e-a0f3-070fb12347cf"
      },
      "execution_count": 208,
      "outputs": [
        {
          "output_type": "stream",
          "name": "stdout",
          "text": [
            "A $1 egg investment in January would be worth $1.00 by December of 2010 a profit of $0.00\n",
            "A $1 egg investment in January would be worth $1.04 by December of 2011 a profit of $0.04\n",
            "A $1 egg investment in January would be worth $1.04 by December of 2012 a profit of $0.04\n",
            "A $1 egg investment in January would be worth $1.05 by December of 2013 a profit of $0.05\n",
            "A $1 egg investment in January would be worth $1.10 by December of 2014 a profit of $0.10\n",
            "A $1 egg investment in January would be worth $1.30 by December of 2015 a profit of $0.30\n",
            "A $1 egg investment in January would be worth $0.59 by December of 2016 a profit of $-0.41\n",
            "A $1 egg investment in January would be worth $1.14 by December of 2017 a profit of $0.14\n",
            "A $1 egg investment in January would be worth $0.90 by December of 2018 a profit of $-0.10\n",
            "A $1 egg investment in January would be worth $0.99 by December of 2019 a profit of $-0.01\n",
            "A $1 egg investment in January would be worth $1.01 by December of 2020 a profit of $0.01\n",
            "A $1 egg investment in January would be worth $1.22 by December of 2021 a profit of $0.22\n",
            "A $1 egg investment in January would be worth $2.20 by December of 2022 a profit of $1.20\n",
            "Profit of our strategy 1.580725574379327\n"
          ]
        }
      ]
    },
    {
      "cell_type": "markdown",
      "source": [
        "## Forecasting w. ARIMA \n",
        "\n",
        "Where are egg prices headed? \n",
        "\n",
        "\n",
        "---\n",
        "\n",
        "let's use an ARIMA model! ARIMA stands for **AutoRegressive Integrated Moving Average**, and it's a statistical model used for time series forecasting.\n",
        "\n",
        "The basic idea behind ARIMA is to model the past values of a time series in order to make predictions about future values. ARIMA does this by combining three components:\n",
        "\n",
        "- Autoregression (AR): This component models the relationship between the current value of a time series and its past values. For example, if the value of a time series at time t is influenced by the values at times t-1, t-2, t-3, and so on, this relationship is modeled by the AR component.\n",
        "\n",
        "- Integration (I): This component is used to handle non-stationary time series data, where the mean and/or variance of the data changes over time. The integration component transforms the time series data into a stationary time series, which makes it easier to model.\n",
        "\n",
        "- Moving Average (MA): This component models the relationship between the current value of a time series and the residuals (or errors) from the previous time steps. The residuals represent the difference between the observed values and the values predicted by the AR component. The MA component helps to capture any patterns in the residuals that are not captured by the AR component.\n",
        "\n",
        "The order of the ARIMA model (e.g. ARIMA(p, d, q)) refers to the order of the **AR** component(p), the order of the **I**component(d), and the order of the **MA** component(q). You can tune the model by using different combinations of p, d, and q to find the best model that fits the data.\n",
        "\n",
        "\n",
        "We will use  Mean Absolute Error (MAE) as a evaluation metric. It measures the difference between the **actual values** of the time series and the **predicted values**. It's defined as the **average absolute difference** between the actual and predicted values.\n",
        "\n",
        "In other words, MAE measures the average magnitude of the errors in a set of predictions, without considering their direction. This makes MAE a robust metric, as it's not affected by the presence of outliers in the data.\n",
        "\n"
      ],
      "metadata": {
        "id": "c7STGnUPoAOb"
      }
    },
    {
      "cell_type": "code",
      "source": [
        "from statsmodels.tsa.arima.model import ARIMA\n",
        "\n",
        "ts_data  = eggs.query('year > 2018')[[\"date\",\"price\"]].set_index('date')\n",
        "\n",
        "# Fit an ARIMA model\n",
        "# -- change these and see the impact on MAE\n",
        "p = 1\n",
        "d = 1\n",
        "q = 1\n",
        "model = ARIMA(ts_data, order=(p,d,q), freq='MS')\n",
        "model_fit = model.fit()\n",
        "print(\"model has a mean_absolute_error of {:.4f}\".format(model_fit.mae))\n",
        "\n"
      ],
      "metadata": {
        "colab": {
          "base_uri": "https://localhost:8080/"
        },
        "id": "Q3ZoqZwtwSPM",
        "outputId": "61c6c28b-1461-4a5b-e7e8-68dfd77eaf63"
      },
      "execution_count": 214,
      "outputs": [
        {
          "output_type": "stream",
          "name": "stdout",
          "text": [
            "model has a mean_absolute_error of 0.1564\n"
          ]
        }
      ]
    },
    {
      "cell_type": "code",
      "source": [
        "# Forecast the next k periods into the future\n",
        "k = 6\n",
        "forecast = model_fit.get_forecast(steps=k)\n",
        "forecast_conf = forecast.conf_int()\n",
        "\n",
        "prediction = pd.DataFrame(forecast.predicted_mean).reset_index().rename(columns={\"index\":\"date\"})\n",
        "# plot this \n",
        "plt.figure(figsize=(15, 4))\n",
        "sns.lineplot(data=ts_data,x=\"date\",y=\"price\", label=\"Price of Eggs\")\n",
        "sns.lineplot(data=prediction,x=\"date\",y=\"predicted_mean\", label=\"Predicted Price\")\n",
        "\n",
        "# goofy range of confidence interval\n",
        "plt.fill_between(forecast_conf.index, forecast_conf.iloc[:, 0], forecast_conf.iloc[:, 1], color='gray', alpha=0.5)\n",
        "\n",
        "plt.legend(loc='upper left')\n",
        "# Add a title to the plot\n",
        "plt.title(\"Price of Eggs with 6 Month Forecast \")\n",
        "\n",
        "# Add labels to the x and y axis\n",
        "plt.xlabel(\"Date\")\n",
        "plt.ylabel(\"Price\")\n",
        "\n",
        "# Show the plot\n",
        "plt.show()\n"
      ],
      "metadata": {
        "colab": {
          "base_uri": "https://localhost:8080/",
          "height": 295
        },
        "id": "ke0BqT3z3nmp",
        "outputId": "c9736269-119e-49d8-cadc-b4b8fef81bc9"
      },
      "execution_count": 210,
      "outputs": [
        {
          "output_type": "display_data",
          "data": {
            "text/plain": [
              "<Figure size 1080x288 with 1 Axes>"
            ],
            "image/png": "[encoded data removed]"
          },
          "metadata": {
            "needs_background": "light"
          }
        }
      ]
    },
    {
      "cell_type": "code",
      "source": [
        "prediction"
      ],
      "metadata": {
        "colab": {
          "base_uri": "https://localhost:8080/",
          "height": 237
        },
        "id": "SMVJhfrT61oh",
        "outputId": "06fc7988-35a0-4e06-85a6-bf7beab3b1fd"
      },
      "execution_count": 186,
      "outputs": [
        {
          "output_type": "execute_result",
          "data": {
            "text/plain": [
              "        date  predicted_mean\n",
              "0 2023-01-01        4.318142\n",
              "1 2023-02-01        4.438400\n",
              "2 2023-03-01        4.495710\n",
              "3 2023-04-01        4.534766\n",
              "4 2023-05-01        4.557288\n",
              "5 2023-06-01        4.564924"
            ],
            "text/html": [
              "\n",
              "  <div id=\"df-37207038-bb3d-42fe-aa12-891e0c656dab\">\n",
              "    <div class=\"colab-df-container\">\n",
              "      <div>\n",
              "<style scoped>\n",
              "    .dataframe tbody tr th:only-of-type {\n",
              "        vertical-align: middle;\n",
              "    }\n",
              "\n",
              "    .dataframe tbody tr th {\n",
              "        vertical-align: top;\n",
              "    }\n",
              "\n",
              "    .dataframe thead th {\n",
              "        text-align: right;\n",
              "    }\n",
              "</style>\n",
              "<table border=\"1\" class=\"dataframe\">\n",
              "  <thead>\n",
              "    <tr style=\"text-align: right;\">\n",
              "      <th></th>\n",
              "      <th>date</th>\n",
              "      <th>predicted_mean</th>\n",
              "    </tr>\n",
              "  </thead>\n",
              "  <tbody>\n",
              "    <tr>\n",
              "      <th>0</th>\n",
              "      <td>2023-01-01</td>\n",
              "      <td>4.318142</td>\n",
              "    </tr>\n",
              "    <tr>\n",
              "      <th>1</th>\n",
              "      <td>2023-02-01</td>\n",
              "      <td>4.438400</td>\n",
              "    </tr>\n",
              "    <tr>\n",
              "      <th>2</th>\n",
              "      <td>2023-03-01</td>\n",
              "      <td>4.495710</td>\n",
              "    </tr>\n",
              "    <tr>\n",
              "      <th>3</th>\n",
              "      <td>2023-04-01</td>\n",
              "      <td>4.534766</td>\n",
              "    </tr>\n",
              "    <tr>\n",
              "      <th>4</th>\n",
              "      <td>2023-05-01</td>\n",
              "      <td>4.557288</td>\n",
              "    </tr>\n",
              "    <tr>\n",
              "      <th>5</th>\n",
              "      <td>2023-06-01</td>\n",
              "      <td>4.564924</td>\n",
              "    </tr>\n",
              "  </tbody>\n",
              "</table>\n",
              "</div>\n",
              "      <button class=\"colab-df-convert\" onclick=\"convertToInteractive('df-37207038-bb3d-42fe-aa12-891e0c656dab')\"\n",
              "              title=\"Convert this dataframe to an interactive table.\"\n",
              "              style=\"display:none;\">\n",
              "        \n",
              "  <svg xmlns=\"http://www.w3.org/2000/svg\" height=\"24px\"viewBox=\"0 0 24 24\"\n",
              "       width=\"24px\">\n",
              "    <path d=\"M0 0h24v24H0V0z\" fill=\"none\"/>\n",
              "    <path d=\"M18.56 5.44l.94 2.06.94-2.06 2.06-.94-2.06-.94-.94-2.06-.94 2.06-2.06.94zm-11 1L8.5 8.5l.94-2.06 2.06-.94-2.06-.94L8.5 2.5l-.94 2.06-2.06.94zm10 10l.94 2.06.94-2.06 2.06-.94-2.06-.94-.94-2.06-.94 2.06-2.06.94z\"/><path d=\"M17.41 7.96l-1.37-1.37c-.4-.4-.92-.59-1.43-.59-.52 0-1.04.2-1.43.59L10.3 9.45l-7.72 7.72c-.78.78-.78 2.05 0 2.83L4 21.41c.39.39.9.59 1.41.59.51 0 1.02-.2 1.41-.59l7.78-7.78 2.81-2.81c.8-.78.8-2.07 0-2.86zM5.41 20L4 18.59l7.72-7.72 1.47 1.35L5.41 20z\"/>\n",
              "  </svg>\n",
              "      </button>\n",
              "      \n",
              "  <style>\n",
              "    .colab-df-container {\n",
              "      display:flex;\n",
              "      flex-wrap:wrap;\n",
              "      gap: 12px;\n",
              "    }\n",
              "\n",
              "    .colab-df-convert {\n",
              "      background-color: #E8F0FE;\n",
              "      border: none;\n",
              "      border-radius: 50%;\n",
              "      cursor: pointer;\n",
              "      display: none;\n",
              "      fill: #1967D2;\n",
              "      height: 32px;\n",
              "      padding: 0 0 0 0;\n",
              "      width: 32px;\n",
              "    }\n",
              "\n",
              "    .colab-df-convert:hover {\n",
              "      background-color: #E2EBFA;\n",
              "      box-shadow: 0px 1px 2px rgba(60, 64, 67, 0.3), 0px 1px 3px 1px rgba(60, 64, 67, 0.15);\n",
              "      fill: #174EA6;\n",
              "    }\n",
              "\n",
              "    [theme=dark] .colab-df-convert {\n",
              "      background-color: #3B4455;\n",
              "      fill: #D2E3FC;\n",
              "    }\n",
              "\n",
              "    [theme=dark] .colab-df-convert:hover {\n",
              "      background-color: #434B5C;\n",
              "      box-shadow: 0px 1px 3px 1px rgba(0, 0, 0, 0.15);\n",
              "      filter: drop-shadow(0px 1px 2px rgba(0, 0, 0, 0.3));\n",
              "      fill: #FFFFFF;\n",
              "    }\n",
              "  </style>\n",
              "\n",
              "      <script>\n",
              "        const buttonEl =\n",
              "          document.querySelector('#df-37207038-bb3d-42fe-aa12-891e0c656dab button.colab-df-convert');\n",
              "        buttonEl.style.display =\n",
              "          google.colab.kernel.accessAllowed ? 'block' : 'none';\n",
              "\n",
              "        async function convertToInteractive(key) {\n",
              "          const element = document.querySelector('#df-37207038-bb3d-42fe-aa12-891e0c656dab');\n",
              "          const dataTable =\n",
              "            await google.colab.kernel.invokeFunction('convertToInteractive',\n",
              "                                                     [key], {});\n",
              "          if (!dataTable) return;\n",
              "\n",
              "          const docLinkHtml = 'Like what you see? Visit the ' +\n",
              "            '<a target=\"_blank\" href=https://colab.research.google.com/notebooks/data_table.ipynb>data table notebook</a>'\n",
              "            + ' to learn more about interactive tables.';\n",
              "          element.innerHTML = '';\n",
              "          dataTable['output_type'] = 'display_data';\n",
              "          await google.colab.output.renderOutput(dataTable, element);\n",
              "          const docLink = document.createElement('div');\n",
              "          docLink.innerHTML = docLinkHtml;\n",
              "          element.appendChild(docLink);\n",
              "        }\n",
              "      </script>\n",
              "    </div>\n",
              "  </div>\n",
              "  "
            ]
          },
          "metadata": {},
          "execution_count": 186
        }
      ]
    }
  ]
}