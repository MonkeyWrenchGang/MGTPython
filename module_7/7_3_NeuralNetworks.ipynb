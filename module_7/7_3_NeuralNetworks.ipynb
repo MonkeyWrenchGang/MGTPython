{
  "nbformat": 4,
  "nbformat_minor": 0,
  "metadata": {
    "colab": {
      "provenance": [],
      "authorship_tag": "ABX9TyN0UOlMNY+GGSLjvz5pU3me",
      "include_colab_link": true
    },
    "kernelspec": {
      "name": "python3",
      "display_name": "Python 3"
    },
    "language_info": {
      "name": "python"
    }
  },
  "cells": [
    {
      "cell_type": "markdown",
      "metadata": {
        "id": "view-in-github",
        "colab_type": "text"
      },
      "source": [
        "<a href=\"https://colab.research.google.com/github/MonkeyWrenchGang/MGTPython/blob/main/module_7/7_3_NeuralNetworks.ipynb\" target=\"_parent\"><img src=\"https://colab.research.google.com/assets/colab-badge.svg\" alt=\"Open In Colab\"/></a>"
      ]
    },
    {
      "cell_type": "markdown",
      "source": [
        "# Churn Challenge \n",
        "\n",
        "\n",
        "---\n",
        "\n",
        "Customer churn is a critical challenge for businesses across various industries, as it can significantly impact their revenue and profitability. It refers to the situation when customers discontinue their association with a company or stop using its products or services. The reasons behind churn can be numerous, ranging from poor customer service to the availability of better alternatives in the market.\n",
        "\n",
        "The challenge: \n",
        "\n",
        "Suppose you are an employee of a telecommunications company like Verizon or AT&T, understanding and mitigating customer churn can be crucial for maintaining growth and success in the industry. With an annual valuation of $1200 per customer, losing customers can result in a significant loss of revenue for the company. Therefore, identifying the factors that influence customer churn and implementing strategies to retain customers can help mitigate this risk. \n",
        "\n",
        "The company belives that two critical factors that have been identified to influence customer churn are the network speed (5G or 4G LTE) and the phone model. Additionally, the company has observed that customers who opt for paperless billing are less likely to churn. Thus, focusing on providing superior network speed and offering desirable phone models while promoting paperless billing can be effective strategies to retain customers and reduce churn. \n",
        "\n",
        "Let's use our analytics skills to test these assertions and at the same time can we build a Decision Tree Classifier to identify likely churners before they churn?\n",
        "\n"
      ],
      "metadata": {
        "id": "CfPwlvnpJuMK"
      }
    },
    {
      "cell_type": "code",
      "execution_count": 10,
      "metadata": {
        "id": "0RjTEesIJVHv"
      },
      "outputs": [],
      "source": [
        "# --------------------------------\n",
        "import warnings\n",
        "warnings.filterwarnings('ignore')\n",
        "# --------------------------------\n",
        "\n",
        "import pandas as pd\n",
        "import numpy as np\n",
        "import matplotlib.pyplot  as plt\n",
        "import seaborn as sns\n",
        "\n",
        "# -- sklearn stuff -- \n",
        "from sklearn.model_selection import train_test_split\n",
        "from sklearn.pipeline import Pipeline\n",
        "from sklearn.compose import ColumnTransformer\n",
        "from sklearn.metrics import accuracy_score, recall_score, precision_score\n",
        "from sklearn.impute import SimpleImputer\n",
        "from sklearn.preprocessing import OneHotEncoder, StandardScaler\n",
        "\n",
        "# -- sklearn ML models -- \n",
        "from sklearn.tree import DecisionTreeClassifier\n",
        "from sklearn.neural_network import MLPClassifier\n",
        "\n",
        "%matplotlib inline"
      ]
    },
    {
      "cell_type": "markdown",
      "source": [
        "# Import Data"
      ],
      "metadata": {
        "id": "x_77ks-jJVfr"
      }
    },
    {
      "cell_type": "code",
      "source": [
        "churn = pd.read_csv(\"https://raw.githubusercontent.com/MonkeyWrenchGang/MGTPython/main/module_7/Churn_training.csv\")\n",
        "churn.head()"
      ],
      "metadata": {
        "colab": {
          "base_uri": "https://localhost:8080/",
          "height": 386
        },
        "id": "TPl-wCLVJVpS",
        "outputId": "736e75df-0216-466c-82bd-7588d1721ecb"
      },
      "execution_count": 11,
      "outputs": [
        {
          "output_type": "execute_result",
          "data": {
            "text/plain": [
              "   monthly_minutes  customer_service_calls  streaming_minutes  total_billed  \\\n",
              "0          22604.0                     2.0            26525.0         285.0   \n",
              "1          17059.0                     2.0            16887.0         201.0   \n",
              "2          25848.0                     2.0            26783.0         264.0   \n",
              "3          22080.0                     3.0            23649.0         274.0   \n",
              "4          23871.0                     3.0             7705.0         236.0   \n",
              "\n",
              "   prev_balance  late_payments  ip_address_asn  phone_area_code  \\\n",
              "0          47.0            5.0         16767.0            253.0   \n",
              "1          45.0            5.0         53966.0            241.0   \n",
              "2          44.0            6.0         19278.0            232.0   \n",
              "3          49.0            6.0         16680.0            236.0   \n",
              "4          61.0            5.0         51308.0            243.0   \n",
              "\n",
              "  customer_reg_date email_domain  ... currency_code maling_code  \\\n",
              "0        2020-04-15    yahoo.com  ...           usd           H   \n",
              "1        2020-04-12    gmail.com  ...           eur           V   \n",
              "2        2020-02-22    gmail.com  ...           cad           R   \n",
              "3        2020-08-05    yahoo.com  ...           cad           N   \n",
              "4        2019-11-16    gmail.com  ...           cad           V   \n",
              "\n",
              "   paperless_billing    payment_method      customer_id  \\\n",
              "0                 No      Mailed Check  1-136-08562-9.1   \n",
              "1                Yes      Mailed Check  0-384-11264-1.2   \n",
              "2                Yes       Credit Card  0-08-151665-7.3   \n",
              "3                 No      Mailed Check  0-02-200816-0.4   \n",
              "4                Yes  Electronic Check  0-87476-135-2.5   \n",
              "\n",
              "                 billing_address  gender network_speed senior_citizen churn  \n",
              "0       5592 Gill Pine Suite 387  Female            5G            1.0     0  \n",
              "1  5806 Kathleen Mount Suite 186    Male            5G            0.0     0  \n",
              "2     5037 Allen Square Apt. 727    Male            5G            1.0     0  \n",
              "3    841 Griffin Route Suite 824  Female            5G            0.0     0  \n",
              "4     46185 Mejia Manor Apt. 558    Male         4Glte            1.0     0  \n",
              "\n",
              "[5 rows x 34 columns]"
            ],
            "text/html": [
              "\n",
              "  <div id=\"df-0848e227-3d07-43e3-8f27-f0354352156f\">\n",
              "    <div class=\"colab-df-container\">\n",
              "      <div>\n",
              "<style scoped>\n",
              "    .dataframe tbody tr th:only-of-type {\n",
              "        vertical-align: middle;\n",
              "    }\n",
              "\n",
              "    .dataframe tbody tr th {\n",
              "        vertical-align: top;\n",
              "    }\n",
              "\n",
              "    .dataframe thead th {\n",
              "        text-align: right;\n",
              "    }\n",
              "</style>\n",
              "<table border=\"1\" class=\"dataframe\">\n",
              "  <thead>\n",
              "    <tr style=\"text-align: right;\">\n",
              "      <th></th>\n",
              "      <th>monthly_minutes</th>\n",
              "      <th>customer_service_calls</th>\n",
              "      <th>streaming_minutes</th>\n",
              "      <th>total_billed</th>\n",
              "      <th>prev_balance</th>\n",
              "      <th>late_payments</th>\n",
              "      <th>ip_address_asn</th>\n",
              "      <th>phone_area_code</th>\n",
              "      <th>customer_reg_date</th>\n",
              "      <th>email_domain</th>\n",
              "      <th>...</th>\n",
              "      <th>currency_code</th>\n",
              "      <th>maling_code</th>\n",
              "      <th>paperless_billing</th>\n",
              "      <th>payment_method</th>\n",
              "      <th>customer_id</th>\n",
              "      <th>billing_address</th>\n",
              "      <th>gender</th>\n",
              "      <th>network_speed</th>\n",
              "      <th>senior_citizen</th>\n",
              "      <th>churn</th>\n",
              "    </tr>\n",
              "  </thead>\n",
              "  <tbody>\n",
              "    <tr>\n",
              "      <th>0</th>\n",
              "      <td>22604.0</td>\n",
              "      <td>2.0</td>\n",
              "      <td>26525.0</td>\n",
              "      <td>285.0</td>\n",
              "      <td>47.0</td>\n",
              "      <td>5.0</td>\n",
              "      <td>16767.0</td>\n",
              "      <td>253.0</td>\n",
              "      <td>2020-04-15</td>\n",
              "      <td>yahoo.com</td>\n",
              "      <td>...</td>\n",
              "      <td>usd</td>\n",
              "      <td>H</td>\n",
              "      <td>No</td>\n",
              "      <td>Mailed Check</td>\n",
              "      <td>1-136-08562-9.1</td>\n",
              "      <td>5592 Gill Pine Suite 387</td>\n",
              "      <td>Female</td>\n",
              "      <td>5G</td>\n",
              "      <td>1.0</td>\n",
              "      <td>0</td>\n",
              "    </tr>\n",
              "    <tr>\n",
              "      <th>1</th>\n",
              "      <td>17059.0</td>\n",
              "      <td>2.0</td>\n",
              "      <td>16887.0</td>\n",
              "      <td>201.0</td>\n",
              "      <td>45.0</td>\n",
              "      <td>5.0</td>\n",
              "      <td>53966.0</td>\n",
              "      <td>241.0</td>\n",
              "      <td>2020-04-12</td>\n",
              "      <td>gmail.com</td>\n",
              "      <td>...</td>\n",
              "      <td>eur</td>\n",
              "      <td>V</td>\n",
              "      <td>Yes</td>\n",
              "      <td>Mailed Check</td>\n",
              "      <td>0-384-11264-1.2</td>\n",
              "      <td>5806 Kathleen Mount Suite 186</td>\n",
              "      <td>Male</td>\n",
              "      <td>5G</td>\n",
              "      <td>0.0</td>\n",
              "      <td>0</td>\n",
              "    </tr>\n",
              "    <tr>\n",
              "      <th>2</th>\n",
              "      <td>25848.0</td>\n",
              "      <td>2.0</td>\n",
              "      <td>26783.0</td>\n",
              "      <td>264.0</td>\n",
              "      <td>44.0</td>\n",
              "      <td>6.0</td>\n",
              "      <td>19278.0</td>\n",
              "      <td>232.0</td>\n",
              "      <td>2020-02-22</td>\n",
              "      <td>gmail.com</td>\n",
              "      <td>...</td>\n",
              "      <td>cad</td>\n",
              "      <td>R</td>\n",
              "      <td>Yes</td>\n",
              "      <td>Credit Card</td>\n",
              "      <td>0-08-151665-7.3</td>\n",
              "      <td>5037 Allen Square Apt. 727</td>\n",
              "      <td>Male</td>\n",
              "      <td>5G</td>\n",
              "      <td>1.0</td>\n",
              "      <td>0</td>\n",
              "    </tr>\n",
              "    <tr>\n",
              "      <th>3</th>\n",
              "      <td>22080.0</td>\n",
              "      <td>3.0</td>\n",
              "      <td>23649.0</td>\n",
              "      <td>274.0</td>\n",
              "      <td>49.0</td>\n",
              "      <td>6.0</td>\n",
              "      <td>16680.0</td>\n",
              "      <td>236.0</td>\n",
              "      <td>2020-08-05</td>\n",
              "      <td>yahoo.com</td>\n",
              "      <td>...</td>\n",
              "      <td>cad</td>\n",
              "      <td>N</td>\n",
              "      <td>No</td>\n",
              "      <td>Mailed Check</td>\n",
              "      <td>0-02-200816-0.4</td>\n",
              "      <td>841 Griffin Route Suite 824</td>\n",
              "      <td>Female</td>\n",
              "      <td>5G</td>\n",
              "      <td>0.0</td>\n",
              "      <td>0</td>\n",
              "    </tr>\n",
              "    <tr>\n",
              "      <th>4</th>\n",
              "      <td>23871.0</td>\n",
              "      <td>3.0</td>\n",
              "      <td>7705.0</td>\n",
              "      <td>236.0</td>\n",
              "      <td>61.0</td>\n",
              "      <td>5.0</td>\n",
              "      <td>51308.0</td>\n",
              "      <td>243.0</td>\n",
              "      <td>2019-11-16</td>\n",
              "      <td>gmail.com</td>\n",
              "      <td>...</td>\n",
              "      <td>cad</td>\n",
              "      <td>V</td>\n",
              "      <td>Yes</td>\n",
              "      <td>Electronic Check</td>\n",
              "      <td>0-87476-135-2.5</td>\n",
              "      <td>46185 Mejia Manor Apt. 558</td>\n",
              "      <td>Male</td>\n",
              "      <td>4Glte</td>\n",
              "      <td>1.0</td>\n",
              "      <td>0</td>\n",
              "    </tr>\n",
              "  </tbody>\n",
              "</table>\n",
              "<p>5 rows × 34 columns</p>\n",
              "</div>\n",
              "      <button class=\"colab-df-convert\" onclick=\"convertToInteractive('df-0848e227-3d07-43e3-8f27-f0354352156f')\"\n",
              "              title=\"Convert this dataframe to an interactive table.\"\n",
              "              style=\"display:none;\">\n",
              "        \n",
              "  <svg xmlns=\"http://www.w3.org/2000/svg\" height=\"24px\"viewBox=\"0 0 24 24\"\n",
              "       width=\"24px\">\n",
              "    <path d=\"M0 0h24v24H0V0z\" fill=\"none\"/>\n",
              "    <path d=\"M18.56 5.44l.94 2.06.94-2.06 2.06-.94-2.06-.94-.94-2.06-.94 2.06-2.06.94zm-11 1L8.5 8.5l.94-2.06 2.06-.94-2.06-.94L8.5 2.5l-.94 2.06-2.06.94zm10 10l.94 2.06.94-2.06 2.06-.94-2.06-.94-.94-2.06-.94 2.06-2.06.94z\"/><path d=\"M17.41 7.96l-1.37-1.37c-.4-.4-.92-.59-1.43-.59-.52 0-1.04.2-1.43.59L10.3 9.45l-7.72 7.72c-.78.78-.78 2.05 0 2.83L4 21.41c.39.39.9.59 1.41.59.51 0 1.02-.2 1.41-.59l7.78-7.78 2.81-2.81c.8-.78.8-2.07 0-2.86zM5.41 20L4 18.59l7.72-7.72 1.47 1.35L5.41 20z\"/>\n",
              "  </svg>\n",
              "      </button>\n",
              "      \n",
              "  <style>\n",
              "    .colab-df-container {\n",
              "      display:flex;\n",
              "      flex-wrap:wrap;\n",
              "      gap: 12px;\n",
              "    }\n",
              "\n",
              "    .colab-df-convert {\n",
              "      background-color: #E8F0FE;\n",
              "      border: none;\n",
              "      border-radius: 50%;\n",
              "      cursor: pointer;\n",
              "      display: none;\n",
              "      fill: #1967D2;\n",
              "      height: 32px;\n",
              "      padding: 0 0 0 0;\n",
              "      width: 32px;\n",
              "    }\n",
              "\n",
              "    .colab-df-convert:hover {\n",
              "      background-color: #E2EBFA;\n",
              "      box-shadow: 0px 1px 2px rgba(60, 64, 67, 0.3), 0px 1px 3px 1px rgba(60, 64, 67, 0.15);\n",
              "      fill: #174EA6;\n",
              "    }\n",
              "\n",
              "    [theme=dark] .colab-df-convert {\n",
              "      background-color: #3B4455;\n",
              "      fill: #D2E3FC;\n",
              "    }\n",
              "\n",
              "    [theme=dark] .colab-df-convert:hover {\n",
              "      background-color: #434B5C;\n",
              "      box-shadow: 0px 1px 3px 1px rgba(0, 0, 0, 0.15);\n",
              "      filter: drop-shadow(0px 1px 2px rgba(0, 0, 0, 0.3));\n",
              "      fill: #FFFFFF;\n",
              "    }\n",
              "  </style>\n",
              "\n",
              "      <script>\n",
              "        const buttonEl =\n",
              "          document.querySelector('#df-0848e227-3d07-43e3-8f27-f0354352156f button.colab-df-convert');\n",
              "        buttonEl.style.display =\n",
              "          google.colab.kernel.accessAllowed ? 'block' : 'none';\n",
              "\n",
              "        async function convertToInteractive(key) {\n",
              "          const element = document.querySelector('#df-0848e227-3d07-43e3-8f27-f0354352156f');\n",
              "          const dataTable =\n",
              "            await google.colab.kernel.invokeFunction('convertToInteractive',\n",
              "                                                     [key], {});\n",
              "          if (!dataTable) return;\n",
              "\n",
              "          const docLinkHtml = 'Like what you see? Visit the ' +\n",
              "            '<a target=\"_blank\" href=https://colab.research.google.com/notebooks/data_table.ipynb>data table notebook</a>'\n",
              "            + ' to learn more about interactive tables.';\n",
              "          element.innerHTML = '';\n",
              "          dataTable['output_type'] = 'display_data';\n",
              "          await google.colab.output.renderOutput(dataTable, element);\n",
              "          const docLink = document.createElement('div');\n",
              "          docLink.innerHTML = docLinkHtml;\n",
              "          element.appendChild(docLink);\n",
              "        }\n",
              "      </script>\n",
              "    </div>\n",
              "  </div>\n",
              "  "
            ]
          },
          "metadata": {},
          "execution_count": 11
        }
      ]
    },
    {
      "cell_type": "markdown",
      "source": [
        "# Describe Target\n",
        "\n",
        "\n",
        "---\n",
        "\n",
        "So about 5% of customers churn in this sample. "
      ],
      "metadata": {
        "id": "ozdxpLSdLdLn"
      }
    },
    {
      "cell_type": "code",
      "source": [
        "churn[\"churn\"].value_counts(normalize=False)"
      ],
      "metadata": {
        "colab": {
          "base_uri": "https://localhost:8080/"
        },
        "id": "v4WHeijPLfTi",
        "outputId": "a7cdbc9b-d74e-4f25-c246-88ad0e5d9ae3"
      },
      "execution_count": 12,
      "outputs": [
        {
          "output_type": "execute_result",
          "data": {
            "text/plain": [
              "0    85926\n",
              "1     4975\n",
              "Name: churn, dtype: int64"
            ]
          },
          "metadata": {},
          "execution_count": 12
        }
      ]
    },
    {
      "cell_type": "code",
      "source": [
        "churn[\"churn\"].value_counts(normalize=True)"
      ],
      "metadata": {
        "colab": {
          "base_uri": "https://localhost:8080/"
        },
        "id": "WDLtiop2Li--",
        "outputId": "6020b14a-f289-431e-e967-97413bdd9638"
      },
      "execution_count": 13,
      "outputs": [
        {
          "output_type": "execute_result",
          "data": {
            "text/plain": [
              "0    0.94527\n",
              "1    0.05473\n",
              "Name: churn, dtype: float64"
            ]
          },
          "metadata": {},
          "execution_count": 13
        }
      ]
    },
    {
      "cell_type": "markdown",
      "source": [
        "# Nulls? \n",
        "\n",
        "\n",
        "---\n",
        "\n",
        "The data is full of nulls so we know we'll need to deal with them when we build our Decision Tree. \n",
        "\n"
      ],
      "metadata": {
        "id": "cZPHpHhUKu9O"
      }
    },
    {
      "cell_type": "code",
      "source": [
        "churn.isna().sum(axis=0)"
      ],
      "metadata": {
        "colab": {
          "base_uri": "https://localhost:8080/"
        },
        "id": "CGI_R_oYKvGF",
        "outputId": "8093969d-b91d-4217-bdc5-80610c6d36a1"
      },
      "execution_count": 14,
      "outputs": [
        {
          "output_type": "execute_result",
          "data": {
            "text/plain": [
              "monthly_minutes           20\n",
              "customer_service_calls    22\n",
              "streaming_minutes         22\n",
              "total_billed              34\n",
              "prev_balance              22\n",
              "late_payments             20\n",
              "ip_address_asn            17\n",
              "phone_area_code           28\n",
              "customer_reg_date         27\n",
              "email_domain              28\n",
              "phone_model               25\n",
              "billing_city              29\n",
              "billing_postal            28\n",
              "billing_state             26\n",
              "partner                   25\n",
              "phone_service             25\n",
              "multiple_lines            24\n",
              "streaming_plan            28\n",
              "mobile_hotspot            36\n",
              "wifi_calling_text         32\n",
              "online_backup             29\n",
              "device_protection         29\n",
              "number_phones             30\n",
              "contract_code             26\n",
              "currency_code             29\n",
              "maling_code               31\n",
              "paperless_billing         31\n",
              "payment_method            24\n",
              "customer_id                0\n",
              "billing_address           20\n",
              "gender                    27\n",
              "network_speed             27\n",
              "senior_citizen            35\n",
              "churn                      0\n",
              "dtype: int64"
            ]
          },
          "metadata": {},
          "execution_count": 14
        }
      ]
    },
    {
      "cell_type": "markdown",
      "source": [
        "# Build Nerual Network (MLPClassifier)\n",
        "\n",
        "\n",
        "---\n",
        "Here's my basic sugar cookie recipe! \n",
        "\n",
        "1. partition data 70/30\n",
        "2. identify columns and roles as input \n",
        "  - target\n",
        "  - categorical_features\n",
        "  - numeric_features\n",
        "3. define pipeline\n",
        "  - categorical handling:\n",
        "    - deal with missing values\n",
        "    - one hot encode categories \n",
        "  - numeric handling \n",
        "    - deal with missing values\n",
        "    - scale the data  \n",
        "  - specify the pipeline\n",
        "  - specify the model \n",
        "  - fit it! \n",
        "4. predict and evaluate \n",
        "\n"
      ],
      "metadata": {
        "id": "PIbchrtzWzqR"
      }
    },
    {
      "cell_type": "markdown",
      "source": [
        "## 1. partition data 70/30\n",
        "\n",
        "\n",
        "---\n",
        "\n"
      ],
      "metadata": {
        "id": "N6Os0Og0XUqy"
      }
    },
    {
      "cell_type": "code",
      "source": [
        "train, test = train_test_split(churn,test_size=0.30)\n",
        "\n",
        "print(\"train pct: {:2.2%}\".format(train.shape[0]/churn.shape[0]))\n",
        "print(\"test  pct: {:2.2%}\".format(test.shape[0]/churn.shape[0]))"
      ],
      "metadata": {
        "colab": {
          "base_uri": "https://localhost:8080/"
        },
        "id": "EV1ocMyFXXbm",
        "outputId": "f5e148fd-5f5b-48a2-fdf2-7de59e62b8f7"
      },
      "execution_count": 15,
      "outputs": [
        {
          "output_type": "stream",
          "name": "stdout",
          "text": [
            "train pct: 70.00%\n",
            "test  pct: 30.00%\n"
          ]
        }
      ]
    },
    {
      "cell_type": "markdown",
      "source": [
        "## 2. identify columns and roles as input\n",
        "\n",
        "\n",
        "---\n",
        "\n",
        "```python\n",
        "target = \"\"\n",
        "categorical_features = []\n",
        "numeric_features = []\n",
        "\n",
        "```"
      ],
      "metadata": {
        "id": "WC8hq01OXjGe"
      }
    },
    {
      "cell_type": "code",
      "source": [
        "# 0 = not churn, 1 = churn\n",
        "target = \"churn\"\n",
        "print(\"-- target variable  : {}\".format(target))\n",
        "# -- found durring exploration\n",
        "categorical_features = [\"phone_model\",\"email_domain\",'streaming_plan', 'mobile_hotspot',\n",
        "       'wifi_calling_text', 'online_backup', 'device_protection',\n",
        "        'contract_code', 'currency_code', 'maling_code',\n",
        "       'paperless_billing', 'payment_method', \n",
        "       'gender', 'network_speed', 'senior_citizen']\n",
        "print(\"-- categorical features :\")\n",
        "print(categorical_features)\n",
        "# -- based on exploration \n",
        "numeric_features = ['customer_service_calls', 'ip_address_asn', 'late_payments',\n",
        "       'monthly_minutes', 'number_phones', 'phone_area_code', 'prev_balance',\n",
        "       'streaming_minutes', 'total_billed']\n",
        "print(\"-- numeric features :\")\n",
        "print(numeric_features)"
      ],
      "metadata": {
        "colab": {
          "base_uri": "https://localhost:8080/"
        },
        "id": "NNVR5jTDXqpC",
        "outputId": "f73f93f1-839d-404d-bfa5-6d830588240c"
      },
      "execution_count": 16,
      "outputs": [
        {
          "output_type": "stream",
          "name": "stdout",
          "text": [
            "-- target variable  : churn\n",
            "-- categorical features :\n",
            "['phone_model', 'email_domain', 'streaming_plan', 'mobile_hotspot', 'wifi_calling_text', 'online_backup', 'device_protection', 'contract_code', 'currency_code', 'maling_code', 'paperless_billing', 'payment_method', 'gender', 'network_speed', 'senior_citizen']\n",
            "-- numeric features :\n",
            "['customer_service_calls', 'ip_address_asn', 'late_payments', 'monthly_minutes', 'number_phones', 'phone_area_code', 'prev_balance', 'streaming_minutes', 'total_billed']\n"
          ]
        }
      ]
    },
    {
      "cell_type": "markdown",
      "source": [
        "## 3. Define a Pipeline & Fit the model! \n",
        "\n",
        "\n",
        "---\n",
        "\n",
        "\n",
        "### Neural Networks 101\n",
        "At a high level, neural networks consist of layers of interconnected nodes, or neurons, that process information and make predictions based on that information. These neurons are typically organized into input, hidden, and output layers. The input layer receives data and passes it on to the hidden layers, which perform calculations and make predictions based on the input. Finally, the output layer generates a prediction or decision based on the calculations performed by the hidden layers.\n",
        "\n",
        "One of the key benefits of neural networks is their ability to learn and improve over time. This is accomplished through a process known as backpropagation, where the network adjusts its weights and biases based on the difference between its predictions and the actual outcomes of the input data. By doing this over many iterations, the neural network can become more accurate in its predictions and can identify patterns that may not be immediately obvious to human analysts.\n",
        "\n",
        "in our case we are going to create a MLPClassifier key parameters: \n",
        "\n",
        "- hidden_layer_sizes:  The parameter takes a tuple where each element of the tuple represents the number of neurons in the corresponding hidden layer. For example, if we set hidden_layer_sizes=(10, 5, 3), the MLP will have 3 hidden layers with 10, 5, and 3 neurons respectively. start with simle architectures hidden_layer_sizes(10,)\n",
        "\n",
        "- max_iter: max_iter parameter in the MLPClassifier and MLPRegressor classes in scikit-learn is used to specify the maximum number of iterations (epochs) for the solver to converge - more itterations the longer it takes to train! \n",
        "> Setting max_iter too low can lead to underfitting, where the model may not learn the underlying patterns in the data. Conversely, setting max_iter too high can lead to overfitting, where the model may memorize the training data and perform poorly on new, unseen data.\n",
        "\n",
        "\n",
        "Try setting the following and see impact on prediction performance. \n",
        "\n",
        "TRY different parameters:\n",
        "\n",
        "- hidden_layer_sizes=(20,)\n",
        "- hidden_layer_sizes=(10, 5)\n",
        "\n",
        "- min_samples_split = 2, 10, 100, and 1000\n",
        "- ccp_alpha = 0, 0.001,0.0015, 0.0025, 0.005\n",
        "\n"
      ],
      "metadata": {
        "id": "OdsTtJs0ZTkg"
      }
    },
    {
      "cell_type": "code",
      "source": [
        "# Define the column transformer for the categorical variables\n",
        "cat_transformer = Pipeline([\n",
        "    ('imputer', SimpleImputer(strategy='most_frequent')), # handling missing values \n",
        "    ('onehot', OneHotEncoder(handle_unknown='ignore'))    # convert categories to 1s and 0s\n",
        "])\n",
        "\n",
        "# Define the column transformer for the numeric variables\n",
        "num_transformer = Pipeline([\n",
        "    ('imputer', SimpleImputer(strategy='median')),      # replace missing values with median \n",
        "    ('scaler', StandardScaler())\n",
        "])\n",
        "\n",
        "# Define the full pipeline\n",
        "preprocessor = ColumnTransformer([\n",
        "    ('cat', cat_transformer, categorical_features),   # Use one-hot encoding for the first three features\n",
        "    ('num', num_transformer, numeric_features)  # Use standard scaling for the remaining numeric features\n",
        "])\n",
        "# the final pipeline \n",
        "nnet_model  = Pipeline([\n",
        "    ('preprocessor', preprocessor),\n",
        "    ('classifier', MLPClassifier(\n",
        "        hidden_layer_sizes=(10), \n",
        "        max_iter=100\n",
        "     )) # play with the parameters\n",
        "])\n",
        "\n",
        "\n",
        "\n",
        "# Fit the pipeline to the training data\n",
        "nnet_model.fit(train[numeric_features + categorical_features], train[target])\n",
        "\n",
        "# Predict on the train and test data sets\n",
        "y_pred_train = nnet_model.predict(train[numeric_features + categorical_features])\n",
        "y_pred_test = nnet_model.predict(test[numeric_features + categorical_features])\n"
      ],
      "metadata": {
        "id": "SaYajK81YAY-"
      },
      "execution_count": 17,
      "outputs": []
    },
    {
      "cell_type": "markdown",
      "source": [
        "## 5.  Predict \n",
        "\n",
        "\n",
        "---\n",
        "\n",
        "The goal of classification tasks is to predict a categorical output variable based on a set of input features. In our case the \"target\" can take a 0 = not_churn and a 1 = churn. When making predictions we have two functions we need to be aware of. \n",
        "\n",
        "- `.predict(X)` : takes a set of input features as input and returns the predicted **class** for each instance. It does the by calculating the predicted probabilty for each class and assigns the \"positive\" class if the predicted probably of the postitive class is >= 0.5\n",
        "\n",
        "- `.predict_proba(X)` : takes in the set of input features as input and returns the **predicted probabilites** for each class.  Typically, you will operate a ML model based on the predicted probabilites not the predicted class. \n",
        "\n"
      ],
      "metadata": {
        "id": "FvS5q8d7ZMmU"
      }
    },
    {
      "cell_type": "code",
      "source": [
        "# train predictions \n",
        "train[\"predicted_class\"] = nnet_model.predict(train[numeric_features + categorical_features])\n",
        "train[\"predicted_prob0\"], train[\"predicted_prob1\"] = nnet_model.predict_proba(train[numeric_features + categorical_features]).T\n",
        "train[[\"churn\",\"predicted_class\",\"predicted_prob0\",\"predicted_prob1\"]]\\\n",
        ".query('predicted_prob1 > 0.25 and predicted_prob1 < 0.75').head(10)"
      ],
      "metadata": {
        "colab": {
          "base_uri": "https://localhost:8080/",
          "height": 363
        },
        "id": "g-bTYX-aZMO6",
        "outputId": "22f0a7ef-9d3d-4585-a608-0aa9d9b1a3a0"
      },
      "execution_count": 21,
      "outputs": [
        {
          "output_type": "execute_result",
          "data": {
            "text/plain": [
              "       churn  predicted_class  predicted_prob0  predicted_prob1\n",
              "60797      1                1         0.257719         0.742281\n",
              "78570      1                0         0.508628         0.491372\n",
              "18931      1                1         0.356154         0.643846\n",
              "69315      1                1         0.498343         0.501657\n",
              "29085      1                1         0.328701         0.671299\n",
              "74929      1                1         0.423391         0.576609\n",
              "34643      0                0         0.691030         0.308970\n",
              "16650      1                0         0.674944         0.325056\n",
              "27122      0                1         0.359401         0.640599\n",
              "69860      1                1         0.368615         0.631385"
            ],
            "text/html": [
              "\n",
              "  <div id=\"df-c0db8d66-56b2-4fdc-ad63-93ed1e267aa0\">\n",
              "    <div class=\"colab-df-container\">\n",
              "      <div>\n",
              "<style scoped>\n",
              "    .dataframe tbody tr th:only-of-type {\n",
              "        vertical-align: middle;\n",
              "    }\n",
              "\n",
              "    .dataframe tbody tr th {\n",
              "        vertical-align: top;\n",
              "    }\n",
              "\n",
              "    .dataframe thead th {\n",
              "        text-align: right;\n",
              "    }\n",
              "</style>\n",
              "<table border=\"1\" class=\"dataframe\">\n",
              "  <thead>\n",
              "    <tr style=\"text-align: right;\">\n",
              "      <th></th>\n",
              "      <th>churn</th>\n",
              "      <th>predicted_class</th>\n",
              "      <th>predicted_prob0</th>\n",
              "      <th>predicted_prob1</th>\n",
              "    </tr>\n",
              "  </thead>\n",
              "  <tbody>\n",
              "    <tr>\n",
              "      <th>60797</th>\n",
              "      <td>1</td>\n",
              "      <td>1</td>\n",
              "      <td>0.257719</td>\n",
              "      <td>0.742281</td>\n",
              "    </tr>\n",
              "    <tr>\n",
              "      <th>78570</th>\n",
              "      <td>1</td>\n",
              "      <td>0</td>\n",
              "      <td>0.508628</td>\n",
              "      <td>0.491372</td>\n",
              "    </tr>\n",
              "    <tr>\n",
              "      <th>18931</th>\n",
              "      <td>1</td>\n",
              "      <td>1</td>\n",
              "      <td>0.356154</td>\n",
              "      <td>0.643846</td>\n",
              "    </tr>\n",
              "    <tr>\n",
              "      <th>69315</th>\n",
              "      <td>1</td>\n",
              "      <td>1</td>\n",
              "      <td>0.498343</td>\n",
              "      <td>0.501657</td>\n",
              "    </tr>\n",
              "    <tr>\n",
              "      <th>29085</th>\n",
              "      <td>1</td>\n",
              "      <td>1</td>\n",
              "      <td>0.328701</td>\n",
              "      <td>0.671299</td>\n",
              "    </tr>\n",
              "    <tr>\n",
              "      <th>74929</th>\n",
              "      <td>1</td>\n",
              "      <td>1</td>\n",
              "      <td>0.423391</td>\n",
              "      <td>0.576609</td>\n",
              "    </tr>\n",
              "    <tr>\n",
              "      <th>34643</th>\n",
              "      <td>0</td>\n",
              "      <td>0</td>\n",
              "      <td>0.691030</td>\n",
              "      <td>0.308970</td>\n",
              "    </tr>\n",
              "    <tr>\n",
              "      <th>16650</th>\n",
              "      <td>1</td>\n",
              "      <td>0</td>\n",
              "      <td>0.674944</td>\n",
              "      <td>0.325056</td>\n",
              "    </tr>\n",
              "    <tr>\n",
              "      <th>27122</th>\n",
              "      <td>0</td>\n",
              "      <td>1</td>\n",
              "      <td>0.359401</td>\n",
              "      <td>0.640599</td>\n",
              "    </tr>\n",
              "    <tr>\n",
              "      <th>69860</th>\n",
              "      <td>1</td>\n",
              "      <td>1</td>\n",
              "      <td>0.368615</td>\n",
              "      <td>0.631385</td>\n",
              "    </tr>\n",
              "  </tbody>\n",
              "</table>\n",
              "</div>\n",
              "      <button class=\"colab-df-convert\" onclick=\"convertToInteractive('df-c0db8d66-56b2-4fdc-ad63-93ed1e267aa0')\"\n",
              "              title=\"Convert this dataframe to an interactive table.\"\n",
              "              style=\"display:none;\">\n",
              "        \n",
              "  <svg xmlns=\"http://www.w3.org/2000/svg\" height=\"24px\"viewBox=\"0 0 24 24\"\n",
              "       width=\"24px\">\n",
              "    <path d=\"M0 0h24v24H0V0z\" fill=\"none\"/>\n",
              "    <path d=\"M18.56 5.44l.94 2.06.94-2.06 2.06-.94-2.06-.94-.94-2.06-.94 2.06-2.06.94zm-11 1L8.5 8.5l.94-2.06 2.06-.94-2.06-.94L8.5 2.5l-.94 2.06-2.06.94zm10 10l.94 2.06.94-2.06 2.06-.94-2.06-.94-.94-2.06-.94 2.06-2.06.94z\"/><path d=\"M17.41 7.96l-1.37-1.37c-.4-.4-.92-.59-1.43-.59-.52 0-1.04.2-1.43.59L10.3 9.45l-7.72 7.72c-.78.78-.78 2.05 0 2.83L4 21.41c.39.39.9.59 1.41.59.51 0 1.02-.2 1.41-.59l7.78-7.78 2.81-2.81c.8-.78.8-2.07 0-2.86zM5.41 20L4 18.59l7.72-7.72 1.47 1.35L5.41 20z\"/>\n",
              "  </svg>\n",
              "      </button>\n",
              "      \n",
              "  <style>\n",
              "    .colab-df-container {\n",
              "      display:flex;\n",
              "      flex-wrap:wrap;\n",
              "      gap: 12px;\n",
              "    }\n",
              "\n",
              "    .colab-df-convert {\n",
              "      background-color: #E8F0FE;\n",
              "      border: none;\n",
              "      border-radius: 50%;\n",
              "      cursor: pointer;\n",
              "      display: none;\n",
              "      fill: #1967D2;\n",
              "      height: 32px;\n",
              "      padding: 0 0 0 0;\n",
              "      width: 32px;\n",
              "    }\n",
              "\n",
              "    .colab-df-convert:hover {\n",
              "      background-color: #E2EBFA;\n",
              "      box-shadow: 0px 1px 2px rgba(60, 64, 67, 0.3), 0px 1px 3px 1px rgba(60, 64, 67, 0.15);\n",
              "      fill: #174EA6;\n",
              "    }\n",
              "\n",
              "    [theme=dark] .colab-df-convert {\n",
              "      background-color: #3B4455;\n",
              "      fill: #D2E3FC;\n",
              "    }\n",
              "\n",
              "    [theme=dark] .colab-df-convert:hover {\n",
              "      background-color: #434B5C;\n",
              "      box-shadow: 0px 1px 3px 1px rgba(0, 0, 0, 0.15);\n",
              "      filter: drop-shadow(0px 1px 2px rgba(0, 0, 0, 0.3));\n",
              "      fill: #FFFFFF;\n",
              "    }\n",
              "  </style>\n",
              "\n",
              "      <script>\n",
              "        const buttonEl =\n",
              "          document.querySelector('#df-c0db8d66-56b2-4fdc-ad63-93ed1e267aa0 button.colab-df-convert');\n",
              "        buttonEl.style.display =\n",
              "          google.colab.kernel.accessAllowed ? 'block' : 'none';\n",
              "\n",
              "        async function convertToInteractive(key) {\n",
              "          const element = document.querySelector('#df-c0db8d66-56b2-4fdc-ad63-93ed1e267aa0');\n",
              "          const dataTable =\n",
              "            await google.colab.kernel.invokeFunction('convertToInteractive',\n",
              "                                                     [key], {});\n",
              "          if (!dataTable) return;\n",
              "\n",
              "          const docLinkHtml = 'Like what you see? Visit the ' +\n",
              "            '<a target=\"_blank\" href=https://colab.research.google.com/notebooks/data_table.ipynb>data table notebook</a>'\n",
              "            + ' to learn more about interactive tables.';\n",
              "          element.innerHTML = '';\n",
              "          dataTable['output_type'] = 'display_data';\n",
              "          await google.colab.output.renderOutput(dataTable, element);\n",
              "          const docLink = document.createElement('div');\n",
              "          docLink.innerHTML = docLinkHtml;\n",
              "          element.appendChild(docLink);\n",
              "        }\n",
              "      </script>\n",
              "    </div>\n",
              "  </div>\n",
              "  "
            ]
          },
          "metadata": {},
          "execution_count": 21
        }
      ]
    },
    {
      "cell_type": "code",
      "source": [
        "test[\"predicted_class\"] = nnet_model.predict(test[numeric_features + categorical_features])\n",
        "test[\"predicted_prob0\"], test[\"predicted_prob1\"] = nnet_model.predict_proba(test[numeric_features + categorical_features]).T\n",
        "test[[\"churn\",\"predicted_class\",\"predicted_prob0\",\"predicted_prob1\"]].head(10)"
      ],
      "metadata": {
        "colab": {
          "base_uri": "https://localhost:8080/",
          "height": 363
        },
        "id": "YApa_tXQJCwU",
        "outputId": "f10a70fe-db9b-45ba-e9bd-88361750c621"
      },
      "execution_count": 22,
      "outputs": [
        {
          "output_type": "execute_result",
          "data": {
            "text/plain": [
              "       churn  predicted_class  predicted_prob0  predicted_prob1\n",
              "64025      0                0         0.994121         0.005879\n",
              "70651      0                0         0.998522         0.001478\n",
              "35840      0                0         0.999689         0.000311\n",
              "59247      0                0         0.994262         0.005738\n",
              "41685      0                0         0.988118         0.011882\n",
              "26622      0                0         0.997528         0.002472\n",
              "66889      0                0         0.920820         0.079180\n",
              "82620      0                0         0.987015         0.012985\n",
              "49396      0                0         0.999801         0.000199\n",
              "90658      0                0         0.983431         0.016569"
            ],
            "text/html": [
              "\n",
              "  <div id=\"df-94b601be-cab9-4cf8-b1ff-f8382b245640\">\n",
              "    <div class=\"colab-df-container\">\n",
              "      <div>\n",
              "<style scoped>\n",
              "    .dataframe tbody tr th:only-of-type {\n",
              "        vertical-align: middle;\n",
              "    }\n",
              "\n",
              "    .dataframe tbody tr th {\n",
              "        vertical-align: top;\n",
              "    }\n",
              "\n",
              "    .dataframe thead th {\n",
              "        text-align: right;\n",
              "    }\n",
              "</style>\n",
              "<table border=\"1\" class=\"dataframe\">\n",
              "  <thead>\n",
              "    <tr style=\"text-align: right;\">\n",
              "      <th></th>\n",
              "      <th>churn</th>\n",
              "      <th>predicted_class</th>\n",
              "      <th>predicted_prob0</th>\n",
              "      <th>predicted_prob1</th>\n",
              "    </tr>\n",
              "  </thead>\n",
              "  <tbody>\n",
              "    <tr>\n",
              "      <th>64025</th>\n",
              "      <td>0</td>\n",
              "      <td>0</td>\n",
              "      <td>0.994121</td>\n",
              "      <td>0.005879</td>\n",
              "    </tr>\n",
              "    <tr>\n",
              "      <th>70651</th>\n",
              "      <td>0</td>\n",
              "      <td>0</td>\n",
              "      <td>0.998522</td>\n",
              "      <td>0.001478</td>\n",
              "    </tr>\n",
              "    <tr>\n",
              "      <th>35840</th>\n",
              "      <td>0</td>\n",
              "      <td>0</td>\n",
              "      <td>0.999689</td>\n",
              "      <td>0.000311</td>\n",
              "    </tr>\n",
              "    <tr>\n",
              "      <th>59247</th>\n",
              "      <td>0</td>\n",
              "      <td>0</td>\n",
              "      <td>0.994262</td>\n",
              "      <td>0.005738</td>\n",
              "    </tr>\n",
              "    <tr>\n",
              "      <th>41685</th>\n",
              "      <td>0</td>\n",
              "      <td>0</td>\n",
              "      <td>0.988118</td>\n",
              "      <td>0.011882</td>\n",
              "    </tr>\n",
              "    <tr>\n",
              "      <th>26622</th>\n",
              "      <td>0</td>\n",
              "      <td>0</td>\n",
              "      <td>0.997528</td>\n",
              "      <td>0.002472</td>\n",
              "    </tr>\n",
              "    <tr>\n",
              "      <th>66889</th>\n",
              "      <td>0</td>\n",
              "      <td>0</td>\n",
              "      <td>0.920820</td>\n",
              "      <td>0.079180</td>\n",
              "    </tr>\n",
              "    <tr>\n",
              "      <th>82620</th>\n",
              "      <td>0</td>\n",
              "      <td>0</td>\n",
              "      <td>0.987015</td>\n",
              "      <td>0.012985</td>\n",
              "    </tr>\n",
              "    <tr>\n",
              "      <th>49396</th>\n",
              "      <td>0</td>\n",
              "      <td>0</td>\n",
              "      <td>0.999801</td>\n",
              "      <td>0.000199</td>\n",
              "    </tr>\n",
              "    <tr>\n",
              "      <th>90658</th>\n",
              "      <td>0</td>\n",
              "      <td>0</td>\n",
              "      <td>0.983431</td>\n",
              "      <td>0.016569</td>\n",
              "    </tr>\n",
              "  </tbody>\n",
              "</table>\n",
              "</div>\n",
              "      <button class=\"colab-df-convert\" onclick=\"convertToInteractive('df-94b601be-cab9-4cf8-b1ff-f8382b245640')\"\n",
              "              title=\"Convert this dataframe to an interactive table.\"\n",
              "              style=\"display:none;\">\n",
              "        \n",
              "  <svg xmlns=\"http://www.w3.org/2000/svg\" height=\"24px\"viewBox=\"0 0 24 24\"\n",
              "       width=\"24px\">\n",
              "    <path d=\"M0 0h24v24H0V0z\" fill=\"none\"/>\n",
              "    <path d=\"M18.56 5.44l.94 2.06.94-2.06 2.06-.94-2.06-.94-.94-2.06-.94 2.06-2.06.94zm-11 1L8.5 8.5l.94-2.06 2.06-.94-2.06-.94L8.5 2.5l-.94 2.06-2.06.94zm10 10l.94 2.06.94-2.06 2.06-.94-2.06-.94-.94-2.06-.94 2.06-2.06.94z\"/><path d=\"M17.41 7.96l-1.37-1.37c-.4-.4-.92-.59-1.43-.59-.52 0-1.04.2-1.43.59L10.3 9.45l-7.72 7.72c-.78.78-.78 2.05 0 2.83L4 21.41c.39.39.9.59 1.41.59.51 0 1.02-.2 1.41-.59l7.78-7.78 2.81-2.81c.8-.78.8-2.07 0-2.86zM5.41 20L4 18.59l7.72-7.72 1.47 1.35L5.41 20z\"/>\n",
              "  </svg>\n",
              "      </button>\n",
              "      \n",
              "  <style>\n",
              "    .colab-df-container {\n",
              "      display:flex;\n",
              "      flex-wrap:wrap;\n",
              "      gap: 12px;\n",
              "    }\n",
              "\n",
              "    .colab-df-convert {\n",
              "      background-color: #E8F0FE;\n",
              "      border: none;\n",
              "      border-radius: 50%;\n",
              "      cursor: pointer;\n",
              "      display: none;\n",
              "      fill: #1967D2;\n",
              "      height: 32px;\n",
              "      padding: 0 0 0 0;\n",
              "      width: 32px;\n",
              "    }\n",
              "\n",
              "    .colab-df-convert:hover {\n",
              "      background-color: #E2EBFA;\n",
              "      box-shadow: 0px 1px 2px rgba(60, 64, 67, 0.3), 0px 1px 3px 1px rgba(60, 64, 67, 0.15);\n",
              "      fill: #174EA6;\n",
              "    }\n",
              "\n",
              "    [theme=dark] .colab-df-convert {\n",
              "      background-color: #3B4455;\n",
              "      fill: #D2E3FC;\n",
              "    }\n",
              "\n",
              "    [theme=dark] .colab-df-convert:hover {\n",
              "      background-color: #434B5C;\n",
              "      box-shadow: 0px 1px 3px 1px rgba(0, 0, 0, 0.15);\n",
              "      filter: drop-shadow(0px 1px 2px rgba(0, 0, 0, 0.3));\n",
              "      fill: #FFFFFF;\n",
              "    }\n",
              "  </style>\n",
              "\n",
              "      <script>\n",
              "        const buttonEl =\n",
              "          document.querySelector('#df-94b601be-cab9-4cf8-b1ff-f8382b245640 button.colab-df-convert');\n",
              "        buttonEl.style.display =\n",
              "          google.colab.kernel.accessAllowed ? 'block' : 'none';\n",
              "\n",
              "        async function convertToInteractive(key) {\n",
              "          const element = document.querySelector('#df-94b601be-cab9-4cf8-b1ff-f8382b245640');\n",
              "          const dataTable =\n",
              "            await google.colab.kernel.invokeFunction('convertToInteractive',\n",
              "                                                     [key], {});\n",
              "          if (!dataTable) return;\n",
              "\n",
              "          const docLinkHtml = 'Like what you see? Visit the ' +\n",
              "            '<a target=\"_blank\" href=https://colab.research.google.com/notebooks/data_table.ipynb>data table notebook</a>'\n",
              "            + ' to learn more about interactive tables.';\n",
              "          element.innerHTML = '';\n",
              "          dataTable['output_type'] = 'display_data';\n",
              "          await google.colab.output.renderOutput(dataTable, element);\n",
              "          const docLink = document.createElement('div');\n",
              "          docLink.innerHTML = docLinkHtml;\n",
              "          element.appendChild(docLink);\n",
              "        }\n",
              "      </script>\n",
              "    </div>\n",
              "  </div>\n",
              "  "
            ]
          },
          "metadata": {},
          "execution_count": 22
        }
      ]
    },
    {
      "cell_type": "markdown",
      "source": [
        "## Confusion Matrix \n",
        "\n",
        "\n",
        "---\n",
        "\n",
        "\n"
      ],
      "metadata": {
        "id": "svNIgicbJJbH"
      }
    },
    {
      "cell_type": "code",
      "source": [
        "from sklearn.metrics import confusion_matrix\n",
        "# Compute the confusion matrix\n",
        "cm = confusion_matrix(train[target], train[\"predicted_class\"])\n",
        "\n",
        "# Define the labels for the confusion matrix\n",
        "labels = [\"Negative\", \"Positive\"]\n",
        "\n",
        "# Create a heatmap of the confusion matrix\n",
        "sns.heatmap(cm, annot=True, cmap=\"Blues\", fmt=\"d\", xticklabels=labels, yticklabels=labels);\n",
        "plt.title(\"Confusion Matrix - Train\")\n",
        "# Update the x and y axis labels\n",
        "plt.xlabel(\"Predicted label\")\n",
        "plt.ylabel(\"True label\");\n"
      ],
      "metadata": {
        "colab": {
          "base_uri": "https://localhost:8080/",
          "height": 295
        },
        "id": "RAlvyOtUJUfN",
        "outputId": "10cc024f-3baa-4014-cb52-b96893947774"
      },
      "execution_count": 23,
      "outputs": [
        {
          "output_type": "display_data",
          "data": {
            "text/plain": [
              "<Figure size 432x288 with 2 Axes>"
            ],
            "image/png": "[encoded data removed]"
          },
          "metadata": {
            "needs_background": "light"
          }
        }
      ]
    },
    {
      "cell_type": "code",
      "source": [
        "cm = confusion_matrix(test[target], test[\"predicted_class\"])\n",
        "\n",
        "# Define the labels for the confusion matrix\n",
        "labels = [\"Negative\", \"Positive\"]\n",
        "total = float(cm.sum())\n",
        "# Create a heatmap of the confusion matrix\n",
        "sns.heatmap(cm/total, annot=True, cmap=\"Blues\", fmt='.2%', xticklabels=labels, yticklabels=labels);\n",
        "plt.title(\"Confusion Matrix - Test\")\n",
        "# Update the x and y axis labels\n",
        "plt.xlabel(\"Predicted label\")\n",
        "plt.ylabel(\"True label\");"
      ],
      "metadata": {
        "colab": {
          "base_uri": "https://localhost:8080/",
          "height": 295
        },
        "id": "XbfIOem3KWrb",
        "outputId": "7bd154de-c56e-4e22-9519-d90787c8050f"
      },
      "execution_count": 24,
      "outputs": [
        {
          "output_type": "display_data",
          "data": {
            "text/plain": [
              "<Figure size 432x288 with 2 Axes>"
            ],
            "image/png": "[encoded data removed]"
          },
          "metadata": {
            "needs_background": "light"
          }
        }
      ]
    },
    {
      "cell_type": "markdown",
      "source": [
        "## Look at the predicted probably distribution! \n",
        "\n",
        "\n",
        "---\n",
        "\n",
        "In a classification model, the predicted probability distribution refers to the estimated probabilities of each possible class label - in our case churn / not churn,  indicating the likelihood that the input belongs to that particular class.\n",
        "\n",
        "For example, in a binary classification problem where we are predicting whether a customer will churn or not, the predicted probability distribution could be [0.2, 0.8], indicating that the model estimates a 20% chance that the customer will churn and an 80% chance that they will not.\n",
        "\n",
        "**The predicted probability distribution is often used to make decisions about the predicted class label. For instance, we may choose to predict the class label with the highest probability, or we may set a threshold probability and predict the positive class if the probability exceeds the threshold, and the negative class otherwise**\n",
        "\n",
        "We can also use the predicted probability to assess the confidence of a model's prediction. For instance, if the model assigns a high probability to the predicted class label, we can be more confident that the prediction is correct compared to when the probability is close to 0.5, indicating that the model is uncertain about the prediction.\n",
        "\n"
      ],
      "metadata": {
        "id": "ORG_xzdVUvQf"
      }
    },
    {
      "cell_type": "code",
      "source": [
        "#- plot\n",
        "plt.figure(figsize=(20, 5))\n",
        "sns.histplot(train, bins=50, x=\"predicted_prob1\",hue=\"churn\")\n",
        "plt.axvline(x=0.5, color=\"red\")\n",
        "plt.title(\"predicted probabilites of churn \")\n",
        "plt.show()"
      ],
      "metadata": {
        "colab": {
          "base_uri": "https://localhost:8080/",
          "height": 308
        },
        "id": "kVaKMMCdUEAz",
        "outputId": "77e43e4e-783c-4918-fb73-92d1c942244a"
      },
      "execution_count": 27,
      "outputs": [
        {
          "output_type": "display_data",
          "data": {
            "text/plain": [
              "<Figure size 1440x360 with 1 Axes>"
            ],
            "image/png": "[encoded data removed]"
          },
          "metadata": {
            "needs_background": "light"
          }
        }
      ]
    },
    {
      "cell_type": "code",
      "source": [
        "#- plot\n",
        "plt.figure(figsize=(20, 5))\n",
        "sns.histplot(train, bins=50, x=\"predicted_prob1\",  multiple=\"fill\", hue=\"churn\")\n",
        "plt.axvline(x=0.5, color=\"red\")\n",
        "plt.title(\"predicted probabilites of churn \")\n",
        "plt.show()"
      ],
      "metadata": {
        "colab": {
          "base_uri": "https://localhost:8080/",
          "height": 312
        },
        "id": "FJTRhrkKUYAc",
        "outputId": "caca194e-7ab3-47ea-fff5-4240d31ca444"
      },
      "execution_count": 28,
      "outputs": [
        {
          "output_type": "display_data",
          "data": {
            "text/plain": [
              "<Figure size 1440x360 with 1 Axes>"
            ],
            "image/png": "[encoded data removed]"
          },
          "metadata": {
            "needs_background": "light"
          }
        }
      ]
    },
    {
      "cell_type": "markdown",
      "source": [
        "## Evaluate \n",
        "\n",
        "\n",
        "---\n",
        "\n",
        "Calculate the following \n",
        "- accuracy\n",
        "- recall\n",
        "- precision"
      ],
      "metadata": {
        "id": "2VUOHinLKs9R"
      }
    },
    {
      "cell_type": "code",
      "source": [
        "data_sets = {\"train\":train,\n",
        "             \"test\": test}\n",
        "\n",
        "for i in data_sets.keys():\n",
        "  print(\"-- partition: {} --\".format(i))\n",
        "  accuracy = accuracy_score(data_sets[i][target], data_sets[i][\"predicted_class\"])\n",
        "  print(\"Accuracy   : {:2.2%}\".format(accuracy))\n",
        "  recall = recall_score(data_sets[i][target].values,data_sets[i][\"predicted_class\"] )\n",
        "  print(\"Recall     : {:2.2%}\".format(recall))\n",
        "  precision = precision_score(data_sets[i][target].values,data_sets[i][\"predicted_class\"] )\n",
        "  print(\"Precision  : {:2.2%}\".format(precision))\n"
      ],
      "metadata": {
        "colab": {
          "base_uri": "https://localhost:8080/"
        },
        "id": "U8QBye4hLOr2",
        "outputId": "6e919df2-06a2-43fa-ac6f-0b728557e2ca"
      },
      "execution_count": 29,
      "outputs": [
        {
          "output_type": "stream",
          "name": "stdout",
          "text": [
            "-- partition: train --\n",
            "Accuracy   : 98.68%\n",
            "Recall     : 80.14%\n",
            "Precision  : 95.08%\n",
            "-- partition: test --\n",
            "Accuracy   : 98.16%\n",
            "Recall     : 74.80%\n",
            "Precision  : 89.54%\n"
          ]
        }
      ]
    },
    {
      "cell_type": "markdown",
      "source": [
        "## What happens if... \n",
        "\n",
        "\n",
        "---\n",
        "\n",
        "Your boss says great! BUT can you improve the RECALL of the model by changing the predicted probability down to 0.25 and in another scenario they want you to crank the predicted probably threshold up to 0.75. \n",
        "\n",
        "\n",
        "Effectively \n",
        "1. scenario 1: find more churners at expense of higher false positives \n",
        "> IF predicted_prob1 >= 0.25 then predicted_churn\n",
        "2. scenario 2: find fewer churners at expense of lower RECALL\n",
        "> IF predicted_prob1 >= 0.75 then predicted_churn\n",
        "\n",
        "\n",
        "\n",
        "\n",
        "lets create two new class assignments \n",
        "```python\n",
        "\n",
        "# Update the predicted_prob1 column based on a threshold of 0.25\n",
        "test[\"scenario_1\"] = np.where(test[\"predicted_prob1\"] >= 0.25, 0, 1)\n",
        "\n",
        "test[\"scenario_2\"] = np.where(test[\"predicted_prob1\"] >= 0.75, 0, 1)\n",
        "```\n",
        "\n"
      ],
      "metadata": {
        "id": "tAeiHAFWMhBY"
      }
    },
    {
      "cell_type": "code",
      "source": [
        "train[\"scenario_1\"] = np.where(train[\"predicted_prob1\"] >= 0.25, 1, 0)\n",
        "train[\"scenario_2\"] = np.where(train[\"predicted_prob1\"] >= 0.75, 1, 0)\n",
        "\n",
        "test[\"scenario_1\"] = np.where(test[\"predicted_prob1\"] >= 0.25, 1, 0)\n",
        "test[\"scenario_2\"] = np.where(test[\"predicted_prob1\"] >= 0.75, 1, 0)\n",
        "\n",
        "data_sets = {\"train\":train,\n",
        "             \"test\": test}\n",
        "\n",
        "for i in data_sets.keys():\n",
        "  print(\"-- scenario 1 partition: {} --\".format(i))\n",
        "  accuracy = accuracy_score(data_sets[i][target], data_sets[i][\"scenario_1\"])\n",
        "  print(\"Accuracy   : {:2.2%}\".format(accuracy))\n",
        "  recall = recall_score(data_sets[i][target].values,data_sets[i][\"scenario_1\"] )\n",
        "  print(\"Recall     : {:2.2%}\".format(recall))\n",
        "  precision = precision_score(data_sets[i][target].values,data_sets[i][\"scenario_1\"] )\n",
        "  print(\"Precision  : {:2.2%}\".format(precision))\n",
        "\n",
        "print(\"\\n\")\n",
        "\n",
        "for i in data_sets.keys():\n",
        "  print(\"-- scenario 2 partition: {} --\".format(i))\n",
        "  accuracy = accuracy_score(data_sets[i][target], data_sets[i][\"scenario_2\"])\n",
        "  print(\"Accuracy   : {:2.2%}\".format(accuracy))\n",
        "  recall = recall_score(data_sets[i][target].values,data_sets[i][\"scenario_2\"] )\n",
        "  print(\"Recall     : {:2.2%}\".format(recall))\n",
        "  precision = precision_score(data_sets[i][target].values,data_sets[i][\"scenario_2\"] )\n",
        "  print(\"Precision  : {:2.2%}\".format(precision))"
      ],
      "metadata": {
        "colab": {
          "base_uri": "https://localhost:8080/"
        },
        "id": "sA4C0nalN4ek",
        "outputId": "44244c56-a37e-45d1-f6bf-9202b3e3badb"
      },
      "execution_count": 30,
      "outputs": [
        {
          "output_type": "stream",
          "name": "stdout",
          "text": [
            "-- scenario 1 partition: train --\n",
            "Accuracy   : 98.42%\n",
            "Recall     : 85.94%\n",
            "Precision  : 85.43%\n",
            "-- scenario 1 partition: test --\n",
            "Accuracy   : 97.92%\n",
            "Recall     : 81.98%\n",
            "Precision  : 80.08%\n",
            "\n",
            "\n",
            "-- scenario 2 partition: train --\n",
            "Accuracy   : 98.30%\n",
            "Recall     : 70.13%\n",
            "Precision  : 98.44%\n",
            "-- scenario 2 partition: test --\n",
            "Accuracy   : 97.96%\n",
            "Recall     : 65.99%\n",
            "Precision  : 94.66%\n"
          ]
        }
      ]
    }
  ]
}