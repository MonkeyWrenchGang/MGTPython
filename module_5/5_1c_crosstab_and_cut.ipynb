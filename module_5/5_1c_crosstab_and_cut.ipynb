{
  "nbformat": 4,
  "nbformat_minor": 0,
  "metadata": {
    "colab": {
      "provenance": [],
      "include_colab_link": true
    },
    "kernelspec": {
      "name": "python3",
      "display_name": "Python 3"
    },
    "language_info": {
      "name": "python"
    }
  },
  "cells": [
    {
      "cell_type": "markdown",
      "metadata": {
        "id": "view-in-github",
        "colab_type": "text"
      },
      "source": [
        "<a href=\"https://colab.research.google.com/github/MonkeyWrenchGang/MGTPython/blob/main/module_5/5_1c_crosstab_and_cut.ipynb\" target=\"_parent\"><img src=\"https://colab.research.google.com/assets/colab-badge.svg\" alt=\"Open In Colab\"/></a>"
      ]
    },
    {
      "cell_type": "markdown",
      "metadata": {
        "id": "CgM5vmFH85ty"
      },
      "source": [
        "# CUT vs QCut\n",
        "\n",
        "Cut is a function which will BIN data into equally spaced bins, while QCut performs a \"quantile\" cut which bins data into roughly equal freqency or hight bins. \n",
        "\n",
        "https://towardsdatascience.com/sort-and-segment-your-data-into-bins-to-get-sorted-ranges-pandas-cut-and-qcut-7785931bbfde\n",
        "\n",
        "\n"
      ]
    },
    {
      "cell_type": "code",
      "metadata": {
        "colab": {
          "base_uri": "https://localhost:8080/",
          "height": 17
        },
        "id": "RyzpbFH_7n1q",
        "outputId": "246363c0-eaab-4d24-d400-8479f7aa90b5"
      },
      "source": [
        "from IPython.core.display import display, HTML\n",
        "from IPython.display import clear_output\n",
        "display(HTML(\"<style>.container { width:90% }</style>\"))\n",
        "import warnings\n",
        "warnings.filterwarnings('ignore')\n",
        "# ------------------------------------------------------------------\n",
        "import numpy as np\n",
        "import matplotlib.pyplot as plt\n",
        "import seaborn as sns\n",
        "import pandas as pd\n",
        "# ------------------------------------------------------------------\n",
        "pd.set_option('display.float_format', lambda x: '%.2f' % x)\n",
        "\n",
        "%matplotlib inline"
      ],
      "execution_count": 1,
      "outputs": [
        {
          "output_type": "display_data",
          "data": {
            "text/plain": [
              "<IPython.core.display.HTML object>"
            ],
            "text/html": [
              "<style>.container { width:90% }</style>"
            ]
          },
          "metadata": {}
        }
      ]
    },
    {
      "cell_type": "code",
      "metadata": {
        "colab": {
          "base_uri": "https://localhost:8080/",
          "height": 337
        },
        "id": "9klEE6rQ7og0",
        "outputId": "a4d986a1-b9ac-41fe-aeb9-2f1134b2d53f"
      },
      "source": [
        "nba = pd.read_csv(\"/content/gdrive/MyDrive/2022-MGT/nba.csv\")\n",
        "nba.head()"
      ],
      "execution_count": 4,
      "outputs": [
        {
          "output_type": "execute_result",
          "data": {
            "text/plain": [
              "            Name            Team  Number Position   Age Height  Weight  \\\n",
              "0  Avery Bradley  Boston Celtics    0.00       PG 25.00    6-2  180.00   \n",
              "1    Jae Crowder  Boston Celtics   99.00       SF 25.00    6-6  235.00   \n",
              "2   John Holland  Boston Celtics   30.00       SG 27.00    6-5  205.00   \n",
              "3    R.J. Hunter  Boston Celtics   28.00       SG 22.00    6-5  185.00   \n",
              "4  Jonas Jerebko  Boston Celtics    8.00       PF 29.00   6-10  231.00   \n",
              "\n",
              "             College     Salary  \n",
              "0              Texas 7730337.00  \n",
              "1          Marquette 6796117.00  \n",
              "2  Boston University        NaN  \n",
              "3      Georgia State 1148640.00  \n",
              "4                NaN 5000000.00  "
            ],
            "text/html": [
              "\n",
              "  <div id=\"df-55ee0e49-6a9d-4cdb-a830-dd2f9e698c3e\">\n",
              "    <div class=\"colab-df-container\">\n",
              "      <div>\n",
              "<style scoped>\n",
              "    .dataframe tbody tr th:only-of-type {\n",
              "        vertical-align: middle;\n",
              "    }\n",
              "\n",
              "    .dataframe tbody tr th {\n",
              "        vertical-align: top;\n",
              "    }\n",
              "\n",
              "    .dataframe thead th {\n",
              "        text-align: right;\n",
              "    }\n",
              "</style>\n",
              "<table border=\"1\" class=\"dataframe\">\n",
              "  <thead>\n",
              "    <tr style=\"text-align: right;\">\n",
              "      <th></th>\n",
              "      <th>Name</th>\n",
              "      <th>Team</th>\n",
              "      <th>Number</th>\n",
              "      <th>Position</th>\n",
              "      <th>Age</th>\n",
              "      <th>Height</th>\n",
              "      <th>Weight</th>\n",
              "      <th>College</th>\n",
              "      <th>Salary</th>\n",
              "    </tr>\n",
              "  </thead>\n",
              "  <tbody>\n",
              "    <tr>\n",
              "      <th>0</th>\n",
              "      <td>Avery Bradley</td>\n",
              "      <td>Boston Celtics</td>\n",
              "      <td>0.00</td>\n",
              "      <td>PG</td>\n",
              "      <td>25.00</td>\n",
              "      <td>6-2</td>\n",
              "      <td>180.00</td>\n",
              "      <td>Texas</td>\n",
              "      <td>7730337.00</td>\n",
              "    </tr>\n",
              "    <tr>\n",
              "      <th>1</th>\n",
              "      <td>Jae Crowder</td>\n",
              "      <td>Boston Celtics</td>\n",
              "      <td>99.00</td>\n",
              "      <td>SF</td>\n",
              "      <td>25.00</td>\n",
              "      <td>6-6</td>\n",
              "      <td>235.00</td>\n",
              "      <td>Marquette</td>\n",
              "      <td>6796117.00</td>\n",
              "    </tr>\n",
              "    <tr>\n",
              "      <th>2</th>\n",
              "      <td>John Holland</td>\n",
              "      <td>Boston Celtics</td>\n",
              "      <td>30.00</td>\n",
              "      <td>SG</td>\n",
              "      <td>27.00</td>\n",
              "      <td>6-5</td>\n",
              "      <td>205.00</td>\n",
              "      <td>Boston University</td>\n",
              "      <td>NaN</td>\n",
              "    </tr>\n",
              "    <tr>\n",
              "      <th>3</th>\n",
              "      <td>R.J. Hunter</td>\n",
              "      <td>Boston Celtics</td>\n",
              "      <td>28.00</td>\n",
              "      <td>SG</td>\n",
              "      <td>22.00</td>\n",
              "      <td>6-5</td>\n",
              "      <td>185.00</td>\n",
              "      <td>Georgia State</td>\n",
              "      <td>1148640.00</td>\n",
              "    </tr>\n",
              "    <tr>\n",
              "      <th>4</th>\n",
              "      <td>Jonas Jerebko</td>\n",
              "      <td>Boston Celtics</td>\n",
              "      <td>8.00</td>\n",
              "      <td>PF</td>\n",
              "      <td>29.00</td>\n",
              "      <td>6-10</td>\n",
              "      <td>231.00</td>\n",
              "      <td>NaN</td>\n",
              "      <td>5000000.00</td>\n",
              "    </tr>\n",
              "  </tbody>\n",
              "</table>\n",
              "</div>\n",
              "      <button class=\"colab-df-convert\" onclick=\"convertToInteractive('df-55ee0e49-6a9d-4cdb-a830-dd2f9e698c3e')\"\n",
              "              title=\"Convert this dataframe to an interactive table.\"\n",
              "              style=\"display:none;\">\n",
              "        \n",
              "  <svg xmlns=\"http://www.w3.org/2000/svg\" height=\"24px\"viewBox=\"0 0 24 24\"\n",
              "       width=\"24px\">\n",
              "    <path d=\"M0 0h24v24H0V0z\" fill=\"none\"/>\n",
              "    <path d=\"M18.56 5.44l.94 2.06.94-2.06 2.06-.94-2.06-.94-.94-2.06-.94 2.06-2.06.94zm-11 1L8.5 8.5l.94-2.06 2.06-.94-2.06-.94L8.5 2.5l-.94 2.06-2.06.94zm10 10l.94 2.06.94-2.06 2.06-.94-2.06-.94-.94-2.06-.94 2.06-2.06.94z\"/><path d=\"M17.41 7.96l-1.37-1.37c-.4-.4-.92-.59-1.43-.59-.52 0-1.04.2-1.43.59L10.3 9.45l-7.72 7.72c-.78.78-.78 2.05 0 2.83L4 21.41c.39.39.9.59 1.41.59.51 0 1.02-.2 1.41-.59l7.78-7.78 2.81-2.81c.8-.78.8-2.07 0-2.86zM5.41 20L4 18.59l7.72-7.72 1.47 1.35L5.41 20z\"/>\n",
              "  </svg>\n",
              "      </button>\n",
              "      \n",
              "  <style>\n",
              "    .colab-df-container {\n",
              "      display:flex;\n",
              "      flex-wrap:wrap;\n",
              "      gap: 12px;\n",
              "    }\n",
              "\n",
              "    .colab-df-convert {\n",
              "      background-color: #E8F0FE;\n",
              "      border: none;\n",
              "      border-radius: 50%;\n",
              "      cursor: pointer;\n",
              "      display: none;\n",
              "      fill: #1967D2;\n",
              "      height: 32px;\n",
              "      padding: 0 0 0 0;\n",
              "      width: 32px;\n",
              "    }\n",
              "\n",
              "    .colab-df-convert:hover {\n",
              "      background-color: #E2EBFA;\n",
              "      box-shadow: 0px 1px 2px rgba(60, 64, 67, 0.3), 0px 1px 3px 1px rgba(60, 64, 67, 0.15);\n",
              "      fill: #174EA6;\n",
              "    }\n",
              "\n",
              "    [theme=dark] .colab-df-convert {\n",
              "      background-color: #3B4455;\n",
              "      fill: #D2E3FC;\n",
              "    }\n",
              "\n",
              "    [theme=dark] .colab-df-convert:hover {\n",
              "      background-color: #434B5C;\n",
              "      box-shadow: 0px 1px 3px 1px rgba(0, 0, 0, 0.15);\n",
              "      filter: drop-shadow(0px 1px 2px rgba(0, 0, 0, 0.3));\n",
              "      fill: #FFFFFF;\n",
              "    }\n",
              "  </style>\n",
              "\n",
              "      <script>\n",
              "        const buttonEl =\n",
              "          document.querySelector('#df-55ee0e49-6a9d-4cdb-a830-dd2f9e698c3e button.colab-df-convert');\n",
              "        buttonEl.style.display =\n",
              "          google.colab.kernel.accessAllowed ? 'block' : 'none';\n",
              "\n",
              "        async function convertToInteractive(key) {\n",
              "          const element = document.querySelector('#df-55ee0e49-6a9d-4cdb-a830-dd2f9e698c3e');\n",
              "          const dataTable =\n",
              "            await google.colab.kernel.invokeFunction('convertToInteractive',\n",
              "                                                     [key], {});\n",
              "          if (!dataTable) return;\n",
              "\n",
              "          const docLinkHtml = 'Like what you see? Visit the ' +\n",
              "            '<a target=\"_blank\" href=https://colab.research.google.com/notebooks/data_table.ipynb>data table notebook</a>'\n",
              "            + ' to learn more about interactive tables.';\n",
              "          element.innerHTML = '';\n",
              "          dataTable['output_type'] = 'display_data';\n",
              "          await google.colab.output.renderOutput(dataTable, element);\n",
              "          const docLink = document.createElement('div');\n",
              "          docLink.innerHTML = docLinkHtml;\n",
              "          element.appendChild(docLink);\n",
              "        }\n",
              "      </script>\n",
              "    </div>\n",
              "  </div>\n",
              "  "
            ]
          },
          "metadata": {},
          "execution_count": 4
        }
      ]
    },
    {
      "cell_type": "markdown",
      "metadata": {
        "id": "yysuF8B27_fR"
      },
      "source": [
        "## Deal with Misisng Salary\n",
        "\n",
        "\n",
        "---\n",
        "\n",
        "Panda's .fillna() function will replace missing values with a specified value. \n",
        "\n",
        "```python\n",
        "# -- fillna() to fill null values\n",
        "df[\"column_w_nulls\"] = df[\"column_w_nulls\"].fillna(value=\"some-value\")\n",
        "\n",
        "```"
      ]
    },
    {
      "cell_type": "code",
      "metadata": {
        "colab": {
          "base_uri": "https://localhost:8080/",
          "height": 337
        },
        "id": "GtLWmDsx8BDs",
        "outputId": "4a5efca9-a6f9-4855-efa6-d51411ec0699"
      },
      "source": [
        "nba['Salary'] = nba['Salary'].fillna(value=round(nba['Salary'].median(),2), inplace=False)\n",
        "nba.head()"
      ],
      "execution_count": 5,
      "outputs": [
        {
          "output_type": "execute_result",
          "data": {
            "text/plain": [
              "            Name            Team  Number Position   Age Height  Weight  \\\n",
              "0  Avery Bradley  Boston Celtics    0.00       PG 25.00    6-2  180.00   \n",
              "1    Jae Crowder  Boston Celtics   99.00       SF 25.00    6-6  235.00   \n",
              "2   John Holland  Boston Celtics   30.00       SG 27.00    6-5  205.00   \n",
              "3    R.J. Hunter  Boston Celtics   28.00       SG 22.00    6-5  185.00   \n",
              "4  Jonas Jerebko  Boston Celtics    8.00       PF 29.00   6-10  231.00   \n",
              "\n",
              "             College     Salary  \n",
              "0              Texas 7730337.00  \n",
              "1          Marquette 6796117.00  \n",
              "2  Boston University 2839073.00  \n",
              "3      Georgia State 1148640.00  \n",
              "4                NaN 5000000.00  "
            ],
            "text/html": [
              "\n",
              "  <div id=\"df-ac58e8ad-1aba-4a68-8999-938de388b0a0\">\n",
              "    <div class=\"colab-df-container\">\n",
              "      <div>\n",
              "<style scoped>\n",
              "    .dataframe tbody tr th:only-of-type {\n",
              "        vertical-align: middle;\n",
              "    }\n",
              "\n",
              "    .dataframe tbody tr th {\n",
              "        vertical-align: top;\n",
              "    }\n",
              "\n",
              "    .dataframe thead th {\n",
              "        text-align: right;\n",
              "    }\n",
              "</style>\n",
              "<table border=\"1\" class=\"dataframe\">\n",
              "  <thead>\n",
              "    <tr style=\"text-align: right;\">\n",
              "      <th></th>\n",
              "      <th>Name</th>\n",
              "      <th>Team</th>\n",
              "      <th>Number</th>\n",
              "      <th>Position</th>\n",
              "      <th>Age</th>\n",
              "      <th>Height</th>\n",
              "      <th>Weight</th>\n",
              "      <th>College</th>\n",
              "      <th>Salary</th>\n",
              "    </tr>\n",
              "  </thead>\n",
              "  <tbody>\n",
              "    <tr>\n",
              "      <th>0</th>\n",
              "      <td>Avery Bradley</td>\n",
              "      <td>Boston Celtics</td>\n",
              "      <td>0.00</td>\n",
              "      <td>PG</td>\n",
              "      <td>25.00</td>\n",
              "      <td>6-2</td>\n",
              "      <td>180.00</td>\n",
              "      <td>Texas</td>\n",
              "      <td>7730337.00</td>\n",
              "    </tr>\n",
              "    <tr>\n",
              "      <th>1</th>\n",
              "      <td>Jae Crowder</td>\n",
              "      <td>Boston Celtics</td>\n",
              "      <td>99.00</td>\n",
              "      <td>SF</td>\n",
              "      <td>25.00</td>\n",
              "      <td>6-6</td>\n",
              "      <td>235.00</td>\n",
              "      <td>Marquette</td>\n",
              "      <td>6796117.00</td>\n",
              "    </tr>\n",
              "    <tr>\n",
              "      <th>2</th>\n",
              "      <td>John Holland</td>\n",
              "      <td>Boston Celtics</td>\n",
              "      <td>30.00</td>\n",
              "      <td>SG</td>\n",
              "      <td>27.00</td>\n",
              "      <td>6-5</td>\n",
              "      <td>205.00</td>\n",
              "      <td>Boston University</td>\n",
              "      <td>2839073.00</td>\n",
              "    </tr>\n",
              "    <tr>\n",
              "      <th>3</th>\n",
              "      <td>R.J. Hunter</td>\n",
              "      <td>Boston Celtics</td>\n",
              "      <td>28.00</td>\n",
              "      <td>SG</td>\n",
              "      <td>22.00</td>\n",
              "      <td>6-5</td>\n",
              "      <td>185.00</td>\n",
              "      <td>Georgia State</td>\n",
              "      <td>1148640.00</td>\n",
              "    </tr>\n",
              "    <tr>\n",
              "      <th>4</th>\n",
              "      <td>Jonas Jerebko</td>\n",
              "      <td>Boston Celtics</td>\n",
              "      <td>8.00</td>\n",
              "      <td>PF</td>\n",
              "      <td>29.00</td>\n",
              "      <td>6-10</td>\n",
              "      <td>231.00</td>\n",
              "      <td>NaN</td>\n",
              "      <td>5000000.00</td>\n",
              "    </tr>\n",
              "  </tbody>\n",
              "</table>\n",
              "</div>\n",
              "      <button class=\"colab-df-convert\" onclick=\"convertToInteractive('df-ac58e8ad-1aba-4a68-8999-938de388b0a0')\"\n",
              "              title=\"Convert this dataframe to an interactive table.\"\n",
              "              style=\"display:none;\">\n",
              "        \n",
              "  <svg xmlns=\"http://www.w3.org/2000/svg\" height=\"24px\"viewBox=\"0 0 24 24\"\n",
              "       width=\"24px\">\n",
              "    <path d=\"M0 0h24v24H0V0z\" fill=\"none\"/>\n",
              "    <path d=\"M18.56 5.44l.94 2.06.94-2.06 2.06-.94-2.06-.94-.94-2.06-.94 2.06-2.06.94zm-11 1L8.5 8.5l.94-2.06 2.06-.94-2.06-.94L8.5 2.5l-.94 2.06-2.06.94zm10 10l.94 2.06.94-2.06 2.06-.94-2.06-.94-.94-2.06-.94 2.06-2.06.94z\"/><path d=\"M17.41 7.96l-1.37-1.37c-.4-.4-.92-.59-1.43-.59-.52 0-1.04.2-1.43.59L10.3 9.45l-7.72 7.72c-.78.78-.78 2.05 0 2.83L4 21.41c.39.39.9.59 1.41.59.51 0 1.02-.2 1.41-.59l7.78-7.78 2.81-2.81c.8-.78.8-2.07 0-2.86zM5.41 20L4 18.59l7.72-7.72 1.47 1.35L5.41 20z\"/>\n",
              "  </svg>\n",
              "      </button>\n",
              "      \n",
              "  <style>\n",
              "    .colab-df-container {\n",
              "      display:flex;\n",
              "      flex-wrap:wrap;\n",
              "      gap: 12px;\n",
              "    }\n",
              "\n",
              "    .colab-df-convert {\n",
              "      background-color: #E8F0FE;\n",
              "      border: none;\n",
              "      border-radius: 50%;\n",
              "      cursor: pointer;\n",
              "      display: none;\n",
              "      fill: #1967D2;\n",
              "      height: 32px;\n",
              "      padding: 0 0 0 0;\n",
              "      width: 32px;\n",
              "    }\n",
              "\n",
              "    .colab-df-convert:hover {\n",
              "      background-color: #E2EBFA;\n",
              "      box-shadow: 0px 1px 2px rgba(60, 64, 67, 0.3), 0px 1px 3px 1px rgba(60, 64, 67, 0.15);\n",
              "      fill: #174EA6;\n",
              "    }\n",
              "\n",
              "    [theme=dark] .colab-df-convert {\n",
              "      background-color: #3B4455;\n",
              "      fill: #D2E3FC;\n",
              "    }\n",
              "\n",
              "    [theme=dark] .colab-df-convert:hover {\n",
              "      background-color: #434B5C;\n",
              "      box-shadow: 0px 1px 3px 1px rgba(0, 0, 0, 0.15);\n",
              "      filter: drop-shadow(0px 1px 2px rgba(0, 0, 0, 0.3));\n",
              "      fill: #FFFFFF;\n",
              "    }\n",
              "  </style>\n",
              "\n",
              "      <script>\n",
              "        const buttonEl =\n",
              "          document.querySelector('#df-ac58e8ad-1aba-4a68-8999-938de388b0a0 button.colab-df-convert');\n",
              "        buttonEl.style.display =\n",
              "          google.colab.kernel.accessAllowed ? 'block' : 'none';\n",
              "\n",
              "        async function convertToInteractive(key) {\n",
              "          const element = document.querySelector('#df-ac58e8ad-1aba-4a68-8999-938de388b0a0');\n",
              "          const dataTable =\n",
              "            await google.colab.kernel.invokeFunction('convertToInteractive',\n",
              "                                                     [key], {});\n",
              "          if (!dataTable) return;\n",
              "\n",
              "          const docLinkHtml = 'Like what you see? Visit the ' +\n",
              "            '<a target=\"_blank\" href=https://colab.research.google.com/notebooks/data_table.ipynb>data table notebook</a>'\n",
              "            + ' to learn more about interactive tables.';\n",
              "          element.innerHTML = '';\n",
              "          dataTable['output_type'] = 'display_data';\n",
              "          await google.colab.output.renderOutput(dataTable, element);\n",
              "          const docLink = document.createElement('div');\n",
              "          docLink.innerHTML = docLinkHtml;\n",
              "          element.appendChild(docLink);\n",
              "        }\n",
              "      </script>\n",
              "    </div>\n",
              "  </div>\n",
              "  "
            ]
          },
          "metadata": {},
          "execution_count": 5
        }
      ]
    },
    {
      "cell_type": "markdown",
      "metadata": {
        "id": "s5BWuJCKDucc"
      },
      "source": [
        "## Cut & Qcut functions \n",
        "\n",
        "Use `.cut()` when you need to segment and sort data values into bins. This function is also useful for transforming a continuous variable into a categorical variable. In our case we are going to cut salaries into 10 bins. \n",
        "\n",
        "Qcut “Quantile-based discretization function.” This basically means that qcut tries to divide up the underlying data into **equal sized bins**\n",
        "\n",
        "https://pbpython.com/pandas-qcut-cut.html\n",
        "\n",
        "\n",
        "```python\n",
        "pandas.cut(x, bins, right=True, labels=None, retbins=False, precision=3, include_lowest=False, duplicates='raise', ordered=True)\n",
        "```\n",
        "The major distinction is that qcut will calculate the size of each bin in order to make sure the **distribution of data in the bins is equal**. In other words, all bins will have (roughly) the same number of observations but the bin range will vary.\n",
        "```python\n",
        "pandas.qcut(x, q, labels=None, retbins=False, precision=3, duplicates='raise')\n",
        "```\n",
        "https://towardsdatascience.com/how-i-customarily-bin-data-with-pandas-9303c9e4d946\n",
        "\n"
      ]
    },
    {
      "cell_type": "code",
      "metadata": {
        "colab": {
          "base_uri": "https://localhost:8080/"
        },
        "id": "dyHqS32ZDik6",
        "outputId": "80e156c3-6ba0-445a-b584-1614e677b63b"
      },
      "source": [
        "nba['salary_cut_bin'] = pd.cut(nba['Salary'], bins=10)\n",
        "\n",
        "nba['salary_cut_bin'].value_counts()"
      ],
      "execution_count": 6,
      "outputs": [
        {
          "output_type": "execute_result",
          "data": {
            "text/plain": [
              "(5918.888, 2527799.2]       213\n",
              "(2527799.2, 5024710.4]      103\n",
              "(5024710.4, 7521621.6]       44\n",
              "(7521621.6, 10018532.8]      27\n",
              "(10018532.8, 12515444.0]     20\n",
              "(12515444.0, 15012355.2]     18\n",
              "(15012355.2, 17509266.4]     17\n",
              "(17509266.4, 20006177.6]      8\n",
              "(20006177.6, 22503088.8]      5\n",
              "(22503088.8, 25000000.0]      3\n",
              "Name: salary_cut_bin, dtype: int64"
            ]
          },
          "metadata": {},
          "execution_count": 6
        }
      ]
    },
    {
      "cell_type": "markdown",
      "source": [
        "## Labeling Bins\n",
        "\n",
        "\n",
        "---\n",
        "\n",
        "\n",
        "You can label bins using cut in pandas. The cut function takes a pandas series as input and divides it into bins, returning an array of bin labels. The bin labels can be specified either as integer indices or custom labels.\n",
        "\n",
        "```python\n",
        "# Cut the series into 3 bins and specify custom labels for each bin\n",
        "bins = [0, 2, 4, 6]\n",
        "labels = [\"Low\", \"Medium\", \"High\"]\n",
        "binned = pd.cut(s, bins, labels=labels)\n",
        "```\n",
        "\n",
        "you'll notice that you typically have 1 less label than bins. "
      ],
      "metadata": {
        "id": "d4Sppkl1HqRH"
      }
    },
    {
      "cell_type": "code",
      "metadata": {
        "id": "UwHSou3d3eJg"
      },
      "source": [
        "labels = ['low', 'medium', 'high', 'very high']\n",
        "nba['salary_cut_bin'] = pd.cut(nba['Salary'], bins=4, labels=labels)"
      ],
      "execution_count": 7,
      "outputs": []
    },
    {
      "cell_type": "code",
      "metadata": {
        "colab": {
          "base_uri": "https://localhost:8080/"
        },
        "id": "GE9kAybtwqpi",
        "outputId": "73ae59fd-c529-4aa5-cb7c-8e9e0ee1f035"
      },
      "source": [
        "nba.salary_cut_bin.value_counts()"
      ],
      "execution_count": null,
      "outputs": [
        {
          "output_type": "execute_result",
          "data": {
            "text/plain": [
              "low          342\n",
              "medium        65\n",
              "high          36\n",
              "very high     15\n",
              "Name: salary_cut_bin, dtype: int64"
            ]
          },
          "metadata": {
            "tags": []
          },
          "execution_count": 19
        }
      ]
    },
    {
      "cell_type": "markdown",
      "metadata": {
        "id": "Ru9aMftTvwPw"
      },
      "source": [
        "## QCUT Labels\n",
        "\n",
        "\n",
        "---\n",
        "\n",
        "\n",
        "Suppose i want to divide my players by salary as low, med, high, very high salaries. How can i do this with qcut? \n",
        "\n",
        "The `.qcut()` function can be used to label bins based on sample \"quantiles\". Unlike `.cut()`, which allows you to specify custom bin edges, `.qcut()` automatically computes the bin edges based on a specified number of equal-size bins.\n",
        "\n",
        "\n"
      ]
    },
    {
      "cell_type": "code",
      "metadata": {
        "colab": {
          "base_uri": "https://localhost:8080/"
        },
        "id": "FETmaK6WvO0Y",
        "outputId": "03c34090-08c6-41ff-ef03-8d97f44ae3e5"
      },
      "source": [
        "labels = ['low', 'medium', 'high', 'very high']\n",
        "nba['salary_quantiles_labelled'] = pd.qcut(nba['Salary'],\n",
        "                                          q=4,\n",
        "                                          labels=labels,\n",
        "                                          precision=0)\n",
        "nba['salary_quantiles_labelled'].value_counts()"
      ],
      "execution_count": 8,
      "outputs": [
        {
          "output_type": "execute_result",
          "data": {
            "text/plain": [
              "low          119\n",
              "medium       116\n",
              "very high    115\n",
              "high         108\n",
              "Name: salary_quantiles_labelled, dtype: int64"
            ]
          },
          "metadata": {},
          "execution_count": 8
        }
      ]
    },
    {
      "cell_type": "code",
      "metadata": {
        "colab": {
          "base_uri": "https://localhost:8080/",
          "height": 206
        },
        "id": "1HAnjRyEzJeT",
        "outputId": "aca2664e-9ee6-4470-8658-de663cc079ae"
      },
      "source": [
        "res1 = nba.groupby(['salary_quantiles_labelled'])[['Salary']].agg(['mean','count']).reset_index()\n",
        "res1"
      ],
      "execution_count": 9,
      "outputs": [
        {
          "output_type": "execute_result",
          "data": {
            "text/plain": [
              "  salary_quantiles_labelled      Salary      \n",
              "                                   mean count\n",
              "0                       low   724774.78   119\n",
              "1                    medium  1920140.35   116\n",
              "2                      high  4220984.71   108\n",
              "3                 very high 12426566.59   115"
            ],
            "text/html": [
              "\n",
              "  <div id=\"df-176cc80f-bed6-42a6-9731-dec86ab6462c\">\n",
              "    <div class=\"colab-df-container\">\n",
              "      <div>\n",
              "<style scoped>\n",
              "    .dataframe tbody tr th:only-of-type {\n",
              "        vertical-align: middle;\n",
              "    }\n",
              "\n",
              "    .dataframe tbody tr th {\n",
              "        vertical-align: top;\n",
              "    }\n",
              "\n",
              "    .dataframe thead tr th {\n",
              "        text-align: left;\n",
              "    }\n",
              "</style>\n",
              "<table border=\"1\" class=\"dataframe\">\n",
              "  <thead>\n",
              "    <tr>\n",
              "      <th></th>\n",
              "      <th>salary_quantiles_labelled</th>\n",
              "      <th colspan=\"2\" halign=\"left\">Salary</th>\n",
              "    </tr>\n",
              "    <tr>\n",
              "      <th></th>\n",
              "      <th></th>\n",
              "      <th>mean</th>\n",
              "      <th>count</th>\n",
              "    </tr>\n",
              "  </thead>\n",
              "  <tbody>\n",
              "    <tr>\n",
              "      <th>0</th>\n",
              "      <td>low</td>\n",
              "      <td>724774.78</td>\n",
              "      <td>119</td>\n",
              "    </tr>\n",
              "    <tr>\n",
              "      <th>1</th>\n",
              "      <td>medium</td>\n",
              "      <td>1920140.35</td>\n",
              "      <td>116</td>\n",
              "    </tr>\n",
              "    <tr>\n",
              "      <th>2</th>\n",
              "      <td>high</td>\n",
              "      <td>4220984.71</td>\n",
              "      <td>108</td>\n",
              "    </tr>\n",
              "    <tr>\n",
              "      <th>3</th>\n",
              "      <td>very high</td>\n",
              "      <td>12426566.59</td>\n",
              "      <td>115</td>\n",
              "    </tr>\n",
              "  </tbody>\n",
              "</table>\n",
              "</div>\n",
              "      <button class=\"colab-df-convert\" onclick=\"convertToInteractive('df-176cc80f-bed6-42a6-9731-dec86ab6462c')\"\n",
              "              title=\"Convert this dataframe to an interactive table.\"\n",
              "              style=\"display:none;\">\n",
              "        \n",
              "  <svg xmlns=\"http://www.w3.org/2000/svg\" height=\"24px\"viewBox=\"0 0 24 24\"\n",
              "       width=\"24px\">\n",
              "    <path d=\"M0 0h24v24H0V0z\" fill=\"none\"/>\n",
              "    <path d=\"M18.56 5.44l.94 2.06.94-2.06 2.06-.94-2.06-.94-.94-2.06-.94 2.06-2.06.94zm-11 1L8.5 8.5l.94-2.06 2.06-.94-2.06-.94L8.5 2.5l-.94 2.06-2.06.94zm10 10l.94 2.06.94-2.06 2.06-.94-2.06-.94-.94-2.06-.94 2.06-2.06.94z\"/><path d=\"M17.41 7.96l-1.37-1.37c-.4-.4-.92-.59-1.43-.59-.52 0-1.04.2-1.43.59L10.3 9.45l-7.72 7.72c-.78.78-.78 2.05 0 2.83L4 21.41c.39.39.9.59 1.41.59.51 0 1.02-.2 1.41-.59l7.78-7.78 2.81-2.81c.8-.78.8-2.07 0-2.86zM5.41 20L4 18.59l7.72-7.72 1.47 1.35L5.41 20z\"/>\n",
              "  </svg>\n",
              "      </button>\n",
              "      \n",
              "  <style>\n",
              "    .colab-df-container {\n",
              "      display:flex;\n",
              "      flex-wrap:wrap;\n",
              "      gap: 12px;\n",
              "    }\n",
              "\n",
              "    .colab-df-convert {\n",
              "      background-color: #E8F0FE;\n",
              "      border: none;\n",
              "      border-radius: 50%;\n",
              "      cursor: pointer;\n",
              "      display: none;\n",
              "      fill: #1967D2;\n",
              "      height: 32px;\n",
              "      padding: 0 0 0 0;\n",
              "      width: 32px;\n",
              "    }\n",
              "\n",
              "    .colab-df-convert:hover {\n",
              "      background-color: #E2EBFA;\n",
              "      box-shadow: 0px 1px 2px rgba(60, 64, 67, 0.3), 0px 1px 3px 1px rgba(60, 64, 67, 0.15);\n",
              "      fill: #174EA6;\n",
              "    }\n",
              "\n",
              "    [theme=dark] .colab-df-convert {\n",
              "      background-color: #3B4455;\n",
              "      fill: #D2E3FC;\n",
              "    }\n",
              "\n",
              "    [theme=dark] .colab-df-convert:hover {\n",
              "      background-color: #434B5C;\n",
              "      box-shadow: 0px 1px 3px 1px rgba(0, 0, 0, 0.15);\n",
              "      filter: drop-shadow(0px 1px 2px rgba(0, 0, 0, 0.3));\n",
              "      fill: #FFFFFF;\n",
              "    }\n",
              "  </style>\n",
              "\n",
              "      <script>\n",
              "        const buttonEl =\n",
              "          document.querySelector('#df-176cc80f-bed6-42a6-9731-dec86ab6462c button.colab-df-convert');\n",
              "        buttonEl.style.display =\n",
              "          google.colab.kernel.accessAllowed ? 'block' : 'none';\n",
              "\n",
              "        async function convertToInteractive(key) {\n",
              "          const element = document.querySelector('#df-176cc80f-bed6-42a6-9731-dec86ab6462c');\n",
              "          const dataTable =\n",
              "            await google.colab.kernel.invokeFunction('convertToInteractive',\n",
              "                                                     [key], {});\n",
              "          if (!dataTable) return;\n",
              "\n",
              "          const docLinkHtml = 'Like what you see? Visit the ' +\n",
              "            '<a target=\"_blank\" href=https://colab.research.google.com/notebooks/data_table.ipynb>data table notebook</a>'\n",
              "            + ' to learn more about interactive tables.';\n",
              "          element.innerHTML = '';\n",
              "          dataTable['output_type'] = 'display_data';\n",
              "          await google.colab.output.renderOutput(dataTable, element);\n",
              "          const docLink = document.createElement('div');\n",
              "          docLink.innerHTML = docLinkHtml;\n",
              "          element.appendChild(docLink);\n",
              "        }\n",
              "      </script>\n",
              "    </div>\n",
              "  </div>\n",
              "  "
            ]
          },
          "metadata": {},
          "execution_count": 9
        }
      ]
    },
    {
      "cell_type": "code",
      "metadata": {
        "colab": {
          "base_uri": "https://localhost:8080/",
          "height": 621
        },
        "id": "WCW0-mfay_VI",
        "outputId": "e4d03b10-513f-4791-de0c-25e5d50212d7"
      },
      "source": [
        "plt.figure(figsize=(10,10))\n",
        "sns.barplot(data = res1, \n",
        "            y='salary_quantiles_labelled', \n",
        "            x=('Salary','mean'))\n",
        "plt.title(\"Mean of Quantiles Salary\")\n",
        "plt.ticklabel_format(style='plain', axis='x')\n",
        "plt.show()"
      ],
      "execution_count": 16,
      "outputs": [
        {
          "output_type": "display_data",
          "data": {
            "text/plain": [
              "<Figure size 720x720 with 1 Axes>"
            ],
            "image/png": "[encoded data removed]"
          },
          "metadata": {
            "needs_background": "light"
          }
        }
      ]
    },
    {
      "cell_type": "code",
      "source": [
        "plt.figure(figsize=(10,10))\n",
        "sns.barplot(data = res1, \n",
        "            y='salary_quantiles_labelled', \n",
        "            x=('Salary','count'))\n",
        "plt.title(\"Count of Quantiles Salary\")\n",
        "plt.ticklabel_format(style='plain', axis='x')\n",
        "plt.show()"
      ],
      "metadata": {
        "colab": {
          "base_uri": "https://localhost:8080/",
          "height": 621
        },
        "id": "G1uQ40RHJ7P9",
        "outputId": "95fd767b-bfe6-4a98-bab2-465e5399b558"
      },
      "execution_count": 18,
      "outputs": [
        {
          "output_type": "display_data",
          "data": {
            "text/plain": [
              "<Figure size 720x720 with 1 Axes>"
            ],
            "image/png": "[encoded data removed]"
          },
          "metadata": {
            "needs_background": "light"
          }
        }
      ]
    },
    {
      "cell_type": "markdown",
      "source": [
        "## Custom Bins w. Cut()\n",
        "\n",
        "\n",
        "---\n",
        "\n",
        "\n",
        "You can specify custom bins with the `.cut()` function. The cut function takes as input a pandas series and an array of bin edges, and returns an array of bin labels.\n",
        "\n",
        "```python\n",
        "\n",
        "# Define custom bin edges\n",
        "bins = [0, 2, 4, 6]\n",
        "\n",
        "# Cut the series into custom bins and label each bin\n",
        "binned = pd.cut(s, bins, labels=[\"Low\", \"Medium\", \"High\"])\n",
        "\n",
        "```"
      ],
      "metadata": {
        "id": "orGtBYnqJBGO"
      }
    },
    {
      "cell_type": "code",
      "metadata": {
        "colab": {
          "base_uri": "https://localhost:8080/"
        },
        "id": "a631uMvVyWaW",
        "outputId": "713de2e6-122e-461c-bf84-463e66f9554f"
      },
      "source": [
        "bin_breaks = [0,200000,1000000,10000000,np.inf]\n",
        "bin_labels = ['low', 'medium','high', 'quite-high']\n",
        "\n",
        "nba['salary_manual_bin_and_labelled'] = pd.cut(nba['Salary'],\n",
        "                                          bins = bin_breaks,\n",
        "                                          labels = bin_labels,\n",
        "                                          )\n",
        "nba['salary_manual_bin_and_labelled'].value_counts()"
      ],
      "execution_count": 15,
      "outputs": [
        {
          "output_type": "execute_result",
          "data": {
            "text/plain": [
              "high          281\n",
              "medium         95\n",
              "quite-high     71\n",
              "low            11\n",
              "Name: salary_manual_bin_and_labelled, dtype: int64"
            ]
          },
          "metadata": {},
          "execution_count": 15
        }
      ]
    },
    {
      "cell_type": "code",
      "metadata": {
        "colab": {
          "base_uri": "https://localhost:8080/",
          "height": 206
        },
        "id": "zsUh12t9wget",
        "outputId": "0a15024d-1e14-4bfa-dfc9-f7d7ceb6e48f"
      },
      "source": [
        "res2 = nba.groupby(['salary_manual_bin_and_labelled'])[['Salary']].agg(['mean','count']).reset_index()\n",
        "res2"
      ],
      "execution_count": 12,
      "outputs": [
        {
          "output_type": "execute_result",
          "data": {
            "text/plain": [
              "  salary_manual_bin_and_labelled      Salary      \n",
              "                                        mean count\n",
              "0                            low   110979.27    11\n",
              "1                         medium   750051.93    95\n",
              "2                           high  3711585.64   281\n",
              "3                     quite-high 15189784.76    71"
            ],
            "text/html": [
              "\n",
              "  <div id=\"df-59944b8a-758f-4f5d-9c42-51ae559a6f7d\">\n",
              "    <div class=\"colab-df-container\">\n",
              "      <div>\n",
              "<style scoped>\n",
              "    .dataframe tbody tr th:only-of-type {\n",
              "        vertical-align: middle;\n",
              "    }\n",
              "\n",
              "    .dataframe tbody tr th {\n",
              "        vertical-align: top;\n",
              "    }\n",
              "\n",
              "    .dataframe thead tr th {\n",
              "        text-align: left;\n",
              "    }\n",
              "</style>\n",
              "<table border=\"1\" class=\"dataframe\">\n",
              "  <thead>\n",
              "    <tr>\n",
              "      <th></th>\n",
              "      <th>salary_manual_bin_and_labelled</th>\n",
              "      <th colspan=\"2\" halign=\"left\">Salary</th>\n",
              "    </tr>\n",
              "    <tr>\n",
              "      <th></th>\n",
              "      <th></th>\n",
              "      <th>mean</th>\n",
              "      <th>count</th>\n",
              "    </tr>\n",
              "  </thead>\n",
              "  <tbody>\n",
              "    <tr>\n",
              "      <th>0</th>\n",
              "      <td>low</td>\n",
              "      <td>110979.27</td>\n",
              "      <td>11</td>\n",
              "    </tr>\n",
              "    <tr>\n",
              "      <th>1</th>\n",
              "      <td>medium</td>\n",
              "      <td>750051.93</td>\n",
              "      <td>95</td>\n",
              "    </tr>\n",
              "    <tr>\n",
              "      <th>2</th>\n",
              "      <td>high</td>\n",
              "      <td>3711585.64</td>\n",
              "      <td>281</td>\n",
              "    </tr>\n",
              "    <tr>\n",
              "      <th>3</th>\n",
              "      <td>quite-high</td>\n",
              "      <td>15189784.76</td>\n",
              "      <td>71</td>\n",
              "    </tr>\n",
              "  </tbody>\n",
              "</table>\n",
              "</div>\n",
              "      <button class=\"colab-df-convert\" onclick=\"convertToInteractive('df-59944b8a-758f-4f5d-9c42-51ae559a6f7d')\"\n",
              "              title=\"Convert this dataframe to an interactive table.\"\n",
              "              style=\"display:none;\">\n",
              "        \n",
              "  <svg xmlns=\"http://www.w3.org/2000/svg\" height=\"24px\"viewBox=\"0 0 24 24\"\n",
              "       width=\"24px\">\n",
              "    <path d=\"M0 0h24v24H0V0z\" fill=\"none\"/>\n",
              "    <path d=\"M18.56 5.44l.94 2.06.94-2.06 2.06-.94-2.06-.94-.94-2.06-.94 2.06-2.06.94zm-11 1L8.5 8.5l.94-2.06 2.06-.94-2.06-.94L8.5 2.5l-.94 2.06-2.06.94zm10 10l.94 2.06.94-2.06 2.06-.94-2.06-.94-.94-2.06-.94 2.06-2.06.94z\"/><path d=\"M17.41 7.96l-1.37-1.37c-.4-.4-.92-.59-1.43-.59-.52 0-1.04.2-1.43.59L10.3 9.45l-7.72 7.72c-.78.78-.78 2.05 0 2.83L4 21.41c.39.39.9.59 1.41.59.51 0 1.02-.2 1.41-.59l7.78-7.78 2.81-2.81c.8-.78.8-2.07 0-2.86zM5.41 20L4 18.59l7.72-7.72 1.47 1.35L5.41 20z\"/>\n",
              "  </svg>\n",
              "      </button>\n",
              "      \n",
              "  <style>\n",
              "    .colab-df-container {\n",
              "      display:flex;\n",
              "      flex-wrap:wrap;\n",
              "      gap: 12px;\n",
              "    }\n",
              "\n",
              "    .colab-df-convert {\n",
              "      background-color: #E8F0FE;\n",
              "      border: none;\n",
              "      border-radius: 50%;\n",
              "      cursor: pointer;\n",
              "      display: none;\n",
              "      fill: #1967D2;\n",
              "      height: 32px;\n",
              "      padding: 0 0 0 0;\n",
              "      width: 32px;\n",
              "    }\n",
              "\n",
              "    .colab-df-convert:hover {\n",
              "      background-color: #E2EBFA;\n",
              "      box-shadow: 0px 1px 2px rgba(60, 64, 67, 0.3), 0px 1px 3px 1px rgba(60, 64, 67, 0.15);\n",
              "      fill: #174EA6;\n",
              "    }\n",
              "\n",
              "    [theme=dark] .colab-df-convert {\n",
              "      background-color: #3B4455;\n",
              "      fill: #D2E3FC;\n",
              "    }\n",
              "\n",
              "    [theme=dark] .colab-df-convert:hover {\n",
              "      background-color: #434B5C;\n",
              "      box-shadow: 0px 1px 3px 1px rgba(0, 0, 0, 0.15);\n",
              "      filter: drop-shadow(0px 1px 2px rgba(0, 0, 0, 0.3));\n",
              "      fill: #FFFFFF;\n",
              "    }\n",
              "  </style>\n",
              "\n",
              "      <script>\n",
              "        const buttonEl =\n",
              "          document.querySelector('#df-59944b8a-758f-4f5d-9c42-51ae559a6f7d button.colab-df-convert');\n",
              "        buttonEl.style.display =\n",
              "          google.colab.kernel.accessAllowed ? 'block' : 'none';\n",
              "\n",
              "        async function convertToInteractive(key) {\n",
              "          const element = document.querySelector('#df-59944b8a-758f-4f5d-9c42-51ae559a6f7d');\n",
              "          const dataTable =\n",
              "            await google.colab.kernel.invokeFunction('convertToInteractive',\n",
              "                                                     [key], {});\n",
              "          if (!dataTable) return;\n",
              "\n",
              "          const docLinkHtml = 'Like what you see? Visit the ' +\n",
              "            '<a target=\"_blank\" href=https://colab.research.google.com/notebooks/data_table.ipynb>data table notebook</a>'\n",
              "            + ' to learn more about interactive tables.';\n",
              "          element.innerHTML = '';\n",
              "          dataTable['output_type'] = 'display_data';\n",
              "          await google.colab.output.renderOutput(dataTable, element);\n",
              "          const docLink = document.createElement('div');\n",
              "          docLink.innerHTML = docLinkHtml;\n",
              "          element.appendChild(docLink);\n",
              "        }\n",
              "      </script>\n",
              "    </div>\n",
              "  </div>\n",
              "  "
            ]
          },
          "metadata": {},
          "execution_count": 12
        }
      ]
    },
    {
      "cell_type": "code",
      "metadata": {
        "colab": {
          "base_uri": "https://localhost:8080/",
          "height": 606
        },
        "id": "boGKeU0R0B7T",
        "outputId": "ba4d62ed-2ad3-4be8-f438-c3eba55ccda4"
      },
      "source": [
        "plt.figure(figsize=(10,10))\n",
        "sns.barplot(y=res2['salary_manual_bin_and_labelled'], x=res2[('Salary','mean')])\n",
        "plt.ticklabel_format(style='plain', axis='x')\n"
      ],
      "execution_count": 13,
      "outputs": [
        {
          "output_type": "display_data",
          "data": {
            "text/plain": [
              "<Figure size 720x720 with 1 Axes>"
            ],
            "image/png": "[encoded data removed]"
          },
          "metadata": {
            "needs_background": "light"
          }
        }
      ]
    },
    {
      "cell_type": "code",
      "metadata": {
        "colab": {
          "base_uri": "https://localhost:8080/"
        },
        "id": "Iyd4TZGXEthh",
        "outputId": "2af7b53b-7a3c-41b8-edc4-31ef37d5f7da"
      },
      "source": [
        "nba['salary_qcut_bin'] = pd.qcut(nba['Salary'], q=10)\n",
        "nba['salary_qcut_bin'].value_counts()"
      ],
      "execution_count": 17,
      "outputs": [
        {
          "output_type": "execute_result",
          "data": {
            "text/plain": [
              "(30887.999, 845059.0]       62\n",
              "(2037168.0, 2839073.0]      52\n",
              "(5189121.9, 8000000.0]      48\n",
              "(13207714.2, 25000000.0]    46\n",
              "(1254292.4, 2037168.0]      45\n",
              "(3743184.0, 5189121.9]      45\n",
              "(8000000.0, 13207714.2]     44\n",
              "(947276.0, 1254292.4]       43\n",
              "(2839073.0, 3743184.0]      40\n",
              "(845059.0, 947276.0]        33\n",
              "Name: salary_qcut_bin, dtype: int64"
            ]
          },
          "metadata": {},
          "execution_count": 17
        }
      ]
    },
    {
      "cell_type": "code",
      "metadata": {
        "colab": {
          "base_uri": "https://localhost:8080/",
          "height": 362
        },
        "id": "0EjYyxZW0fUb",
        "outputId": "eabb6020-f89d-4262-dad2-4dd08a390e21"
      },
      "source": [
        "res3 = nba.groupby(['salary_qcut_bin'])[['Salary']].agg('mean').reset_index()\n",
        "res3"
      ],
      "execution_count": null,
      "outputs": [
        {
          "output_type": "execute_result",
          "data": {
            "text/html": [
              "<div>\n",
              "<style scoped>\n",
              "    .dataframe tbody tr th:only-of-type {\n",
              "        vertical-align: middle;\n",
              "    }\n",
              "\n",
              "    .dataframe tbody tr th {\n",
              "        vertical-align: top;\n",
              "    }\n",
              "\n",
              "    .dataframe thead th {\n",
              "        text-align: right;\n",
              "    }\n",
              "</style>\n",
              "<table border=\"1\" class=\"dataframe\">\n",
              "  <thead>\n",
              "    <tr style=\"text-align: right;\">\n",
              "      <th></th>\n",
              "      <th>salary_qcut_bin</th>\n",
              "      <th>Salary</th>\n",
              "    </tr>\n",
              "  </thead>\n",
              "  <tbody>\n",
              "    <tr>\n",
              "      <th>0</th>\n",
              "      <td>(30887.999, 845059.0]</td>\n",
              "      <td>492247.34</td>\n",
              "    </tr>\n",
              "    <tr>\n",
              "      <th>1</th>\n",
              "      <td>(845059.0, 947276.0]</td>\n",
              "      <td>943047.15</td>\n",
              "    </tr>\n",
              "    <tr>\n",
              "      <th>2</th>\n",
              "      <td>(947276.0, 1254292.4]</td>\n",
              "      <td>1091498.19</td>\n",
              "    </tr>\n",
              "    <tr>\n",
              "      <th>3</th>\n",
              "      <td>(1254292.4, 2037168.0]</td>\n",
              "      <td>1574373.71</td>\n",
              "    </tr>\n",
              "    <tr>\n",
              "      <th>4</th>\n",
              "      <td>(2037168.0, 2839073.0]</td>\n",
              "      <td>2491602.88</td>\n",
              "    </tr>\n",
              "    <tr>\n",
              "      <th>5</th>\n",
              "      <td>(2839073.0, 3743184.0]</td>\n",
              "      <td>3168121.42</td>\n",
              "    </tr>\n",
              "    <tr>\n",
              "      <th>6</th>\n",
              "      <td>(3743184.0, 5189121.9]</td>\n",
              "      <td>4412064.58</td>\n",
              "    </tr>\n",
              "    <tr>\n",
              "      <th>7</th>\n",
              "      <td>(5189121.9, 8000000.0]</td>\n",
              "      <td>6490497.98</td>\n",
              "    </tr>\n",
              "    <tr>\n",
              "      <th>8</th>\n",
              "      <td>(8000000.0, 13207714.2]</td>\n",
              "      <td>10481027.64</td>\n",
              "    </tr>\n",
              "    <tr>\n",
              "      <th>9</th>\n",
              "      <td>(13207714.2, 25000000.0]</td>\n",
              "      <td>17107491.85</td>\n",
              "    </tr>\n",
              "  </tbody>\n",
              "</table>\n",
              "</div>"
            ],
            "text/plain": [
              "            salary_qcut_bin      Salary\n",
              "0     (30887.999, 845059.0]   492247.34\n",
              "1      (845059.0, 947276.0]   943047.15\n",
              "2     (947276.0, 1254292.4]  1091498.19\n",
              "3    (1254292.4, 2037168.0]  1574373.71\n",
              "4    (2037168.0, 2839073.0]  2491602.88\n",
              "5    (2839073.0, 3743184.0]  3168121.42\n",
              "6    (3743184.0, 5189121.9]  4412064.58\n",
              "7    (5189121.9, 8000000.0]  6490497.98\n",
              "8   (8000000.0, 13207714.2] 10481027.64\n",
              "9  (13207714.2, 25000000.0] 17107491.85"
            ]
          },
          "metadata": {
            "tags": []
          },
          "execution_count": 33
        }
      ]
    },
    {
      "cell_type": "code",
      "metadata": {
        "colab": {
          "base_uri": "https://localhost:8080/",
          "height": 606
        },
        "id": "g9sQMndR0toR",
        "outputId": "e74c59d7-85a9-4d1c-90f6-9f9cafbe1009"
      },
      "source": [
        "plt.figure(figsize=(10,10))\n",
        "sns.barplot(data=res3,  x='Salary', y='salary_qcut_bin')\n",
        "plt.ticklabel_format(style='plain', axis='x')"
      ],
      "execution_count": null,
      "outputs": [
        {
          "output_type": "display_data",
          "data": {
            "image/png": "[encoded data removed]",
            "text/plain": [
              "<Figure size 720x720 with 1 Axes>"
            ]
          },
          "metadata": {
            "tags": [],
            "needs_background": "light"
          }
        }
      ]
    },
    {
      "cell_type": "markdown",
      "metadata": {
        "id": "aYEknXpLFTB9"
      },
      "source": [
        "## Generate your own bin ranges \n",
        "\n",
        "\n",
        "---\n",
        "\n",
        "n Python, the range function is used to generate a sequence of numbers. The general syntax for using range is:\n",
        "\n",
        "```python\n",
        "range(start, stop, step)\n",
        "```\n",
        "\n",
        "we'll convert this into a list and then chop up or data. "
      ]
    },
    {
      "cell_type": "code",
      "metadata": {
        "colab": {
          "base_uri": "https://localhost:8080/"
        },
        "id": "olrcl3FlFTO6",
        "outputId": "2be92bcb-78a3-42a6-cd46-50714fc47007"
      },
      "source": [
        "rng = list(range(0, 26000000, 1000000))\n",
        "rng"
      ],
      "execution_count": 20,
      "outputs": [
        {
          "output_type": "execute_result",
          "data": {
            "text/plain": [
              "[0,\n",
              " 1000000,\n",
              " 2000000,\n",
              " 3000000,\n",
              " 4000000,\n",
              " 5000000,\n",
              " 6000000,\n",
              " 7000000,\n",
              " 8000000,\n",
              " 9000000,\n",
              " 10000000,\n",
              " 11000000,\n",
              " 12000000,\n",
              " 13000000,\n",
              " 14000000,\n",
              " 15000000,\n",
              " 16000000,\n",
              " 17000000,\n",
              " 18000000,\n",
              " 19000000,\n",
              " 20000000,\n",
              " 21000000,\n",
              " 22000000,\n",
              " 23000000,\n",
              " 24000000,\n",
              " 25000000]"
            ]
          },
          "metadata": {},
          "execution_count": 20
        }
      ]
    },
    {
      "cell_type": "code",
      "metadata": {
        "colab": {
          "base_uri": "https://localhost:8080/"
        },
        "id": "yF3N4RR71X0d",
        "outputId": "a40e7617-ea32-4d84-db1b-4a17dc116cee"
      },
      "source": [
        "nba['salary_1m_bin'] = pd.cut(nba['Salary'],\n",
        "                                          bins=rng + [np.inf],\n",
        "                                          labels=rng,\n",
        "                                          )\n",
        "nba['salary_1m_bin'].value_counts()"
      ],
      "execution_count": 21,
      "outputs": [
        {
          "output_type": "execute_result",
          "data": {
            "text/plain": [
              "0           106\n",
              "1000000      75\n",
              "2000000      69\n",
              "3000000      38\n",
              "4000000      26\n",
              "5000000      24\n",
              "6000000      17\n",
              "7000000      13\n",
              "11000000     11\n",
              "8000000      11\n",
              "13000000     10\n",
              "15000000      9\n",
              "9000000       8\n",
              "12000000      7\n",
              "16000000      7\n",
              "10000000      6\n",
              "19000000      6\n",
              "14000000      4\n",
              "22000000      4\n",
              "18000000      2\n",
              "20000000      2\n",
              "17000000      1\n",
              "21000000      1\n",
              "24000000      1\n",
              "23000000      0\n",
              "25000000      0\n",
              "Name: salary_1m_bin, dtype: int64"
            ]
          },
          "metadata": {},
          "execution_count": 21
        }
      ]
    },
    {
      "cell_type": "code",
      "metadata": {
        "colab": {
          "base_uri": "https://localhost:8080/",
          "height": 864
        },
        "id": "6gCKu5xg1lir",
        "outputId": "4915fa97-677a-4e75-f888-6c5bd2bdea3e"
      },
      "source": [
        "res4 = nba.groupby('salary_1m_bin')[['Salary']].agg('mean').reset_index()\n",
        "res4"
      ],
      "execution_count": 22,
      "outputs": [
        {
          "output_type": "execute_result",
          "data": {
            "text/plain": [
              "   salary_1m_bin      Salary\n",
              "0              0   683733.07\n",
              "1        1000000  1372202.09\n",
              "2        2000000  2568824.32\n",
              "3        3000000  3519556.55\n",
              "4        4000000  4511048.69\n",
              "5        5000000  5423806.62\n",
              "6        6000000  6595117.24\n",
              "7        7000000  7679818.38\n",
              "8        8000000  8438629.55\n",
              "9        9000000  9601274.75\n",
              "10      10000000 10380190.50\n",
              "11      11000000 11638231.18\n",
              "12      12000000 12586157.29\n",
              "13      13000000 13577585.00\n",
              "14      14000000 14501185.00\n",
              "15      15000000 15648739.56\n",
              "16      16000000 16455602.71\n",
              "17      17000000 17120106.00\n",
              "18      18000000 18789692.50\n",
              "19      19000000 19740666.67\n",
              "20      20000000 20125843.00\n",
              "21      21000000 21468695.00\n",
              "22      22000000 22599398.50\n",
              "23      23000000         NaN\n",
              "24      24000000 25000000.00\n",
              "25      25000000         NaN"
            ],
            "text/html": [
              "\n",
              "  <div id=\"df-96fe7a9f-9298-4904-a2ae-f72aed9ca099\">\n",
              "    <div class=\"colab-df-container\">\n",
              "      <div>\n",
              "<style scoped>\n",
              "    .dataframe tbody tr th:only-of-type {\n",
              "        vertical-align: middle;\n",
              "    }\n",
              "\n",
              "    .dataframe tbody tr th {\n",
              "        vertical-align: top;\n",
              "    }\n",
              "\n",
              "    .dataframe thead th {\n",
              "        text-align: right;\n",
              "    }\n",
              "</style>\n",
              "<table border=\"1\" class=\"dataframe\">\n",
              "  <thead>\n",
              "    <tr style=\"text-align: right;\">\n",
              "      <th></th>\n",
              "      <th>salary_1m_bin</th>\n",
              "      <th>Salary</th>\n",
              "    </tr>\n",
              "  </thead>\n",
              "  <tbody>\n",
              "    <tr>\n",
              "      <th>0</th>\n",
              "      <td>0</td>\n",
              "      <td>683733.07</td>\n",
              "    </tr>\n",
              "    <tr>\n",
              "      <th>1</th>\n",
              "      <td>1000000</td>\n",
              "      <td>1372202.09</td>\n",
              "    </tr>\n",
              "    <tr>\n",
              "      <th>2</th>\n",
              "      <td>2000000</td>\n",
              "      <td>2568824.32</td>\n",
              "    </tr>\n",
              "    <tr>\n",
              "      <th>3</th>\n",
              "      <td>3000000</td>\n",
              "      <td>3519556.55</td>\n",
              "    </tr>\n",
              "    <tr>\n",
              "      <th>4</th>\n",
              "      <td>4000000</td>\n",
              "      <td>4511048.69</td>\n",
              "    </tr>\n",
              "    <tr>\n",
              "      <th>5</th>\n",
              "      <td>5000000</td>\n",
              "      <td>5423806.62</td>\n",
              "    </tr>\n",
              "    <tr>\n",
              "      <th>6</th>\n",
              "      <td>6000000</td>\n",
              "      <td>6595117.24</td>\n",
              "    </tr>\n",
              "    <tr>\n",
              "      <th>7</th>\n",
              "      <td>7000000</td>\n",
              "      <td>7679818.38</td>\n",
              "    </tr>\n",
              "    <tr>\n",
              "      <th>8</th>\n",
              "      <td>8000000</td>\n",
              "      <td>8438629.55</td>\n",
              "    </tr>\n",
              "    <tr>\n",
              "      <th>9</th>\n",
              "      <td>9000000</td>\n",
              "      <td>9601274.75</td>\n",
              "    </tr>\n",
              "    <tr>\n",
              "      <th>10</th>\n",
              "      <td>10000000</td>\n",
              "      <td>10380190.50</td>\n",
              "    </tr>\n",
              "    <tr>\n",
              "      <th>11</th>\n",
              "      <td>11000000</td>\n",
              "      <td>11638231.18</td>\n",
              "    </tr>\n",
              "    <tr>\n",
              "      <th>12</th>\n",
              "      <td>12000000</td>\n",
              "      <td>12586157.29</td>\n",
              "    </tr>\n",
              "    <tr>\n",
              "      <th>13</th>\n",
              "      <td>13000000</td>\n",
              "      <td>13577585.00</td>\n",
              "    </tr>\n",
              "    <tr>\n",
              "      <th>14</th>\n",
              "      <td>14000000</td>\n",
              "      <td>14501185.00</td>\n",
              "    </tr>\n",
              "    <tr>\n",
              "      <th>15</th>\n",
              "      <td>15000000</td>\n",
              "      <td>15648739.56</td>\n",
              "    </tr>\n",
              "    <tr>\n",
              "      <th>16</th>\n",
              "      <td>16000000</td>\n",
              "      <td>16455602.71</td>\n",
              "    </tr>\n",
              "    <tr>\n",
              "      <th>17</th>\n",
              "      <td>17000000</td>\n",
              "      <td>17120106.00</td>\n",
              "    </tr>\n",
              "    <tr>\n",
              "      <th>18</th>\n",
              "      <td>18000000</td>\n",
              "      <td>18789692.50</td>\n",
              "    </tr>\n",
              "    <tr>\n",
              "      <th>19</th>\n",
              "      <td>19000000</td>\n",
              "      <td>19740666.67</td>\n",
              "    </tr>\n",
              "    <tr>\n",
              "      <th>20</th>\n",
              "      <td>20000000</td>\n",
              "      <td>20125843.00</td>\n",
              "    </tr>\n",
              "    <tr>\n",
              "      <th>21</th>\n",
              "      <td>21000000</td>\n",
              "      <td>21468695.00</td>\n",
              "    </tr>\n",
              "    <tr>\n",
              "      <th>22</th>\n",
              "      <td>22000000</td>\n",
              "      <td>22599398.50</td>\n",
              "    </tr>\n",
              "    <tr>\n",
              "      <th>23</th>\n",
              "      <td>23000000</td>\n",
              "      <td>NaN</td>\n",
              "    </tr>\n",
              "    <tr>\n",
              "      <th>24</th>\n",
              "      <td>24000000</td>\n",
              "      <td>25000000.00</td>\n",
              "    </tr>\n",
              "    <tr>\n",
              "      <th>25</th>\n",
              "      <td>25000000</td>\n",
              "      <td>NaN</td>\n",
              "    </tr>\n",
              "  </tbody>\n",
              "</table>\n",
              "</div>\n",
              "      <button class=\"colab-df-convert\" onclick=\"convertToInteractive('df-96fe7a9f-9298-4904-a2ae-f72aed9ca099')\"\n",
              "              title=\"Convert this dataframe to an interactive table.\"\n",
              "              style=\"display:none;\">\n",
              "        \n",
              "  <svg xmlns=\"http://www.w3.org/2000/svg\" height=\"24px\"viewBox=\"0 0 24 24\"\n",
              "       width=\"24px\">\n",
              "    <path d=\"M0 0h24v24H0V0z\" fill=\"none\"/>\n",
              "    <path d=\"M18.56 5.44l.94 2.06.94-2.06 2.06-.94-2.06-.94-.94-2.06-.94 2.06-2.06.94zm-11 1L8.5 8.5l.94-2.06 2.06-.94-2.06-.94L8.5 2.5l-.94 2.06-2.06.94zm10 10l.94 2.06.94-2.06 2.06-.94-2.06-.94-.94-2.06-.94 2.06-2.06.94z\"/><path d=\"M17.41 7.96l-1.37-1.37c-.4-.4-.92-.59-1.43-.59-.52 0-1.04.2-1.43.59L10.3 9.45l-7.72 7.72c-.78.78-.78 2.05 0 2.83L4 21.41c.39.39.9.59 1.41.59.51 0 1.02-.2 1.41-.59l7.78-7.78 2.81-2.81c.8-.78.8-2.07 0-2.86zM5.41 20L4 18.59l7.72-7.72 1.47 1.35L5.41 20z\"/>\n",
              "  </svg>\n",
              "      </button>\n",
              "      \n",
              "  <style>\n",
              "    .colab-df-container {\n",
              "      display:flex;\n",
              "      flex-wrap:wrap;\n",
              "      gap: 12px;\n",
              "    }\n",
              "\n",
              "    .colab-df-convert {\n",
              "      background-color: #E8F0FE;\n",
              "      border: none;\n",
              "      border-radius: 50%;\n",
              "      cursor: pointer;\n",
              "      display: none;\n",
              "      fill: #1967D2;\n",
              "      height: 32px;\n",
              "      padding: 0 0 0 0;\n",
              "      width: 32px;\n",
              "    }\n",
              "\n",
              "    .colab-df-convert:hover {\n",
              "      background-color: #E2EBFA;\n",
              "      box-shadow: 0px 1px 2px rgba(60, 64, 67, 0.3), 0px 1px 3px 1px rgba(60, 64, 67, 0.15);\n",
              "      fill: #174EA6;\n",
              "    }\n",
              "\n",
              "    [theme=dark] .colab-df-convert {\n",
              "      background-color: #3B4455;\n",
              "      fill: #D2E3FC;\n",
              "    }\n",
              "\n",
              "    [theme=dark] .colab-df-convert:hover {\n",
              "      background-color: #434B5C;\n",
              "      box-shadow: 0px 1px 3px 1px rgba(0, 0, 0, 0.15);\n",
              "      filter: drop-shadow(0px 1px 2px rgba(0, 0, 0, 0.3));\n",
              "      fill: #FFFFFF;\n",
              "    }\n",
              "  </style>\n",
              "\n",
              "      <script>\n",
              "        const buttonEl =\n",
              "          document.querySelector('#df-96fe7a9f-9298-4904-a2ae-f72aed9ca099 button.colab-df-convert');\n",
              "        buttonEl.style.display =\n",
              "          google.colab.kernel.accessAllowed ? 'block' : 'none';\n",
              "\n",
              "        async function convertToInteractive(key) {\n",
              "          const element = document.querySelector('#df-96fe7a9f-9298-4904-a2ae-f72aed9ca099');\n",
              "          const dataTable =\n",
              "            await google.colab.kernel.invokeFunction('convertToInteractive',\n",
              "                                                     [key], {});\n",
              "          if (!dataTable) return;\n",
              "\n",
              "          const docLinkHtml = 'Like what you see? Visit the ' +\n",
              "            '<a target=\"_blank\" href=https://colab.research.google.com/notebooks/data_table.ipynb>data table notebook</a>'\n",
              "            + ' to learn more about interactive tables.';\n",
              "          element.innerHTML = '';\n",
              "          dataTable['output_type'] = 'display_data';\n",
              "          await google.colab.output.renderOutput(dataTable, element);\n",
              "          const docLink = document.createElement('div');\n",
              "          docLink.innerHTML = docLinkHtml;\n",
              "          element.appendChild(docLink);\n",
              "        }\n",
              "      </script>\n",
              "    </div>\n",
              "  </div>\n",
              "  "
            ]
          },
          "metadata": {},
          "execution_count": 22
        }
      ]
    },
    {
      "cell_type": "code",
      "metadata": {
        "colab": {
          "base_uri": "https://localhost:8080/",
          "height": 606
        },
        "id": "l7FPHzNy2l4w",
        "outputId": "65927a51-2bcc-4345-9620-51444c899f63"
      },
      "source": [
        "plt.figure(figsize=(10,10))\n",
        "sns.barplot(data=res4,  x='Salary', y='salary_1m_bin')\n",
        "plt.ticklabel_format(style='plain', axis='x')"
      ],
      "execution_count": 23,
      "outputs": [
        {
          "output_type": "display_data",
          "data": {
            "text/plain": [
              "<Figure size 720x720 with 1 Axes>"
            ],
            "image/png": "[encoded data removed]"
          },
          "metadata": {
            "needs_background": "light"
          }
        }
      ]
    }
  ]
}