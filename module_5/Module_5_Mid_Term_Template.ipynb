{
  "nbformat": 4,
  "nbformat_minor": 0,
  "metadata": {
    "colab": {
      "provenance": [],
      "authorship_tag": "ABX9TyO+yp0nx+TdZueB15kz2DG2",
      "include_colab_link": true
    },
    "kernelspec": {
      "name": "python3",
      "display_name": "Python 3"
    },
    "language_info": {
      "name": "python"
    }
  },
  "cells": [
    {
      "cell_type": "markdown",
      "metadata": {
        "id": "view-in-github",
        "colab_type": "text"
      },
      "source": [
        "<a href=\"https://colab.research.google.com/github/MonkeyWrenchGang/MGTPython/blob/main/module_5/Module_5_Mid_Term_Template.ipynb\" target=\"_parent\"><img src=\"https://colab.research.google.com/assets/colab-badge.svg\" alt=\"Open In Colab\"/></a>"
      ]
    },
    {
      "cell_type": "markdown",
      "source": [
        "# MIDTERM : Analytics Technology \n",
        "\n",
        "\n",
        "---\n",
        "\n",
        "In this assignment you are going to have several tasks: \n",
        "\n",
        "1.\tImport several CSV files:\n",
        "  -\tPhysicians \n",
        "  -\tScripts (files 1 – 10) \n",
        "  -\tZip Codes \n",
        "\n",
        "2.\tCreate provider summary and org summary tables \n",
        "\n",
        "3.\tThere are 10 analysis questions each requiring a TABLE and at least 1 CHART (Barplot) To get the results you’ll likely need to break things up into steps and perform various steps including:\n",
        "  -\tQuery to filter data \n",
        "  -\tMerge  to join data \n",
        "  -\tN-largest / N-smallest (top N, Bottom N) \n",
        "  -\tConcat to append datasets together \n",
        "  -\tagg (sum, count, mean, min, max) \n",
        "  -\tcreate barplots using seaborn \n",
        "  -\tRename columns using df.column = [“col1”,”col2”,…]\n",
        "\n",
        "4.\tDevise 5 of your own analysis questions answered with tables and visualizations \n",
        "\n",
        "6. Extra Credit\n"
      ],
      "metadata": {
        "id": "jtiIitMbQ7a7"
      }
    },
    {
      "cell_type": "code",
      "execution_count": null,
      "metadata": {
        "id": "ymtPU1HEQ3XA"
      },
      "outputs": [],
      "source": [
        "# --------------------------------\n",
        "import warnings\n",
        "warnings.filterwarnings('ignore')\n",
        "# --------------------------------\n",
        "\n",
        "import pandas as pd\n",
        "import numpy as np\n",
        "import matplotlib.pyplot  as plt\n",
        "import seaborn as sns\n",
        "\n",
        "%matplotlib inline"
      ]
    },
    {
      "cell_type": "markdown",
      "source": [
        "## Import Data\n",
        "\n",
        "\n",
        "---\n",
        "\n",
        "You are provided several files you'll need to import the files and append (concat) them into a single table after you import. \n",
        "\n",
        "```python\n",
        "example = pd.concat([\"phys1\",\"phys2\",\"phys3\"],axis=0)\n",
        "example.head()\n",
        "```\n",
        "\n",
        "**Providers:**\n",
        "\n",
        "https://raw.githubusercontent.com/MonkeyWrenchGang/MGTPython/main/module_5/mid-term/scnctn_physicians_1.csv\n",
        "https://raw.githubusercontent.com/MonkeyWrenchGang/MGTPython/main/module_5/mid-term/scnctn_physicians_2.csv\n",
        "https://raw.githubusercontent.com/MonkeyWrenchGang/MGTPython/main/module_5/mid-term/scnctn_physicians_3.csv\n",
        "\n",
        "**Prescriptions:**\n",
        "\n",
        "https://raw.githubusercontent.com/MonkeyWrenchGang/MGTPython/main/module_5/mid-term/scnctn_scripts_1.csv\n",
        "https://raw.githubusercontent.com/MonkeyWrenchGang/MGTPython/main/module_5/mid-term/scnctn_scripts_2.csv\n",
        "https://raw.githubusercontent.com/MonkeyWrenchGang/MGTPython/main/module_5/mid-term/scnctn_scripts_3.csv\n",
        "https://raw.githubusercontent.com/MonkeyWrenchGang/MGTPython/main/module_5/mid-term/scnctn_scripts_4.csv\n",
        "https://raw.githubusercontent.com/MonkeyWrenchGang/MGTPython/main/module_5/mid-term/scnctn_scripts_5.csv\n",
        "https://raw.githubusercontent.com/MonkeyWrenchGang/MGTPython/main/module_5/mid-term/scnctn_scripts_6.csv\n",
        "https://raw.githubusercontent.com/MonkeyWrenchGang/MGTPython/main/module_5/mid-term/scnctn_scripts_7.csv\n",
        "https://raw.githubusercontent.com/MonkeyWrenchGang/MGTPython/main/module_5/mid-term/scnctn_scripts_8.csv\n",
        "https://raw.githubusercontent.com/MonkeyWrenchGang/MGTPython/main/module_5/mid-term/scnctn_scripts_9.csv\n",
        "https://raw.githubusercontent.com/MonkeyWrenchGang/MGTPython/main/module_5/mid-term/scnctn_scripts_10.csv\n",
        "\n",
        "**Zips:**\n",
        "\"https://raw.githubusercontent.com/MonkeyWrenchGang/MGTPython/main/module_5/mid-term/zipcode_usa.csv\"\n",
        "\n",
        "NOTE: zips is delimited by `;`\n",
        "```python\n",
        "\n",
        "zips = pd.read_csv(\"https://raw.githubusercontent.com/MonkeyWrenchGang/MGTPython/main/module_5/mid-term/zipcode_usa.csv\",sep=\";\")\n",
        "zips.head()\n",
        "```\n",
        "\n",
        "My advice is to clean up the column names using:\n",
        "```python\n",
        "zips.columns = ( zips.columns\n",
        "    .str.strip()\n",
        "    .str.lower()\n",
        "    .str.replace(' ', '_')\n",
        "    .str.replace('-', '_')\n",
        "    .str.replace('(', '')\n",
        "    .str.replace(')', '')\n",
        "    .str.replace('?', '')\n",
        "    .str.replace('\\'', '') # notice the backslash \\ this is an escape character\n",
        ")\n",
        "print(zips.columns)\n",
        "zips.head()\n",
        "```"
      ],
      "metadata": {
        "id": "OOfyxQKZRipa"
      }
    },
    {
      "cell_type": "code",
      "source": [
        "# import steps"
      ],
      "metadata": {
        "id": "C2jgSEadRiyw"
      },
      "execution_count": null,
      "outputs": []
    },
    {
      "cell_type": "code",
      "source": [
        "# import steps"
      ],
      "metadata": {
        "id": "a7Rf4UxcSoQj"
      },
      "execution_count": null,
      "outputs": []
    },
    {
      "cell_type": "code",
      "source": [
        "# import steps"
      ],
      "metadata": {
        "id": "nDio1r7fSoeW"
      },
      "execution_count": null,
      "outputs": []
    },
    {
      "cell_type": "markdown",
      "source": [
        "## TASK 2 – STRUCTURE \n",
        "\n",
        "\n",
        "\n",
        "---\n",
        "\n",
        "### TASK 2A - Create Provider Summary \n",
        "\n",
        "### TASK 2b - Create Org Summary \n"
      ],
      "metadata": {
        "id": "sjphiP1DRi6j"
      }
    },
    {
      "cell_type": "code",
      "source": [],
      "metadata": {
        "id": "9q1FmKMORjCV"
      },
      "execution_count": null,
      "outputs": []
    },
    {
      "cell_type": "code",
      "source": [],
      "metadata": {
        "id": "V4wXaA_JS4-G"
      },
      "execution_count": null,
      "outputs": []
    },
    {
      "cell_type": "markdown",
      "source": [
        "# TASK 3 - ANALYSIS \n",
        "\n",
        "\n",
        "\n",
        "---\n",
        "\n",
        "There are 10 analysis tasks, requiring you to build a table (RESnn) and at least one bar-chart. For each analysis add a Markdown Cell at the top denoting which analysis step this is. i've added an example for Analysis result 1\n"
      ],
      "metadata": {
        "id": "DHdki1nBRjJ4"
      }
    },
    {
      "cell_type": "markdown",
      "source": [
        "## RES01:  “TOP 10 MEDICARE PROVIDERS BY TOT_MDCR_PYMT_AMT”\n",
        "\n",
        "\n",
        "---\n",
        "\n",
        "\n"
      ],
      "metadata": {
        "id": "Mw_nI4mQTXIB"
      }
    },
    {
      "cell_type": "code",
      "source": [],
      "metadata": {
        "id": "LfRNfnPDRjP4"
      },
      "execution_count": null,
      "outputs": []
    },
    {
      "cell_type": "markdown",
      "source": [
        "## RES02: TITLE “TOP 10 MEDICARE ORGANIZATIONS BY TOT_MDCR_PYMT_AMT”\n",
        "\n",
        "\n",
        "---\n",
        "\n"
      ],
      "metadata": {
        "id": "5pDbHZIjRjYN"
      }
    },
    {
      "cell_type": "code",
      "source": [],
      "metadata": {
        "id": "KwpDaR2dRjfA"
      },
      "execution_count": null,
      "outputs": []
    },
    {
      "cell_type": "markdown",
      "source": [
        "## RES03: TITLE “NURSE PRACTITIONERS BY STATE”\n",
        "\n",
        "\n",
        "---\n",
        "\n"
      ],
      "metadata": {
        "id": "eovuOX3wRjlw"
      }
    },
    {
      "cell_type": "code",
      "source": [],
      "metadata": {
        "id": "XAd4R3Y9Rjsi"
      },
      "execution_count": null,
      "outputs": []
    },
    {
      "cell_type": "markdown",
      "source": [
        "## RES04: TITLE “ORGANIZATION TOTAL SPENDING BY STATE\n",
        "\n",
        "\n",
        "---\n",
        "\n"
      ],
      "metadata": {
        "id": "gTkE5IPARjzk"
      }
    },
    {
      "cell_type": "code",
      "source": [],
      "metadata": {
        "id": "XbOfo1pKRj6m"
      },
      "execution_count": null,
      "outputs": []
    },
    {
      "cell_type": "markdown",
      "source": [
        "## RES05: TITLE “TOP 5 ORG SPENDING BY STATE AND SPECIALTY”\n",
        "\n",
        "\n",
        "---\n",
        "\n"
      ],
      "metadata": {
        "id": "JlqRwGpuUL8B"
      }
    },
    {
      "cell_type": "code",
      "source": [],
      "metadata": {
        "id": "WTVnjfDfUMDy"
      },
      "execution_count": null,
      "outputs": []
    },
    {
      "cell_type": "markdown",
      "source": [
        "## RES06: TITLE “TOP 5 PROVIDERs by SPENDING SPECIALTY”\n",
        "\n",
        "---\n",
        "\n"
      ],
      "metadata": {
        "id": "AYl0WeSlUMMH"
      }
    },
    {
      "cell_type": "code",
      "source": [],
      "metadata": {
        "id": "rte2vM1rUMSr"
      },
      "execution_count": null,
      "outputs": []
    },
    {
      "cell_type": "markdown",
      "source": [
        "## RES07: TITLE “TOP 10 GENERIC OPIATES BY TOTAL DAY SUPPLY”\n",
        "\n",
        "\n",
        "---\n",
        "\n",
        "\n"
      ],
      "metadata": {
        "id": "eYjN3GjqUMZs"
      }
    },
    {
      "cell_type": "code",
      "source": [],
      "metadata": {
        "id": "Ztni_w-dUMg9"
      },
      "execution_count": null,
      "outputs": []
    },
    {
      "cell_type": "markdown",
      "source": [
        "## RES08: TITLE “TOP 10 MOST EXPENSIVE DRUGS”\n",
        "\n",
        "\n",
        "---\n",
        "\n"
      ],
      "metadata": {
        "id": "9tzr4sEaUMoB"
      }
    },
    {
      "cell_type": "code",
      "source": [],
      "metadata": {
        "id": "BdMztX4YUMvT"
      },
      "execution_count": null,
      "outputs": []
    },
    {
      "cell_type": "markdown",
      "source": [
        "## RES09: TITLE “TOP 2 CITIES IN SC, NC, TN BY SUM OF TOTAL DAY SUPPLY FOR HYDROCODONE AND OXYCODONE”\n",
        "\n",
        "\n",
        "---\n",
        "\n"
      ],
      "metadata": {
        "id": "W3CPg2t8UM2W"
      }
    },
    {
      "cell_type": "code",
      "source": [],
      "metadata": {
        "id": "AQPW-5CqUM9Y"
      },
      "execution_count": null,
      "outputs": []
    },
    {
      "cell_type": "markdown",
      "source": [
        "## RES10: TITLE \"AN OPIATE A DAY\" \n",
        "\n",
        "\n",
        "---\n",
        "\n"
      ],
      "metadata": {
        "id": "JGGZTgOaUx1U"
      }
    },
    {
      "cell_type": "code",
      "source": [],
      "metadata": {
        "id": "KuQmBG9MUx-O"
      },
      "execution_count": null,
      "outputs": []
    },
    {
      "cell_type": "markdown",
      "source": [
        "# TASK 4 YOUR ANALYSIS \n",
        "\n",
        "\n",
        "---\n",
        "\n",
        "\n",
        "RES11: TITLE “YOUR ANALYSIS”\n",
        "\n",
        "RES12: TITLE “YOUR ANALYSIS”\n",
        "\n",
        "RES13: TITLE “YOUR ANALYSIS”\n",
        "\n",
        "RES14: TITLE “YOUR ANALYSIS”\n",
        "\n",
        "RES15: TITLE “YOUR ANALYSIS”\n",
        "\n"
      ],
      "metadata": {
        "id": "9QCxq9RzU6tx"
      }
    },
    {
      "cell_type": "code",
      "source": [],
      "metadata": {
        "id": "o2gOqedwVGjl"
      },
      "execution_count": null,
      "outputs": []
    },
    {
      "cell_type": "markdown",
      "source": [
        "# EXTRA CREDIT (2PTS)  \n",
        "\n",
        "\n",
        "---\n",
        "\n",
        "For each city in your RES09 and RES10 create a table of the approximate population 65 years and older, then repeat RES10 with your updated population estimates. For example: \n",
        "\n",
        "Knoxville TN about 13.9% is 65 and older. That's around 33,980 people according to US Census. What I'd do is create a CSV file or excel spreadsheet that i could simply update the 65 and older populations with, import it and re-run RES10 with that. \n",
        "\n"
      ],
      "metadata": {
        "id": "Up7xpCVcVG48"
      }
    }
  ]
}