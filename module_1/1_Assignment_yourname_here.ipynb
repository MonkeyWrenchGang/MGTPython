{
  "cells": [
    {
      "cell_type": "markdown",
      "metadata": {
        "id": "view-in-github",
        "colab_type": "text"
      },
      "source": [
        "<a href=\"https://colab.research.google.com/github/MonkeyWrenchGang/MGTPython/blob/main/module_1/1_Assignment_yourname_here.ipynb\" target=\"_parent\"><img src=\"https://colab.research.google.com/assets/colab-badge.svg\" alt=\"Open In Colab\"/></a>"
      ]
    },
    {
      "cell_type": "markdown",
      "metadata": {
        "id": "plxxhqomYt6F"
      },
      "source": [
        "## Assignment 1\n",
        "\n",
        "\n",
        "your name | email address\n",
        "\n",
        "---\n",
        "This is a simple assignment made up of 5 questions. Simply write the code to answer the question, be sure to print the result!\n",
        "\n",
        "For example:\n",
        "\n",
        "### Question 0 - sample\n",
        "\n",
        "value_1 = 10 / 2\n",
        "\n",
        "Is value_1 an integer or a float data type?\n",
        "\n",
        "```python\n",
        "\n",
        "value_1 = 10 / 2\n",
        "print(type(value_1))\n",
        "\n",
        "```\n",
        "\n",
        "\n"
      ]
    },
    {
      "cell_type": "markdown",
      "metadata": {
        "id": "fHIFiQnkYt6G"
      },
      "source": [
        "## Question 1\n",
        "\n",
        "\n",
        "The revenue of three companies is 215000, 205000, and 256000. Create three variables: revenue_1, revenue_2, and revenue_3. Calculate the total revenue and the average revenue of these companies creating new varaibles `total_revenue` and `avg_revenue`.\n",
        "\n",
        "- 1.1 Print the total_revenue and avg_revenue out.\n",
        "- 1.2 Print the variable types out using type.\n",
        "\n",
        "   \n",
        "```python\n",
        "revenue_1 = 215000\n",
        "revenue_2 = 205000\n",
        "revenue_3 = 256000\n",
        "```\n",
        "\n"
      ]
    },
    {
      "cell_type": "code",
      "execution_count": null,
      "metadata": {
        "id": "Bqh_M1bkYt6G"
      },
      "outputs": [],
      "source": []
    },
    {
      "cell_type": "markdown",
      "metadata": {
        "id": "-JGLgXV6Yt6H"
      },
      "source": [
        "## Question 2\n",
        "\n",
        "Variables in Python can hold a value of different data types. Variable names can contain letters, underscores, and numbers. Let's create three types of Python variables that might be useful. Create a three variables (variable_1, variable_2, and variable_3_ and assign them \"Apple\", \"Google\", \"Tesla\".\n",
        "\n",
        "- 2.1 Print each variable out using print.\n",
        "- 2.2 Print each variable type out using print.\n",
        "- 2.3 Print the length using the `len()` function of each varible.\n",
        "\n",
        "```python\n",
        "variable_1 = \"Apple\"\n",
        "variable_2 =\n",
        "variable_3 =\n",
        "```\n",
        "\n",
        "\n"
      ]
    },
    {
      "cell_type": "code",
      "execution_count": null,
      "metadata": {
        "id": "kWaXok90Yt6H"
      },
      "outputs": [],
      "source": []
    },
    {
      "cell_type": "markdown",
      "metadata": {
        "id": "IRMGrm8tYt6H"
      },
      "source": [
        "## Question 3\n",
        "\n",
        "You are going to buy a home in Wake County North Carolina and would like to estimate the value of potential hiomes in the area. A data scientist friend of yours gives you the following formula to use to predict a fair market price of a home.\n",
        "\n",
        "`PREDICTED_PRICE = 56366.8  + 124.5 * LIVING_SQFT + 40577.30 * LAND_ACRES -2896.4 * AGE_YEARS'\n",
        "\n",
        "Next, you have found three homes with the following prices and features, your job is to identify which home is most fairly priced using the equation above.\n",
        "\n",
        "Home 1: Market Price $500,000\n",
        "- LIVING_SQFT : 2000\n",
        "- LAND_ACRES  : 0.5\n",
        "- AGE_YEARS   : 1\n",
        "\n",
        "Home 2: Market Price $400,000\n",
        "- LIVING_SQFT : 3000\n",
        "- LAND_ACRES  : 0.25\n",
        "- AGE_YEARS   : 6\n",
        "\n",
        "Home 3: Market Price $350,000\n",
        "- LIVING_SQFT : 2500\n",
        "- LAND_ACRES  : 0.4\n",
        "- AGE_YEARS   : 10\n",
        "\n",
        "ANSWER:\n",
        "- 3.1 what are the predicted home prices for each home?\n",
        "- 3.2 which home is most fairly priced based on the equation above? is it over or under priced?\n",
        "\n",
        "\n",
        "\n"
      ]
    },
    {
      "cell_type": "code",
      "execution_count": null,
      "metadata": {
        "id": "43wF-PFNYt6H"
      },
      "outputs": [],
      "source": []
    },
    {
      "cell_type": "markdown",
      "metadata": {
        "id": "bqNIiA4PYt6H"
      },
      "source": [
        "## Question 4 - Lists\n",
        "\n",
        "Given the following list.\n",
        "\n",
        "my_list = [ \"orange\", \"bannana\", \"pear\", \"cherry\", \"apple\"]\n",
        "\n",
        "- 4.1 use the `len()` function print out the number of items in your list\n",
        "- 4.2 use the `append()` function to add \"kiwi\" to the list.\n",
        "- 4.3 use the `sort()` function to sort the list alphabetically.\n",
        "- 4.4 print the sorted list\n",
        "- 4.5 print out the 3rd item in the list\n",
        "  - hint python is indexed at 0 not 1\n",
        "\n",
        "\n",
        "\n",
        "\n",
        "\n",
        "\n"
      ]
    },
    {
      "cell_type": "markdown",
      "metadata": {
        "id": "Y-quVctqYt6I"
      },
      "source": [
        "## Question 5\n",
        "\n",
        "Given a the following dictionary answer the following quesitons:\n",
        "\n",
        "car_dict = {1:\"Honda\",\n",
        " 2:\"Toyota\",\n",
        " 3:\"Nissan\",\n",
        " 4:\"Ford\",\n",
        " 5:\"GMC\"}\n",
        "\n",
        "\n",
        "- 5.1 print out the value for dictionary key 3\n",
        "- 5.2 using car_dict add 6:\"Tesla\" to the dictionary\n",
        "- 5.3 print out the dictionary keys\n",
        "- 5.4 print out the dictionary values\n",
        "\n"
      ]
    },
    {
      "cell_type": "code",
      "execution_count": null,
      "metadata": {
        "id": "DFj3GFJSYt6I"
      },
      "outputs": [],
      "source": []
    },
    {
      "cell_type": "markdown",
      "metadata": {
        "id": "j9GyzkoAYt6I"
      },
      "source": [
        "## Great Job!\n",
        "Once you are done simply save your notebook, and File > Download it as HTML and submit it. notice you need to put the path to your notebook below - right click on your notebook in drive and paste it where it says /PATH/TO/YOUR/NOTEBOOKFILE.ipynb\n",
        "\n",
        "\n",
        "\n",
        "In colab use the convert to html snipit of code :\n",
        "\n",
        "```\n",
        "%%shell\n",
        "jupyter nbconvert --to html /PATH/TO/YOUR/NOTEBOOKFILE.ipynb\n",
        "```\n",
        "\n",
        "SO PUT A CODE BLOCK BELOW AND RUN IT!"
      ]
    },
    {
      "cell_type": "code",
      "source": [],
      "metadata": {
        "id": "mQt83NJgjkzg"
      },
      "execution_count": null,
      "outputs": []
    }
  ],
  "metadata": {
    "kernelspec": {
      "display_name": "Python 3",
      "language": "python",
      "name": "python3"
    },
    "language_info": {
      "codemirror_mode": {
        "name": "ipython",
        "version": 3
      },
      "file_extension": ".py",
      "mimetype": "text/x-python",
      "name": "python",
      "nbconvert_exporter": "python",
      "pygments_lexer": "ipython3",
      "version": "3.8.5"
    },
    "colab": {
      "provenance": [],
      "include_colab_link": true
    }
  },
  "nbformat": 4,
  "nbformat_minor": 0
}