{
  "nbformat": 4,
  "nbformat_minor": 0,
  "metadata": {
    "colab": {
      "provenance": []
    },
    "kernelspec": {
      "name": "python3",
      "display_name": "Python 3"
    },
    "language_info": {
      "name": "python"
    }
  },
  "cells": [
    {
      "cell_type": "markdown",
      "source": [
        "# Introduction to Python\n",
        "\n",
        "Python is a popular, high-level programming language that is widely used in web development, data science, scientific computing, and many other fields. It is known for its simplicity, readability, and flexibility, making it a great language for beginners to learn.\n",
        "\n",
        "In this notebook, we will introduce some of the basic concepts of Python, including its syntax, data types, and built-in functions. We will also cover some of the common operations and techniques that are used in Python programming.\n",
        "\n",
        "\n",
        "To run the code in this notebook, you can use the \"Run\" button in the toolbar at the top of the page, or you can press Shift+Enter on your keyboard to execute the code in the current cell. Try running the code below to print the classic \"Hello, World!\" message:"
      ],
      "metadata": {
        "id": "n3fxRF5JwnQf"
      }
    },
    {
      "cell_type": "code",
      "source": [
        "print(\"Hello world!\")"
      ],
      "metadata": {
        "colab": {
          "base_uri": "https://localhost:8080/"
        },
        "id": "90X6elKtw2sk",
        "outputId": "5b060519-eff7-41b9-94e0-1cbe55c1f413"
      },
      "execution_count": 70,
      "outputs": [
        {
          "output_type": "stream",
          "name": "stdout",
          "text": [
            "Hello world!\n"
          ]
        }
      ]
    },
    {
      "cell_type": "markdown",
      "source": [
        "# Getting Started w. Collabratory \n",
        "\n",
        "Google Colaboratory, or Colab for short, is a free cloud-based platform for developing and running Jupyter notebooks, which are interactive documents that combine text, code, and outputs. Colab is designed to be easy to use and accessible, and allows users to create and share notebooks that can be used for a variety of purposes, such as data analysis, machine learning, and scientific computing.\n",
        "\n",
        "Colab is built on top of the Jupyter notebook software, and is hosted on Google's cloud infrastructure, which provides powerful computational resources and high-performance networking. Colab notebooks run on virtual machines that are managed by Google, and can be accessed from any web browser, without the need to install any additional software or libraries.\n",
        "\n",
        "Colab is a popular platform among data scientists, machine learning engineers, and researchers, who use it to develop and share notebooks that can be easily run and reproduced by others. Colab also includes a number of features and tools that make it easy to collaborate and share notebooks with others, such as support for version control and real-time collaboration.\n",
        "\n",
        "Overall, Colab is a useful platform for developing and running Jupyter notebooks, and offers a convenient and powerful way to work with data and code on the cloud.\n",
        "\n",
        "For example, here is a code cell with a short Python script that computes a value, stores it in a variable, and prints the result:"
      ],
      "metadata": {
        "id": "zc265nJdstFW"
      }
    },
    {
      "cell_type": "code",
      "source": [
        "# this is a comment it does not get executed \n",
        "print(\"How many seconds are there in a day?\")\n",
        "seconds_in_a_day = 24 * 60 * 60\n",
        "print(\"There are {} seconds in a day! \".format(seconds_in_a_day))\n"
      ],
      "metadata": {
        "colab": {
          "base_uri": "https://localhost:8080/"
        },
        "id": "Ef9qmqIks2k7",
        "outputId": "db48d5e0-1991-4d79-bc0c-9537e50ca7a2"
      },
      "execution_count": 71,
      "outputs": [
        {
          "output_type": "stream",
          "name": "stdout",
          "text": [
            "How many seconds are there in a day?\n",
            "There are 86400 seconds in a day! \n"
          ]
        }
      ]
    },
    {
      "cell_type": "markdown",
      "source": [
        "To execute the code in the above cell, select it with a click and then either press the play button to the left of the code, or use the keyboard shortcut \"Command/Ctrl+Enter\". To edit the code, just click the cell and start editing.\n",
        "\n",
        "Variables that you define in one cell can later be used in other cells:"
      ],
      "metadata": {
        "id": "fiKBoOL6tdz2"
      }
    },
    {
      "cell_type": "code",
      "source": [
        "seconds_in_a_week = 7 * seconds_in_a_day\n",
        "seconds_in_a_week"
      ],
      "metadata": {
        "colab": {
          "base_uri": "https://localhost:8080/"
        },
        "id": "7M7mr_O3tgS-",
        "outputId": "564a8733-c366-4134-8639-caa2ffab8c6c"
      },
      "execution_count": 72,
      "outputs": [
        {
          "output_type": "execute_result",
          "data": {
            "text/plain": [
              "604800"
            ]
          },
          "metadata": {},
          "execution_count": 72
        }
      ]
    },
    {
      "cell_type": "markdown",
      "source": [
        "Colab notebooks allow you to combine executable code and rich text in a single document, along with images, HTML, LaTeX and more. When you create your own Colab notebooks, they are stored in your Google Drive account. You can easily share your Colab notebooks with co-workers or friends, allowing them to comment on your notebooks or even edit them. To learn more, see Overview of Colab. To create a new Colab notebook you can use the File menu above, or use the following link: create a new Colab notebook.\n",
        "\n",
        "Colab notebooks are Jupyter notebooks that are hosted by Colab. To learn more about the Jupyter project, see jupyter.org.\n",
        "\n",
        "updated the following piece of code and run it:"
      ],
      "metadata": {
        "id": "iKYqo0Uctjz_"
      }
    },
    {
      "cell_type": "code",
      "source": [
        "your_name = \"insert your name here \"\n",
        "print(your_name)\n"
      ],
      "metadata": {
        "colab": {
          "base_uri": "https://localhost:8080/"
        },
        "id": "FuclbjVctlkQ",
        "outputId": "8d86693c-c987-4aa3-b01b-c773d857f0ad"
      },
      "execution_count": 73,
      "outputs": [
        {
          "output_type": "stream",
          "name": "stdout",
          "text": [
            "insert your name here \n"
          ]
        }
      ]
    },
    {
      "cell_type": "markdown",
      "source": [
        "# Introduction to Pandas\n",
        "Pandas is a powerful and flexible open-source library for data manipulation and analysis in Python. It is built on top of the NumPy library, and provides a rich set of tools and data structures for working with structured and tabular data.\n",
        "\n",
        "Pandas is widely used in the fields of data science, machine learning, and scientific computing, and is known for its ability to handle large and complex datasets with ease. It is also highly customizable and extensible, allowing users to develop and deploy their own data analysis solutions.\n",
        "\n",
        "To use pandas in your Python code, you need to import the pandas module, which provides a number of data structures and tools for working with data:\n",
        "\n",
        "```\n",
        "import pandas as pd\n",
        "\n",
        "```\n",
        "The most important data structure in pandas is the DataFrame, which represents tabular data with rows and columns. You can create a DataFrame from a variety of sources, such as a CSV file, a SQL database, or a Python dictionary. Once you have a DataFrame, you can use pandas to perform a variety of operations on it, such as selecting, filtering, and transforming the data.\n",
        "\n",
        "For example, the following code creates a DataFrame, named df, from a CSV file and prints the first 5 rows:\n",
        "\n",
        "```\n",
        "df = pd.read_csv('my_data.csv')\n",
        "df.head()\n",
        "\n",
        "```\n",
        "\n",
        "To get started run the following lines of code to analyze AirBnb data from Asheville NC that was scrapped September 2022 by http://insideairbnb.com/asheville/ :"
      ],
      "metadata": {
        "id": "tL5CdONu0VwB"
      }
    },
    {
      "cell_type": "code",
      "source": [
        "# 1. run this first\n",
        "import pandas as pd"
      ],
      "metadata": {
        "id": "fMHANZrB1roV"
      },
      "execution_count": 74,
      "outputs": []
    },
    {
      "cell_type": "code",
      "source": [
        "# 2. run this to create a dataframe named abnb \n",
        "abnb = pd.read_csv(\"https://raw.githubusercontent.com/MonkeyWrenchGang/MGTPython/main/module_1/data/asheville_listings_abnb_2022.csv\")\n",
        "abnb.head()"
      ],
      "metadata": {
        "colab": {
          "base_uri": "https://localhost:8080/",
          "height": 374
        },
        "id": "lM5qQOou1vfs",
        "outputId": "893382ce-f408-43e9-e0db-aa543fd5cb64"
      },
      "execution_count": 75,
      "outputs": [
        {
          "output_type": "execute_result",
          "data": {
            "text/plain": [
              "       id                                               name  host_id  \\\n",
              "0  108061  Walk to stores/parks/downtown. Fenced yard/Pet...   320564   \n",
              "1  155305                 Cottage! BonPaul + Sharky's Hostel   746673   \n",
              "2  156805                  Private Room \"Ader\" at BPS Hostel   746673   \n",
              "3  156926             Mixed Dorm \"Top Bunk #1\" at BPS Hostel   746673   \n",
              "4  197263                       Tranquil Room & Private Bath   961396   \n",
              "\n",
              "  host_name  neighbourhood_group  neighbourhood  latitude  longitude  \\\n",
              "0      Lisa                  NaN          28801  35.60670  -82.55563   \n",
              "1   BonPaul                  NaN          28806  35.57864  -82.59578   \n",
              "2   BonPaul                  NaN          28806  35.57864  -82.59578   \n",
              "3   BonPaul                  NaN          28806  35.57864  -82.59578   \n",
              "4      Timo                  NaN          28806  35.57808  -82.63689   \n",
              "\n",
              "         room_type  price  minimum_nights  number_of_reviews last_review  \\\n",
              "0  Entire home/apt    120              30                 90  2021-12-19   \n",
              "1  Entire home/apt    100               1                369  2022-08-30   \n",
              "2     Private room     66               1                 67  2020-01-01   \n",
              "3      Shared room     30               1                315  2022-08-23   \n",
              "4     Private room     45               2                 60  2022-08-21   \n",
              "\n",
              "   reviews_per_month  calculated_host_listings_count  availability_365  \\\n",
              "0               0.67                               2               310   \n",
              "1               2.72                               7                84   \n",
              "2               0.50                               7                 0   \n",
              "3               2.34                               7               106   \n",
              "4               0.49                               2                70   \n",
              "\n",
              "   number_of_reviews_ltm  license  \n",
              "0                      1      NaN  \n",
              "1                     35      NaN  \n",
              "2                      0      NaN  \n",
              "3                     26      NaN  \n",
              "4                     22      NaN  "
            ],
            "text/html": [
              "\n",
              "  <div id=\"df-b4ebd867-d62e-4c7c-bbf8-ad7f1b4a07fd\">\n",
              "    <div class=\"colab-df-container\">\n",
              "      <div>\n",
              "<style scoped>\n",
              "    .dataframe tbody tr th:only-of-type {\n",
              "        vertical-align: middle;\n",
              "    }\n",
              "\n",
              "    .dataframe tbody tr th {\n",
              "        vertical-align: top;\n",
              "    }\n",
              "\n",
              "    .dataframe thead th {\n",
              "        text-align: right;\n",
              "    }\n",
              "</style>\n",
              "<table border=\"1\" class=\"dataframe\">\n",
              "  <thead>\n",
              "    <tr style=\"text-align: right;\">\n",
              "      <th></th>\n",
              "      <th>id</th>\n",
              "      <th>name</th>\n",
              "      <th>host_id</th>\n",
              "      <th>host_name</th>\n",
              "      <th>neighbourhood_group</th>\n",
              "      <th>neighbourhood</th>\n",
              "      <th>latitude</th>\n",
              "      <th>longitude</th>\n",
              "      <th>room_type</th>\n",
              "      <th>price</th>\n",
              "      <th>minimum_nights</th>\n",
              "      <th>number_of_reviews</th>\n",
              "      <th>last_review</th>\n",
              "      <th>reviews_per_month</th>\n",
              "      <th>calculated_host_listings_count</th>\n",
              "      <th>availability_365</th>\n",
              "      <th>number_of_reviews_ltm</th>\n",
              "      <th>license</th>\n",
              "    </tr>\n",
              "  </thead>\n",
              "  <tbody>\n",
              "    <tr>\n",
              "      <th>0</th>\n",
              "      <td>108061</td>\n",
              "      <td>Walk to stores/parks/downtown. Fenced yard/Pet...</td>\n",
              "      <td>320564</td>\n",
              "      <td>Lisa</td>\n",
              "      <td>NaN</td>\n",
              "      <td>28801</td>\n",
              "      <td>35.60670</td>\n",
              "      <td>-82.55563</td>\n",
              "      <td>Entire home/apt</td>\n",
              "      <td>120</td>\n",
              "      <td>30</td>\n",
              "      <td>90</td>\n",
              "      <td>2021-12-19</td>\n",
              "      <td>0.67</td>\n",
              "      <td>2</td>\n",
              "      <td>310</td>\n",
              "      <td>1</td>\n",
              "      <td>NaN</td>\n",
              "    </tr>\n",
              "    <tr>\n",
              "      <th>1</th>\n",
              "      <td>155305</td>\n",
              "      <td>Cottage! BonPaul + Sharky's Hostel</td>\n",
              "      <td>746673</td>\n",
              "      <td>BonPaul</td>\n",
              "      <td>NaN</td>\n",
              "      <td>28806</td>\n",
              "      <td>35.57864</td>\n",
              "      <td>-82.59578</td>\n",
              "      <td>Entire home/apt</td>\n",
              "      <td>100</td>\n",
              "      <td>1</td>\n",
              "      <td>369</td>\n",
              "      <td>2022-08-30</td>\n",
              "      <td>2.72</td>\n",
              "      <td>7</td>\n",
              "      <td>84</td>\n",
              "      <td>35</td>\n",
              "      <td>NaN</td>\n",
              "    </tr>\n",
              "    <tr>\n",
              "      <th>2</th>\n",
              "      <td>156805</td>\n",
              "      <td>Private Room \"Ader\" at BPS Hostel</td>\n",
              "      <td>746673</td>\n",
              "      <td>BonPaul</td>\n",
              "      <td>NaN</td>\n",
              "      <td>28806</td>\n",
              "      <td>35.57864</td>\n",
              "      <td>-82.59578</td>\n",
              "      <td>Private room</td>\n",
              "      <td>66</td>\n",
              "      <td>1</td>\n",
              "      <td>67</td>\n",
              "      <td>2020-01-01</td>\n",
              "      <td>0.50</td>\n",
              "      <td>7</td>\n",
              "      <td>0</td>\n",
              "      <td>0</td>\n",
              "      <td>NaN</td>\n",
              "    </tr>\n",
              "    <tr>\n",
              "      <th>3</th>\n",
              "      <td>156926</td>\n",
              "      <td>Mixed Dorm \"Top Bunk #1\" at BPS Hostel</td>\n",
              "      <td>746673</td>\n",
              "      <td>BonPaul</td>\n",
              "      <td>NaN</td>\n",
              "      <td>28806</td>\n",
              "      <td>35.57864</td>\n",
              "      <td>-82.59578</td>\n",
              "      <td>Shared room</td>\n",
              "      <td>30</td>\n",
              "      <td>1</td>\n",
              "      <td>315</td>\n",
              "      <td>2022-08-23</td>\n",
              "      <td>2.34</td>\n",
              "      <td>7</td>\n",
              "      <td>106</td>\n",
              "      <td>26</td>\n",
              "      <td>NaN</td>\n",
              "    </tr>\n",
              "    <tr>\n",
              "      <th>4</th>\n",
              "      <td>197263</td>\n",
              "      <td>Tranquil Room &amp; Private Bath</td>\n",
              "      <td>961396</td>\n",
              "      <td>Timo</td>\n",
              "      <td>NaN</td>\n",
              "      <td>28806</td>\n",
              "      <td>35.57808</td>\n",
              "      <td>-82.63689</td>\n",
              "      <td>Private room</td>\n",
              "      <td>45</td>\n",
              "      <td>2</td>\n",
              "      <td>60</td>\n",
              "      <td>2022-08-21</td>\n",
              "      <td>0.49</td>\n",
              "      <td>2</td>\n",
              "      <td>70</td>\n",
              "      <td>22</td>\n",
              "      <td>NaN</td>\n",
              "    </tr>\n",
              "  </tbody>\n",
              "</table>\n",
              "</div>\n",
              "      <button class=\"colab-df-convert\" onclick=\"convertToInteractive('df-b4ebd867-d62e-4c7c-bbf8-ad7f1b4a07fd')\"\n",
              "              title=\"Convert this dataframe to an interactive table.\"\n",
              "              style=\"display:none;\">\n",
              "        \n",
              "  <svg xmlns=\"http://www.w3.org/2000/svg\" height=\"24px\"viewBox=\"0 0 24 24\"\n",
              "       width=\"24px\">\n",
              "    <path d=\"M0 0h24v24H0V0z\" fill=\"none\"/>\n",
              "    <path d=\"M18.56 5.44l.94 2.06.94-2.06 2.06-.94-2.06-.94-.94-2.06-.94 2.06-2.06.94zm-11 1L8.5 8.5l.94-2.06 2.06-.94-2.06-.94L8.5 2.5l-.94 2.06-2.06.94zm10 10l.94 2.06.94-2.06 2.06-.94-2.06-.94-.94-2.06-.94 2.06-2.06.94z\"/><path d=\"M17.41 7.96l-1.37-1.37c-.4-.4-.92-.59-1.43-.59-.52 0-1.04.2-1.43.59L10.3 9.45l-7.72 7.72c-.78.78-.78 2.05 0 2.83L4 21.41c.39.39.9.59 1.41.59.51 0 1.02-.2 1.41-.59l7.78-7.78 2.81-2.81c.8-.78.8-2.07 0-2.86zM5.41 20L4 18.59l7.72-7.72 1.47 1.35L5.41 20z\"/>\n",
              "  </svg>\n",
              "      </button>\n",
              "      \n",
              "  <style>\n",
              "    .colab-df-container {\n",
              "      display:flex;\n",
              "      flex-wrap:wrap;\n",
              "      gap: 12px;\n",
              "    }\n",
              "\n",
              "    .colab-df-convert {\n",
              "      background-color: #E8F0FE;\n",
              "      border: none;\n",
              "      border-radius: 50%;\n",
              "      cursor: pointer;\n",
              "      display: none;\n",
              "      fill: #1967D2;\n",
              "      height: 32px;\n",
              "      padding: 0 0 0 0;\n",
              "      width: 32px;\n",
              "    }\n",
              "\n",
              "    .colab-df-convert:hover {\n",
              "      background-color: #E2EBFA;\n",
              "      box-shadow: 0px 1px 2px rgba(60, 64, 67, 0.3), 0px 1px 3px 1px rgba(60, 64, 67, 0.15);\n",
              "      fill: #174EA6;\n",
              "    }\n",
              "\n",
              "    [theme=dark] .colab-df-convert {\n",
              "      background-color: #3B4455;\n",
              "      fill: #D2E3FC;\n",
              "    }\n",
              "\n",
              "    [theme=dark] .colab-df-convert:hover {\n",
              "      background-color: #434B5C;\n",
              "      box-shadow: 0px 1px 3px 1px rgba(0, 0, 0, 0.15);\n",
              "      filter: drop-shadow(0px 1px 2px rgba(0, 0, 0, 0.3));\n",
              "      fill: #FFFFFF;\n",
              "    }\n",
              "  </style>\n",
              "\n",
              "      <script>\n",
              "        const buttonEl =\n",
              "          document.querySelector('#df-b4ebd867-d62e-4c7c-bbf8-ad7f1b4a07fd button.colab-df-convert');\n",
              "        buttonEl.style.display =\n",
              "          google.colab.kernel.accessAllowed ? 'block' : 'none';\n",
              "\n",
              "        async function convertToInteractive(key) {\n",
              "          const element = document.querySelector('#df-b4ebd867-d62e-4c7c-bbf8-ad7f1b4a07fd');\n",
              "          const dataTable =\n",
              "            await google.colab.kernel.invokeFunction('convertToInteractive',\n",
              "                                                     [key], {});\n",
              "          if (!dataTable) return;\n",
              "\n",
              "          const docLinkHtml = 'Like what you see? Visit the ' +\n",
              "            '<a target=\"_blank\" href=https://colab.research.google.com/notebooks/data_table.ipynb>data table notebook</a>'\n",
              "            + ' to learn more about interactive tables.';\n",
              "          element.innerHTML = '';\n",
              "          dataTable['output_type'] = 'display_data';\n",
              "          await google.colab.output.renderOutput(dataTable, element);\n",
              "          const docLink = document.createElement('div');\n",
              "          docLink.innerHTML = docLinkHtml;\n",
              "          element.appendChild(docLink);\n",
              "        }\n",
              "      </script>\n",
              "    </div>\n",
              "  </div>\n",
              "  "
            ]
          },
          "metadata": {},
          "execution_count": 75
        }
      ]
    },
    {
      "cell_type": "code",
      "source": [
        "# 3. how many properties?  \n",
        "print(\"There are {} Airbnb properties in Asheville NC\".format(abnb.shape[0]))"
      ],
      "metadata": {
        "colab": {
          "base_uri": "https://localhost:8080/"
        },
        "id": "vbo9q8_C3EkH",
        "outputId": "eb7cdd4f-e984-4670-ad32-dd5a01d289ad"
      },
      "execution_count": 76,
      "outputs": [
        {
          "output_type": "stream",
          "name": "stdout",
          "text": [
            "There are 3009 Airbnb properties in Asheville NC\n"
          ]
        }
      ]
    },
    {
      "cell_type": "code",
      "source": [
        "# 4. how many properties by room type?\n",
        "abnb[\"room_type\"].value_counts()"
      ],
      "metadata": {
        "colab": {
          "base_uri": "https://localhost:8080/"
        },
        "id": "jK9Zn2Jk3Zi0",
        "outputId": "9803dd8a-02b2-470b-8874-68bad30922a5"
      },
      "execution_count": 77,
      "outputs": [
        {
          "output_type": "execute_result",
          "data": {
            "text/plain": [
              "Entire home/apt    2600\n",
              "Private room        385\n",
              "Hotel room           16\n",
              "Shared room           8\n",
              "Name: room_type, dtype: int64"
            ]
          },
          "metadata": {},
          "execution_count": 77
        }
      ]
    },
    {
      "cell_type": "markdown",
      "source": [
        "## Answering Questions with Data \n",
        "\n",
        "The housing policies of cities and towns  like Asheville can be restrictive of short-term rentals, to protect housing for residents.\n",
        "\n",
        "By looking at the \"minimum nights\" setting for listings, we can see if the market has shifted to longer-term stays. Was it to avoid regulations, or in response to changes in travel demands?\n",
        "\n",
        "In some cases, Airbnb has moved large numbers of their listings to longer-stays to avoid short-term rental regulations and accountability."
      ],
      "metadata": {
        "id": "jcFjpL2T6AbP"
      }
    },
    {
      "cell_type": "code",
      "source": [
        "# 5. this gives us the counts by minimum nights stay but doesn't provide much detail.\n",
        "abnb[\"minimum_nights\"].value_counts()"
      ],
      "metadata": {
        "colab": {
          "base_uri": "https://localhost:8080/"
        },
        "id": "QBu1A32F50Hv",
        "outputId": "0de43835-1ed0-40b3-96e9-f6c18dedb4be"
      },
      "execution_count": 78,
      "outputs": [
        {
          "output_type": "execute_result",
          "data": {
            "text/plain": [
              "2      1309\n",
              "1       958\n",
              "3       356\n",
              "30      227\n",
              "28       46\n",
              "4        33\n",
              "5        15\n",
              "29       13\n",
              "7         9\n",
              "6         8\n",
              "21        6\n",
              "60        4\n",
              "14        4\n",
              "365       3\n",
              "90        3\n",
              "25        2\n",
              "24        2\n",
              "31        2\n",
              "20        1\n",
              "22        1\n",
              "15        1\n",
              "120       1\n",
              "180       1\n",
              "27        1\n",
              "10        1\n",
              "8         1\n",
              "26        1\n",
              "Name: minimum_nights, dtype: int64"
            ]
          },
          "metadata": {},
          "execution_count": 78
        }
      ]
    },
    {
      "cell_type": "markdown",
      "source": [
        "### Simple Visualizations: Histogram\n",
        "\n",
        "often a simple visualization will lead to more interesting analysis. Here we simply take a histogram of the `minimum_nights` required stay under 100 nights to see the breakdown. you'll notice right after 30 there is a rise in the frequency. \n",
        "\n",
        "Asheville Zoning: *Rental of an entire dwelling unit for less than a month is called a short-term vacation rental (STVR).*. **STVRs are only permitted in the resort zoning district** \n",
        "\n",
        "*Asheville's ban prohibits “short term rentals” (whole homes/apartment airbnbs) but allows “homestays” — supposedly guest rooms rented out by a resident that lives on site — with city permits*\n"
      ],
      "metadata": {
        "id": "LweySN2o6efc"
      }
    },
    {
      "cell_type": "code",
      "source": [
        "import matplotlib.pyplot as plt\n",
        "\n",
        "# creating the histogram \n",
        "fig = plt.figure(figsize = (10, 5))\n",
        "plt.hist(abnb.query('minimum_nights < 100')[\"minimum_nights\"], bins=100)\n",
        "plt.axvline(x=28,color=\"red\",linestyle=\"--\")\n",
        "plt.xlabel(\"Minimum Night Stay offered\")\n",
        "plt.ylabel(\"Count\")\n",
        "plt.title(\"Histogram of Minimum Night under 100 days\")\n",
        "plt.show()"
      ],
      "metadata": {
        "colab": {
          "base_uri": "https://localhost:8080/",
          "height": 350
        },
        "id": "m3y94-eT6dnu",
        "outputId": "0507da83-b931-479d-8f77-6b82c30427c0"
      },
      "execution_count": 79,
      "outputs": [
        {
          "output_type": "display_data",
          "data": {
            "text/plain": [
              "<Figure size 720x360 with 1 Axes>"
            ],
            "image/png": "[encoded data removed]"
          },
          "metadata": {
            "needs_background": "light"
          }
        }
      ]
    },
    {
      "cell_type": "markdown",
      "source": [
        "### Simple Visualizations: Boxplot \n",
        "\n",
        "Suppose you wanted to visualize the distribution of prices by room type? how could you do this? One way is to use a boxplot.\n",
        "\n",
        "If you want to visualize the distribution of prices by room type, one way to do this is by using a box plot. A box plot is a graphical representation of data that shows the median, quartiles, and range of the data. It can also include lines, called whiskers, that extend from the box to indicate variability outside the upper and lower quartiles. This type of plot is also known as a box-and-whisker plot or diagram. To make the visualization more sophisticated, you can use the seaborn package in Python.\n",
        "\n"
      ],
      "metadata": {
        "id": "UTdqns8f-RIi"
      }
    },
    {
      "cell_type": "code",
      "source": [
        "import seaborn as sns \n",
        "\n",
        "# creating the boxplot \n",
        "fig = plt.figure(figsize = (10, 5))\n",
        "sns.boxplot(x=\"room_type\", y=\"price\", data=abnb.query('price < 5000'))\n",
        "plt.title(\"Boxplot of ABNB prices by Room Type under $5k \")\n",
        "plt.ylabel(\"Price\")\n",
        "plt.xlabel(\"Room Type\")\n",
        "plt.show()"
      ],
      "metadata": {
        "colab": {
          "base_uri": "https://localhost:8080/",
          "height": 350
        },
        "id": "U0-pVKAw-Qfa",
        "outputId": "242f3a5f-1a9f-45a9-becc-52776c82dd83"
      },
      "execution_count": 80,
      "outputs": [
        {
          "output_type": "display_data",
          "data": {
            "text/plain": [
              "<Figure size 720x360 with 1 Axes>"
            ],
            "image/png": "[encoded data removed]"
          },
          "metadata": {
            "needs_background": "light"
          }
        }
      ]
    },
    {
      "cell_type": "markdown",
      "source": [
        "### Simple Visualizations : Barchart \n",
        "\n",
        "Are you more likely be reviewed by different days of the week? \n",
        "\n",
        "A barplot is a type of chart that is used to display a aggregate( count, mean or value) of a numeric variable for different categories. In seaborn, a barplot is created using the barplot() function. This function takes the following arguments:\n",
        "\n",
        "- x: The name of the categorical variable that will be displayed on the x-axis\n",
        "- y: The name of the numeric variable that will be displayed on the y-axis\n",
        "- data: The dataframe containing the data to be plotted\n"
      ],
      "metadata": {
        "id": "FFdl9K36AkNL"
      }
    },
    {
      "cell_type": "code",
      "source": [
        "# Convert the dates to the corresponding day of the week\n",
        "\n",
        "abnb[\"review_day_of_week\"] = pd.to_datetime(abnb[\"last_review\"]).dt.day_name()\n",
        "abnb[\"review_day_of_week_id\"] = pd.to_datetime(abnb[\"last_review\"]).dt.dayofweek\n",
        "\n",
        "res0 = abnb.groupby([\"review_day_of_week\",\"review_day_of_week_id\"]).agg({\"id\":\"count\"}).reset_index().rename(columns={\"id\":\"count\"})\n",
        "\n",
        "fig = plt.figure(figsize = (10, 5))\n",
        "sns.barplot(x=\"review_day_of_week\", y=\"count\", data=res0.sort_values(\"review_day_of_week_id\"))\n",
        "plt.xlabel(\"Day of Week\")\n",
        "plt.ylabel(\"Review count\")\n",
        "plt.title(\"Barplot of ABNB review count by day of week\")\n",
        "plt.show()"
      ],
      "metadata": {
        "colab": {
          "base_uri": "https://localhost:8080/",
          "height": 350
        },
        "id": "8GN1GwIpA6rf",
        "outputId": "d6a59f98-467a-4169-e140-6ee94fe535cc"
      },
      "execution_count": 81,
      "outputs": [
        {
          "output_type": "display_data",
          "data": {
            "text/plain": [
              "<Figure size 720x360 with 1 Axes>"
            ],
            "image/png": "[encoded data removed]"
          },
          "metadata": {
            "needs_background": "light"
          }
        }
      ]
    }
  ]
}