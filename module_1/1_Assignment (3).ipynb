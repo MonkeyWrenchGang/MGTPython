{
 "cells": [
  {
   "cell_type": "markdown",
   "metadata": {},
   "source": [
    "## Assignment 1 \n",
    "\n",
    "This is a simple assignment made up of 5 questions \n",
    "\n",
    "simply write the code to answer the question, be sure to print the result! \n",
    "\n",
    "for example \n",
    "\n",
    "### Question 0 - sample \n",
    "\n",
    "value_1 = 10 / 2 \n",
    "\n",
    "does value_1  an integer or a float data type? \n",
    "\n",
    "```python\n",
    "\n",
    "value_1 = 10 / 2 \n",
    "print(type(value_1))\n",
    "\n",
    "```\n",
    "\n",
    "\n"
   ]
  },
  {
   "cell_type": "markdown",
   "metadata": {},
   "source": [
    "## Question 1\n",
    "\n",
    "\n",
    "   The revenue of three companies (215000, 205000, 256000) create three variables: revenue_1, revenue_2, and revenue_3. Let's calculate the total revenue and the average revenue of these companies. Create a new varaiable `total_revenue` and `avg_revenue` print the total and average out. \n",
    "   \n",
    "```python\n",
    "revenue_1 = 215000\n",
    "revenue_2 = 205000\n",
    "revenue_3 = 256000\n",
    "```\n",
    "\n"
   ]
  },
  {
   "cell_type": "code",
   "execution_count": null,
   "metadata": {},
   "outputs": [],
   "source": []
  },
  {
   "cell_type": "markdown",
   "metadata": {},
   "source": [
    "## Question 2 \n",
    "\n",
    "Variables in Python can hold a value of different data types. Variable names can contain letters, underscores, and numbers. Let's create three types of Python variables that might be useful. Create a three variables (variable_1, variable_2, and variable_3_ and assign them \"Apple\", \"Google\", \"Tesla\". Print each variable out. \n",
    "\n",
    "```python\n",
    "variable_1 = \"Apple\"\n",
    "variable_2 = \n",
    "variable_3 = \n",
    "```\n"
   ]
  },
  {
   "cell_type": "code",
   "execution_count": null,
   "metadata": {},
   "outputs": [],
   "source": []
  },
  {
   "cell_type": "markdown",
   "metadata": {},
   "source": [
    "## Question 3 \n",
    "\n",
    "Let's look at a well-known, yet little understood way of measuring how bitter a beer is. International Bitterness Units (IBU) is often thrown around as a trendy stat on product labels and beer descriptions, and while they're a very relevant way of measuring certain aspects of a beer's flavo, they do not make a beer better or worse. International Bitterness Units are measured on a scale from 0 to infinity. Though almost all the beer you're ever going to drink will have an IBU rating between 5 and 120. An overly simplistic formula is \n",
    "\n",
    "`IBU = -20.52 + 1028.95 * ABV`\n",
    "\n",
    "Given the an ABV of 0.06 i.e. 6% alcohol content, calculate the IBU of a Beer using the formula above.\n",
    "\n",
    "print out IBU\n"
   ]
  },
  {
   "cell_type": "code",
   "execution_count": null,
   "metadata": {},
   "outputs": [],
   "source": []
  },
  {
   "cell_type": "markdown",
   "metadata": {},
   "source": [
    "## Question 4 \n",
    "\n",
    "Lets look at a more complicated example here is the formula \n",
    "\n",
    "`IBU = -20.52 + 1028.95 * ABV + 13.2 * ALE + 25.52* AMERICAN + 0.2 * LAGER`\n",
    "\n",
    "### 4a. \n",
    "What is the IBU of a beer with the following variables? \n",
    "\n",
    "`ABV = 0.044`  \n",
    "`ALE = False`  \n",
    "`AMERICAN = True`  \n",
    "`LAGER = False`  \n",
    "\n",
    "### 4b.\n",
    "\n",
    "What is the IBU of a beer with the following variables? \n",
    "\n",
    "`ABV = 0.07`  \n",
    "`ALE = True`  \n",
    "`AMERICAN = False`  \n",
    "`LAGER = False`  \n",
    "\n",
    "### 4c.\n",
    "\n",
    "What is the IBU of a beer with the following variables? \n",
    "\n",
    "`ABV = 0.055`  \n",
    "`ALE = False`  \n",
    "`AMERICAN = False`  \n",
    "`LAGER = True`  \n",
    "\n",
    "\n",
    "\n"
   ]
  },
  {
   "cell_type": "markdown",
   "metadata": {},
   "source": [
    "## Question 5 \n",
    "\n",
    "Given a the following string variable\n",
    "\n",
    "`string_variable = \"Max, the dog, likes tennis balls\"`\n",
    "\n",
    "\n",
    "Is the 10th character an \"o\" or a \"g\" print it out using string_variable[put your position]"
   ]
  },
  {
   "cell_type": "code",
   "execution_count": null,
   "metadata": {},
   "outputs": [],
   "source": []
  },
  {
   "cell_type": "markdown",
   "metadata": {},
   "source": [
    "## Great Job! \n",
    "once you are done simply save your notebook, and File > Download as > HTML and submit it. "
   ]
  }
 ],
 "metadata": {
  "kernelspec": {
   "display_name": "Python 3",
   "language": "python",
   "name": "python3"
  },
  "language_info": {
   "codemirror_mode": {
    "name": "ipython",
    "version": 3
   },
   "file_extension": ".py",
   "mimetype": "text/x-python",
   "name": "python",
   "nbconvert_exporter": "python",
   "pygments_lexer": "ipython3",
   "version": "3.8.5"
  }
 },
 "nbformat": 4,
 "nbformat_minor": 4
}
