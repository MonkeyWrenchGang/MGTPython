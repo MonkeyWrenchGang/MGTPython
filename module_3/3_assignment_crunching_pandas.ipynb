{
  "cells": [
    {
      "cell_type": "markdown",
      "metadata": {
        "id": "view-in-github",
        "colab_type": "text"
      },
      "source": [
        "<a href=\"https://colab.research.google.com/github/MonkeyWrenchGang/MGTPython/blob/main/module_3/3_assignment_crunching_pandas.ipynb\" target=\"_parent\"><img src=\"https://colab.research.google.com/assets/colab-badge.svg\" alt=\"Open In Colab\"/></a>"
      ]
    },
    {
      "cell_type": "markdown",
      "metadata": {
        "id": "S9sMydR9omZI"
      },
      "source": [
        "# Assignment 3 \n",
        "\n",
        "< your name here>\n",
        "< date > \n"
      ]
    },
    {
      "cell_type": "code",
      "execution_count": null,
      "metadata": {
        "id": "YwLqs305evHj"
      },
      "outputs": [],
      "source": [
        "#from google.colab import drive\n",
        "#drive.mount('/content/gdrive')"
      ]
    },
    {
      "cell_type": "code",
      "execution_count": null,
      "metadata": {
        "colab": {
          "base_uri": "https://localhost:8080/",
          "height": 17
        },
        "id": "WBlPnIUbcY0-",
        "outputId": "89f03516-3df1-40c9-ec7e-294cc459531a"
      },
      "outputs": [
        {
          "data": {
            "text/html": [
              "<style>.container { width:90% }</style>"
            ],
            "text/plain": [
              "<IPython.core.display.HTML object>"
            ]
          },
          "metadata": {},
          "output_type": "display_data"
        }
      ],
      "source": [
        "from IPython.core.display import display, HTML\n",
        "from IPython.display import clear_output\n",
        "display(HTML(\"<style>.container { width:90% }</style>\"))\n",
        "import warnings\n",
        "warnings.filterwarnings('ignore')\n",
        "# ------------------------------------------------------------------\n",
        "\n",
        "import numpy as np\n",
        "import matplotlib.pyplot as plt\n",
        "import seaborn as sns\n",
        "import pandas as pd\n",
        "\n",
        "from sklearn.metrics import accuracy_score, precision_score, recall_score\n",
        "%matplotlib inline"
      ]
    },
    {
      "cell_type": "markdown",
      "metadata": {
        "id": "lK6s-hyPccw_"
      },
      "source": [
        "# Background \n",
        "\n",
        "You have been hired to lead a data science team for a food delivery service. There have been a number of recent complaints posted to yelp about late deliveries from your service. In an effort to better serve customers, your team has been tasked with creating a model to predict which deliveries are likely to be delivered late (delivery_status = 1) and on-time (delivery_status = 0). To do this your data scientists have gathered historic delivery data, identified which deliveries have been delivered late and on-time, they created a model and scored the data with the probability of late delivery (predict_proba) and created an indicator of their predicted outcome (predict_status). Your challenge is to analyze the data, understand what factors are likely to be important when making deliveries and which aren’t. Finally, you’ll need to explain to the executives the accuracy, precision and recall of your team’s model, as well as come up with a strategy to take advantage of the model to improve customer delivery experience. \n",
        "\n",
        "**Helpful hint**\n",
        "\n",
        "*delivery_status is a number 0 or 1 if you take the MEAN of that you'll get the average of late deliveries , if you SUM it you can get the count of late deliveries. *\n"
      ]
    },
    {
      "cell_type": "code",
      "execution_count": null,
      "metadata": {
        "colab": {
          "base_uri": "https://localhost:8080/",
          "height": 309
        },
        "id": "3IUA3-zneQXv",
        "outputId": "3a932aaa-ef78-4597-c04d-1f94cf5a3bd4"
      },
      "outputs": [
        {
          "data": {
            "text/html": [
              "<div>\n",
              "<style scoped>\n",
              "    .dataframe tbody tr th:only-of-type {\n",
              "        vertical-align: middle;\n",
              "    }\n",
              "\n",
              "    .dataframe tbody tr th {\n",
              "        vertical-align: top;\n",
              "    }\n",
              "\n",
              "    .dataframe thead th {\n",
              "        text-align: right;\n",
              "    }\n",
              "</style>\n",
              "<table border=\"1\" class=\"dataframe\">\n",
              "  <thead>\n",
              "    <tr style=\"text-align: right;\">\n",
              "      <th></th>\n",
              "      <th>distance_from_resturant</th>\n",
              "      <th>distance_to_address</th>\n",
              "      <th>weather_quality</th>\n",
              "      <th>order_price</th>\n",
              "      <th>number_of_deliveries</th>\n",
              "      <th>rush_hour</th>\n",
              "      <th>urban_address</th>\n",
              "      <th>previous_delivery_2_address</th>\n",
              "      <th>resturant_type</th>\n",
              "      <th>event_timestamp</th>\n",
              "      <th>predict_proba</th>\n",
              "      <th>predict_status</th>\n",
              "      <th>delivery_status</th>\n",
              "    </tr>\n",
              "  </thead>\n",
              "  <tbody>\n",
              "    <tr>\n",
              "      <th>0</th>\n",
              "      <td>4.4</td>\n",
              "      <td>4.1</td>\n",
              "      <td>49.0</td>\n",
              "      <td>14.5</td>\n",
              "      <td>7.0</td>\n",
              "      <td>Yes</td>\n",
              "      <td>Yes</td>\n",
              "      <td>Yes</td>\n",
              "      <td>Food Truck</td>\n",
              "      <td>2020-06-29 16:21:13</td>\n",
              "      <td>0.996515</td>\n",
              "      <td>1</td>\n",
              "      <td>1</td>\n",
              "    </tr>\n",
              "    <tr>\n",
              "      <th>1</th>\n",
              "      <td>5.7</td>\n",
              "      <td>8.0</td>\n",
              "      <td>46.0</td>\n",
              "      <td>6.7</td>\n",
              "      <td>6.0</td>\n",
              "      <td>No</td>\n",
              "      <td>Yes</td>\n",
              "      <td>Yes</td>\n",
              "      <td>Chain</td>\n",
              "      <td>2021-02-25 06:26:32</td>\n",
              "      <td>0.007169</td>\n",
              "      <td>0</td>\n",
              "      <td>0</td>\n",
              "    </tr>\n",
              "    <tr>\n",
              "      <th>2</th>\n",
              "      <td>3.7</td>\n",
              "      <td>5.1</td>\n",
              "      <td>38.0</td>\n",
              "      <td>9.6</td>\n",
              "      <td>20.0</td>\n",
              "      <td>Yes</td>\n",
              "      <td>No</td>\n",
              "      <td>No</td>\n",
              "      <td>Food Truck</td>\n",
              "      <td>2020-07-28 00:23:58</td>\n",
              "      <td>0.021323</td>\n",
              "      <td>0</td>\n",
              "      <td>0</td>\n",
              "    </tr>\n",
              "    <tr>\n",
              "      <th>3</th>\n",
              "      <td>5.4</td>\n",
              "      <td>5.5</td>\n",
              "      <td>45.0</td>\n",
              "      <td>12.3</td>\n",
              "      <td>13.0</td>\n",
              "      <td>No</td>\n",
              "      <td>No</td>\n",
              "      <td>Yes</td>\n",
              "      <td>Chain</td>\n",
              "      <td>2020-06-12 03:25:14</td>\n",
              "      <td>0.231995</td>\n",
              "      <td>0</td>\n",
              "      <td>0</td>\n",
              "    </tr>\n",
              "    <tr>\n",
              "      <th>4</th>\n",
              "      <td>4.9</td>\n",
              "      <td>6.5</td>\n",
              "      <td>48.0</td>\n",
              "      <td>11.6</td>\n",
              "      <td>13.0</td>\n",
              "      <td>Yes</td>\n",
              "      <td>No</td>\n",
              "      <td>No</td>\n",
              "      <td>Chain</td>\n",
              "      <td>2021-02-23 09:37:00</td>\n",
              "      <td>0.004056</td>\n",
              "      <td>0</td>\n",
              "      <td>0</td>\n",
              "    </tr>\n",
              "  </tbody>\n",
              "</table>\n",
              "</div>"
            ],
            "text/plain": [
              "   distance_from_resturant  distance_to_address  weather_quality  order_price  \\\n",
              "0                      4.4                  4.1             49.0         14.5   \n",
              "1                      5.7                  8.0             46.0          6.7   \n",
              "2                      3.7                  5.1             38.0          9.6   \n",
              "3                      5.4                  5.5             45.0         12.3   \n",
              "4                      4.9                  6.5             48.0         11.6   \n",
              "\n",
              "   number_of_deliveries rush_hour urban_address previous_delivery_2_address  \\\n",
              "0                   7.0       Yes           Yes                         Yes   \n",
              "1                   6.0        No           Yes                         Yes   \n",
              "2                  20.0       Yes            No                          No   \n",
              "3                  13.0        No            No                         Yes   \n",
              "4                  13.0       Yes            No                          No   \n",
              "\n",
              "  resturant_type      event_timestamp  predict_proba  predict_status  \\\n",
              "0     Food Truck  2020-06-29 16:21:13       0.996515               1   \n",
              "1          Chain  2021-02-25 06:26:32       0.007169               0   \n",
              "2     Food Truck  2020-07-28 00:23:58       0.021323               0   \n",
              "3          Chain  2020-06-12 03:25:14       0.231995               0   \n",
              "4          Chain  2021-02-23 09:37:00       0.004056               0   \n",
              "\n",
              "   delivery_status  \n",
              "0                1  \n",
              "1                0  \n",
              "2                0  \n",
              "3                0  \n",
              "4                0  "
            ]
          },
          "execution_count": 5,
          "metadata": {},
          "output_type": "execute_result"
        }
      ],
      "source": [
        "df = pd.read_csv(\"deliveroo_on_time_deliveries.csv\")\n",
        "df.head()"
      ]
    },
    {
      "cell_type": "markdown",
      "metadata": {
        "id": "e16Bp_h3eQ2w"
      },
      "source": [
        "## Q0. Explore the data \n",
        "\n",
        "Answer the following questions with code, besure to put a print in your code so i know which question you are answering: \n",
        "1. Are their any nulls in the data?  \n",
        "2. what is the mean, min, max of each numeric column\n",
        "3. what are the count and unique count(nunique) of each string / object column \n",
        "4. what is the count of on-time (delivery_status = 0)  vs late (delivery_status = 1) delivery_status \n",
        "5. what is the percentage of on-time (delivery_status = 0)  vs late (delivery_status = 1) delivery_status \n"
      ]
    },
    {
      "cell_type": "code",
      "execution_count": null,
      "metadata": {
        "id": "mtWLlDI3eRDB",
        "outputId": "85b4e22c-fbe2-45b4-ce35-bcd46abe2e13"
      },
      "outputs": [
        {
          "name": "stdout",
          "output_type": "stream",
          "text": [
            "Question 0 part 1. Are their any nulls in the data? \n"
          ]
        }
      ],
      "source": [
        "print(\"Question 0 part 1. Are their any nulls in the data? \")\n"
      ]
    },
    {
      "cell_type": "code",
      "execution_count": null,
      "metadata": {
        "id": "Gc9k1gFYsrbX",
        "outputId": "d2d64271-8cf1-4c6b-fbc9-9c3687478834"
      },
      "outputs": [
        {
          "name": "stdout",
          "output_type": "stream",
          "text": [
            "Question 0 part 2. what is the mean, min, max of each numeric column\n"
          ]
        }
      ],
      "source": [
        "print(\"Question 0 part 2. what is the mean, min, max of each numeric column\")\n"
      ]
    },
    {
      "cell_type": "code",
      "execution_count": null,
      "metadata": {
        "id": "NGIwJ4wSsrbX",
        "outputId": "2949f851-c20c-4e64-e233-d3733e7b9d3d"
      },
      "outputs": [
        {
          "name": "stdout",
          "output_type": "stream",
          "text": [
            "Question 0 part 3. what are the count and unique count(nunique) of each string / object column \n"
          ]
        }
      ],
      "source": [
        "print(\"Question 0 part 3. what are the count and unique count(nunique) of each string / object column \")\n"
      ]
    },
    {
      "cell_type": "code",
      "execution_count": null,
      "metadata": {
        "id": "csOe3dB8srbX",
        "outputId": "547138f1-75fa-41c0-94ce-3f0f88b8875e"
      },
      "outputs": [
        {
          "name": "stdout",
          "output_type": "stream",
          "text": [
            "Question 0 part 4. what is the count of on-time (delivery_status = 0)  vs late (delivery_status = 1) delivery_status \n"
          ]
        }
      ],
      "source": [
        "print(\"Question 0 part 4. what is the count of on-time (delivery_status = 0)  vs late (delivery_status = 1) delivery_status \")\n"
      ]
    },
    {
      "cell_type": "code",
      "execution_count": null,
      "metadata": {
        "id": "k-m_7qEwsrbX",
        "outputId": "7e8fb553-5f7b-4195-c2c3-196a272048fc"
      },
      "outputs": [
        {
          "name": "stdout",
          "output_type": "stream",
          "text": [
            "Question 0 part 5. what is the percentage of on-time (delivery_status = 0)  vs late (delivery_status = 1) delivery_status \n"
          ]
        }
      ],
      "source": [
        "print(\"Question 0 part 5. what is the percentage of on-time (delivery_status = 0)  vs late (delivery_status = 1) delivery_status \")\n"
      ]
    },
    {
      "cell_type": "markdown",
      "metadata": {
        "id": "DEyYk4lEeRgJ"
      },
      "source": [
        "## Q1. is your delivery more or less likely to be late if it is durring rush-hour? \n",
        "\n",
        "hint: group by rush_hour, take the mean of delivery_status. \n",
        "\n",
        "Explain why you think delivery_status affects on-time delivery or not. \n"
      ]
    },
    {
      "cell_type": "code",
      "execution_count": null,
      "metadata": {
        "id": "7ErrhWpjeRm5"
      },
      "outputs": [],
      "source": []
    },
    {
      "cell_type": "markdown",
      "metadata": {
        "id": "HS-9wlxleRtw"
      },
      "source": [
        "## Q2. If delivering to an urban_address, is the delivery more or less likely to be late? compare mean of delivery_status to predict_status by urban_address\n",
        "\n",
        "Explain why delivering to an urban_address affects on-time delivery or not. \n",
        "\n",
        "> on-time (delivery_status = 0)  vs late (delivery_status = 1)\n"
      ]
    },
    {
      "cell_type": "code",
      "execution_count": null,
      "metadata": {
        "id": "ra6BeMrqeR0v"
      },
      "outputs": [],
      "source": []
    },
    {
      "cell_type": "markdown",
      "metadata": {
        "id": "BK5Yb_6njaCS"
      },
      "source": [
        "## Q3. If there has been a previous_delivery_2_address impact the delivery status? \n",
        "\n",
        "explain why or why not. \n",
        "\n",
        "> on-time (delivery_status = 0)  vs late (delivery_status = 1)"
      ]
    },
    {
      "cell_type": "code",
      "execution_count": null,
      "metadata": {
        "id": "de0ToZfGjaT9"
      },
      "outputs": [],
      "source": []
    },
    {
      "cell_type": "markdown",
      "metadata": {
        "id": "hrkCj_MAjagI"
      },
      "source": [
        "## Q4. What resturant_type is likely to have the best / worst delivery status? \n",
        "\n",
        "Explain with data. "
      ]
    },
    {
      "cell_type": "code",
      "execution_count": null,
      "metadata": {
        "id": "eRjhHFq3japM"
      },
      "outputs": [],
      "source": []
    },
    {
      "cell_type": "markdown",
      "metadata": {
        "id": "Oyy5SBN0jaxO"
      },
      "source": [
        "## Q5. Are fast food orders late when the mean distance is longer or shorter? \n",
        "\n",
        "Query for resturant_type = Fast Food, group by delivery status and calculate the mean, min, and max distance_to_address. \n",
        "\n",
        "Explain, is mean distance to address likely to be an important factor? "
      ]
    },
    {
      "cell_type": "code",
      "execution_count": null,
      "metadata": {
        "id": "M3IVeoC1ja5A"
      },
      "outputs": [],
      "source": []
    },
    {
      "cell_type": "markdown",
      "metadata": {
        "id": "UpGe3WFnjbCq"
      },
      "source": [
        "## Q6a. When distance_to_address is Greater than the mean of distance_to_address and it's rush_hour is delivery status more or less likely to be late?\n",
        "\n",
        "i.e. filter distance_to_address > mean(distance_to_address) and rush_hour == Yes\n",
        "\n",
        "> on-time (delivery_status = 0)  vs late (delivery_status = 1)\n",
        "\n",
        "Explain.\n",
        "\n"
      ]
    },
    {
      "cell_type": "code",
      "execution_count": null,
      "metadata": {
        "id": "Gg7mDMdnsrbZ"
      },
      "outputs": [],
      "source": []
    },
    {
      "cell_type": "markdown",
      "metadata": {
        "id": "GUupdSeUjbKc"
      },
      "source": [
        "## Q6b. When distance_to_address is Less than the mean of distance_to_address,  and it is not rush_hour is delivery status more or less likely to be late?\n",
        "\n",
        "i.e. filter distance_to_address < mean(distance_to_address) and rush_hour == No\n",
        "\n",
        "> on-time (delivery_status = 0)  vs late (delivery_status = 1)\n",
        "\n",
        "Explain. "
      ]
    },
    {
      "cell_type": "code",
      "execution_count": null,
      "metadata": {
        "id": "DIwTGLyJsrbZ"
      },
      "outputs": [],
      "source": []
    },
    {
      "cell_type": "markdown",
      "metadata": {
        "id": "DkxapYl4jbWR"
      },
      "source": [
        "## Q7. When order_price is GREATER than the mean order_price AND it is rush_hour is the delivery more or less likely to be late? \n",
        "\n",
        "i.e. filter order_price > mean (order_price) and rush_hour == Yes\n",
        "\n",
        "> on-time (delivery_status = 0)  vs late (delivery_status = 1)\n",
        "\n",
        "Explain. "
      ]
    },
    {
      "cell_type": "code",
      "execution_count": null,
      "metadata": {
        "id": "aJTeWOpBjbdo"
      },
      "outputs": [],
      "source": []
    },
    {
      "cell_type": "markdown",
      "metadata": {
        "id": "olXmufYyk3WC"
      },
      "source": [
        "## Q8. Using both the **predict_status** and **delivery_status** MANUALLY calulate Accuracy, Precision and Recall of your data science team's model. \n",
        "\n",
        "\n",
        "predict_status - is the prediction made by your data science teams model on-time (predict_status = 0)  vs late (predict_status = 1)\n",
        "delivery_status - is the actual status of a delivery on-time (delivery_status = 0)  vs late (delivery_status = 1)\n",
        "\n",
        "Answer: how does the model accuracy compare to the default accuracy of assigning everyone to on-time? \n",
        "\n",
        "Accuracy - fraction of predictions your model got right: [Accuracy Definition](https://developers.google.com/machine-learning/crash-course/classification/accuracy)\n",
        "- Accuracy = (TP + TN) / (TP + FP + TN + FN) \n",
        "\n",
        "Precision - What proportion of positive identifications was actually correct: [Precision Definition](https://developers.google.com/machine-learning/crash-course/classification/precision-and-recall)\n",
        "- Precision = TP / (TP + FP) \n",
        "\n",
        "Recall - What proportion of actual positives was identified correctly: [Recall Definition](https://developers.google.com/machine-learning/crash-course/classification/precision-and-recall)\n",
        "- Recall = TP / (TP + FN) \n",
        "\n",
        "Where TP = True Positives, TN = True Negatives, FP = False Positives, and FN = False Negatives. In our case a True Positive is where both delivery_status == 1 and predict_status == 1, false positive is elivery_status == 0 and predict_status == 1, true negative elivery_status == 0 and predict_status == 0 and false negative delivery_status == 1 and predict_status == 0\n",
        "\n"
      ]
    },
    {
      "cell_type": "code",
      "execution_count": null,
      "metadata": {
        "id": "ae7tnihkk4Pb"
      },
      "outputs": [],
      "source": []
    },
    {
      "cell_type": "markdown",
      "metadata": {
        "id": "z-C5lDrHmtFP"
      },
      "source": [
        "\n",
        "### Q8b. Use Sklearn's functions to check your calculations. \n",
        "\n",
        "```python\n",
        "from sklearn.metrics import accuracy_score, precision_score, recall_score\n",
        "\n",
        "# -- video example -- \n",
        "print(\"accuracy : {0}\".format( accuracy_score(df[\"delivery_status\"], df['predict_status'])))\n",
        "print(\"precision: {0}\".format( precision_score(df[\"delivery_status\"], df['predict_status'])))\n",
        "print(\"recall.  : {0}\".format( recall_score(df[\"delivery_status\"], df['predict_status'])))\n",
        "\n",
        "```\n",
        "\n"
      ]
    },
    {
      "cell_type": "code",
      "execution_count": null,
      "metadata": {
        "id": "JPVpIqq7mswk"
      },
      "outputs": [],
      "source": []
    },
    {
      "cell_type": "markdown",
      "metadata": {
        "id": "5UVnPp9yk4by"
      },
      "source": [
        "## Q9. Compare the mean distance_from_resturant by delivery_status versus mean distnace_from_resturant by predict_status. Are they the same, similar or different? \n",
        "\n",
        "> What we are trying to understand is if the actual mean distance from a restaurant where delivery status is late is the same or different than the model's predicted delivery status.\n"
      ]
    },
    {
      "cell_type": "code",
      "execution_count": null,
      "metadata": {
        "id": "y_XtgfNIk4kE"
      },
      "outputs": [],
      "source": []
    },
    {
      "cell_type": "markdown",
      "metadata": {
        "id": "bigUYQc9k4tV"
      },
      "source": [
        "## Q10. What is a strategy that you can come up with to use the model's predictions to improve customer satisfaction. Explain why precision is a better measure of performance than accuracy?\n",
        "\n",
        "Answer with markdown, in the cell below. \n",
        "\n"
      ]
    },
    {
      "cell_type": "markdown",
      "metadata": {
        "id": "GUbxKirtk42Q"
      },
      "source": []
    },
    {
      "cell_type": "markdown",
      "metadata": {
        "id": "OqKjA6edsrba"
      },
      "source": [
        "## You are complete! \n",
        "\n",
        "Take a moment and review your code and answers, export your notebook to HTML \n",
        "\n",
        "> **if you are using Google Colab besure to read this on how to export your code:**\n",
        "\n",
        "\n",
        "https://python.plainenglish.io/how-to-convert-google-colab-notebook-ipynb-to-html-ccfeda199246"
      ]
    },
    {
      "cell_type": "code",
      "execution_count": null,
      "metadata": {
        "id": "zahz4kQVsrba"
      },
      "outputs": [],
      "source": []
    }
  ],
  "metadata": {
    "colab": {
      "provenance": [],
      "include_colab_link": true
    },
    "kernelspec": {
      "display_name": "Python 3 (ipykernel)",
      "language": "python",
      "name": "python3"
    },
    "language_info": {
      "codemirror_mode": {
        "name": "ipython",
        "version": 3
      },
      "file_extension": ".py",
      "mimetype": "text/x-python",
      "name": "python",
      "nbconvert_exporter": "python",
      "pygments_lexer": "ipython3",
      "version": "3.9.7"
    }
  },
  "nbformat": 4,
  "nbformat_minor": 0
}