{
  "nbformat": 4,
  "nbformat_minor": 0,
  "metadata": {
    "colab": {
      "provenance": [],
      "include_colab_link": true
    },
    "kernelspec": {
      "name": "python3",
      "display_name": "Python 3"
    },
    "language_info": {
      "name": "python"
    }
  },
  "cells": [
    {
      "cell_type": "markdown",
      "metadata": {
        "id": "view-in-github",
        "colab_type": "text"
      },
      "source": [
        "<a href=\"https://colab.research.google.com/github/MonkeyWrenchGang/MGTPython/blob/main/module_3/3_2_accuracy_precision_recall.ipynb\" target=\"_parent\"><img src=\"https://colab.research.google.com/assets/colab-badge.svg\" alt=\"Open In Colab\"/></a>"
      ]
    },
    {
      "cell_type": "markdown",
      "source": [
        "# Introduction \n",
        "\n",
        "\n",
        "---\n",
        "\n",
        "Machine learning (ML) classification models are often evaluated using three key metrics: accuracy, precision, and recall. \n",
        "\n",
        "- Accuracy is a measure of how often the model correctly predicts the class of an example. \n",
        "- Precision is a measure of how many of the model's positive predictions are actually correct. \n",
        "- Recall is a measure of how many of the actual positive examples the model is able to identify. \n",
        "\n",
        "Together, these metrics provide a picture of a model's predictive performance and can be used to compare different models and to determine the best one for a given task.\n",
        "\n",
        "In this tutorial we are going to do a little evaluation and exploration. \n"
      ],
      "metadata": {
        "id": "qrl0h20X8MfQ"
      }
    },
    {
      "cell_type": "code",
      "metadata": {
        "colab": {
          "base_uri": "https://localhost:8080/",
          "height": 17
        },
        "id": "17kaFPCT_rFX",
        "outputId": "a935d121-90e2-4449-b359-d351123f1ca0"
      },
      "source": [
        "from IPython.core.display import display, HTML\n",
        "from IPython.display import clear_output\n",
        "display(HTML(\"<style>.container { width:90% }</style>\"))\n",
        "import warnings\n",
        "warnings.filterwarnings('ignore')\n",
        "# ------------------------------------------------------------------\n",
        "\n",
        "import numpy as np\n",
        "import matplotlib.pyplot as plt\n",
        "import seaborn as sns\n",
        "import pandas as pd\n",
        "\n"
      ],
      "execution_count": null,
      "outputs": [
        {
          "output_type": "display_data",
          "data": {
            "text/html": [
              "<style>.container { width:90% }</style>"
            ],
            "text/plain": [
              "<IPython.core.display.HTML object>"
            ]
          },
          "metadata": {
            "tags": []
          }
        }
      ]
    },
    {
      "cell_type": "markdown",
      "metadata": {
        "id": "3Gi76KRL1nqW"
      },
      "source": [
        "# ABNB Fraudulent Property Identification \n",
        "\n",
        "Airbnb is a platform that allows individuals to rent out their properties to travelers. However, there have been instances of fraud on the platform, where individuals create fake listings or scam renters out of money. To combat this problem, Airbnb has implemented a number of measures to detect and prevent fraud, such as using machine learning algorithms to analyze user behavior and flag suspicious activity. Additionally, the company has a dedicated Trust and Safety team that reviews flagged accounts and takes appropriate action. Despite these efforts, fraud on Airbnb can still occur, so it is important for renters to exercise caution when booking a property and to report any suspicious activity to Airbnb.\n",
        "\n",
        "The data science team has done the following:  \n",
        "\n",
        "1. Gathered historic property and reservation data and over the past year \n",
        "2. Identified if the property was fraudulent or not (see variable **\"fraud_label\"**) 0=not fraud, 1=fraud\n",
        "3. Trained a classification machine learning model to pedict if the property was fraudulent creating two other variables. **\"prediction_decision\"** is 0 if not fraud and 1 if predicted fraud, and a **prediction_score** that is the probabliy of a property being fraudlent. \n",
        "\n",
        "Your challenge is to:\n",
        "\n",
        "1. analyze the data \n",
        "2. answer a few questions \n",
        "3. assess the model's performance using Accuracy, Precision, Recall. \n",
        "\n",
        "\n",
        "\n",
        "Let's import the data!\n"
      ]
    },
    {
      "cell_type": "code",
      "metadata": {
        "colab": {
          "base_uri": "https://localhost:8080/",
          "height": 309
        },
        "id": "sznI2Ug_1n6c",
        "outputId": "af9c0017-d5ab-41cc-87a0-0e0b05b2f24b"
      },
      "source": [
        "abnb = pd.read_csv(\"https://raw.githubusercontent.com/MonkeyWrenchGang/MGTPython/main/module_3/data/abnb_fraud_reservations.csv\")\n",
        "abnb.head()"
      ],
      "execution_count": null,
      "outputs": [
        {
          "output_type": "execute_result",
          "data": {
            "text/html": [
              "<div>\n",
              "<style scoped>\n",
              "    .dataframe tbody tr th:only-of-type {\n",
              "        vertical-align: middle;\n",
              "    }\n",
              "\n",
              "    .dataframe tbody tr th {\n",
              "        vertical-align: top;\n",
              "    }\n",
              "\n",
              "    .dataframe thead th {\n",
              "        text-align: right;\n",
              "    }\n",
              "</style>\n",
              "<table border=\"1\" class=\"dataframe\">\n",
              "  <thead>\n",
              "    <tr style=\"text-align: right;\">\n",
              "      <th></th>\n",
              "      <th>price_per_night</th>\n",
              "      <th>number_of_guests_max</th>\n",
              "      <th>number_of_bedrooms</th>\n",
              "      <th>number_of_baths</th>\n",
              "      <th>number_of_beds</th>\n",
              "      <th>ip_address</th>\n",
              "      <th>email_domain</th>\n",
              "      <th>property_type</th>\n",
              "      <th>property_space</th>\n",
              "      <th>min_night_stay</th>\n",
              "      <th>guest_space</th>\n",
              "      <th>amenity_ac</th>\n",
              "      <th>amenity_tv</th>\n",
              "      <th>amenity_fire_place</th>\n",
              "      <th>amenity_private_entrance</th>\n",
              "      <th>amenity_wifi</th>\n",
              "      <th>guest_space_parking</th>\n",
              "      <th>guest_space_gym</th>\n",
              "      <th>guest_space_pool</th>\n",
              "      <th>guest_space_hot_tub</th>\n",
              "      <th>property_city</th>\n",
              "      <th>event_timestamp</th>\n",
              "      <th>fraud_label</th>\n",
              "      <th>prediction_decision</th>\n",
              "      <th>prediction_score</th>\n",
              "    </tr>\n",
              "  </thead>\n",
              "  <tbody>\n",
              "    <tr>\n",
              "      <th>0</th>\n",
              "      <td>335.0</td>\n",
              "      <td>12.0</td>\n",
              "      <td>6.0</td>\n",
              "      <td>2.0</td>\n",
              "      <td>4.0</td>\n",
              "      <td>57.162.17.6</td>\n",
              "      <td>yahoo.com</td>\n",
              "      <td>tiny house</td>\n",
              "      <td>shared room</td>\n",
              "      <td>1</td>\n",
              "      <td>no</td>\n",
              "      <td>yes</td>\n",
              "      <td>no</td>\n",
              "      <td>no</td>\n",
              "      <td>no</td>\n",
              "      <td>yes</td>\n",
              "      <td>yes</td>\n",
              "      <td>yes</td>\n",
              "      <td>no</td>\n",
              "      <td>no</td>\n",
              "      <td>Orlando</td>\n",
              "      <td>2020-06-18 10:09:36</td>\n",
              "      <td>0</td>\n",
              "      <td>0</td>\n",
              "      <td>0.008578</td>\n",
              "    </tr>\n",
              "    <tr>\n",
              "      <th>1</th>\n",
              "      <td>324.0</td>\n",
              "      <td>10.0</td>\n",
              "      <td>4.0</td>\n",
              "      <td>2.0</td>\n",
              "      <td>5.0</td>\n",
              "      <td>192.8.199.251</td>\n",
              "      <td>yahoo.com</td>\n",
              "      <td>tiny house</td>\n",
              "      <td>shared room</td>\n",
              "      <td>1</td>\n",
              "      <td>yes</td>\n",
              "      <td>yes</td>\n",
              "      <td>no</td>\n",
              "      <td>yes</td>\n",
              "      <td>no</td>\n",
              "      <td>no</td>\n",
              "      <td>no</td>\n",
              "      <td>no</td>\n",
              "      <td>yes</td>\n",
              "      <td>no</td>\n",
              "      <td>Ft. Lauderdale</td>\n",
              "      <td>2021-02-20 11:30:15</td>\n",
              "      <td>0</td>\n",
              "      <td>0</td>\n",
              "      <td>0.008908</td>\n",
              "    </tr>\n",
              "    <tr>\n",
              "      <th>2</th>\n",
              "      <td>262.0</td>\n",
              "      <td>8.0</td>\n",
              "      <td>4.0</td>\n",
              "      <td>3.0</td>\n",
              "      <td>8.0</td>\n",
              "      <td>64.60.134.106</td>\n",
              "      <td>yahoo.com</td>\n",
              "      <td>chalet</td>\n",
              "      <td>shared room</td>\n",
              "      <td>15</td>\n",
              "      <td>no</td>\n",
              "      <td>no</td>\n",
              "      <td>no</td>\n",
              "      <td>yes</td>\n",
              "      <td>no</td>\n",
              "      <td>no</td>\n",
              "      <td>yes</td>\n",
              "      <td>no</td>\n",
              "      <td>yes</td>\n",
              "      <td>no</td>\n",
              "      <td>Orlando</td>\n",
              "      <td>2021-01-30 04:52:16</td>\n",
              "      <td>0</td>\n",
              "      <td>0</td>\n",
              "      <td>0.009864</td>\n",
              "    </tr>\n",
              "    <tr>\n",
              "      <th>3</th>\n",
              "      <td>340.0</td>\n",
              "      <td>11.0</td>\n",
              "      <td>7.0</td>\n",
              "      <td>3.0</td>\n",
              "      <td>6.0</td>\n",
              "      <td>157.180.74.231</td>\n",
              "      <td>hotmail.com</td>\n",
              "      <td>villa</td>\n",
              "      <td>shared room</td>\n",
              "      <td>1</td>\n",
              "      <td>yes</td>\n",
              "      <td>no</td>\n",
              "      <td>no</td>\n",
              "      <td>no</td>\n",
              "      <td>yes</td>\n",
              "      <td>no</td>\n",
              "      <td>yes</td>\n",
              "      <td>no</td>\n",
              "      <td>no</td>\n",
              "      <td>no</td>\n",
              "      <td>Miami</td>\n",
              "      <td>2020-06-21 23:38:16</td>\n",
              "      <td>0</td>\n",
              "      <td>0</td>\n",
              "      <td>0.008908</td>\n",
              "    </tr>\n",
              "    <tr>\n",
              "      <th>4</th>\n",
              "      <td>288.0</td>\n",
              "      <td>6.0</td>\n",
              "      <td>4.0</td>\n",
              "      <td>3.0</td>\n",
              "      <td>5.0</td>\n",
              "      <td>171.139.240.24</td>\n",
              "      <td>yahoo.com</td>\n",
              "      <td>villa</td>\n",
              "      <td>shared room</td>\n",
              "      <td>1</td>\n",
              "      <td>yes</td>\n",
              "      <td>no</td>\n",
              "      <td>yes</td>\n",
              "      <td>yes</td>\n",
              "      <td>no</td>\n",
              "      <td>yes</td>\n",
              "      <td>yes</td>\n",
              "      <td>no</td>\n",
              "      <td>yes</td>\n",
              "      <td>yes</td>\n",
              "      <td>Ft. Lauderdale</td>\n",
              "      <td>2020-06-12 20:07:55</td>\n",
              "      <td>1</td>\n",
              "      <td>1</td>\n",
              "      <td>0.981982</td>\n",
              "    </tr>\n",
              "  </tbody>\n",
              "</table>\n",
              "</div>"
            ],
            "text/plain": [
              "   price_per_night  number_of_guests_max  ...  prediction_decision  prediction_score\n",
              "0            335.0                  12.0  ...                    0          0.008578\n",
              "1            324.0                  10.0  ...                    0          0.008908\n",
              "2            262.0                   8.0  ...                    0          0.009864\n",
              "3            340.0                  11.0  ...                    0          0.008908\n",
              "4            288.0                   6.0  ...                    1          0.981982\n",
              "\n",
              "[5 rows x 25 columns]"
            ]
          },
          "metadata": {
            "tags": []
          },
          "execution_count": 29
        }
      ]
    },
    {
      "cell_type": "markdown",
      "metadata": {
        "id": "ixxcut5PN7LX"
      },
      "source": [
        "# Understand the Target Variable\n",
        "\n",
        "\n",
        "---\n",
        "\n",
        "Understanding the target of a machine learning model is an important step in building an effective model. The target, also known as the **output or label**, is the value that the model is trying to predict. In supervised learning, the target is usually a categorical(classification) or numerical value(regression/estimation) that is provided in the training data. \n",
        "\n",
        "For example, in a spam detection model, the target would be whether an email is spam or not. In an image classification model, the target would be the class of the image such as dog or cat. Understanding the target allows the data scientist to select the appropriate algorithm and evaluation metrics for the problem. It also helps to identify any potential issues with the data such as class imbalance which might affect the performance of the model. Toget started we'll take a look at the following:\n",
        "\n",
        "1. Frequency count of fraud_label\n",
        "2. Normalized frequency of fraud_label\n",
        "3. Frequency of prediction_decision \n",
        "4. Mean prediction_score"
      ]
    },
    {
      "cell_type": "code",
      "metadata": {
        "colab": {
          "base_uri": "https://localhost:8080/"
        },
        "id": "YpRuS30HONoN",
        "outputId": "23348ffe-5505-4d90-8957-de4236831f8f"
      },
      "source": [
        "abnb[\"fraud_label\"].value_counts()"
      ],
      "execution_count": null,
      "outputs": [
        {
          "output_type": "execute_result",
          "data": {
            "text/plain": [
              "0    44797\n",
              "1     5203\n",
              "Name: fraud_label, dtype: int64"
            ]
          },
          "metadata": {
            "tags": []
          },
          "execution_count": 30
        }
      ]
    },
    {
      "cell_type": "code",
      "metadata": {
        "colab": {
          "base_uri": "https://localhost:8080/"
        },
        "id": "MxaFi_cRON6e",
        "outputId": "57c66e9d-2bdb-4395-b49e-56aa0c2313c3"
      },
      "source": [
        "abnb[\"fraud_label\"].value_counts(normalize=True)"
      ],
      "execution_count": null,
      "outputs": [
        {
          "output_type": "execute_result",
          "data": {
            "text/plain": [
              "0    0.89594\n",
              "1    0.10406\n",
              "Name: fraud_label, dtype: float64"
            ]
          },
          "metadata": {
            "tags": []
          },
          "execution_count": 31
        }
      ]
    },
    {
      "cell_type": "markdown",
      "source": [
        "## prediction_decision\n",
        "\n",
        "A prediction decision is a final output made by a machine learning model that assigns a class or label to an input. It is based on the predicted probability of the model, and is usually made by applying a threshold or cutoff to the predicted probabilities. The threshold or cutoff is typically set to a value such as 0.5, so that any probability above the threshold is classified as one class, and any probability below the threshold is classified as the other class.\n",
        "\n"
      ],
      "metadata": {
        "id": "i47yrFs7-CJf"
      }
    },
    {
      "cell_type": "code",
      "metadata": {
        "colab": {
          "base_uri": "https://localhost:8080/"
        },
        "id": "shGpRIzlOOCx",
        "outputId": "c1f1bb3c-56bc-44ac-db13-8e347db7c5e3"
      },
      "source": [
        "abnb[\"prediction_decision\"].value_counts()"
      ],
      "execution_count": null,
      "outputs": [
        {
          "output_type": "execute_result",
          "data": {
            "text/plain": [
              "0    45567\n",
              "1     4433\n",
              "Name: prediction_decision, dtype: int64"
            ]
          },
          "metadata": {
            "tags": []
          },
          "execution_count": 32
        }
      ]
    },
    {
      "cell_type": "code",
      "metadata": {
        "colab": {
          "base_uri": "https://localhost:8080/"
        },
        "id": "JEaotLAwOOOH",
        "outputId": "9b718edd-27a5-4475-9fb7-67652479efef"
      },
      "source": [
        "abnb[\"prediction_decision\"].value_counts(normalize=True)"
      ],
      "execution_count": null,
      "outputs": [
        {
          "output_type": "execute_result",
          "data": {
            "text/plain": [
              "0    0.91134\n",
              "1    0.08866\n",
              "Name: prediction_decision, dtype: float64"
            ]
          },
          "metadata": {
            "tags": []
          },
          "execution_count": 33
        }
      ]
    },
    {
      "cell_type": "markdown",
      "source": [
        "## prediction_score \n",
        "\n",
        "The prediction_score is the predicted probability of fraud. It refers to the likelihood or confidence that a machine learning model assigns to a particular outcome or class. In other words, it is a value between 0 and 1 that represents the model's prediction of the probability that an input belongs to a certain class - in our case Fraud(1) / Not Fraud(0). \n",
        "\n",
        "For example, in this case our classification problem, a predicted probability of 0.7 for Fraud class means that the model is 70% confident that the input is a Fraud example.\n"
      ],
      "metadata": {
        "id": "N8BLlnsx9i9p"
      }
    },
    {
      "cell_type": "code",
      "metadata": {
        "colab": {
          "base_uri": "https://localhost:8080/"
        },
        "id": "2RcmOi3jOgfZ",
        "outputId": "2132f111-1e6d-4373-926f-27618539b601"
      },
      "source": [
        "abnb.groupby(\"fraud_label\")[\"prediction_score\"].mean()"
      ],
      "execution_count": null,
      "outputs": [
        {
          "output_type": "execute_result",
          "data": {
            "text/plain": [
              "fraud_label\n",
              "0    0.024137\n",
              "1    0.778427\n",
              "Name: prediction_score, dtype: float64"
            ]
          },
          "metadata": {
            "tags": []
          },
          "execution_count": 34
        }
      ]
    },
    {
      "cell_type": "markdown",
      "metadata": {
        "id": "zSC3raqR1oDh"
      },
      "source": [
        "## Eyeballing DataFrame\n",
        "\n",
        "\n",
        "---\n",
        "\n",
        "\"Eyeballing\" a DataFrame refers to quickly reviewing the contents, structure and columns of a DataFrame. You can use the following\n",
        "\n",
        "1. df.info()\n",
        "2. df.describe()\n",
        "3. df.shape\n"
      ]
    },
    {
      "cell_type": "code",
      "metadata": {
        "colab": {
          "base_uri": "https://localhost:8080/"
        },
        "id": "ZOwkvixK1oLo",
        "outputId": "94fb68d7-0b1d-4c2f-adb3-5df9083e83ed"
      },
      "source": [
        "abnb.info()"
      ],
      "execution_count": null,
      "outputs": [
        {
          "output_type": "stream",
          "text": [
            "<class 'pandas.core.frame.DataFrame'>\n",
            "RangeIndex: 50000 entries, 0 to 49999\n",
            "Data columns (total 25 columns):\n",
            " #   Column                    Non-Null Count  Dtype  \n",
            "---  ------                    --------------  -----  \n",
            " 0   price_per_night           50000 non-null  float64\n",
            " 1   number_of_guests_max      50000 non-null  float64\n",
            " 2   number_of_bedrooms        50000 non-null  float64\n",
            " 3   number_of_baths           50000 non-null  float64\n",
            " 4   number_of_beds            50000 non-null  float64\n",
            " 5   ip_address                50000 non-null  object \n",
            " 6   email_domain              50000 non-null  object \n",
            " 7   property_type             50000 non-null  object \n",
            " 8   property_space            50000 non-null  object \n",
            " 9   min_night_stay            50000 non-null  int64  \n",
            " 10  guest_space               50000 non-null  object \n",
            " 11  amenity_ac                50000 non-null  object \n",
            " 12  amenity_tv                50000 non-null  object \n",
            " 13  amenity_fire_place        50000 non-null  object \n",
            " 14  amenity_private_entrance  50000 non-null  object \n",
            " 15  amenity_wifi              50000 non-null  object \n",
            " 16  guest_space_parking       50000 non-null  object \n",
            " 17  guest_space_gym           50000 non-null  object \n",
            " 18  guest_space_pool          50000 non-null  object \n",
            " 19  guest_space_hot_tub       50000 non-null  object \n",
            " 20  property_city             50000 non-null  object \n",
            " 21  event_timestamp           50000 non-null  object \n",
            " 22  fraud_label               50000 non-null  int64  \n",
            " 23  prediction_decision       50000 non-null  int64  \n",
            " 24  prediction_score          50000 non-null  float64\n",
            "dtypes: float64(6), int64(3), object(16)\n",
            "memory usage: 9.5+ MB\n"
          ],
          "name": "stdout"
        }
      ]
    },
    {
      "cell_type": "markdown",
      "metadata": {
        "id": "8NXb_qLz1oUG"
      },
      "source": [
        "# Exploratory Analysis \n",
        "\n",
        "Exploratory data analysis (EDA) is an approach to analyzing and understanding a dataset. It is a process of summarizing and visualizing the main characteristics of a dataset, and identifying patterns, outliers, and relationships within the data. The goal of EDA is to provide a deeper understanding of the data, and to identify any potential issues or areas of interest that may need further investigation.\n",
        "\n",
        "EDA typically includes the following steps:\n",
        "\n",
        "1. Data preparation: This includes cleaning and preprocessing the data, such as handling missing values and converting data types.\n",
        "\n",
        "2. Data summarization: This includes calculating summary statistics and generating visualizations, such as histograms and scatter plots, to get a sense of the distribution and relationship of the data.\n",
        "\n",
        "3. Data visualization: This is one of the most important step in EDA, it helps to identify patterns and relationships in the data, and can also be used to identify outliers and anomalies.\n",
        "\n",
        "4. Data transformation: This includes applying mathematical operations or other transformations to the data, such as taking the logarithm of a variable, in order to make patterns or relationships more apparent.\n",
        "\n",
        "\n",
        "\n",
        "---\n",
        "\n",
        "Let's start by answering a few questions: \n",
        "\n",
        "- What's the mean,min,max price per night BY property_city?\n",
        "```python\n",
        "# method 1\n",
        "abnb.groupby(\"property_city\")[[\"price_per_night\"]].agg(['mean','min','max'])\n",
        "# method 2 \n",
        "abnb.groupby(\"property_city\").agg({\"price_per_night\":['mean','min','max']})\n",
        "```\n",
        "- What's the average prediction_score and price per night by city?\n",
        "```python\n",
        "# method 1\n",
        "abnb.groupby(\"property_city\")[[\"price_per_night\", \"prediction_score\"]].agg(['mean','min','max', 'count'])\n",
        "# method 2\n",
        "abnb.groupby(\"property_city\").agg({\n",
        "  \"price_per_night\":['mean','min','max', 'count'],\n",
        "  \"prediction_score\":['mean','min','max', 'count']\n",
        "})\n",
        "```\n",
        "- What's the mean prediction score and count by city and fraud_label?\n",
        "```python\n",
        "# method 1\n",
        "abnb.groupby([\"property_city\", \"fraud_label\"])[[ \"prediction_score\"]].agg(['mean', 'count'])\n",
        "# method 2\n",
        "abnb.groupby([\"property_city\", \"fraud_label\"]).agg({\n",
        "  \"prediction_score\":['mean', 'count']})\n",
        "\n",
        "```"
      ]
    },
    {
      "cell_type": "code",
      "metadata": {
        "colab": {
          "base_uri": "https://localhost:8080/",
          "height": 297
        },
        "id": "k1JirZb61oa1",
        "outputId": "604819c3-e900-4789-c0d4-39966f073450"
      },
      "source": [],
      "execution_count": null,
      "outputs": [
        {
          "output_type": "execute_result",
          "data": {
            "text/html": [
              "<div>\n",
              "<style scoped>\n",
              "    .dataframe tbody tr th:only-of-type {\n",
              "        vertical-align: middle;\n",
              "    }\n",
              "\n",
              "    .dataframe tbody tr th {\n",
              "        vertical-align: top;\n",
              "    }\n",
              "\n",
              "    .dataframe thead tr th {\n",
              "        text-align: left;\n",
              "    }\n",
              "\n",
              "    .dataframe thead tr:last-of-type th {\n",
              "        text-align: right;\n",
              "    }\n",
              "</style>\n",
              "<table border=\"1\" class=\"dataframe\">\n",
              "  <thead>\n",
              "    <tr>\n",
              "      <th></th>\n",
              "      <th colspan=\"3\" halign=\"left\">price_per_night</th>\n",
              "    </tr>\n",
              "    <tr>\n",
              "      <th></th>\n",
              "      <th>mean</th>\n",
              "      <th>min</th>\n",
              "      <th>max</th>\n",
              "    </tr>\n",
              "    <tr>\n",
              "      <th>property_city</th>\n",
              "      <th></th>\n",
              "      <th></th>\n",
              "      <th></th>\n",
              "    </tr>\n",
              "  </thead>\n",
              "  <tbody>\n",
              "    <tr>\n",
              "      <th>Ft. Lauderdale</th>\n",
              "      <td>323.489564</td>\n",
              "      <td>65.0</td>\n",
              "      <td>549.0</td>\n",
              "    </tr>\n",
              "    <tr>\n",
              "      <th>Jacksonville</th>\n",
              "      <td>340.129630</td>\n",
              "      <td>194.0</td>\n",
              "      <td>481.0</td>\n",
              "    </tr>\n",
              "    <tr>\n",
              "      <th>Miami</th>\n",
              "      <td>320.485001</td>\n",
              "      <td>93.0</td>\n",
              "      <td>491.0</td>\n",
              "    </tr>\n",
              "    <tr>\n",
              "      <th>Orlando</th>\n",
              "      <td>315.068465</td>\n",
              "      <td>45.0</td>\n",
              "      <td>526.0</td>\n",
              "    </tr>\n",
              "    <tr>\n",
              "      <th>Sarasota</th>\n",
              "      <td>335.498163</td>\n",
              "      <td>30.0</td>\n",
              "      <td>496.0</td>\n",
              "    </tr>\n",
              "    <tr>\n",
              "      <th>Tampa</th>\n",
              "      <td>325.707692</td>\n",
              "      <td>121.0</td>\n",
              "      <td>478.0</td>\n",
              "    </tr>\n",
              "  </tbody>\n",
              "</table>\n",
              "</div>"
            ],
            "text/plain": [
              "               price_per_night              \n",
              "                          mean    min    max\n",
              "property_city                               \n",
              "Ft. Lauderdale      323.489564   65.0  549.0\n",
              "Jacksonville        340.129630  194.0  481.0\n",
              "Miami               320.485001   93.0  491.0\n",
              "Orlando             315.068465   45.0  526.0\n",
              "Sarasota            335.498163   30.0  496.0\n",
              "Tampa               325.707692  121.0  478.0"
            ]
          },
          "metadata": {
            "tags": []
          },
          "execution_count": 38
        }
      ]
    },
    {
      "cell_type": "markdown",
      "metadata": {
        "id": "zotUF53m1ois"
      },
      "source": [
        "## whats the average prediction_score and price per night by city?"
      ]
    },
    {
      "cell_type": "code",
      "metadata": {
        "colab": {
          "base_uri": "https://localhost:8080/",
          "height": 297
        },
        "id": "ZkFTdieU1orE",
        "outputId": "af1fe6b9-a296-44f1-cdee-445f9f6316aa"
      },
      "source": [],
      "execution_count": null,
      "outputs": [
        {
          "output_type": "execute_result",
          "data": {
            "text/html": [
              "<div>\n",
              "<style scoped>\n",
              "    .dataframe tbody tr th:only-of-type {\n",
              "        vertical-align: middle;\n",
              "    }\n",
              "\n",
              "    .dataframe tbody tr th {\n",
              "        vertical-align: top;\n",
              "    }\n",
              "\n",
              "    .dataframe thead tr th {\n",
              "        text-align: left;\n",
              "    }\n",
              "\n",
              "    .dataframe thead tr:last-of-type th {\n",
              "        text-align: right;\n",
              "    }\n",
              "</style>\n",
              "<table border=\"1\" class=\"dataframe\">\n",
              "  <thead>\n",
              "    <tr>\n",
              "      <th></th>\n",
              "      <th colspan=\"4\" halign=\"left\">price_per_night</th>\n",
              "      <th colspan=\"4\" halign=\"left\">prediction_score</th>\n",
              "    </tr>\n",
              "    <tr>\n",
              "      <th></th>\n",
              "      <th>mean</th>\n",
              "      <th>min</th>\n",
              "      <th>max</th>\n",
              "      <th>count</th>\n",
              "      <th>mean</th>\n",
              "      <th>min</th>\n",
              "      <th>max</th>\n",
              "      <th>count</th>\n",
              "    </tr>\n",
              "    <tr>\n",
              "      <th>property_city</th>\n",
              "      <th></th>\n",
              "      <th></th>\n",
              "      <th></th>\n",
              "      <th></th>\n",
              "      <th></th>\n",
              "      <th></th>\n",
              "      <th></th>\n",
              "      <th></th>\n",
              "    </tr>\n",
              "  </thead>\n",
              "  <tbody>\n",
              "    <tr>\n",
              "      <th>Ft. Lauderdale</th>\n",
              "      <td>323.489564</td>\n",
              "      <td>65.0</td>\n",
              "      <td>549.0</td>\n",
              "      <td>10732</td>\n",
              "      <td>0.101324</td>\n",
              "      <td>0.0</td>\n",
              "      <td>1.0</td>\n",
              "      <td>10732</td>\n",
              "    </tr>\n",
              "    <tr>\n",
              "      <th>Jacksonville</th>\n",
              "      <td>340.129630</td>\n",
              "      <td>194.0</td>\n",
              "      <td>481.0</td>\n",
              "      <td>54</td>\n",
              "      <td>0.131084</td>\n",
              "      <td>0.0</td>\n",
              "      <td>1.0</td>\n",
              "      <td>54</td>\n",
              "    </tr>\n",
              "    <tr>\n",
              "      <th>Miami</th>\n",
              "      <td>320.485001</td>\n",
              "      <td>93.0</td>\n",
              "      <td>491.0</td>\n",
              "      <td>13101</td>\n",
              "      <td>0.108185</td>\n",
              "      <td>0.0</td>\n",
              "      <td>1.0</td>\n",
              "      <td>13101</td>\n",
              "    </tr>\n",
              "    <tr>\n",
              "      <th>Orlando</th>\n",
              "      <td>315.068465</td>\n",
              "      <td>45.0</td>\n",
              "      <td>526.0</td>\n",
              "      <td>23545</td>\n",
              "      <td>0.099031</td>\n",
              "      <td>0.0</td>\n",
              "      <td>1.0</td>\n",
              "      <td>23545</td>\n",
              "    </tr>\n",
              "    <tr>\n",
              "      <th>Sarasota</th>\n",
              "      <td>335.498163</td>\n",
              "      <td>30.0</td>\n",
              "      <td>496.0</td>\n",
              "      <td>2178</td>\n",
              "      <td>0.101090</td>\n",
              "      <td>0.0</td>\n",
              "      <td>1.0</td>\n",
              "      <td>2178</td>\n",
              "    </tr>\n",
              "    <tr>\n",
              "      <th>Tampa</th>\n",
              "      <td>325.707692</td>\n",
              "      <td>121.0</td>\n",
              "      <td>478.0</td>\n",
              "      <td>390</td>\n",
              "      <td>0.173709</td>\n",
              "      <td>0.0</td>\n",
              "      <td>1.0</td>\n",
              "      <td>390</td>\n",
              "    </tr>\n",
              "  </tbody>\n",
              "</table>\n",
              "</div>"
            ],
            "text/plain": [
              "               price_per_night                ... prediction_score            \n",
              "                          mean    min    max  ...              min  max  count\n",
              "property_city                                 ...                             \n",
              "Ft. Lauderdale      323.489564   65.0  549.0  ...              0.0  1.0  10732\n",
              "Jacksonville        340.129630  194.0  481.0  ...              0.0  1.0     54\n",
              "Miami               320.485001   93.0  491.0  ...              0.0  1.0  13101\n",
              "Orlando             315.068465   45.0  526.0  ...              0.0  1.0  23545\n",
              "Sarasota            335.498163   30.0  496.0  ...              0.0  1.0   2178\n",
              "Tampa               325.707692  121.0  478.0  ...              0.0  1.0    390\n",
              "\n",
              "[6 rows x 8 columns]"
            ]
          },
          "metadata": {
            "tags": []
          },
          "execution_count": 40
        }
      ]
    },
    {
      "cell_type": "markdown",
      "metadata": {
        "id": "2nOM6u9uAfyK"
      },
      "source": [
        "## What's the mean  prediction score and count by city and fraud_label? "
      ]
    },
    {
      "cell_type": "code",
      "metadata": {
        "colab": {
          "base_uri": "https://localhost:8080/",
          "height": 483
        },
        "id": "9ZHBwp7RAf7B",
        "outputId": "e6f1a089-1318-42eb-ee13-c0e48e5e3bba"
      },
      "source": [
        "abnb.groupby([\"property_city\", \"fraud_label\"])[[ \"prediction_score\"]].agg(['mean', 'count'])"
      ],
      "execution_count": null,
      "outputs": [
        {
          "output_type": "execute_result",
          "data": {
            "text/html": [
              "<div>\n",
              "<style scoped>\n",
              "    .dataframe tbody tr th:only-of-type {\n",
              "        vertical-align: middle;\n",
              "    }\n",
              "\n",
              "    .dataframe tbody tr th {\n",
              "        vertical-align: top;\n",
              "    }\n",
              "\n",
              "    .dataframe thead tr th {\n",
              "        text-align: left;\n",
              "    }\n",
              "\n",
              "    .dataframe thead tr:last-of-type th {\n",
              "        text-align: right;\n",
              "    }\n",
              "</style>\n",
              "<table border=\"1\" class=\"dataframe\">\n",
              "  <thead>\n",
              "    <tr>\n",
              "      <th></th>\n",
              "      <th></th>\n",
              "      <th colspan=\"2\" halign=\"left\">prediction_score</th>\n",
              "    </tr>\n",
              "    <tr>\n",
              "      <th></th>\n",
              "      <th></th>\n",
              "      <th>mean</th>\n",
              "      <th>count</th>\n",
              "    </tr>\n",
              "    <tr>\n",
              "      <th>property_city</th>\n",
              "      <th>fraud_label</th>\n",
              "      <th></th>\n",
              "      <th></th>\n",
              "    </tr>\n",
              "  </thead>\n",
              "  <tbody>\n",
              "    <tr>\n",
              "      <th rowspan=\"2\" valign=\"top\">Ft. Lauderdale</th>\n",
              "      <th>0</th>\n",
              "      <td>0.021650</td>\n",
              "      <td>9596</td>\n",
              "    </tr>\n",
              "    <tr>\n",
              "      <th>1</th>\n",
              "      <td>0.774341</td>\n",
              "      <td>1136</td>\n",
              "    </tr>\n",
              "    <tr>\n",
              "      <th rowspan=\"2\" valign=\"top\">Jacksonville</th>\n",
              "      <th>0</th>\n",
              "      <td>0.015797</td>\n",
              "      <td>46</td>\n",
              "    </tr>\n",
              "    <tr>\n",
              "      <th>1</th>\n",
              "      <td>0.793980</td>\n",
              "      <td>8</td>\n",
              "    </tr>\n",
              "    <tr>\n",
              "      <th rowspan=\"2\" valign=\"top\">Miami</th>\n",
              "      <th>0</th>\n",
              "      <td>0.023080</td>\n",
              "      <td>11649</td>\n",
              "    </tr>\n",
              "    <tr>\n",
              "      <th>1</th>\n",
              "      <td>0.790956</td>\n",
              "      <td>1452</td>\n",
              "    </tr>\n",
              "    <tr>\n",
              "      <th rowspan=\"2\" valign=\"top\">Orlando</th>\n",
              "      <th>0</th>\n",
              "      <td>0.026549</td>\n",
              "      <td>21242</td>\n",
              "    </tr>\n",
              "    <tr>\n",
              "      <th>1</th>\n",
              "      <td>0.767575</td>\n",
              "      <td>2303</td>\n",
              "    </tr>\n",
              "    <tr>\n",
              "      <th rowspan=\"2\" valign=\"top\">Sarasota</th>\n",
              "      <th>0</th>\n",
              "      <td>0.018659</td>\n",
              "      <td>1955</td>\n",
              "    </tr>\n",
              "    <tr>\n",
              "      <th>1</th>\n",
              "      <td>0.823752</td>\n",
              "      <td>223</td>\n",
              "    </tr>\n",
              "    <tr>\n",
              "      <th rowspan=\"2\" valign=\"top\">Tampa</th>\n",
              "      <th>0</th>\n",
              "      <td>0.011275</td>\n",
              "      <td>309</td>\n",
              "    </tr>\n",
              "    <tr>\n",
              "      <th>1</th>\n",
              "      <td>0.793363</td>\n",
              "      <td>81</td>\n",
              "    </tr>\n",
              "  </tbody>\n",
              "</table>\n",
              "</div>"
            ],
            "text/plain": [
              "                           prediction_score       \n",
              "                                       mean  count\n",
              "property_city  fraud_label                        \n",
              "Ft. Lauderdale 0                   0.021650   9596\n",
              "               1                   0.774341   1136\n",
              "Jacksonville   0                   0.015797     46\n",
              "               1                   0.793980      8\n",
              "Miami          0                   0.023080  11649\n",
              "               1                   0.790956   1452\n",
              "Orlando        0                   0.026549  21242\n",
              "               1                   0.767575   2303\n",
              "Sarasota       0                   0.018659   1955\n",
              "               1                   0.823752    223\n",
              "Tampa          0                   0.011275    309\n",
              "               1                   0.793363     81"
            ]
          },
          "metadata": {
            "tags": []
          },
          "execution_count": 41
        }
      ]
    },
    {
      "cell_type": "markdown",
      "metadata": {
        "id": "db9KGH5fAgGJ"
      },
      "source": [
        "# Assess Model Performnace using Accuracy, Precision and Recall\n",
        "\n",
        "\n",
        "\n",
        "---\n",
        "\n",
        "\n",
        "\n",
        "1. Accuracy: Accuracy is a metric commonly used to evaluate the performance of a classification model. It is defined as the proportion of correctly classified instances to the total number of instances in the dataset. The formula for accuracy is:\n",
        "\n",
        "  Accuracy = (Number of Correctly Classified Instances) / (Total Number of Instances)\n",
        "\n",
        "  For example, if a model correctly classifies 90 out of 100 instances, then the accuracy of the model would be:\n",
        "\n",
        "  Accuracy = (90) / (100) = 0.9 or 90%\n",
        "\n",
        "\n",
        "2. Precision:\n",
        "  Precision is a metric commonly used to evaluate the performance of a classification model, particularly when the goal is to minimize the number of false positives. It is defined as the proportion of true positive predictions to the total number of positive predictions made by the model. The formula for precision is:\n",
        "\n",
        "  Precision = (True Positives) / (True Positives + False Positives)\n",
        "\n",
        "  For example, if a model makes 100 positive predictions and 80 of them are correct, while 20 are incorrect, the precision would be:\n",
        "\n",
        "  Precision = (80) / (80 + 20) = 0.8 or 80%\n",
        "\n",
        "3. Recall:\n",
        "\n",
        "  Recall is a metric commonly used to evaluate the performance of a classification model, particularly when the goal is to minimize the number of false negatives. It is defined as the proportion of true positive predictions to the total number of actual positive instances in the dataset. The formula for recall is:\n",
        "\n",
        "  Recall = (True Positives) / (True Positives + False Negatives)\n",
        "\n",
        "  For example, if there are 100 positive instances in the dataset and the model correctly identifies 80 of them, while missing 20, the recall would be:\n",
        "\n",
        "  Recall = (80) / (80 + 20) = 0.8 or 80%\n",
        "\n",
        "---\n",
        "\n",
        "Start by identifying True Positives(TP), False Postives(FP), True Negatives and False Negatives\n",
        "\n",
        "\n",
        "\n",
        "```python\n",
        "# method 1\n",
        "abnb.groupby([\"fraud_label\", \"prediction_decision\"])[[\"event_timestamp\"]].count().rename(columns={\"event_timestamp\":\"count\"})\n",
        "# method 2\n",
        "abnb.groupby([\"fraud_label\", \"prediction_decision\"]).agg({\n",
        "  \"event_timestamp\":[\"count\"]})\n",
        "\n",
        "TP = 4072\n",
        "FP = 361\n",
        "TN = 44436\n",
        "FN = 1131\n",
        "\n",
        "# -- TruePositives + TrueNegatives / (TruePositives + FalsePositives + TrueNegatives + FalseNegatives)\n",
        "accuracy = (TP + TN)/(TP + FP + FN + TN)\n",
        "print(\"the accuracy of the model is {:.4f}\".format(accuracy))\n",
        "```\n",
        "\n",
        "\n",
        "\n",
        "\n",
        "\n",
        "\n",
        "\n"
      ]
    },
    {
      "cell_type": "code",
      "metadata": {
        "colab": {
          "base_uri": "https://localhost:8080/",
          "height": 204
        },
        "id": "Y_tfKk2WAgM1",
        "outputId": "149e74dd-455d-4032-dca1-1b6f2a03daab"
      },
      "source": [
        "abnb.groupby([\"fraud_label\", \"prediction_decision\"])[[\"event_timestamp\"]].count().rename(columns={\"event_timestamp\":\"count\"})"
      ],
      "execution_count": null,
      "outputs": [
        {
          "output_type": "execute_result",
          "data": {
            "text/html": [
              "<div>\n",
              "<style scoped>\n",
              "    .dataframe tbody tr th:only-of-type {\n",
              "        vertical-align: middle;\n",
              "    }\n",
              "\n",
              "    .dataframe tbody tr th {\n",
              "        vertical-align: top;\n",
              "    }\n",
              "\n",
              "    .dataframe thead th {\n",
              "        text-align: right;\n",
              "    }\n",
              "</style>\n",
              "<table border=\"1\" class=\"dataframe\">\n",
              "  <thead>\n",
              "    <tr style=\"text-align: right;\">\n",
              "      <th></th>\n",
              "      <th></th>\n",
              "      <th>count</th>\n",
              "    </tr>\n",
              "    <tr>\n",
              "      <th>fraud_label</th>\n",
              "      <th>prediction_decision</th>\n",
              "      <th></th>\n",
              "    </tr>\n",
              "  </thead>\n",
              "  <tbody>\n",
              "    <tr>\n",
              "      <th rowspan=\"2\" valign=\"top\">0</th>\n",
              "      <th>0</th>\n",
              "      <td>44436</td>\n",
              "    </tr>\n",
              "    <tr>\n",
              "      <th>1</th>\n",
              "      <td>361</td>\n",
              "    </tr>\n",
              "    <tr>\n",
              "      <th rowspan=\"2\" valign=\"top\">1</th>\n",
              "      <th>0</th>\n",
              "      <td>1131</td>\n",
              "    </tr>\n",
              "    <tr>\n",
              "      <th>1</th>\n",
              "      <td>4072</td>\n",
              "    </tr>\n",
              "  </tbody>\n",
              "</table>\n",
              "</div>"
            ],
            "text/plain": [
              "                                 count\n",
              "fraud_label prediction_decision       \n",
              "0           0                    44436\n",
              "            1                      361\n",
              "1           0                     1131\n",
              "            1                     4072"
            ]
          },
          "metadata": {
            "tags": []
          },
          "execution_count": 42
        }
      ]
    },
    {
      "cell_type": "markdown",
      "metadata": {
        "id": "T4hY01QhP_SH"
      },
      "source": [
        "##  True Positive\n",
        "\n",
        "\n",
        "---\n",
        "\n",
        "\n",
        "True Positive is generally the \"1\", the minority case you are interested in. while a true negative the \"0\" is the default or majority case. \n",
        "\n",
        "## Accuracy \n",
        "What is the default accuracy of assigning everyone to not-fraud i.e. \"0\"? \n",
        "\n",
        "Defaut accuracy is simply the % of the majority case we can easily calcualte this using .value_counts():\n",
        "```python\n",
        "abnb[\"fraud_label\"].value_counts(normalize=True)\n",
        "```\n",
        "in this case defalt accuracy is 89.59%"
      ]
    },
    {
      "cell_type": "code",
      "metadata": {
        "colab": {
          "base_uri": "https://localhost:8080/"
        },
        "id": "SoBoiYz8VHXl",
        "outputId": "e5266e2f-7402-4782-b0ad-4b73138114b5"
      },
      "source": [
        "abnb[\"fraud_label\"].value_counts(normalize=True)"
      ],
      "execution_count": null,
      "outputs": [
        {
          "output_type": "execute_result",
          "data": {
            "text/plain": [
              "0    0.89594\n",
              "1    0.10406\n",
              "Name: fraud_label, dtype: float64"
            ]
          },
          "metadata": {
            "tags": []
          },
          "execution_count": 44
        }
      ]
    },
    {
      "cell_type": "code",
      "metadata": {
        "colab": {
          "base_uri": "https://localhost:8080/"
        },
        "id": "H4X5eQv4P_kN",
        "outputId": "9ea76531-fea0-482a-e452-8f4e930ba223"
      },
      "source": [
        "TP = 4072\n",
        "FP = 361\n",
        "TN = 44436\n",
        "FN = 1131\n",
        "\n",
        "# -- TruePositives + TrueNegatives / (TruePositives + FalsePositives + TrueNegatives + FalseNegatives)\n",
        "accuracy = (TP + TN)/(TP + FP + FN + TN)\n",
        "print(\"Model Accuracy is: {:.2f}%\".format(accuracy*100))"
      ],
      "execution_count": 3,
      "outputs": [
        {
          "output_type": "stream",
          "name": "stdout",
          "text": [
            "Model Accuracy is: 97.02%\n"
          ]
        }
      ]
    },
    {
      "cell_type": "markdown",
      "source": [
        "## Precision\n",
        "Precision = TruePositives / (TruePositives + FalsePositives)\n",
        "\n",
        "```python\n",
        "precision = (TP)/(TP + FP )\n",
        "\n",
        "print(\"Model Precision is: {:.2f}%\".format(precision*100))\n",
        "```"
      ],
      "metadata": {
        "id": "uInoKj0RCGGV"
      }
    },
    {
      "cell_type": "code",
      "metadata": {
        "colab": {
          "base_uri": "https://localhost:8080/"
        },
        "id": "8Rf0h6QBP_4y",
        "outputId": "f3d7d498-7914-45ed-c35c-4cd12173de23"
      },
      "source": [
        "# -- TruePositives / (TruePositives + FalsePositives)\n",
        "precision = (TP)/(TP + FP )\n",
        "print(\"Model Precision is: {:.2f}%\".format(precision*100))"
      ],
      "execution_count": 4,
      "outputs": [
        {
          "output_type": "stream",
          "name": "stdout",
          "text": [
            "Model Precision is: 91.86%\n"
          ]
        }
      ]
    },
    {
      "cell_type": "markdown",
      "source": [
        "## Recall \n",
        "\n",
        "\n",
        "---\n",
        "Recall = TruePositives / (TruePositives + FalseNegatives)\n",
        "```python\n",
        "# -- TruePositives / (TruePositives + FalseNegatives)\n",
        "recall = TP/(TP + FN)\n",
        "print(\"Model Recall is: {:.2f}%\".format(recall*100))\n",
        "```"
      ],
      "metadata": {
        "id": "Ee9zg3zrCazV"
      }
    },
    {
      "cell_type": "code",
      "metadata": {
        "colab": {
          "base_uri": "https://localhost:8080/"
        },
        "id": "-_Pc6YG7QZHt",
        "outputId": "71234356-4b92-4c3d-de09-6e87e37ba09f"
      },
      "source": [],
      "execution_count": 5,
      "outputs": [
        {
          "output_type": "stream",
          "name": "stdout",
          "text": [
            "Model Recall is: 78.26%\n"
          ]
        }
      ]
    },
    {
      "cell_type": "markdown",
      "metadata": {
        "id": "WD7jdb1TQgHK"
      },
      "source": [
        "## Double check your manual calculations with scikit-learn \n",
        "\n",
        "\n",
        "---\n",
        "\n",
        "Scikit-learn (also known as sklearn) is an open-source Python library that provides a wide range of tools for machine learning and statistical modeling. It is built on top of other popular Python libraries such as NumPy and pandas and is designed to be easy to use and integrate with other machine learning libraries and frameworks.\n",
        "\n",
        "The library provides several metrics and evaluation functions such as accuracy, precision, recall, F1-score, ROC, AUC, etc. Scikit-learn is the most popular package for machine learning projects.\n",
        "\n",
        "```python\n",
        "from sklearn.metrics import accuracy_score, precision_score, recall_score\n",
        "\n",
        "print(\"accuracy : {:.4f}\".format( accuracy_score(abnb[\"fraud_label\"], abnb['prediction_decision'])))\n",
        "print(\"precision: {:.4f}\".format( precision_score(abnb[\"fraud_label\"], abnb['prediction_decision'])))\n",
        "print(\"recall.  : {:.4f}\".format( recall_score(abnb[\"fraud_label\"], abnb['prediction_decision'])))\n",
        "```\n"
      ]
    },
    {
      "cell_type": "code",
      "metadata": {
        "id": "ZKuZ2-o5Qe_h"
      },
      "source": [],
      "execution_count": 6,
      "outputs": []
    },
    {
      "cell_type": "markdown",
      "metadata": {
        "id": "ZYfwK4q-QoVZ"
      },
      "source": [
        "## Example of pretty charts. \n",
        "\n",
        "\n",
        "---\n",
        "\n",
        "\n",
        "```python\n",
        "print(\"Confusing  Matrix\")\n",
        "confusion_matrix = pd.crosstab(abnb['fraud_label'], abnb['prediction_decision'],  rownames=['Actual'], colnames=['Predicted'])\n",
        "confusion_matrix_pct = pd.crosstab(abnb['fraud_label'], abnb['prediction_decision'],  normalize=\"all\", rownames=['Actual'], colnames=['Predicted']).round(3)\n",
        "print (confusion_matrix)\n",
        "print(\"\\n\")\n",
        "\n",
        "plt.figure(figsize=(8,5))\n",
        "sns.heatmap(confusion_matrix, annot=True, fmt='g', cmap='Blues')\n",
        "plt.title('Confusion Matrix - Counts ')\n",
        "\n",
        "plt.show()\n",
        "\n",
        "plt.figure(figsize=(8,5))\n",
        "sns.heatmap(confusion_matrix_pct, annot=True, fmt='g', cmap='Blues')\n",
        "plt.title('Confusion Matrix - PCTs ')\n",
        "plt.show()\n",
        "```\n",
        "\n",
        "A confusion matrix is a table that is used to define the performance of a classification model. It is used to describe the performance of a classification model by summarizing the model's predicted and actual results into four outcomes: true positives (TP), true negatives (TN), false positives (FP), and false negatives (FN).\n",
        "\n",
        "Here is an example of a binary classification problem:\n",
        "\n",
        "|               |  Predicted Positive  | Predicted Negative  |\n",
        "|----------------|----------------------|---------------------|\n",
        "| Actual Positive|         TP           |         FN          |\n",
        "| Actual Negative|         FP           |         TN          |\n",
        "\n",
        "\n",
        "- True Positives (TP) are the cases where the model predicted the positive class and it was correct.\n",
        "- True Negatives (TN) are the cases where the model predicted the negative class and it was correct.\n",
        "- False Positives (FP) are the cases where the model predicted the positive class but it was incorrect.\n",
        "- False Negatives (FN) are the cases where the model predicted the negative class but it was incorrect.\n",
        "\n",
        "A confusion matrix can be used to calculate various evaluation metrics such as accuracy, precision, recall, F1-score, ROC, AUC, etc. These metrics can provide a more comprehensive understanding of a model's performance and can be used to compare different models or to tune a model's parameters."
      ]
    },
    {
      "cell_type": "code",
      "metadata": {
        "colab": {
          "base_uri": "https://localhost:8080/",
          "height": 802
        },
        "id": "1V55iH0WQrbo",
        "outputId": "0db430ac-5e3a-4278-9347-b3fdd0b96b05"
      },
      "source": [
        "print(\"Confusing  Matrix\")\n",
        "confusion_matrix = pd.crosstab(abnb['fraud_label'], abnb['prediction_decision'],  rownames=['Actual'], colnames=['Predicted'])\n",
        "confusion_matrix_pct = pd.crosstab(abnb['fraud_label'], abnb['prediction_decision'],  normalize=\"all\", rownames=['Actual'], colnames=['Predicted']).round(3)\n",
        "print (confusion_matrix)\n",
        "print(\"\\n\")\n",
        "\n",
        "plt.figure(figsize=(8,5))\n",
        "sns.heatmap(confusion_matrix, annot=True, fmt='g', cmap='Blues')\n",
        "plt.title('Confusion Matrix - Counts ')\n",
        "\n",
        "plt.show()\n",
        "\n",
        "plt.figure(figsize=(8,5))\n",
        "sns.heatmap(confusion_matrix_pct, annot=True, fmt='g', cmap='Blues')\n",
        "plt.title('Confusion Matrix - PCTs ')\n",
        "plt.show()"
      ],
      "execution_count": null,
      "outputs": [
        {
          "output_type": "stream",
          "text": [
            "Confusing  Matrix\n",
            "Predicted      0     1\n",
            "Actual                \n",
            "0          44436   361\n",
            "1           1131  4072\n",
            "\n",
            "\n"
          ],
          "name": "stdout"
        },
        {
          "output_type": "display_data",
          "data": {
            "image/png": "[encoded data removed]",
            "text/plain": [
              "<Figure size 576x360 with 2 Axes>"
            ]
          },
          "metadata": {
            "tags": [],
            "needs_background": "light"
          }
        },
        {
          "output_type": "display_data",
          "data": {
            "image/png": "[encoded data removed]",
            "text/plain": [
              "<Figure size 576x360 with 2 Axes>"
            ]
          },
          "metadata": {
            "tags": [],
            "needs_background": "light"
          }
        }
      ]
    },
    {
      "cell_type": "markdown",
      "source": [
        "## Suppose we change the Score Threshold?\n",
        "\n",
        "\n",
        "---\n",
        "\n",
        "\n",
        "Suppose we change the Score Threshold, it will affect the number of True Positives, True Negatives, False Positives, and False Negatives.\n",
        "\n",
        "A threshold is a value that separates the positive class from the negative class. For example, a threshold of 0.5 for a binary classification problem means that any predicted probability greater than 0.5 will be classified as the positive class and any predicted probability less than 0.5 will be classified as the negative class.\n",
        "\n",
        "By changing the threshold, we change the criteria for classifying a sample as positive or negative. This will affect the number of true positives, true negatives, false positives, and false negatives.\n",
        "\n",
        "If we lower the threshold, we will get more true positives, but also more false positives (because more samples will be classified as positive). This will increase the recall (the number of true positives over the number of true positives plus the number of false negatives) but decrease the precision (the number of true positives over the number of true positives plus the number of false positives).\n",
        "\n",
        "On the other hand, if we raise the threshold, we will get fewer true positives, but also fewer false positives. This will decrease the recall but increase the precision.\n",
        "\n",
        "- let's decrease the threshold to 0.3 and see what happens to accuracy, precision and recall. \n",
        "\n",
        "```python\n",
        "# -- change threshold \n",
        "abnb[\"new_label\"] = 0\n",
        "abnb.loc[(abnb[\"prediction_score\"] > 0.3), \"new_label\"] = 1\n",
        "# -- metrics \n",
        "print(\"accuracy : {0}\".format( accuracy_score(abnb[\"fraud_label\"], abnb['new_label'])))\n",
        "print(\"precision: {0}\".format( precision_score(abnb[\"fraud_label\"], abnb['new_label'])))\n",
        "print(\"recall.  : {0}\".format( recall_score(abnb[\"fraud_label\"], abnb['new_label'])))\n",
        "```\n",
        "\n",
        "- let's increase the threshold to 0.7 and see what happens to accuracy, precision and recall. \n",
        "\n",
        "```python\n",
        "# -- change threshold \n",
        "abnb[\"new_label\"] = 0\n",
        "abnb.loc[(abnb[\"prediction_score\"] > 0.7), \"new_label\"] = 1\n",
        "# -- metrics \n",
        "print(\"accuracy : {0}\".format( accuracy_score(abnb[\"fraud_label\"], abnb['new_label'])))\n",
        "print(\"precision: {0}\".format( precision_score(abnb[\"fraud_label\"], abnb['new_label'])))\n",
        "print(\"recall.  : {0}\".format( recall_score(abnb[\"fraud_label\"], abnb['new_label'])))\n",
        "```\n"
      ],
      "metadata": {
        "id": "kygNYuyoDzLL"
      }
    },
    {
      "cell_type": "code",
      "metadata": {
        "colab": {
          "base_uri": "https://localhost:8080/",
          "height": 309
        },
        "id": "IfdPqEOIVrKY",
        "outputId": "ae168f35-9be2-4a8c-b0a1-0e532381d881"
      },
      "source": [
        "abnb[\"new_label\"] = 0\n",
        "abnb.loc[(abnb[\"prediction_score\"] > 0.3), \"new_label\"] = 1\n",
        "abnb.head()"
      ],
      "execution_count": null,
      "outputs": [
        {
          "output_type": "execute_result",
          "data": {
            "text/html": [
              "<div>\n",
              "<style scoped>\n",
              "    .dataframe tbody tr th:only-of-type {\n",
              "        vertical-align: middle;\n",
              "    }\n",
              "\n",
              "    .dataframe tbody tr th {\n",
              "        vertical-align: top;\n",
              "    }\n",
              "\n",
              "    .dataframe thead th {\n",
              "        text-align: right;\n",
              "    }\n",
              "</style>\n",
              "<table border=\"1\" class=\"dataframe\">\n",
              "  <thead>\n",
              "    <tr style=\"text-align: right;\">\n",
              "      <th></th>\n",
              "      <th>price_per_night</th>\n",
              "      <th>number_of_guests_max</th>\n",
              "      <th>number_of_bedrooms</th>\n",
              "      <th>number_of_baths</th>\n",
              "      <th>number_of_beds</th>\n",
              "      <th>ip_address</th>\n",
              "      <th>email_domain</th>\n",
              "      <th>property_type</th>\n",
              "      <th>property_space</th>\n",
              "      <th>min_night_stay</th>\n",
              "      <th>guest_space</th>\n",
              "      <th>amenity_ac</th>\n",
              "      <th>amenity_tv</th>\n",
              "      <th>amenity_fire_place</th>\n",
              "      <th>amenity_private_entrance</th>\n",
              "      <th>amenity_wifi</th>\n",
              "      <th>guest_space_parking</th>\n",
              "      <th>guest_space_gym</th>\n",
              "      <th>guest_space_pool</th>\n",
              "      <th>guest_space_hot_tub</th>\n",
              "      <th>property_city</th>\n",
              "      <th>event_timestamp</th>\n",
              "      <th>fraud_label</th>\n",
              "      <th>prediction_decision</th>\n",
              "      <th>prediction_score</th>\n",
              "      <th>new_label</th>\n",
              "    </tr>\n",
              "  </thead>\n",
              "  <tbody>\n",
              "    <tr>\n",
              "      <th>0</th>\n",
              "      <td>335.0</td>\n",
              "      <td>12.0</td>\n",
              "      <td>6.0</td>\n",
              "      <td>2.0</td>\n",
              "      <td>4.0</td>\n",
              "      <td>57.162.17.6</td>\n",
              "      <td>yahoo.com</td>\n",
              "      <td>tiny house</td>\n",
              "      <td>shared room</td>\n",
              "      <td>1</td>\n",
              "      <td>no</td>\n",
              "      <td>yes</td>\n",
              "      <td>no</td>\n",
              "      <td>no</td>\n",
              "      <td>no</td>\n",
              "      <td>yes</td>\n",
              "      <td>yes</td>\n",
              "      <td>yes</td>\n",
              "      <td>no</td>\n",
              "      <td>no</td>\n",
              "      <td>Orlando</td>\n",
              "      <td>2020-06-18 10:09:36</td>\n",
              "      <td>0</td>\n",
              "      <td>0</td>\n",
              "      <td>0.008578</td>\n",
              "      <td>0</td>\n",
              "    </tr>\n",
              "    <tr>\n",
              "      <th>1</th>\n",
              "      <td>324.0</td>\n",
              "      <td>10.0</td>\n",
              "      <td>4.0</td>\n",
              "      <td>2.0</td>\n",
              "      <td>5.0</td>\n",
              "      <td>192.8.199.251</td>\n",
              "      <td>yahoo.com</td>\n",
              "      <td>tiny house</td>\n",
              "      <td>shared room</td>\n",
              "      <td>1</td>\n",
              "      <td>yes</td>\n",
              "      <td>yes</td>\n",
              "      <td>no</td>\n",
              "      <td>yes</td>\n",
              "      <td>no</td>\n",
              "      <td>no</td>\n",
              "      <td>no</td>\n",
              "      <td>no</td>\n",
              "      <td>yes</td>\n",
              "      <td>no</td>\n",
              "      <td>Ft. Lauderdale</td>\n",
              "      <td>2021-02-20 11:30:15</td>\n",
              "      <td>0</td>\n",
              "      <td>0</td>\n",
              "      <td>0.008908</td>\n",
              "      <td>0</td>\n",
              "    </tr>\n",
              "    <tr>\n",
              "      <th>2</th>\n",
              "      <td>262.0</td>\n",
              "      <td>8.0</td>\n",
              "      <td>4.0</td>\n",
              "      <td>3.0</td>\n",
              "      <td>8.0</td>\n",
              "      <td>64.60.134.106</td>\n",
              "      <td>yahoo.com</td>\n",
              "      <td>chalet</td>\n",
              "      <td>shared room</td>\n",
              "      <td>15</td>\n",
              "      <td>no</td>\n",
              "      <td>no</td>\n",
              "      <td>no</td>\n",
              "      <td>yes</td>\n",
              "      <td>no</td>\n",
              "      <td>no</td>\n",
              "      <td>yes</td>\n",
              "      <td>no</td>\n",
              "      <td>yes</td>\n",
              "      <td>no</td>\n",
              "      <td>Orlando</td>\n",
              "      <td>2021-01-30 04:52:16</td>\n",
              "      <td>0</td>\n",
              "      <td>0</td>\n",
              "      <td>0.009864</td>\n",
              "      <td>0</td>\n",
              "    </tr>\n",
              "    <tr>\n",
              "      <th>3</th>\n",
              "      <td>340.0</td>\n",
              "      <td>11.0</td>\n",
              "      <td>7.0</td>\n",
              "      <td>3.0</td>\n",
              "      <td>6.0</td>\n",
              "      <td>157.180.74.231</td>\n",
              "      <td>hotmail.com</td>\n",
              "      <td>villa</td>\n",
              "      <td>shared room</td>\n",
              "      <td>1</td>\n",
              "      <td>yes</td>\n",
              "      <td>no</td>\n",
              "      <td>no</td>\n",
              "      <td>no</td>\n",
              "      <td>yes</td>\n",
              "      <td>no</td>\n",
              "      <td>yes</td>\n",
              "      <td>no</td>\n",
              "      <td>no</td>\n",
              "      <td>no</td>\n",
              "      <td>Miami</td>\n",
              "      <td>2020-06-21 23:38:16</td>\n",
              "      <td>0</td>\n",
              "      <td>0</td>\n",
              "      <td>0.008908</td>\n",
              "      <td>0</td>\n",
              "    </tr>\n",
              "    <tr>\n",
              "      <th>4</th>\n",
              "      <td>288.0</td>\n",
              "      <td>6.0</td>\n",
              "      <td>4.0</td>\n",
              "      <td>3.0</td>\n",
              "      <td>5.0</td>\n",
              "      <td>171.139.240.24</td>\n",
              "      <td>yahoo.com</td>\n",
              "      <td>villa</td>\n",
              "      <td>shared room</td>\n",
              "      <td>1</td>\n",
              "      <td>yes</td>\n",
              "      <td>no</td>\n",
              "      <td>yes</td>\n",
              "      <td>yes</td>\n",
              "      <td>no</td>\n",
              "      <td>yes</td>\n",
              "      <td>yes</td>\n",
              "      <td>no</td>\n",
              "      <td>yes</td>\n",
              "      <td>yes</td>\n",
              "      <td>Ft. Lauderdale</td>\n",
              "      <td>2020-06-12 20:07:55</td>\n",
              "      <td>1</td>\n",
              "      <td>1</td>\n",
              "      <td>0.981982</td>\n",
              "      <td>1</td>\n",
              "    </tr>\n",
              "  </tbody>\n",
              "</table>\n",
              "</div>"
            ],
            "text/plain": [
              "   price_per_night  number_of_guests_max  ...  prediction_score  new_label\n",
              "0            335.0                  12.0  ...          0.008578          0\n",
              "1            324.0                  10.0  ...          0.008908          0\n",
              "2            262.0                   8.0  ...          0.009864          0\n",
              "3            340.0                  11.0  ...          0.008908          0\n",
              "4            288.0                   6.0  ...          0.981982          1\n",
              "\n",
              "[5 rows x 26 columns]"
            ]
          },
          "metadata": {
            "tags": []
          },
          "execution_count": 56
        }
      ]
    },
    {
      "cell_type": "code",
      "metadata": {
        "colab": {
          "base_uri": "https://localhost:8080/"
        },
        "id": "1Ditqi_bWvIM",
        "outputId": "179918a9-01df-4200-f7a7-deb2f45c0c48"
      },
      "source": [
        "print(\"accuracy : {0}\".format( accuracy_score(abnb[\"fraud_label\"], abnb['new_label'])))\n",
        "print(\"precision: {0}\".format( precision_score(abnb[\"fraud_label\"], abnb['new_label'])))\n",
        "print(\"recall.  : {0}\".format( recall_score(abnb[\"fraud_label\"], abnb['new_label'])))"
      ],
      "execution_count": null,
      "outputs": [
        {
          "output_type": "stream",
          "text": [
            "accuracy : 0.9662\n",
            "precision: 0.8240177089097952\n",
            "recall.  : 0.8585431481837401\n"
          ],
          "name": "stdout"
        }
      ]
    }
  ]
}