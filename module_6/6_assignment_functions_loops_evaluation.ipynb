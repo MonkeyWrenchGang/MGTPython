{
  "nbformat": 4,
  "nbformat_minor": 0,
  "metadata": {
    "colab": {
      "provenance": [],
      "include_colab_link": true
    },
    "kernelspec": {
      "name": "python3",
      "display_name": "Python 3"
    },
    "language_info": {
      "name": "python"
    }
  },
  "cells": [
    {
      "cell_type": "markdown",
      "metadata": {
        "id": "view-in-github",
        "colab_type": "text"
      },
      "source": [
        "<a href=\"https://colab.research.google.com/github/MonkeyWrenchGang/MGTPython/blob/main/module_6/6_assignment_functions_loops_evaluation.ipynb\" target=\"_parent\"><img src=\"https://colab.research.google.com/assets/colab-badge.svg\" alt=\"Open In Colab\"/></a>"
      ]
    },
    {
      "cell_type": "markdown",
      "metadata": {
        "id": "AsnsJpremxxh"
      },
      "source": [
        "# Assignment 6 : Analyzing a Dataset of Loan Predictions\n",
        "\n",
        "## Objective: \n",
        "Lending club has provided us a dataset of loans both current and those in default along with predicitons made by a data science team. Your job is to import the data, write functions explore and evaluate the data and answer some questions about the data. Finally, we are interested in analysing the loan default predictions versus the actual outcomes in order to find bias in the predictions. \n",
        "\n",
        "\n",
        "---\n",
        "\n",
        "\n",
        "## Tasks: \n",
        "\n",
        "0. Import the data \n",
        "  - generate summary statistics for each numeric variable.  \n",
        "\n",
        "1. Evaluate the target variable:\n",
        "Evaluate the target variable \"loan_status\" (current or default), what % of loans are in default status? \n",
        "  - generate a barplot comparing the count of loan_status. \n",
        "\n",
        "2. Write a function to analyze **numeric varaibles**\n",
        "\n",
        "Write a function to analyze **numeric varaibles** relative to the actual outcome **loan_status**\n",
        "  - your function should produce a table (mean, min, max, std)\n",
        "  - your function should also produce a graph relative to **loan_status** think boxplot or histogram hue=**loan_status**\n",
        "  - you should use a `for loop` to analyze each numeric column in the dataset. \n",
        "\n",
        "> ANSWER: Based on your analysis, what are the top 3-5 numeric variables that are likley to be most predictive of the loan status? \n",
        "\n",
        "> NOTE: you should be able to exclude some variables from analysis.\n",
        "\n",
        "3. Write a function to analyze character variables \n",
        "\n",
        "Write a function to analyze character variables relative to the actual outcome loan_status. Your fuction should: \n",
        "- produce a table (count, unique count, % unique)\n",
        "- produce a graph relative to loan_status think about a bar plot\n",
        "- use a for loop to analyze each categorical column in the dataset.\n",
        "\n",
        "> ANSWER: Based on your analysis, what are the top 3-5 categorical variables that are likley to be most predictive of the loan status?\n",
        "\n",
        "> NOTE: you should be able to exclude some variables from analysis.\n",
        "\n",
        "\n",
        "---\n",
        "\n",
        "\n",
        "## Questions to Answer\n",
        "4. Make a chart and answer how does the \"grade\" of the loan impact loan_status? What does this tell you about the relationship between loan grade and loan status?\n",
        "  - code that creates a chart \n",
        "  - cell describing how to interpret the chart. \n",
        "5. Make a chart and anser how does \"fico_range_high\" impact loan_status? what influence does \"fico_range_high\" have on loan status?  \n",
        "  - code that creates a chart \n",
        "  - cell describing how to interpret the chart. \n",
        "6. Make a chart that ansers the question does higher interest rates have higher  probablity of loan default?  \n",
        "  - code that creates a chart \n",
        "  - cell describing how to interpret the chart. \n",
        "7. Answer \"are their any states (addr_state) have a higher probably of default than any other?\" \n",
        "  - code that creates a chart \n",
        "  - cell describing how to interpret the chart. \n",
        "8. Answer \"as income increases the probably of default does what?\" \n",
        "  - code that creates a chart \n",
        "  - cell describing how to interpret the chart. \n",
        "9. Calculate Precision, Accuracy and Recall\n",
        "  - To do this you'll need the loan_status_0_1 and PredictedLabel columns. Why? because they are numeric 0s and 1s, otherwise you have to convert strings to numbers. \n",
        "  - You'll use the following sklearn functions precision_score, accuracy_score, and recall_score\n",
        "  - Answer: how would you explain Precision vs Recall (true positive rate) to a business person? what do these measures mean with regard to our abilty to predict loan defaults?\n",
        "10. Top and bottom 10 examples\n",
        "  - create a table or graph that answers the question \"What do the Top 10 examples where the model was correct (i.e. loan_status == default and predict_status == default and highest `Prediction`) have in common\"? \n",
        "  - create a table or graph that answers the question \"Where is the model most incorrect and what do those records have in common. Basically, the Top 10 examples where the model was incorrect (i.e. loan_status == current and predict_status == default and highest `Prediction`). \n"
      ]
    },
    {
      "cell_type": "code",
      "metadata": {
        "id": "xnD57PLpmsvH"
      },
      "source": [
        "import pandas as pd\n",
        "import numpy as np\n",
        "import matplotlib.pyplot as plt\n",
        "import seaborn as sns\n",
        "from sklearn.metrics import precision_score, accuracy_score, recall_score\n",
        "\n",
        "%matplotlib inline "
      ],
      "execution_count": null,
      "outputs": []
    },
    {
      "cell_type": "markdown",
      "metadata": {
        "id": "1cG3qrLnnQvp"
      },
      "source": [
        "# 0. Import Data\n",
        "\n",
        "Lending club holdout predited data - i've already prepared the data for you, so no need to figure out how to blend your predictions with the hold out data. \n",
        "\n",
        "- lending_club_holdout_predicted.csv"
      ]
    },
    {
      "cell_type": "code",
      "metadata": {
        "colab": {
          "base_uri": "https://localhost:8080/",
          "height": 309
        },
        "id": "y1rft74znRCC",
        "outputId": "ab42d8eb-ea16-4b10-fa5b-0a7de299df6b"
      },
      "source": [
        "lc = pd.read_csv(\"/content/drive/MyDrive/2021_MGT_Python/data/lending_club_holdout_predicted.csv\")\n",
        "lc.head()"
      ],
      "execution_count": null,
      "outputs": [
        {
          "output_type": "execute_result",
          "data": {
            "text/html": [
              "<div>\n",
              "<style scoped>\n",
              "    .dataframe tbody tr th:only-of-type {\n",
              "        vertical-align: middle;\n",
              "    }\n",
              "\n",
              "    .dataframe tbody tr th {\n",
              "        vertical-align: top;\n",
              "    }\n",
              "\n",
              "    .dataframe thead th {\n",
              "        text-align: right;\n",
              "    }\n",
              "</style>\n",
              "<table border=\"1\" class=\"dataframe\">\n",
              "  <thead>\n",
              "    <tr style=\"text-align: right;\">\n",
              "      <th></th>\n",
              "      <th>id</th>\n",
              "      <th>loan_amnt</th>\n",
              "      <th>term</th>\n",
              "      <th>int_rate</th>\n",
              "      <th>installment</th>\n",
              "      <th>grade</th>\n",
              "      <th>emp_length</th>\n",
              "      <th>home_ownership</th>\n",
              "      <th>annual_inc</th>\n",
              "      <th>verification_status</th>\n",
              "      <th>loan_status</th>\n",
              "      <th>purpose</th>\n",
              "      <th>zip_code</th>\n",
              "      <th>addr_state</th>\n",
              "      <th>fico_range_high</th>\n",
              "      <th>fico_range_low</th>\n",
              "      <th>revol_bal</th>\n",
              "      <th>revol_util</th>\n",
              "      <th>total_acc</th>\n",
              "      <th>last_pymnt_amnt</th>\n",
              "      <th>Prediction</th>\n",
              "      <th>PredictedLabel</th>\n",
              "      <th>predicted_loan_status</th>\n",
              "      <th>loan_status_0_1</th>\n",
              "    </tr>\n",
              "  </thead>\n",
              "  <tbody>\n",
              "    <tr>\n",
              "      <th>0</th>\n",
              "      <td>1075269.0</td>\n",
              "      <td>5000.0</td>\n",
              "      <td>36 months</td>\n",
              "      <td>7.90</td>\n",
              "      <td>156.46</td>\n",
              "      <td>A</td>\n",
              "      <td>3 years</td>\n",
              "      <td>RENT</td>\n",
              "      <td>36000.0</td>\n",
              "      <td>Source Verified</td>\n",
              "      <td>current</td>\n",
              "      <td>wedding</td>\n",
              "      <td>852xx</td>\n",
              "      <td>AZ</td>\n",
              "      <td>734.0</td>\n",
              "      <td>730.0</td>\n",
              "      <td>7963.0</td>\n",
              "      <td>28.3</td>\n",
              "      <td>12.0</td>\n",
              "      <td>161.03</td>\n",
              "      <td>0.0609</td>\n",
              "      <td>0</td>\n",
              "      <td>current</td>\n",
              "      <td>0</td>\n",
              "    </tr>\n",
              "    <tr>\n",
              "      <th>1</th>\n",
              "      <td>1072053.0</td>\n",
              "      <td>3000.0</td>\n",
              "      <td>36 months</td>\n",
              "      <td>18.64</td>\n",
              "      <td>109.43</td>\n",
              "      <td>E</td>\n",
              "      <td>9 years</td>\n",
              "      <td>RENT</td>\n",
              "      <td>48000.0</td>\n",
              "      <td>Source Verified</td>\n",
              "      <td>current</td>\n",
              "      <td>car</td>\n",
              "      <td>900xx</td>\n",
              "      <td>CA</td>\n",
              "      <td>664.0</td>\n",
              "      <td>660.0</td>\n",
              "      <td>8221.0</td>\n",
              "      <td>87.5</td>\n",
              "      <td>4.0</td>\n",
              "      <td>111.34</td>\n",
              "      <td>0.1531</td>\n",
              "      <td>0</td>\n",
              "      <td>current</td>\n",
              "      <td>0</td>\n",
              "    </tr>\n",
              "    <tr>\n",
              "      <th>2</th>\n",
              "      <td>1071795.0</td>\n",
              "      <td>5600.0</td>\n",
              "      <td>60 months</td>\n",
              "      <td>21.28</td>\n",
              "      <td>152.39</td>\n",
              "      <td>F</td>\n",
              "      <td>4 years</td>\n",
              "      <td>OWN</td>\n",
              "      <td>40000.0</td>\n",
              "      <td>Source Verified</td>\n",
              "      <td>default</td>\n",
              "      <td>small_business</td>\n",
              "      <td>958xx</td>\n",
              "      <td>CA</td>\n",
              "      <td>679.0</td>\n",
              "      <td>675.0</td>\n",
              "      <td>5210.0</td>\n",
              "      <td>32.6</td>\n",
              "      <td>13.0</td>\n",
              "      <td>152.39</td>\n",
              "      <td>0.6700</td>\n",
              "      <td>1</td>\n",
              "      <td>default</td>\n",
              "      <td>1</td>\n",
              "    </tr>\n",
              "    <tr>\n",
              "      <th>3</th>\n",
              "      <td>1064687.0</td>\n",
              "      <td>9000.0</td>\n",
              "      <td>36 months</td>\n",
              "      <td>13.49</td>\n",
              "      <td>305.38</td>\n",
              "      <td>C</td>\n",
              "      <td>&lt; 1 year</td>\n",
              "      <td>RENT</td>\n",
              "      <td>30000.0</td>\n",
              "      <td>Source Verified</td>\n",
              "      <td>default</td>\n",
              "      <td>debt_consolidation</td>\n",
              "      <td>245xx</td>\n",
              "      <td>VA</td>\n",
              "      <td>714.0</td>\n",
              "      <td>710.0</td>\n",
              "      <td>10452.0</td>\n",
              "      <td>91.7</td>\n",
              "      <td>9.0</td>\n",
              "      <td>305.38</td>\n",
              "      <td>0.2839</td>\n",
              "      <td>1</td>\n",
              "      <td>default</td>\n",
              "      <td>1</td>\n",
              "    </tr>\n",
              "    <tr>\n",
              "      <th>4</th>\n",
              "      <td>1069759.0</td>\n",
              "      <td>1000.0</td>\n",
              "      <td>36 months</td>\n",
              "      <td>16.29</td>\n",
              "      <td>35.31</td>\n",
              "      <td>D</td>\n",
              "      <td>&lt; 1 year</td>\n",
              "      <td>RENT</td>\n",
              "      <td>28000.0</td>\n",
              "      <td>Not Verified</td>\n",
              "      <td>current</td>\n",
              "      <td>debt_consolidation</td>\n",
              "      <td>641xx</td>\n",
              "      <td>MO</td>\n",
              "      <td>669.0</td>\n",
              "      <td>665.0</td>\n",
              "      <td>6524.0</td>\n",
              "      <td>81.5</td>\n",
              "      <td>23.0</td>\n",
              "      <td>36.32</td>\n",
              "      <td>0.5970</td>\n",
              "      <td>1</td>\n",
              "      <td>default</td>\n",
              "      <td>0</td>\n",
              "    </tr>\n",
              "  </tbody>\n",
              "</table>\n",
              "</div>"
            ],
            "text/plain": [
              "          id  loan_amnt  ... predicted_loan_status  loan_status_0_1\n",
              "0  1075269.0     5000.0  ...               current                0\n",
              "1  1072053.0     3000.0  ...               current                0\n",
              "2  1071795.0     5600.0  ...               default                1\n",
              "3  1064687.0     9000.0  ...               default                1\n",
              "4  1069759.0     1000.0  ...               default                0\n",
              "\n",
              "[5 rows x 24 columns]"
            ]
          },
          "metadata": {
            "tags": []
          },
          "execution_count": 3
        }
      ]
    },
    {
      "cell_type": "markdown",
      "source": [
        "# 1. Evaluate the target variable \n",
        "\n",
        "\n",
        "---\n",
        "\n",
        "\n",
        "Evaluate the target variable \"loan_status\" (current or default), what % of loans are in default status? \n",
        "\n",
        "  - generate a barplot comparing the count of loan_status. "
      ],
      "metadata": {
        "id": "MDHbhuaM1bcJ"
      }
    },
    {
      "cell_type": "code",
      "source": [],
      "metadata": {
        "id": "YxsqdvR41m1l"
      },
      "execution_count": null,
      "outputs": []
    },
    {
      "cell_type": "markdown",
      "source": [
        "# 2. Write a function to analyze **numeric varaibles**\n",
        "\n",
        "\n",
        "---\n",
        "\n",
        "\n",
        "Write a function to analyze **numeric varaibles** relative to the actual outcome **loan_status**\n",
        "  - your function should produce a table (mean, min, max, std)\n",
        "  - your function should also produce a graph relative to **loan_status** think boxplot or histogram hue=**loan_status**\n",
        "  - you should use a `for loop` to analyze each numeric column in the dataset. \n",
        "  - ANSWER: Based on your analysis, what are the top 3-5 numeric variables that are likley to be most predictive of the loan status? \n",
        "    - NOTE: you should be able to exclude some variables from analysis."
      ],
      "metadata": {
        "id": "KYVnAexd18PY"
      }
    },
    {
      "cell_type": "code",
      "source": [
        "# get base code working"
      ],
      "metadata": {
        "id": "OGCgnYNF18fh"
      },
      "execution_count": null,
      "outputs": []
    },
    {
      "cell_type": "code",
      "source": [
        "# wrap it in a function"
      ],
      "metadata": {
        "id": "f9biOEiY18o8"
      },
      "execution_count": null,
      "outputs": []
    },
    {
      "cell_type": "code",
      "source": [
        "# parameterize the function"
      ],
      "metadata": {
        "id": "L6U77iMC18xg"
      },
      "execution_count": null,
      "outputs": []
    },
    {
      "cell_type": "code",
      "source": [
        "# loop"
      ],
      "metadata": {
        "id": "EYhJh0ib2Cte"
      },
      "execution_count": null,
      "outputs": []
    },
    {
      "cell_type": "markdown",
      "source": [
        "#3. Write a function to analyze character variables \n",
        "\n",
        "Write a function to analyze character variables relative to the actual outcome loan_status. Your fuction should: \n",
        "- produce a table (count, unique count, % unique)\n",
        "- produce a graph relative to loan_status think about a bar plot\n",
        "- use a for loop to analyze each categorical column in the dataset.\n",
        "\n",
        "> ANSWER: Based on your analysis, what are the top 3-5 categorical variables that are likley to be most predictive of the loan status?\n",
        "\n",
        "> NOTE: you should be able to exclude some variables from analysis."
      ],
      "metadata": {
        "id": "mqgs6eMF2MaV"
      }
    },
    {
      "cell_type": "code",
      "source": [],
      "metadata": {
        "id": "cR_iFr0x21pY"
      },
      "execution_count": null,
      "outputs": []
    },
    {
      "cell_type": "code",
      "source": [],
      "metadata": {
        "id": "nPE6gwtW21x9"
      },
      "execution_count": null,
      "outputs": []
    },
    {
      "cell_type": "code",
      "source": [],
      "metadata": {
        "id": "nEIfi-tt2151"
      },
      "execution_count": null,
      "outputs": []
    },
    {
      "cell_type": "code",
      "source": [],
      "metadata": {
        "id": "kU71S_An22BX"
      },
      "execution_count": null,
      "outputs": []
    },
    {
      "cell_type": "markdown",
      "source": [
        "#4. loan grade vs loan_status\n",
        "\n",
        "Make a chart and answer how does the \"grade\" of the loan impact loan_status? What does this tell you about the relationship between loan grade and loan status?\n",
        "  - code that creates a chart \n",
        "  - cell describing how to interpret the chart. \n"
      ],
      "metadata": {
        "id": "oS1SbJh722hG"
      }
    },
    {
      "cell_type": "code",
      "source": [],
      "metadata": {
        "id": "C2bjhNpp3Buj"
      },
      "execution_count": null,
      "outputs": []
    },
    {
      "cell_type": "markdown",
      "source": [],
      "metadata": {
        "id": "RA61dl6q3B4M"
      }
    },
    {
      "cell_type": "markdown",
      "source": [
        "#5. fico_range_high vs loan status\n",
        "\n",
        "Make a chart and anser how does \"fico_range_high\" impact loan_status? what influence does \"fico_range_high\" have on loan status?  \n",
        "  - code that creates a chart \n",
        "  - cell describing how to interpret the chart. \n",
        " "
      ],
      "metadata": {
        "id": "HvbznIh03CVH"
      }
    },
    {
      "cell_type": "code",
      "source": [],
      "metadata": {
        "id": "VC9BjxUT3KbV"
      },
      "execution_count": null,
      "outputs": []
    },
    {
      "cell_type": "markdown",
      "source": [],
      "metadata": {
        "id": "-wnqJExg3KzC"
      }
    },
    {
      "cell_type": "markdown",
      "source": [
        " \n",
        "# 6. What is the relationship between interest rates and loan default? \n",
        "\n",
        "Make a chart that ansers the question does higher interest rates have a higher probablity of loan default?  \n",
        "  - code that creates a chart \n",
        "  - cell describing how to interpret the chart. \n"
      ],
      "metadata": {
        "id": "x2fjryR_3LN5"
      }
    },
    {
      "cell_type": "code",
      "source": [],
      "metadata": {
        "id": "Z4XknDQS3a5h"
      },
      "execution_count": null,
      "outputs": []
    },
    {
      "cell_type": "markdown",
      "source": [],
      "metadata": {
        "id": "oMzk0wgI3bBU"
      }
    },
    {
      "cell_type": "markdown",
      "source": [
        "#7. do some states have a higher probably of default? \n",
        "\n",
        "Answer: \"are their any states (addr_state) have a higher probably of default than any other?\" \n",
        "  - code that creates a chart \n",
        "  - cell describing how to interpret the chart. \n"
      ],
      "metadata": {
        "id": "VpfYeHLU3bnW"
      }
    },
    {
      "cell_type": "code",
      "source": [],
      "metadata": {
        "id": "4YLghT-g3mnT"
      },
      "execution_count": null,
      "outputs": []
    },
    {
      "cell_type": "markdown",
      "source": [],
      "metadata": {
        "id": "Se7DWwou3mwo"
      }
    },
    {
      "cell_type": "markdown",
      "source": [
        "# 8. \"as income increases the probably of default ...\" \n",
        "> Answer \"as income increases the probably of default does what?\" \n",
        "  - code that creates a chart \n",
        "  - cell describing how to interpret the chart. \n"
      ],
      "metadata": {
        "id": "DLfo43O63nJs"
      }
    },
    {
      "cell_type": "code",
      "source": [],
      "metadata": {
        "id": "UG0llEfq3uRo"
      },
      "execution_count": null,
      "outputs": []
    },
    {
      "cell_type": "markdown",
      "source": [],
      "metadata": {
        "id": "2fAEkBtw3uZu"
      }
    },
    {
      "cell_type": "markdown",
      "source": [
        "# 9. Calculate Precision, Accuracy and Recall\n",
        "\n",
        "  - To do this you'll need the loan_status_0_1 and PredictedLabel columns. Why? because they are numeric 0s and 1s, otherwise you have to convert strings to numbers. \n",
        "  - You'll use the following sklearn functions precision_score, accuracy_score, and recall_score\n",
        "> Answer: how would you explain Precision vs Recall (true positive rate) to a business person? what do these measures mean with regard to our abilty to predict loan defaults?\n",
        "\n"
      ],
      "metadata": {
        "id": "_WHkx_lT3ulN"
      }
    },
    {
      "cell_type": "code",
      "source": [],
      "metadata": {
        "id": "Ns0vJCM431l4"
      },
      "execution_count": null,
      "outputs": []
    },
    {
      "cell_type": "markdown",
      "source": [],
      "metadata": {
        "id": "nQefIX7C31xq"
      }
    },
    {
      "cell_type": "markdown",
      "source": [
        "#10.  Top and bottom 10 examples\n",
        "  - create a table and/or graph that answers the question \"What do the Top 10 examples where the model was correct (i.e. `loan_status == default` and `predict_status == default` and highest `Prediction` probablility) have in common\"? \n",
        "\n",
        "  - create a table or graph that answers the question \"Where is the model most incorrect and what do those records have in common. Basically, the Top 10 examples where the model was incorrect (i.e. `loan_status == current and predict_status == default` and highest `Prediction` probablity). "
      ],
      "metadata": {
        "id": "4zbqYlGs318A"
      }
    },
    {
      "cell_type": "code",
      "source": [
        "# top 10 correct predicted default"
      ],
      "metadata": {
        "id": "38MDKmh537E6"
      },
      "execution_count": null,
      "outputs": []
    },
    {
      "cell_type": "markdown",
      "source": [],
      "metadata": {
        "id": "3IUltUr537V2"
      }
    },
    {
      "cell_type": "code",
      "source": [
        "# top 10 wrong predicted default"
      ],
      "metadata": {
        "id": "XvU5lYrr37gx"
      },
      "execution_count": null,
      "outputs": []
    },
    {
      "cell_type": "markdown",
      "source": [],
      "metadata": {
        "id": "qRZor-uy37sw"
      }
    }
  ]
}