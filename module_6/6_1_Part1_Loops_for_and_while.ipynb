{
  "nbformat": 4,
  "nbformat_minor": 0,
  "metadata": {
    "colab": {
      "provenance": [],
      "include_colab_link": true
    },
    "kernelspec": {
      "name": "python3",
      "display_name": "Python 3"
    },
    "language_info": {
      "name": "python"
    }
  },
  "cells": [
    {
      "cell_type": "markdown",
      "metadata": {
        "id": "view-in-github",
        "colab_type": "text"
      },
      "source": [
        "<a href=\"https://colab.research.google.com/github/MonkeyWrenchGang/MGTPython/blob/main/module_6/6_1_Part1_Loops_for_and_while.ipynb\" target=\"_parent\"><img src=\"https://colab.research.google.com/assets/colab-badge.svg\" alt=\"Open In Colab\"/></a>"
      ]
    },
    {
      "cell_type": "markdown",
      "metadata": {
        "id": "qQnOklbhGsyQ"
      },
      "source": [
        "# Background\n",
        "\n",
        "The demand for hiring former FAANG (Facebook, Amazon, Apple, Netflix, Google) tech workers is incredibly high, and your current responsibility is to screen potential candidates and identify those who require a total compensation package exceeding $200,000. It is essential to note that management is interested in understanding the key factors that contribute to high salaries in this market. \n",
        "\n",
        "\n",
        "---\n",
        "\n",
        "To tackle this task, we will utilize automated analysis through the implementation of loops. By leveraging loops we can autoamte our employee screening process \n",
        "\n",
        "- Loops:  a loop simply allows you to execute a block of code repeatedly.\n",
        "\n",
        "- Functions: a function is a reusable block of code that performs a specific task or set of tasks. Functions help to organize your code, making it easier to read, maintain, and debug.\n",
        "\n",
        "- IF-ELSE: if-else is a conditional statement that is used to execute a block of code if a condition is true, and a different block of code if the condition is false. \n",
        "\n",
        "```python\n",
        "\n",
        "if condition1:\n",
        "  # code to be executed if condition1 is true\n",
        "elif condition2:\n",
        "  # code to be executed if conditio2n is true\n",
        "else:\n",
        "  # code to be executed if none of the conditions are true  \n",
        "```\n",
        "\n",
        "To get started we'll load our libraries and import our dataset! Then we'll take a loop at two types of Loops.\n",
        "\n",
        "\n",
        "\n",
        "\n",
        "\n",
        "\n",
        "\n",
        "\n"
      ]
    },
    {
      "cell_type": "code",
      "metadata": {
        "id": "G2i-cFg4AWGh"
      },
      "source": [
        "# --------------------------------\n",
        "import warnings\n",
        "warnings.filterwarnings('ignore')\n",
        "# --------------------------------\n",
        "\n",
        "import pandas as pd\n",
        "import numpy as np\n",
        "import matplotlib.pyplot  as plt\n",
        "import seaborn as sns\n",
        "\n",
        "%matplotlib inline"
      ],
      "execution_count": 1,
      "outputs": []
    },
    {
      "cell_type": "markdown",
      "metadata": {
        "id": "4LiLBKWoAlE8"
      },
      "source": [
        "Import faang_salary_over_200k.csv"
      ]
    },
    {
      "cell_type": "code",
      "metadata": {
        "colab": {
          "base_uri": "https://localhost:8080/",
          "height": 206
        },
        "id": "CT5DzSt-AlWs",
        "outputId": "26e7affe-855c-4be5-f17b-63677f23fc63"
      },
      "source": [
        "faang = pd.read_csv(\"https://raw.githubusercontent.com/MonkeyWrenchGang/MGTPython/main/module_6/data/faang_salary_over_200k.csv\")\n",
        "faang.head()"
      ],
      "execution_count": 4,
      "outputs": [
        {
          "output_type": "execute_result",
          "data": {
            "text/plain": [
              "   years_experince company_name             job_title degree  predict_proba  \\\n",
              "0              6.0     Facebook      Business Analyst    PHD       0.007324   \n",
              "1              5.0     Facebook      Business Analyst    PHD       0.006483   \n",
              "2              1.0       Amazon      Business Analyst  Other       0.404390   \n",
              "3              5.0     Facebook  Full-Stack Developer  Other       0.395955   \n",
              "4              5.0     Facebook  Full-Stack Developer  Other       0.395955   \n",
              "\n",
              "   predict_status income_level  \n",
              "0               0       < 200K  \n",
              "1               0       < 200K  \n",
              "2               0       < 200K  \n",
              "3               0       < 200K  \n",
              "4               0       < 200K  "
            ],
            "text/html": [
              "\n",
              "  <div id=\"df-cc46f81b-91a8-4c82-b2c7-8e3de551757e\">\n",
              "    <div class=\"colab-df-container\">\n",
              "      <div>\n",
              "<style scoped>\n",
              "    .dataframe tbody tr th:only-of-type {\n",
              "        vertical-align: middle;\n",
              "    }\n",
              "\n",
              "    .dataframe tbody tr th {\n",
              "        vertical-align: top;\n",
              "    }\n",
              "\n",
              "    .dataframe thead th {\n",
              "        text-align: right;\n",
              "    }\n",
              "</style>\n",
              "<table border=\"1\" class=\"dataframe\">\n",
              "  <thead>\n",
              "    <tr style=\"text-align: right;\">\n",
              "      <th></th>\n",
              "      <th>years_experince</th>\n",
              "      <th>company_name</th>\n",
              "      <th>job_title</th>\n",
              "      <th>degree</th>\n",
              "      <th>predict_proba</th>\n",
              "      <th>predict_status</th>\n",
              "      <th>income_level</th>\n",
              "    </tr>\n",
              "  </thead>\n",
              "  <tbody>\n",
              "    <tr>\n",
              "      <th>0</th>\n",
              "      <td>6.0</td>\n",
              "      <td>Facebook</td>\n",
              "      <td>Business Analyst</td>\n",
              "      <td>PHD</td>\n",
              "      <td>0.007324</td>\n",
              "      <td>0</td>\n",
              "      <td>&lt; 200K</td>\n",
              "    </tr>\n",
              "    <tr>\n",
              "      <th>1</th>\n",
              "      <td>5.0</td>\n",
              "      <td>Facebook</td>\n",
              "      <td>Business Analyst</td>\n",
              "      <td>PHD</td>\n",
              "      <td>0.006483</td>\n",
              "      <td>0</td>\n",
              "      <td>&lt; 200K</td>\n",
              "    </tr>\n",
              "    <tr>\n",
              "      <th>2</th>\n",
              "      <td>1.0</td>\n",
              "      <td>Amazon</td>\n",
              "      <td>Business Analyst</td>\n",
              "      <td>Other</td>\n",
              "      <td>0.404390</td>\n",
              "      <td>0</td>\n",
              "      <td>&lt; 200K</td>\n",
              "    </tr>\n",
              "    <tr>\n",
              "      <th>3</th>\n",
              "      <td>5.0</td>\n",
              "      <td>Facebook</td>\n",
              "      <td>Full-Stack Developer</td>\n",
              "      <td>Other</td>\n",
              "      <td>0.395955</td>\n",
              "      <td>0</td>\n",
              "      <td>&lt; 200K</td>\n",
              "    </tr>\n",
              "    <tr>\n",
              "      <th>4</th>\n",
              "      <td>5.0</td>\n",
              "      <td>Facebook</td>\n",
              "      <td>Full-Stack Developer</td>\n",
              "      <td>Other</td>\n",
              "      <td>0.395955</td>\n",
              "      <td>0</td>\n",
              "      <td>&lt; 200K</td>\n",
              "    </tr>\n",
              "  </tbody>\n",
              "</table>\n",
              "</div>\n",
              "      <button class=\"colab-df-convert\" onclick=\"convertToInteractive('df-cc46f81b-91a8-4c82-b2c7-8e3de551757e')\"\n",
              "              title=\"Convert this dataframe to an interactive table.\"\n",
              "              style=\"display:none;\">\n",
              "        \n",
              "  <svg xmlns=\"http://www.w3.org/2000/svg\" height=\"24px\"viewBox=\"0 0 24 24\"\n",
              "       width=\"24px\">\n",
              "    <path d=\"M0 0h24v24H0V0z\" fill=\"none\"/>\n",
              "    <path d=\"M18.56 5.44l.94 2.06.94-2.06 2.06-.94-2.06-.94-.94-2.06-.94 2.06-2.06.94zm-11 1L8.5 8.5l.94-2.06 2.06-.94-2.06-.94L8.5 2.5l-.94 2.06-2.06.94zm10 10l.94 2.06.94-2.06 2.06-.94-2.06-.94-.94-2.06-.94 2.06-2.06.94z\"/><path d=\"M17.41 7.96l-1.37-1.37c-.4-.4-.92-.59-1.43-.59-.52 0-1.04.2-1.43.59L10.3 9.45l-7.72 7.72c-.78.78-.78 2.05 0 2.83L4 21.41c.39.39.9.59 1.41.59.51 0 1.02-.2 1.41-.59l7.78-7.78 2.81-2.81c.8-.78.8-2.07 0-2.86zM5.41 20L4 18.59l7.72-7.72 1.47 1.35L5.41 20z\"/>\n",
              "  </svg>\n",
              "      </button>\n",
              "      \n",
              "  <style>\n",
              "    .colab-df-container {\n",
              "      display:flex;\n",
              "      flex-wrap:wrap;\n",
              "      gap: 12px;\n",
              "    }\n",
              "\n",
              "    .colab-df-convert {\n",
              "      background-color: #E8F0FE;\n",
              "      border: none;\n",
              "      border-radius: 50%;\n",
              "      cursor: pointer;\n",
              "      display: none;\n",
              "      fill: #1967D2;\n",
              "      height: 32px;\n",
              "      padding: 0 0 0 0;\n",
              "      width: 32px;\n",
              "    }\n",
              "\n",
              "    .colab-df-convert:hover {\n",
              "      background-color: #E2EBFA;\n",
              "      box-shadow: 0px 1px 2px rgba(60, 64, 67, 0.3), 0px 1px 3px 1px rgba(60, 64, 67, 0.15);\n",
              "      fill: #174EA6;\n",
              "    }\n",
              "\n",
              "    [theme=dark] .colab-df-convert {\n",
              "      background-color: #3B4455;\n",
              "      fill: #D2E3FC;\n",
              "    }\n",
              "\n",
              "    [theme=dark] .colab-df-convert:hover {\n",
              "      background-color: #434B5C;\n",
              "      box-shadow: 0px 1px 3px 1px rgba(0, 0, 0, 0.15);\n",
              "      filter: drop-shadow(0px 1px 2px rgba(0, 0, 0, 0.3));\n",
              "      fill: #FFFFFF;\n",
              "    }\n",
              "  </style>\n",
              "\n",
              "      <script>\n",
              "        const buttonEl =\n",
              "          document.querySelector('#df-cc46f81b-91a8-4c82-b2c7-8e3de551757e button.colab-df-convert');\n",
              "        buttonEl.style.display =\n",
              "          google.colab.kernel.accessAllowed ? 'block' : 'none';\n",
              "\n",
              "        async function convertToInteractive(key) {\n",
              "          const element = document.querySelector('#df-cc46f81b-91a8-4c82-b2c7-8e3de551757e');\n",
              "          const dataTable =\n",
              "            await google.colab.kernel.invokeFunction('convertToInteractive',\n",
              "                                                     [key], {});\n",
              "          if (!dataTable) return;\n",
              "\n",
              "          const docLinkHtml = 'Like what you see? Visit the ' +\n",
              "            '<a target=\"_blank\" href=https://colab.research.google.com/notebooks/data_table.ipynb>data table notebook</a>'\n",
              "            + ' to learn more about interactive tables.';\n",
              "          element.innerHTML = '';\n",
              "          dataTable['output_type'] = 'display_data';\n",
              "          await google.colab.output.renderOutput(dataTable, element);\n",
              "          const docLink = document.createElement('div');\n",
              "          docLink.innerHTML = docLinkHtml;\n",
              "          element.appendChild(docLink);\n",
              "        }\n",
              "      </script>\n",
              "    </div>\n",
              "  </div>\n",
              "  "
            ]
          },
          "metadata": {},
          "execution_count": 4
        }
      ]
    },
    {
      "cell_type": "markdown",
      "source": [
        "#1. LOOPS\n",
        "\n",
        "In Python, loops are essential constructs that allow you to execute a block of code repeatedly, based on a specific condition or iteration. There are two main types of loops in Python: the for loop and the while loop.\n",
        "\n",
        "The **for loop** is used when you have a specific sequence or iterable, such as a list or string, that you want to iterate over. With a for loop, you can execute a block of code for each item in the sequence, without having to know the exact number of items in advance.\n",
        "\n",
        "> In this example we define a list of numbers and then use a for loop to iterate over each item in the list. In the loop, the variable \"**num**\" takes on the value of each item in the **numbers list**, one at a time, and the print() function is called to output each number.\n",
        "\n",
        "```python\n",
        "# list of things to itterate over\n",
        "numbers = [1, 2, 3, 4, 5]\n",
        "\n",
        "# for each num in numbers do something\n",
        "for num in numbers:\n",
        "    print(num)\n",
        "```\n",
        "\n",
        "The **while loop**, on the other hand, is used when you want to execute a block of code repeatedly, as long as a specific condition is true. With a while loop, you can execute a block of code as many times as necessary until the condition is no longer true.\n",
        "\n",
        "> In this example, we initialize the variable \"num\" to 1 and then use a **while loop** to repeatedly execute the block of code as long as the condition **\"num <= 5\"** is true. Within the loop, we print the current value of \"num\" and then increment it by 1 using the **\"+=\"** operator.\n",
        "\n",
        "```python\n",
        "# -- intialize a variable \n",
        "num = 1\n",
        "# -- while true execute. \n",
        "while num <= 5:\n",
        "    print(num)\n",
        "    num += 1 # very important to ensure logic will turn false\n",
        "```\n",
        "\n",
        "\n"
      ],
      "metadata": {
        "id": "x0dJqlWQVN54"
      }
    },
    {
      "cell_type": "markdown",
      "source": [
        "### For Loop\n",
        "\n",
        "\n",
        "---\n",
        "\n"
      ],
      "metadata": {
        "id": "YD2fxvyUrq-m"
      }
    },
    {
      "cell_type": "code",
      "metadata": {
        "id": "q82cCtmHAuOu",
        "colab": {
          "base_uri": "https://localhost:8080/"
        },
        "outputId": "7df337be-2d3f-4eb5-f31f-8bc41ce4690d"
      },
      "source": [
        "for x in range(6):\n",
        "  print(x)\n"
      ],
      "execution_count": 3,
      "outputs": [
        {
          "output_type": "stream",
          "name": "stdout",
          "text": [
            "0\n",
            "1\n",
            "2\n",
            "3\n",
            "4\n",
            "5\n"
          ]
        },
        {
          "output_type": "execute_result",
          "data": {
            "text/plain": [
              "range(0, 6)"
            ]
          },
          "metadata": {},
          "execution_count": 3
        }
      ]
    },
    {
      "cell_type": "code",
      "source": [
        "# list of things to iterate over\n",
        "numbers = [1, 2, 3, 4, 5]\n",
        "\n",
        "# for each num in numbers do something\n",
        "for num in numbers:\n",
        "    print(num)"
      ],
      "metadata": {
        "colab": {
          "base_uri": "https://localhost:8080/"
        },
        "id": "Rjcsjci3qbjJ",
        "outputId": "a897aef5-a40d-41b6-b9d3-b7d31f67236c"
      },
      "execution_count": 5,
      "outputs": [
        {
          "output_type": "stream",
          "name": "stdout",
          "text": [
            "1\n",
            "2\n",
            "3\n",
            "4\n",
            "5\n"
          ]
        }
      ]
    },
    {
      "cell_type": "code",
      "source": [
        "listochars = [\"red\",\"green\",\"blue\"]\n",
        "\n",
        "# for each num in numbers do something\n",
        "for char in listochars:\n",
        "  for char2 in listochars:\n",
        "    print(\"{} - {}\".format(char,char2))"
      ],
      "metadata": {
        "colab": {
          "base_uri": "https://localhost:8080/"
        },
        "id": "U-pfegu9qfD6",
        "outputId": "cc0f0696-3fe8-455a-fe72-2380fe23a871"
      },
      "execution_count": 8,
      "outputs": [
        {
          "output_type": "stream",
          "name": "stdout",
          "text": [
            "red - red\n",
            "red - green\n",
            "red - blue\n",
            "green - red\n",
            "green - green\n",
            "green - blue\n",
            "blue - red\n",
            "blue - green\n",
            "blue - blue\n"
          ]
        }
      ]
    },
    {
      "cell_type": "markdown",
      "source": [
        "### While Loop\n",
        "\n",
        "\n",
        "---\n",
        "\n"
      ],
      "metadata": {
        "id": "HfYHCvAErpLw"
      }
    },
    {
      "cell_type": "code",
      "source": [
        "# -- intialize a variable \n",
        "num = 1\n",
        "# -- while true execute. \n",
        "while num <= 5:\n",
        "  print(\"number is: {}\".format(num))\n",
        "  num += 1 # very important to ensure logic will turn false\n",
        "\n",
        "print(\"---\")\n",
        "# -- intialize a variable \n",
        "num = 6\n",
        "# -- while true execute. \n",
        "while num > 1:\n",
        "  num -= 1 # very important to ensure logic will turn false\n",
        "  print(\"number is: {}\".format(num))\n",
        "    "
      ],
      "metadata": {
        "colab": {
          "base_uri": "https://localhost:8080/"
        },
        "id": "uumlfZLJM4Xj",
        "outputId": "fc64b94d-95d2-4771-b2c6-affa6ea34ad8"
      },
      "execution_count": 11,
      "outputs": [
        {
          "output_type": "stream",
          "name": "stdout",
          "text": [
            "number is: 1\n",
            "number is: 2\n",
            "number is: 3\n",
            "number is: 4\n",
            "number is: 5\n",
            "---\n",
            "number is: 5\n",
            "number is: 4\n",
            "number is: 3\n",
            "number is: 2\n",
            "number is: 1\n"
          ]
        }
      ]
    },
    {
      "cell_type": "code",
      "source": [
        "num = 6\n",
        "# -- while true execute. \n",
        "while num > 1:\n",
        "  num += 1 # very important to ensure logic will turn false\n",
        "  print(\"number is: {}\".format(num))"
      ],
      "metadata": {
        "id": "G60vzAr3rJaR"
      },
      "execution_count": null,
      "outputs": []
    },
    {
      "cell_type": "code",
      "source": [
        "# a counter \n",
        "count = 0\n",
        "while (count < 10):\n",
        "   print ('The count is: {0}'.format( count))\n",
        "   count = count + 1\n",
        "print (\"Good bye!\")"
      ],
      "metadata": {
        "colab": {
          "base_uri": "https://localhost:8080/"
        },
        "id": "nDh2CwFeRmHa",
        "outputId": "9c46e0a9-7101-4a0c-be18-b05e40678193"
      },
      "execution_count": 5,
      "outputs": [
        {
          "output_type": "stream",
          "name": "stdout",
          "text": [
            "The count is: 0\n",
            "The count is: 1\n",
            "The count is: 2\n",
            "The count is: 3\n",
            "The count is: 4\n",
            "The count is: 5\n",
            "The count is: 6\n",
            "The count is: 7\n",
            "The count is: 8\n",
            "The count is: 9\n",
            "Good bye!\n"
          ]
        }
      ]
    },
    {
      "cell_type": "code",
      "source": [
        "count = 0\n",
        "while True:\n",
        "   print ('The count is: {0}'.format( count))\n",
        "   count = count + 1\n",
        "   if count > 10:\n",
        "     break\n",
        "print(\"Good bye!\")"
      ],
      "metadata": {
        "colab": {
          "base_uri": "https://localhost:8080/"
        },
        "id": "HLRmWaPcRpI7",
        "outputId": "e5061273-5ab1-4af5-e44d-e5d3810f06cc"
      },
      "execution_count": 6,
      "outputs": [
        {
          "output_type": "stream",
          "name": "stdout",
          "text": [
            "The count is: 0\n",
            "The count is: 1\n",
            "The count is: 2\n",
            "The count is: 3\n",
            "The count is: 4\n",
            "The count is: 5\n",
            "The count is: 6\n",
            "The count is: 7\n",
            "The count is: 8\n",
            "The count is: 9\n",
            "The count is: 10\n",
            "Good bye!\n"
          ]
        }
      ]
    },
    {
      "cell_type": "markdown",
      "source": [
        "### While \"Loop in Action\"\n",
        "\n",
        "\n",
        "---\n",
        "Impractical chatbot but get's the point accross\n"
      ],
      "metadata": {
        "id": "E32NauLJOacD"
      }
    },
    {
      "cell_type": "code",
      "source": [
        "import random\n",
        "\n",
        "\n",
        "print(\"> Hola my name is BubaBot, \\n> ask me about the cold, snow, past or anything else \\n> OR say `bye` to end our interaction\")\n",
        "\n",
        "# list of quotes\n",
        "cold_quotes = [\"The cold never bothered me anyway. - Elsa, Frozen\",\n",
        "               \"Winter is not a season, it's a celebration. - Anamika Mishra\",\n",
        "               \"Winter is the time for comfort, for good food and warmth, for the touch of a friendly hand and for a talk beside the fire: it is the time for home. - Edith Sitwell\",\n",
        "               \"I like the cold weather. It means you get work done. - Noam Chomsky\",\n",
        "               \"The Eskimos had fifty-two names for snow because it was important to them: there ought to be as many for love. - Margaret Atwood\",\n",
        "               \"I prefer winter and fall, when you feel the bone structure of the landscape. Something waits beneath it; the whole story doesn't show. - Andrew Wyeth\",\n",
        "               \"The first snow is like the first love, do you remember? - Lara Biyuts\",\n",
        "               \"I love the scents of winter! For me, it's all about the feeling you get when you smell pumpkin spice, cinnamon, nutmeg, gingerbread and spruce. - Taylor Swift\",\n",
        "               \"The air bites shrewdly; it is very cold. - William Shakespeare, Hamlet\",\n",
        "               \"The very fact of snow is such an amazement. - Roger Ebert\"]\n",
        "\n",
        "snow_quotes = [\"Snowflakes are kisses from heaven.\",\n",
        "          \"In the midst of winter, I found there was, within me, an invincible summer.\",\n",
        "          \"A snowball in the face is surely the perfect beginning to a lasting friendship.\"]\n",
        "past_quotes =  [\"The past is never where you think you left it.\",\n",
        "          \"The past is a place of reference, not a place of residence.\",\n",
        "          \"Learn from the past, set vivid, detailed goals for the future, and live in the only moment of time over which you have any control: now.\",\n",
        "          \"The future is something which everyone reaches at the rate of sixty minutes an hour, whatever he does, whoever he is.\"]\n",
        "x = 1\n",
        "# Define a loop to get user input and generate responses\n",
        "while x != 0:\n",
        "    user_input = input(\"> ask a question:  \")\n",
        "    user_input = user_input.lower()\n",
        "    # Check if user input contains any of the keywords\n",
        "    if \"cold\" in user_input:\n",
        "        print(\"BubaBot: {}\".format(random.choice(cold_quotes[:2])))\n",
        "    elif \"snow\" in user_input:\n",
        "        print(\"BubaBot: {}\".format(random.choice(snow_quotes[:2])))\n",
        "    elif \"past\" in user_input:\n",
        "        print(\"BubaBot: {}\".format(random.choice(past_quotes[:2])))\n",
        "    elif user_input == \"bye\":\n",
        "        print(\"BubaBot: Goodbye!\")\n",
        "        x = 0\n",
        "    else:\n",
        "        print(\"BubaBot: {}\".format(responses[4]))\n",
        "\n",
        "  \n"
      ],
      "metadata": {
        "colab": {
          "base_uri": "https://localhost:8080/"
        },
        "id": "lphBI1iJNJx7",
        "outputId": "602b34d5-a14a-45f7-f982-e1dc0f08fc93"
      },
      "execution_count": 7,
      "outputs": [
        {
          "output_type": "stream",
          "name": "stdout",
          "text": [
            "hello my name is BubaBot, \n",
            " ask me about the cold, snow, past or anything else \n",
            " OR say `bye` to end our interaction\n",
            "ask a question:  bye\n",
            "BubaBot: Goodbye!\n"
          ]
        }
      ]
    },
    {
      "cell_type": "markdown",
      "metadata": {
        "id": "6jTE5gzPHpKD"
      },
      "source": [
        "## For Loop Basics \n",
        "\n",
        "\n",
        "---\n",
        "\n",
        "Each for loop has a index and value, let's look at some examples with range and lists of numbers and strings: \n",
        "\n",
        "> NOTE: the `range()` function in Python allows you to generate a sequence of integers.\n",
        "\n",
        "```python\n",
        "# using range() function\n",
        "for x in range(5):\n",
        "  print(x)\n",
        "\n",
        "# numeric list\n",
        "sequence = [10,20,30,40,50]\n",
        "for x in sequence:\n",
        "    print(\"index {0}: {1}\".format(+ sequence.index(x),x))\n",
        "\n",
        "# string list\n",
        "names = [\"mike\", \"amy\", \"ethan\", \"cole\", \"max\"]\n",
        "for name in names:\n",
        "  print(\"index {0}: {1}\".format(+ names.index(name),name))\n",
        "```"
      ]
    },
    {
      "cell_type": "code",
      "source": [
        "sequence = [10,20,30,40,50, 100]\n",
        "\n",
        "for x in sequence:\n",
        "    print(\"index {0}: {1}\".format(+ sequence.index(x),x))"
      ],
      "metadata": {
        "colab": {
          "base_uri": "https://localhost:8080/"
        },
        "id": "_LPnXmhTlr4b",
        "outputId": "e7c42df3-bc20-4cdf-ae85-653175d25c7f"
      },
      "execution_count": 8,
      "outputs": [
        {
          "output_type": "stream",
          "name": "stdout",
          "text": [
            "index 0: 10\n",
            "index 1: 20\n",
            "index 2: 30\n",
            "index 3: 40\n",
            "index 4: 50\n",
            "index 5: 100\n"
          ]
        }
      ]
    },
    {
      "cell_type": "code",
      "source": [
        "names = [\"mike\", \"amy\", \"ethan\", \"cole\", \"max\"]\n",
        "for name in names:\n",
        "  print(\"index {0}: {1}\".format(+ names.index(name),name))"
      ],
      "metadata": {
        "colab": {
          "base_uri": "https://localhost:8080/"
        },
        "id": "WSzfsFMDlsMw",
        "outputId": "2f818962-ba17-4acb-9f7f-13ae41243d60"
      },
      "execution_count": 9,
      "outputs": [
        {
          "output_type": "stream",
          "name": "stdout",
          "text": [
            "index 0: mike\n",
            "index 1: amy\n",
            "index 2: ethan\n",
            "index 3: cole\n",
            "index 4: max\n"
          ]
        }
      ]
    },
    {
      "cell_type": "markdown",
      "source": [
        "### Itterating over a Dictionary \n",
        "\n",
        "\n",
        "---\n",
        "\n",
        "Dictionaries "
      ],
      "metadata": {
        "id": "H8blkpl8U9Y4"
      }
    },
    {
      "cell_type": "code",
      "source": [
        "stocks = {\n",
        "    'FB': 351.86,\n",
        "    'AMZN': 3418.22,\n",
        "    'AAPL': 136.54,\n",
        "    'NFLX': 532.34,\n",
        "    'GOOG': 2516.08\n",
        "    }\n",
        "\n",
        "for key, value in stocks.items() :\n",
        "    print(\"stock: {0}, price ${1} \".format(key, value))\n",
        "\n",
        "print(\"---\")\n",
        "\n",
        "for key in stocks.keys() :\n",
        "    print(\"stock: {0}, price ${1} \".format(key, stocks[key]))"
      ],
      "metadata": {
        "colab": {
          "base_uri": "https://localhost:8080/"
        },
        "id": "qchKIXdkU1V_",
        "outputId": "2452581f-c33e-4332-9a9d-81c3a4ee9d1e"
      },
      "execution_count": 10,
      "outputs": [
        {
          "output_type": "stream",
          "name": "stdout",
          "text": [
            "stock: FB, price $351.86 \n",
            "stock: AMZN, price $3418.22 \n",
            "stock: AAPL, price $136.54 \n",
            "stock: NFLX, price $532.34 \n",
            "stock: GOOG, price $2516.08 \n",
            "---\n",
            "stock: FB, price $351.86 \n",
            "stock: AMZN, price $3418.22 \n",
            "stock: AAPL, price $136.54 \n",
            "stock: NFLX, price $532.34 \n",
            "stock: GOOG, price $2516.08 \n"
          ]
        }
      ]
    },
    {
      "cell_type": "markdown",
      "source": [
        "## Practical \"For Loops\"\n",
        "\n",
        "\n",
        "---\n",
        "\n",
        "Here we are going to loop over different variables in the dataset. To do this we are going to convert a column into a sorted and unique list of values. \n",
        "- `.sort_values()` is a method for sorting a DataFrame or a Series by one or more columns. It sorts the rows of the DataFrame or Series in ascending or descending order based on the values in one or more specified columns.\n",
        "\n",
        "- `.unique()` is a method in pandas library that is used to find the unique values in a pandas Series. It returns an **array** containing the unique values in the Series, sorted in the order they appear.\n",
        "  \n",
        "- `.tolist()` is a  NumPy method that converts a NumPy array to a Python list. Out of the .unique() function we can **OPTIONALLY** convert the **array** to a **list**.\n",
        "\n",
        "  > NOTE: `.tolist()` only works on NumPy arrays. \n",
        "\n"
      ],
      "metadata": {
        "id": "RZQ61UNjWbbG"
      }
    },
    {
      "cell_type": "code",
      "source": [
        "var_list = faang[\"years_experince\"].sort_values().unique().tolist()\n",
        "\n",
        "for var in var_list:\n",
        "  print(var)"
      ],
      "metadata": {
        "colab": {
          "base_uri": "https://localhost:8080/"
        },
        "id": "GTMRONKtXjyY",
        "outputId": "93ee7741-b28a-4f70-d711-774b57d66329"
      },
      "execution_count": 11,
      "outputs": [
        {
          "output_type": "stream",
          "name": "stdout",
          "text": [
            "0.0\n",
            "1.0\n",
            "2.0\n",
            "3.0\n",
            "4.0\n",
            "5.0\n",
            "6.0\n",
            "7.0\n",
            "8.0\n",
            "9.0\n",
            "10.0\n",
            "11.0\n",
            "12.0\n",
            "13.0\n",
            "14.0\n",
            "15.0\n",
            "16.0\n",
            "17.0\n",
            "18.0\n",
            "19.0\n"
          ]
        }
      ]
    },
    {
      "cell_type": "markdown",
      "source": [
        "## Suppose... \n",
        "\n",
        "\n",
        "---\n",
        "\n",
        "You want to make a frequency plot(i.e. bar chart with counts) of each variable in a data frame dataframe WHEN they have fewer than 32 unique values? \n",
        "\n",
        "- first get a list of columns:  you can get a list of columns using the columns attribute:\n",
        "```python\n",
        "cols = df.columns\n",
        "```\n",
        "\n",
        "- iterate over each column in the dataframe using a for loop\n",
        "```python\n",
        "for col in cols:\n",
        "  # do something\n",
        "```\n",
        "\n",
        "- Inside the loop, you can test the number of unique values and create a bar chart if it is less than 32:\n",
        "```python\n",
        "# count the number of unique values in a column\n",
        "num_unique_values = df['your_column_name'].nunique()\n",
        "if num_unique_values <= 32:\n",
        "  sns.countplot(data=df,x=col)\n",
        "```\n",
        "\n",
        "\n",
        "Let's put this all together! Here is how I approach this type of problem: \n",
        "\n",
        "1. First, get the loop structure working. \n",
        "2. Second, get the plot working. \n",
        "3. Finally, put it all together"
      ],
      "metadata": {
        "id": "Q_0RQedSZZwI"
      }
    },
    {
      "cell_type": "markdown",
      "source": [
        "### Get Loop Structure working\n",
        "\n",
        "\n",
        "---\n",
        "\n",
        "**MASTER the FOR LOOP** 98% of the time I use for-loops, rarely if ever do I need a while loop, unless i'm building some form of **bot**. \n",
        "\n",
        "Here we want to simply identify what we want to itterate over, get the syntax of the for loop correct and print out what we are itteratiting over. \n"
      ],
      "metadata": {
        "id": "1ejhcRRhjb_E"
      }
    },
    {
      "cell_type": "code",
      "source": [
        "cols = faang.columns\n",
        "\n",
        "for col in cols:\n",
        "  nunique = faang[col].nunique() \n",
        "  if nunique <= 32:\n",
        "    print(\"{} has {} unique values\".format(col,nunique) )\n",
        "  else:\n",
        "    print(\"--skip:\\t{} has {} unique values -- \".format(col,nunique) )"
      ],
      "metadata": {
        "colab": {
          "base_uri": "https://localhost:8080/"
        },
        "id": "O9_9kTIAZZID",
        "outputId": "3d855eab-a0bc-420c-80ae-5ed2bdee158a"
      },
      "execution_count": 12,
      "outputs": [
        {
          "output_type": "stream",
          "name": "stdout",
          "text": [
            "years_experince has 20 unique values\n",
            "company_name has 5 unique values\n",
            "job_title has 5 unique values\n",
            "degree has 5 unique values\n",
            "--skip:\tpredict_proba has 399 unique values -- \n",
            "predict_status has 2 unique values\n",
            "income_level has 2 unique values\n"
          ]
        }
      ]
    },
    {
      "cell_type": "markdown",
      "source": [
        "### What do i want to do? \n",
        "\n",
        "\n",
        "---\n",
        "\n",
        "In this case i want to create a fequency plot using seaborn's `countplot(data = df, x = column_to_count)` function. "
      ],
      "metadata": {
        "id": "-cDL8no2jeea"
      }
    },
    {
      "cell_type": "code",
      "source": [
        "col = \"years_experince\"\n",
        "plt.figure(figsize=(15, 3))\n",
        "sns.countplot(data=faang,\n",
        "              x=col,\n",
        "              color=\"lightblue\")\n",
        "plt.title(\"frequency plot of: {}\".format(col));"
      ],
      "metadata": {
        "colab": {
          "base_uri": "https://localhost:8080/",
          "height": 242
        },
        "id": "cJtBUZegjgn7",
        "outputId": "b3563c33-21c6-4bbf-cd9c-0be10b32f288"
      },
      "execution_count": 13,
      "outputs": [
        {
          "output_type": "display_data",
          "data": {
            "text/plain": [
              "<Figure size 1080x216 with 1 Axes>"
            ],
            "image/png": "[encoded data removed]"
          },
          "metadata": {
            "needs_background": "light"
          }
        }
      ]
    },
    {
      "cell_type": "markdown",
      "source": [
        "### Put it all together\n",
        "\n",
        "\n",
        "---\n",
        "now we have the loop, the plotting code we want to itterate over. So lets pull it together.\n",
        "\n"
      ],
      "metadata": {
        "id": "rxMEOLPAjg0v"
      }
    },
    {
      "cell_type": "code",
      "source": [
        "cols = faang.columns\n",
        "\n",
        "for col in cols:\n",
        "  nunique = faang[col].nunique() \n",
        "  if nunique <= 32:\n",
        "    plt.figure(figsize=(15, 3))\n",
        "    sns.countplot(data=faang,\n",
        "                  x=col,\n",
        "                  color=\"lightblue\")\n",
        "    plt.title(\"column: {} has {} unique values\".format(col,nunique));\n",
        "    plt.show()\n",
        "\n",
        "  else:\n",
        "    print(\"-- skip:\\t{} has {} unique values --\".format(col,nunique) )"
      ],
      "metadata": {
        "colab": {
          "base_uri": "https://localhost:8080/",
          "height": 1000
        },
        "id": "ZEZQjW6TjjM0",
        "outputId": "58fc192b-9241-4492-efd5-2a2a97f176b7"
      },
      "execution_count": 14,
      "outputs": [
        {
          "output_type": "display_data",
          "data": {
            "text/plain": [
              "<Figure size 1080x216 with 1 Axes>"
            ],
            "image/png": "[encoded data removed]"
          },
          "metadata": {
            "needs_background": "light"
          }
        },
        {
          "output_type": "display_data",
          "data": {
            "text/plain": [
              "<Figure size 1080x216 with 1 Axes>"
            ],
            "image/png": "[encoded data removed]"
          },
          "metadata": {
            "needs_background": "light"
          }
        },
        {
          "output_type": "display_data",
          "data": {
            "text/plain": [
              "<Figure size 1080x216 with 1 Axes>"
            ],
            "image/png": "[encoded data removed]"
          },
          "metadata": {
            "needs_background": "light"
          }
        },
        {
          "output_type": "display_data",
          "data": {
            "text/plain": [
              "<Figure size 1080x216 with 1 Axes>"
            ],
            "image/png": "[encoded data removed]"
          },
          "metadata": {
            "needs_background": "light"
          }
        },
        {
          "output_type": "stream",
          "name": "stdout",
          "text": [
            "-- skip:\tpredict_proba has 399 unique values --\n"
          ]
        },
        {
          "output_type": "display_data",
          "data": {
            "text/plain": [
              "<Figure size 1080x216 with 1 Axes>"
            ],
            "image/png": "[encoded data removed]"
          },
          "metadata": {
            "needs_background": "light"
          }
        },
        {
          "output_type": "display_data",
          "data": {
            "text/plain": [
              "<Figure size 1080x216 with 1 Axes>"
            ],
            "image/png": "[encoded data removed]"
          },
          "metadata": {
            "needs_background": "light"
          }
        }
      ]
    }
  ]
}