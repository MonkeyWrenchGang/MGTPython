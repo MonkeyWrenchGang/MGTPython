{
  "nbformat": 4,
  "nbformat_minor": 0,
  "metadata": {
    "colab": {
      "provenance": [],
      "authorship_tag": "ABX9TyNK2V3l1OBlKqHC6v5Z2SOP",
      "include_colab_link": true
    },
    "kernelspec": {
      "name": "python3",
      "display_name": "Python 3"
    },
    "language_info": {
      "name": "python"
    }
  },
  "cells": [
    {
      "cell_type": "markdown",
      "metadata": {
        "id": "view-in-github",
        "colab_type": "text"
      },
      "source": [
        "<a href=\"https://colab.research.google.com/github/MonkeyWrenchGang/MGTPython/blob/main/module_10/10_3_Chatterbot.ipynb\" target=\"_parent\"><img src=\"https://colab.research.google.com/assets/colab-badge.svg\" alt=\"Open In Colab\"/></a>"
      ]
    },
    {
      "cell_type": "markdown",
      "source": [
        "# 10.3 ChatterBot Training \n",
        "\n",
        "\n",
        "---\n",
        "\n",
        "Using a dataset we can train chatterbot to respond to specific prompts using the \"ListTrainer\". \n",
        "\n",
        "Here we are going to import an CSV file of sample converstations we'd like the bot to respond to. \n",
        "\n"
      ],
      "metadata": {
        "id": "bMcqSRQ3vqAp"
      }
    },
    {
      "cell_type": "code",
      "source": [
        "!pip install chatterbot==1.0.4"
      ],
      "metadata": {
        "colab": {
          "base_uri": "https://localhost:8080/"
        },
        "id": "f4Sn4feYWOTn",
        "outputId": "4c1179de-3d8f-4354-93db-09fa20b552e2"
      },
      "execution_count": 2,
      "outputs": [
        {
          "output_type": "stream",
          "name": "stdout",
          "text": [
            "Looking in indexes: https://pypi.org/simple, https://us-python.pkg.dev/colab-wheels/public/simple/\n",
            "Collecting chatterbot==1.0.4\n",
            "  Downloading ChatterBot-1.0.4-py2.py3-none-any.whl (66 kB)\n",
            "\u001b[2K     \u001b[90m━━━━━━━━━━━━━━━━━━━━━━━━━━━━━━━━━━━━━━━━\u001b[0m \u001b[32m66.3/66.3 kB\u001b[0m \u001b[31m3.1 MB/s\u001b[0m eta \u001b[36m0:00:00\u001b[0m\n",
            "\u001b[?25hCollecting mathparse<0.2,>=0.1\n",
            "  Downloading mathparse-0.1.2-py3-none-any.whl (7.2 kB)\n",
            "Collecting python-dateutil<2.8,>=2.7\n",
            "  Downloading python_dateutil-2.7.5-py2.py3-none-any.whl (225 kB)\n",
            "\u001b[2K     \u001b[90m━━━━━━━━━━━━━━━━━━━━━━━━━━━━━━━━━━━━━━━\u001b[0m \u001b[32m225.7/225.7 kB\u001b[0m \u001b[31m3.2 MB/s\u001b[0m eta \u001b[36m0:00:00\u001b[0m\n",
            "\u001b[?25hCollecting pymongo<4.0,>=3.3\n",
            "  Downloading pymongo-3.13.0-cp39-cp39-manylinux_2_17_x86_64.manylinux2014_x86_64.whl (515 kB)\n",
            "\u001b[2K     \u001b[90m━━━━━━━━━━━━━━━━━━━━━━━━━━━━━━━━━━━━━━\u001b[0m \u001b[32m515.5/515.5 kB\u001b[0m \u001b[31m32.6 MB/s\u001b[0m eta \u001b[36m0:00:00\u001b[0m\n",
            "\u001b[?25hCollecting chatterbot-corpus<1.3,>=1.2\n",
            "  Downloading chatterbot_corpus-1.2.0-py2.py3-none-any.whl (117 kB)\n",
            "\u001b[2K     \u001b[90m━━━━━━━━━━━━━━━━━━━━━━━━━━━━━━━━━━━━━━\u001b[0m \u001b[32m117.3/117.3 kB\u001b[0m \u001b[31m13.8 MB/s\u001b[0m eta \u001b[36m0:00:00\u001b[0m\n",
            "\u001b[?25hRequirement already satisfied: nltk<4.0,>=3.2 in /usr/local/lib/python3.9/dist-packages (from chatterbot==1.0.4) (3.8.1)\n",
            "Collecting sqlalchemy<1.3,>=1.2\n",
            "  Downloading SQLAlchemy-1.2.19.tar.gz (5.7 MB)\n",
            "\u001b[2K     \u001b[90m━━━━━━━━━━━━━━━━━━━━━━━━━━━━━━━━━━━━━━━━\u001b[0m \u001b[32m5.7/5.7 MB\u001b[0m \u001b[31m77.4 MB/s\u001b[0m eta \u001b[36m0:00:00\u001b[0m\n",
            "\u001b[?25h  Preparing metadata (setup.py) ... \u001b[?25l\u001b[?25hdone\n",
            "Collecting pint>=0.8.1\n",
            "  Downloading Pint-0.20.1-py3-none-any.whl (269 kB)\n",
            "\u001b[2K     \u001b[90m━━━━━━━━━━━━━━━━━━━━━━━━━━━━━━━━━━━━━━\u001b[0m \u001b[32m269.5/269.5 kB\u001b[0m \u001b[31m25.3 MB/s\u001b[0m eta \u001b[36m0:00:00\u001b[0m\n",
            "\u001b[?25hCollecting PyYAML<4.0,>=3.12\n",
            "  Downloading PyYAML-3.13.tar.gz (270 kB)\n",
            "\u001b[2K     \u001b[90m━━━━━━━━━━━━━━━━━━━━━━━━━━━━━━━━━━━━━━\u001b[0m \u001b[32m270.6/270.6 kB\u001b[0m \u001b[31m27.2 MB/s\u001b[0m eta \u001b[36m0:00:00\u001b[0m\n",
            "\u001b[?25h  Preparing metadata (setup.py) ... \u001b[?25l\u001b[?25hdone\n",
            "Requirement already satisfied: joblib in /usr/local/lib/python3.9/dist-packages (from nltk<4.0,>=3.2->chatterbot==1.0.4) (1.2.0)\n",
            "Requirement already satisfied: click in /usr/local/lib/python3.9/dist-packages (from nltk<4.0,>=3.2->chatterbot==1.0.4) (8.1.3)\n",
            "Requirement already satisfied: regex>=2021.8.3 in /usr/local/lib/python3.9/dist-packages (from nltk<4.0,>=3.2->chatterbot==1.0.4) (2022.10.31)\n",
            "Requirement already satisfied: tqdm in /usr/local/lib/python3.9/dist-packages (from nltk<4.0,>=3.2->chatterbot==1.0.4) (4.65.0)\n",
            "Requirement already satisfied: six>=1.5 in /usr/local/lib/python3.9/dist-packages (from python-dateutil<2.8,>=2.7->chatterbot==1.0.4) (1.16.0)\n",
            "Building wheels for collected packages: sqlalchemy, PyYAML\n",
            "  Building wheel for sqlalchemy (setup.py) ... \u001b[?25l\u001b[?25hdone\n",
            "  Created wheel for sqlalchemy: filename=SQLAlchemy-1.2.19-cp39-cp39-linux_x86_64.whl size=1157819 sha256=252c486c6e8e86946a12a9b4d78631498fa8b4f7b96d527692dd6f52b9283961\n",
            "  Stored in directory: /root/.cache/pip/wheels/12/75/ee/52355e3658b18c812a419a7fdf581ab885b01c0675e25e9b01\n",
            "  Building wheel for PyYAML (setup.py) ... \u001b[?25l\u001b[?25hdone\n",
            "  Created wheel for PyYAML: filename=PyYAML-3.13-cp39-cp39-linux_x86_64.whl size=43098 sha256=9743ebf5d58ef2a8fb469ab7b3031f1c2e11e8aac43bb4b660b853a5ae1950e9\n",
            "  Stored in directory: /root/.cache/pip/wheels/81/6e/87/725bed1db7f86e1c7091ef5f4a4f11b0fcf7023c2be4fc29db\n",
            "Successfully built sqlalchemy PyYAML\n",
            "Installing collected packages: sqlalchemy, PyYAML, mathparse, python-dateutil, pymongo, pint, chatterbot-corpus, chatterbot\n",
            "  Attempting uninstall: sqlalchemy\n",
            "    Found existing installation: SQLAlchemy 2.0.9\n",
            "    Uninstalling SQLAlchemy-2.0.9:\n",
            "      Successfully uninstalled SQLAlchemy-2.0.9\n",
            "  Attempting uninstall: PyYAML\n",
            "    Found existing installation: PyYAML 6.0\n",
            "    Uninstalling PyYAML-6.0:\n",
            "      Successfully uninstalled PyYAML-6.0\n",
            "  Attempting uninstall: python-dateutil\n",
            "    Found existing installation: python-dateutil 2.8.2\n",
            "    Uninstalling python-dateutil-2.8.2:\n",
            "      Successfully uninstalled python-dateutil-2.8.2\n",
            "\u001b[31mERROR: pip's dependency resolver does not currently take into account all the packages that are installed. This behaviour is the source of the following dependency conflicts.\n",
            "prophet 1.1.2 requires python-dateutil>=2.8.0, but you have python-dateutil 2.7.5 which is incompatible.\n",
            "pandas 1.5.3 requires python-dateutil>=2.8.1, but you have python-dateutil 2.7.5 which is incompatible.\n",
            "flax 0.6.8 requires PyYAML>=5.4.1, but you have pyyaml 3.13 which is incompatible.\n",
            "dask 2022.12.1 requires pyyaml>=5.3.1, but you have pyyaml 3.13 which is incompatible.\u001b[0m\u001b[31m\n",
            "\u001b[0mSuccessfully installed PyYAML-3.13 chatterbot-1.0.4 chatterbot-corpus-1.2.0 mathparse-0.1.2 pint-0.20.1 pymongo-3.13.0 python-dateutil-2.7.5 sqlalchemy-1.2.19\n"
          ]
        }
      ]
    },
    {
      "cell_type": "code",
      "source": [
        "import pandas as pd\n",
        "import requests\n",
        "from io import BytesIO\n",
        "from chatterbot import ChatBot\n",
        "from chatterbot.trainers import ListTrainer, ChatterBotCorpusTrainer"
      ],
      "metadata": {
        "id": "VmUEMbh1k2T5"
      },
      "execution_count": 25,
      "outputs": []
    },
    {
      "cell_type": "code",
      "source": [
        "# Define the URL of the Excel file on GitHub\n",
        "url = \"https://github.com/MonkeyWrenchGang/MGTPython/blob/main/module_10/data/CustomerServiceConversation.xlsx?raw=true\"\n",
        "\n",
        "# Make a GET request to the URL and read the response as bytes\n",
        "response = requests.get(url)\n",
        "content = response.content\n",
        "\n",
        "# Create a pandas DataFrame from the Excel file content\n",
        "df = pd.read_excel(BytesIO(content))\n",
        "\n",
        "\n",
        "df.head()\n"
      ],
      "metadata": {
        "id": "LaQzzXIvkbWw",
        "colab": {
          "base_uri": "https://localhost:8080/",
          "height": 206
        },
        "outputId": "7f681c26-cf2f-4831-fa69-8fbcf1d0e80c"
      },
      "execution_count": 26,
      "outputs": [
        {
          "output_type": "execute_result",
          "data": {
            "text/plain": [
              "                                                text  \\\n",
              "0  Hi, how can I get in touch with customer support?   \n",
              "1                    Can you help me place an order?   \n",
              "2                I'm having trouble with my account.   \n",
              "3                       How do I change my password?   \n",
              "4                       I need help with my billing.   \n",
              "\n",
              "                                            response  \n",
              "0  Hello! You can reach our customer support team...  \n",
              "1     Of course! What would you like to order today?  \n",
              "2  I'm sorry to hear that. What seems to be the p...  \n",
              "3  You can change your password by going to your ...  \n",
              "4  Sure thing! What specifically do you need help...  "
            ],
            "text/html": [
              "\n",
              "  <div id=\"df-029dd143-dcf8-487d-b02c-f40d80cd4970\">\n",
              "    <div class=\"colab-df-container\">\n",
              "      <div>\n",
              "<style scoped>\n",
              "    .dataframe tbody tr th:only-of-type {\n",
              "        vertical-align: middle;\n",
              "    }\n",
              "\n",
              "    .dataframe tbody tr th {\n",
              "        vertical-align: top;\n",
              "    }\n",
              "\n",
              "    .dataframe thead th {\n",
              "        text-align: right;\n",
              "    }\n",
              "</style>\n",
              "<table border=\"1\" class=\"dataframe\">\n",
              "  <thead>\n",
              "    <tr style=\"text-align: right;\">\n",
              "      <th></th>\n",
              "      <th>text</th>\n",
              "      <th>response</th>\n",
              "    </tr>\n",
              "  </thead>\n",
              "  <tbody>\n",
              "    <tr>\n",
              "      <th>0</th>\n",
              "      <td>Hi, how can I get in touch with customer support?</td>\n",
              "      <td>Hello! You can reach our customer support team...</td>\n",
              "    </tr>\n",
              "    <tr>\n",
              "      <th>1</th>\n",
              "      <td>Can you help me place an order?</td>\n",
              "      <td>Of course! What would you like to order today?</td>\n",
              "    </tr>\n",
              "    <tr>\n",
              "      <th>2</th>\n",
              "      <td>I'm having trouble with my account.</td>\n",
              "      <td>I'm sorry to hear that. What seems to be the p...</td>\n",
              "    </tr>\n",
              "    <tr>\n",
              "      <th>3</th>\n",
              "      <td>How do I change my password?</td>\n",
              "      <td>You can change your password by going to your ...</td>\n",
              "    </tr>\n",
              "    <tr>\n",
              "      <th>4</th>\n",
              "      <td>I need help with my billing.</td>\n",
              "      <td>Sure thing! What specifically do you need help...</td>\n",
              "    </tr>\n",
              "  </tbody>\n",
              "</table>\n",
              "</div>\n",
              "      <button class=\"colab-df-convert\" onclick=\"convertToInteractive('df-029dd143-dcf8-487d-b02c-f40d80cd4970')\"\n",
              "              title=\"Convert this dataframe to an interactive table.\"\n",
              "              style=\"display:none;\">\n",
              "        \n",
              "  <svg xmlns=\"http://www.w3.org/2000/svg\" height=\"24px\"viewBox=\"0 0 24 24\"\n",
              "       width=\"24px\">\n",
              "    <path d=\"M0 0h24v24H0V0z\" fill=\"none\"/>\n",
              "    <path d=\"M18.56 5.44l.94 2.06.94-2.06 2.06-.94-2.06-.94-.94-2.06-.94 2.06-2.06.94zm-11 1L8.5 8.5l.94-2.06 2.06-.94-2.06-.94L8.5 2.5l-.94 2.06-2.06.94zm10 10l.94 2.06.94-2.06 2.06-.94-2.06-.94-.94-2.06-.94 2.06-2.06.94z\"/><path d=\"M17.41 7.96l-1.37-1.37c-.4-.4-.92-.59-1.43-.59-.52 0-1.04.2-1.43.59L10.3 9.45l-7.72 7.72c-.78.78-.78 2.05 0 2.83L4 21.41c.39.39.9.59 1.41.59.51 0 1.02-.2 1.41-.59l7.78-7.78 2.81-2.81c.8-.78.8-2.07 0-2.86zM5.41 20L4 18.59l7.72-7.72 1.47 1.35L5.41 20z\"/>\n",
              "  </svg>\n",
              "      </button>\n",
              "      \n",
              "  <style>\n",
              "    .colab-df-container {\n",
              "      display:flex;\n",
              "      flex-wrap:wrap;\n",
              "      gap: 12px;\n",
              "    }\n",
              "\n",
              "    .colab-df-convert {\n",
              "      background-color: #E8F0FE;\n",
              "      border: none;\n",
              "      border-radius: 50%;\n",
              "      cursor: pointer;\n",
              "      display: none;\n",
              "      fill: #1967D2;\n",
              "      height: 32px;\n",
              "      padding: 0 0 0 0;\n",
              "      width: 32px;\n",
              "    }\n",
              "\n",
              "    .colab-df-convert:hover {\n",
              "      background-color: #E2EBFA;\n",
              "      box-shadow: 0px 1px 2px rgba(60, 64, 67, 0.3), 0px 1px 3px 1px rgba(60, 64, 67, 0.15);\n",
              "      fill: #174EA6;\n",
              "    }\n",
              "\n",
              "    [theme=dark] .colab-df-convert {\n",
              "      background-color: #3B4455;\n",
              "      fill: #D2E3FC;\n",
              "    }\n",
              "\n",
              "    [theme=dark] .colab-df-convert:hover {\n",
              "      background-color: #434B5C;\n",
              "      box-shadow: 0px 1px 3px 1px rgba(0, 0, 0, 0.15);\n",
              "      filter: drop-shadow(0px 1px 2px rgba(0, 0, 0, 0.3));\n",
              "      fill: #FFFFFF;\n",
              "    }\n",
              "  </style>\n",
              "\n",
              "      <script>\n",
              "        const buttonEl =\n",
              "          document.querySelector('#df-029dd143-dcf8-487d-b02c-f40d80cd4970 button.colab-df-convert');\n",
              "        buttonEl.style.display =\n",
              "          google.colab.kernel.accessAllowed ? 'block' : 'none';\n",
              "\n",
              "        async function convertToInteractive(key) {\n",
              "          const element = document.querySelector('#df-029dd143-dcf8-487d-b02c-f40d80cd4970');\n",
              "          const dataTable =\n",
              "            await google.colab.kernel.invokeFunction('convertToInteractive',\n",
              "                                                     [key], {});\n",
              "          if (!dataTable) return;\n",
              "\n",
              "          const docLinkHtml = 'Like what you see? Visit the ' +\n",
              "            '<a target=\"_blank\" href=https://colab.research.google.com/notebooks/data_table.ipynb>data table notebook</a>'\n",
              "            + ' to learn more about interactive tables.';\n",
              "          element.innerHTML = '';\n",
              "          dataTable['output_type'] = 'display_data';\n",
              "          await google.colab.output.renderOutput(dataTable, element);\n",
              "          const docLink = document.createElement('div');\n",
              "          docLink.innerHTML = docLinkHtml;\n",
              "          element.appendChild(docLink);\n",
              "        }\n",
              "      </script>\n",
              "    </div>\n",
              "  </div>\n",
              "  "
            ]
          },
          "metadata": {},
          "execution_count": 26
        }
      ]
    },
    {
      "cell_type": "code",
      "source": [
        "# Train the chatbot\n",
        "chatbot = ChatBot(\"Bob\",\n",
        "    # logic adapters are pre-built tasks and heurisitcs \n",
        "    logic_adapters=[\n",
        "        'chatterbot.logic.BestMatch'\n",
        "    ]\n",
        ")\n",
        "\n",
        "# different trainers. \n",
        "trainer_corp = ChatterBotCorpusTrainer(chatbot)\n",
        "trainer_list = ListTrainer(chatbot)\n",
        "\n",
        "trainer_corp.train(\n",
        "    \"chatterbot.corpus.english\"\n",
        ")"
      ],
      "metadata": {
        "id": "n_cxqfHglDl9",
        "colab": {
          "base_uri": "https://localhost:8080/"
        },
        "outputId": "61c2352b-ae7a-4aa0-b5ed-5644a315734c"
      },
      "execution_count": 27,
      "outputs": [
        {
          "output_type": "stream",
          "name": "stdout",
          "text": [
            "Training ai.yml: [########            ] 42%"
          ]
        },
        {
          "output_type": "stream",
          "name": "stderr",
          "text": [
            "[nltk_data] Downloading package averaged_perceptron_tagger to\n",
            "[nltk_data]     /root/nltk_data...\n",
            "[nltk_data]   Package averaged_perceptron_tagger is already up-to-\n",
            "[nltk_data]       date!\n",
            "[nltk_data] Downloading package punkt to /root/nltk_data...\n",
            "[nltk_data]   Package punkt is already up-to-date!\n",
            "[nltk_data] Downloading package stopwords to /root/nltk_data...\n",
            "[nltk_data]   Package stopwords is already up-to-date!\n"
          ]
        },
        {
          "output_type": "stream",
          "name": "stdout",
          "text": [
            "Training ai.yml: [####################] 100%\n",
            "Training botprofile.yml: [####################] 100%\n",
            "Training computers.yml: [####################] 100%\n",
            "Training conversations.yml: [####################] 100%\n",
            "Training emotion.yml: [####################] 100%\n",
            "Training food.yml: [####################] 100%\n",
            "Training gossip.yml: [####################] 100%\n",
            "Training greetings.yml: [####################] 100%\n",
            "Training health.yml: [####################] 100%\n",
            "Training history.yml: [####################] 100%\n",
            "Training humor.yml: [####################] 100%\n",
            "Training literature.yml: [####################] 100%\n",
            "Training money.yml: [####################] 100%\n",
            "Training movies.yml: [####################] 100%\n",
            "Training politics.yml: [####################] 100%\n",
            "Training psychology.yml: [####################] 100%\n",
            "Training science.yml: [####################] 100%\n",
            "\n",
            "Training trivia.yml: [####################] 100%\n"
          ]
        }
      ]
    },
    {
      "cell_type": "code",
      "source": [
        "print(chatbot.get_response(\"What's up?\"))"
      ],
      "metadata": {
        "id": "ZMkAMtmZ2Tap",
        "colab": {
          "base_uri": "https://localhost:8080/"
        },
        "outputId": "ae5afee3-c16d-44b5-9fd2-bd40b8bed1ce"
      },
      "execution_count": 29,
      "outputs": [
        {
          "output_type": "stream",
          "name": "stdout",
          "text": [
            "Not much.\n"
          ]
        }
      ]
    },
    {
      "cell_type": "code",
      "source": [
        "print(chatbot.get_response(\"What time is it \"))"
      ],
      "metadata": {
        "colab": {
          "base_uri": "https://localhost:8080/"
        },
        "id": "_5Rd3wEL3hsC",
        "outputId": "ab3a24dc-1fd7-4c00-e36b-dfbaa3920f3b"
      },
      "execution_count": 32,
      "outputs": [
        {
          "output_type": "stream",
          "name": "stdout",
          "text": [
            "global organization promoting enviornmental activism.\n"
          ]
        }
      ]
    },
    {
      "cell_type": "code",
      "source": [
        "# Convert the DataFrame to a list of dictionaries\n",
        "conversations = df.to_dict(\"records\")\n",
        "conversations"
      ],
      "metadata": {
        "id": "BBqkGI6VywoU",
        "colab": {
          "base_uri": "https://localhost:8080/"
        },
        "outputId": "d839e50b-f182-4b75-85df-87a1a5507cf1"
      },
      "execution_count": 33,
      "outputs": [
        {
          "output_type": "execute_result",
          "data": {
            "text/plain": [
              "[{'text': 'Hi, how can I get in touch with customer support?',\n",
              "  'response': 'Hello! You can reach our customer support team by phone, email, or chat. Which one would you prefer?'},\n",
              " {'text': 'Can you help me place an order?',\n",
              "  'response': 'Of course! What would you like to order today?'},\n",
              " {'text': \"I'm having trouble with my account.\",\n",
              "  'response': \"I'm sorry to hear that. What seems to be the problem?\"},\n",
              " {'text': 'How do I change my password?',\n",
              "  'response': 'You can change your password by going to your account settings and selecting the \"Change Password\" option.'},\n",
              " {'text': 'I need help with my billing.',\n",
              "  'response': 'Sure thing! What specifically do you need help with?'},\n",
              " {'text': 'Can I speak to a live agent?',\n",
              "  'response': 'Absolutely! I can transfer you to a live agent right away.'},\n",
              " {'text': \"My package hasn't arrived yet.\",\n",
              "  'response': \"I'm sorry to hear that. Can you please provide your order number so I can look into it?\"},\n",
              " {'text': 'What are your business hours?',\n",
              "  'response': 'Our business hours are Monday to Friday, 9am to 5pm.'},\n",
              " {'text': 'How do I cancel my subscription?',\n",
              "  'response': 'You can cancel your subscription by going to your account settings and selecting the \"Cancel Subscription\" option.'},\n",
              " {'text': 'Do you offer discounts for students?',\n",
              "  'response': 'Yes, we offer a 10% discount for all students.'},\n",
              " {'text': 'What payment methods do you accept?',\n",
              "  'response': 'We accept credit cards, PayPal, and bank transfers.'},\n",
              " {'text': 'I need to update my shipping address.',\n",
              "  'response': 'No problem. You can update your shipping address in your account settings.'},\n",
              " {'text': 'How do I return an item?',\n",
              "  'response': 'To return an item, please go to your order history and select the \"Return Item\" option.'},\n",
              " {'text': 'Can you recommend a product for me?',\n",
              "  'response': 'Certainly! What type of product are you looking for?'},\n",
              " {'text': 'My account has been hacked.',\n",
              "  'response': \"Oh no, I'm sorry to hear that. Please provide your account information so we can investigate.\"},\n",
              " {'text': 'How do I track my order?',\n",
              "  'response': 'You can track your order by going to your order history and selecting the \"Track Order\" option.'},\n",
              " {'text': 'What is your return policy?',\n",
              "  'response': 'Our return policy allows for returns within 30 days of purchase, as long as the item is in its original condition.'},\n",
              " {'text': \"I'm having trouble with the website.\",\n",
              "  'response': \"I apologize for the inconvenience. Can you provide more details about the issue you're experiencing?\"},\n",
              " {'text': 'What is the status of my order?',\n",
              "  'response': 'Let me check. Can you please provide your order number?'},\n",
              " {'text': 'Do you offer free shipping?',\n",
              "  'response': 'Yes, we offer free shipping on all orders over $50.'}]"
            ]
          },
          "metadata": {},
          "execution_count": 33
        }
      ]
    },
    {
      "cell_type": "code",
      "source": [
        "# for each conversation text, response pair train it  \n",
        "for conv in conversations:\n",
        "  trainer_list.train([conv[\"text\"],\n",
        "                      conv[\"response\"]])\n"
      ],
      "metadata": {
        "id": "rUwYCOsczA_L",
        "colab": {
          "base_uri": "https://localhost:8080/"
        },
        "outputId": "6415fd52-8746-445e-d947-beea6b0a3395"
      },
      "execution_count": 34,
      "outputs": [
        {
          "output_type": "stream",
          "name": "stdout",
          "text": [
            "List Trainer: [####################] 100%\n",
            "List Trainer: [####################] 100%\n",
            "List Trainer: [####################] 100%\n",
            "List Trainer: [####################] 100%\n",
            "List Trainer: [####################] 100%\n",
            "List Trainer: [####################] 100%\n",
            "List Trainer: [####################] 100%\n",
            "List Trainer: [####################] 100%\n",
            "List Trainer: [####################] 100%\n",
            "List Trainer: [####################] 100%\n",
            "List Trainer: [####################] 100%\n",
            "List Trainer: [####################] 100%\n",
            "List Trainer: [####################] 100%\n",
            "List Trainer: [####################] 100%\n",
            "List Trainer: [####################] 100%\n",
            "List Trainer: [####################] 100%\n",
            "\n",
            "\n",
            "List Trainer: [####################] 100%\n",
            "List Trainer: [####################] 100%\n"
          ]
        }
      ]
    },
    {
      "cell_type": "code",
      "source": [
        "# Get a few responses from the bot\n",
        "response = chatbot.get_response('I need help with my billing')\n",
        "print(response)\n",
        "response = chatbot.get_response('Can you help me place an order?')\n",
        "print(response)\n",
        "response = chatbot.get_response('What are your business hours?')\n",
        "print(response)"
      ],
      "metadata": {
        "id": "hpw4axBQvPQX",
        "colab": {
          "base_uri": "https://localhost:8080/"
        },
        "outputId": "8d690713-501c-4dae-efaf-65e9f1134e2c"
      },
      "execution_count": 35,
      "outputs": [
        {
          "output_type": "stream",
          "name": "stdout",
          "text": [
            "Sure thing! What specifically do you need help with?\n",
            "Of course! What would you like to order today?\n",
            "Our business hours are Monday to Friday, 9am to 5pm.\n"
          ]
        }
      ]
    },
    {
      "cell_type": "code",
      "execution_count": 38,
      "metadata": {
        "id": "KkhmmXzJF87u",
        "colab": {
          "base_uri": "https://localhost:8080/"
        },
        "outputId": "b8099756-8940-46dd-8fed-62a484625f83"
      },
      "outputs": [
        {
          "output_type": "stream",
          "name": "stdout",
          "text": [
            "Tell me a joke\n",
            "Yes, we offer free shipping on all orders over $50.\n",
            "Absolutely! I can transfer you to a live agent right away.\n"
          ]
        }
      ],
      "source": [
        "response = chatbot.get_response('I can you provide billing help?')\n",
        "print(response)\n",
        "response = chatbot.get_response('do you offer free shipping?')\n",
        "print(response)\n",
        "response = chatbot.get_response('Can I speak to a live agent?')\n",
        "print(response)"
      ]
    }
  ]
}