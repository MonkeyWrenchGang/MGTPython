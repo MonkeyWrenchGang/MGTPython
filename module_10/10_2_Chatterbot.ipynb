{
  "nbformat": 4,
  "nbformat_minor": 0,
  "metadata": {
    "colab": {
      "provenance": [],
      "authorship_tag": "ABX9TyNtfCZgOx2kuIDliUh4GuGq",
      "include_colab_link": true
    },
    "kernelspec": {
      "name": "python3",
      "display_name": "Python 3"
    },
    "language_info": {
      "name": "python"
    }
  },
  "cells": [
    {
      "cell_type": "markdown",
      "metadata": {
        "id": "view-in-github",
        "colab_type": "text"
      },
      "source": [
        "<a href=\"https://colab.research.google.com/github/MonkeyWrenchGang/MGTPython/blob/main/module_10/10_2_Chatterbot.ipynb\" target=\"_parent\"><img src=\"https://colab.research.google.com/assets/colab-badge.svg\" alt=\"Open In Colab\"/></a>"
      ]
    },
    {
      "cell_type": "markdown",
      "source": [
        "# 10.2 ChatterBot \n",
        "\n",
        "\n",
        "---\n",
        "\n",
        "ChatterBot is an opensource python library for chatbot development. ChatterBot uses a selection of machine learning algorithms to produce different types of responses. This makes it easy for developers to create chat bots and automate conversations with users. \n",
        "\n",
        "\n",
        "Key features include: \n",
        "\n",
        "\n",
        "\n",
        "One of the key features of Chatterbot is its modular design, which allows developers to customize and extend the functionality of the library. It also supports multiple languages, making it a great choice for building chatbots that can interact with users in different parts of the world.\n",
        "\n",
        "\n",
        "Colab uses a newer version of python so we need to install a specific version of chatterbot in colabratory. \n",
        "\n",
        "`!pip install chatterbot==1.0.4`\n",
        "\n",
        "NOTE: Ignore the error when installing"
      ],
      "metadata": {
        "id": "bMcqSRQ3vqAp"
      }
    },
    {
      "cell_type": "code",
      "source": [
        "#!pip install chatterbot==1.0.4"
      ],
      "metadata": {
        "id": "f4Sn4feYWOTn"
      },
      "execution_count": 24,
      "outputs": []
    },
    {
      "cell_type": "code",
      "execution_count": 14,
      "metadata": {
        "colab": {
          "base_uri": "https://localhost:8080/"
        },
        "id": "KkhmmXzJF87u",
        "outputId": "c41748bc-1c1a-4c41-fbc3-03f14df1d525"
      },
      "outputs": [
        {
          "output_type": "stream",
          "name": "stderr",
          "text": [
            "[nltk_data] Downloading package averaged_perceptron_tagger to\n",
            "[nltk_data]     /root/nltk_data...\n",
            "[nltk_data]   Unzipping taggers/averaged_perceptron_tagger.zip.\n",
            "[nltk_data] Downloading package punkt to /root/nltk_data...\n",
            "[nltk_data]   Unzipping tokenizers/punkt.zip.\n",
            "[nltk_data] Downloading package stopwords to /root/nltk_data...\n",
            "[nltk_data]   Unzipping corpora/stopwords.zip.\n",
            "[nltk_data] Downloading package wordnet to /root/nltk_data...\n"
          ]
        }
      ],
      "source": [
        "# import our chatbot and make a bot\n",
        "from chatterbot import ChatBot\n",
        "\n",
        "# Create a new instance of a ChatBot\n",
        "bot = ChatBot(\n",
        "    'SQLMemoryTerminal',\n",
        "    storage_adapter='chatterbot.storage.SQLStorageAdapter',\n",
        "    database_uri=None,\n",
        "    # logic adapters are pre-built tasks and heurisitcs \n",
        "    logic_adapters=[\n",
        "        'chatterbot.logic.MathematicalEvaluation',\n",
        "        'chatterbot.logic.TimeLogicAdapter',\n",
        "        'chatterbot.logic.BestMatch'\n",
        "    ]\n",
        ")"
      ]
    },
    {
      "cell_type": "code",
      "source": [
        "# Get a few responses from the bot\n",
        "response = bot.get_response('What time is it?')\n",
        "print(response)\n",
        "response = bot.get_response('What is 7 plus 7?')\n",
        "print(response)\n",
        "response = bot.get_response('What is 7 + 7?')\n",
        "print(response)\n"
      ],
      "metadata": {
        "colab": {
          "base_uri": "https://localhost:8080/"
        },
        "id": "HRiyRorkgCJo",
        "outputId": "bb9feb2b-1688-4c01-f6aa-ae0aff722eed"
      },
      "execution_count": 15,
      "outputs": [
        {
          "output_type": "stream",
          "name": "stdout",
          "text": [
            "The current time is 05:28 PM\n",
            "7 plus 7 = 14\n",
            "7 + 7 = 14\n"
          ]
        }
      ]
    },
    {
      "cell_type": "markdown",
      "source": [
        "# Loop it! \n",
        "\n",
        "\n",
        "---\n",
        "Remember our while loop? \n"
      ],
      "metadata": {
        "id": "kluRoUxFgKH_"
      }
    },
    {
      "cell_type": "code",
      "source": [
        "# Main program loop\n",
        "while True:\n",
        "    user_input = input(\"You: \")\n",
        "    if user_input == \"quit\":\n",
        "      break\n",
        "    bot_response = bot.get_response(user_input)\n",
        "    print(\"ChatBot:\", bot_response)"
      ],
      "metadata": {
        "colab": {
          "base_uri": "https://localhost:8080/"
        },
        "id": "-oMikPxfgN2y",
        "outputId": "5775b1e4-e0a6-43d8-ad66-eb770a3b0ea0"
      },
      "execution_count": 16,
      "outputs": [
        {
          "name": "stdout",
          "output_type": "stream",
          "text": [
            "You: Hola\n",
            "ChatBot: The current time is 05:29 PM\n",
            "You: Hora es\n",
            "ChatBot: The current time is 05:29 PM\n",
            "You: 7 times 8\n",
            "ChatBot: 7 times 8 = 56\n",
            "You: quit\n"
          ]
        }
      ]
    },
    {
      "cell_type": "code",
      "source": [
        "from chatterbot.trainers import ListTrainer\n",
        "from chatterbot import ChatBot\n",
        "\n",
        "# make a new bot\n",
        "MyBot  = ChatBot(\n",
        "    'SQLMemoryTerminal',\n",
        "    storage_adapter='chatterbot.storage.SQLStorageAdapter',\n",
        "    database_uri=None,\n",
        "    logic_adapters=[\n",
        "        'chatterbot.logic.MathematicalEvaluation',\n",
        "        'chatterbot.logic.TimeLogicAdapter',\n",
        "        'chatterbot.logic.BestMatch'\n",
        "    ]\n",
        ")\n",
        "\n",
        "# example converstation prompt followed by response\n",
        "conversation = [\n",
        "    \"Hello\", # prompt\n",
        "    \"Hi there!\", # response\n",
        "    \"Hola\", # prompt \n",
        "    \"Hi there!\", # response ... \n",
        "    \"como estas\",\n",
        "    \"bien y usted!\",\n",
        "    \"How are you doing?\",\n",
        "    \"I'm doing great.\",\n",
        "    \"That is good to hear\",\n",
        "    \"Thank you.\",\n",
        "    \"You're welcome.\"\n",
        "]\n",
        "\n",
        "trainer = ListTrainer(MyBot)\n",
        "\n",
        "trainer.train(conversation)\n",
        "\n",
        "MyBot.get_response('Hello')"
      ],
      "metadata": {
        "colab": {
          "base_uri": "https://localhost:8080/"
        },
        "id": "qtRvJpeixn9G",
        "outputId": "9940d99e-4f75-4526-a0f4-a508a162ae4b"
      },
      "execution_count": 17,
      "outputs": [
        {
          "output_type": "stream",
          "name": "stdout",
          "text": [
            "List Trainer: [####################] 100%\n"
          ]
        },
        {
          "output_type": "stream",
          "name": "stderr",
          "text": [
            "[nltk_data] Downloading package averaged_perceptron_tagger to\n",
            "[nltk_data]     /root/nltk_data...\n",
            "[nltk_data]   Package averaged_perceptron_tagger is already up-to-\n",
            "[nltk_data]       date!\n",
            "[nltk_data] Downloading package punkt to /root/nltk_data...\n",
            "[nltk_data]   Package punkt is already up-to-date!\n",
            "[nltk_data] Downloading package stopwords to /root/nltk_data...\n",
            "[nltk_data]   Package stopwords is already up-to-date!\n"
          ]
        },
        {
          "output_type": "execute_result",
          "data": {
            "text/plain": [
              "<Statement text:Hi there!>"
            ]
          },
          "metadata": {},
          "execution_count": 17
        }
      ]
    },
    {
      "cell_type": "code",
      "source": [
        "MyBot.get_response('7 + 7')"
      ],
      "metadata": {
        "colab": {
          "base_uri": "https://localhost:8080/"
        },
        "id": "ucZK0ekciPuL",
        "outputId": "e0730c5b-222f-4691-de31-dbe02d87b0bd"
      },
      "execution_count": 21,
      "outputs": [
        {
          "output_type": "execute_result",
          "data": {
            "text/plain": [
              "<Statement text:7 + 7 = 14>"
            ]
          },
          "metadata": {},
          "execution_count": 21
        }
      ]
    },
    {
      "cell_type": "code",
      "source": [
        "MyBot.get_response('Hola')"
      ],
      "metadata": {
        "colab": {
          "base_uri": "https://localhost:8080/"
        },
        "id": "r_GF5B-wiTZ1",
        "outputId": "a91a6078-547f-4627-a815-fbcdc49106c1"
      },
      "execution_count": 22,
      "outputs": [
        {
          "output_type": "execute_result",
          "data": {
            "text/plain": [
              "<Statement text:Hi there!>"
            ]
          },
          "metadata": {},
          "execution_count": 22
        }
      ]
    },
    {
      "cell_type": "code",
      "source": [
        "MyBot.get_response('Que hora es?')"
      ],
      "metadata": {
        "colab": {
          "base_uri": "https://localhost:8080/"
        },
        "id": "OlpfbB0scjja",
        "outputId": "19e6ead5-4580-41a9-d5a6-b7574382ce39"
      },
      "execution_count": 23,
      "outputs": [
        {
          "output_type": "execute_result",
          "data": {
            "text/plain": [
              "<Statement text:The current time is 05:30 PM>"
            ]
          },
          "metadata": {},
          "execution_count": 23
        }
      ]
    }
  ]
}