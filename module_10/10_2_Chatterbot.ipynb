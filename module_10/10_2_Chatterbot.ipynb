{
  "nbformat": 4,
  "nbformat_minor": 0,
  "metadata": {
    "colab": {
      "provenance": [],
      "authorship_tag": "ABX9TyPJhTa/2aGHjtqrokDoiMph",
      "include_colab_link": true
    },
    "kernelspec": {
      "name": "python3",
      "display_name": "Python 3"
    },
    "language_info": {
      "name": "python"
    }
  },
  "cells": [
    {
      "cell_type": "markdown",
      "metadata": {
        "id": "view-in-github",
        "colab_type": "text"
      },
      "source": [
        "<a href=\"https://colab.research.google.com/github/MonkeyWrenchGang/MGTPython/blob/main/module_10/10_2_Chatterbot.ipynb\" target=\"_parent\"><img src=\"https://colab.research.google.com/assets/colab-badge.svg\" alt=\"Open In Colab\"/></a>"
      ]
    },
    {
      "cell_type": "markdown",
      "source": [
        "# 10.2 ChatterBot \n",
        "\n",
        "\n",
        "---\n",
        "\n",
        "ChatterBot is an opensource python library for chatbot development. ChatterBot uses a selection of machine learning algorithms to produce different types of responses. This makes it easy for developers to create chat bots and automate conversations with users. \n",
        "\n",
        "\n",
        "Key features include: \n",
        "\n",
        "\n",
        "\n",
        "One of the key features of Chatterbot is its modular design, which allows developers to customize and extend the functionality of the library. It also supports multiple languages, making it a great choice for building chatbots that can interact with users in different parts of the world.\n",
        "\n",
        "\n",
        "Colab uses a newer version of python so we need to install a specific version of chatterbot in colabratory. \n",
        "\n",
        "`!pip install chatterbot==1.0.4`\n",
        "\n",
        "NOTE: Ignore the error when installing"
      ],
      "metadata": {
        "id": "bMcqSRQ3vqAp"
      }
    },
    {
      "cell_type": "code",
      "source": [
        "#!pip install chatterbot==1.0.4"
      ],
      "metadata": {
        "id": "f4Sn4feYWOTn"
      },
      "execution_count": 24,
      "outputs": []
    },
    {
      "cell_type": "code",
      "execution_count": 25,
      "metadata": {
        "colab": {
          "base_uri": "https://localhost:8080/"
        },
        "id": "KkhmmXzJF87u",
        "outputId": "e3a74225-a724-48b6-fc3e-b5a27f9d09d9"
      },
      "outputs": [
        {
          "output_type": "stream",
          "name": "stderr",
          "text": [
            "[nltk_data] Downloading package averaged_perceptron_tagger to\n",
            "[nltk_data]     /root/nltk_data...\n",
            "[nltk_data]   Package averaged_perceptron_tagger is already up-to-\n",
            "[nltk_data]       date!\n",
            "[nltk_data] Downloading package punkt to /root/nltk_data...\n",
            "[nltk_data]   Package punkt is already up-to-date!\n",
            "[nltk_data] Downloading package stopwords to /root/nltk_data...\n",
            "[nltk_data]   Package stopwords is already up-to-date!\n"
          ]
        }
      ],
      "source": [
        "# import our chatbot and make a bot\n",
        "from chatterbot import ChatBot\n",
        "\n",
        "# Create a new instance of a ChatBot\n",
        "bot = ChatBot(\n",
        "    'SQLMemoryTerminal',\n",
        "    storage_adapter='chatterbot.storage.SQLStorageAdapter',\n",
        "    database_uri=None,\n",
        "    # logic adapters are pre-built tasks and heurisitcs \n",
        "    logic_adapters=[\n",
        "        'chatterbot.logic.MathematicalEvaluation',\n",
        "        'chatterbot.logic.TimeLogicAdapter',\n",
        "        'chatterbot.logic.BestMatch'\n",
        "    ]\n",
        ")"
      ]
    },
    {
      "cell_type": "code",
      "source": [
        "# Get a few responses from the bot\n",
        "response = bot.get_response('What time is it?')\n",
        "print(response)\n",
        "response = bot.get_response('What is 7 plus 7?')\n",
        "print(response)\n",
        "response = bot.get_response('What is 7 + 8?')\n",
        "print(response)\n",
        "response = bot.get_response('What is 70 divided by 10?')\n",
        "print(response)"
      ],
      "metadata": {
        "colab": {
          "base_uri": "https://localhost:8080/"
        },
        "id": "HRiyRorkgCJo",
        "outputId": "9ef30c30-b6d2-4f1f-ca22-ac7a9fd9774e"
      },
      "execution_count": 26,
      "outputs": [
        {
          "output_type": "stream",
          "name": "stdout",
          "text": [
            "The current time is 05:46 PM\n",
            "7 plus 7 = 14\n",
            "7 + 8 = 15\n",
            "70 divided by 10 = 7\n"
          ]
        }
      ]
    },
    {
      "cell_type": "markdown",
      "source": [
        "# Loop it! \n",
        "\n",
        "\n",
        "---\n",
        "Remember our while loop? \n"
      ],
      "metadata": {
        "id": "kluRoUxFgKH_"
      }
    },
    {
      "cell_type": "code",
      "source": [
        "# Main program loop\n",
        "while True:\n",
        "    user_input = input(\"You: \")\n",
        "    if user_input == \"quit\":\n",
        "      break\n",
        "    bot_response = bot.get_response(user_input)\n",
        "    print(\"ChatBot:\", bot_response)"
      ],
      "metadata": {
        "colab": {
          "base_uri": "https://localhost:8080/"
        },
        "id": "-oMikPxfgN2y",
        "outputId": "2233b0ee-5eea-47ae-ab54-e0140e444975"
      },
      "execution_count": 27,
      "outputs": [
        {
          "name": "stdout",
          "output_type": "stream",
          "text": [
            "You: what is 6 plus 10\n",
            "ChatBot: 6 plus 10 = 16\n",
            "You: 5 times 40\n",
            "ChatBot: 5 times 40 = 200\n",
            "You: what time is it\n",
            "ChatBot: The current time is 05:47 PM\n",
            "You: quit\n"
          ]
        }
      ]
    },
    {
      "cell_type": "code",
      "source": [
        "from chatterbot.trainers import ListTrainer\n",
        "from chatterbot import ChatBot\n",
        "\n",
        "# make a new bot\n",
        "MyBot  = ChatBot(\n",
        "    'SQLMemoryTerminal',\n",
        "    storage_adapter='chatterbot.storage.SQLStorageAdapter',\n",
        "    database_uri=None,\n",
        "    logic_adapters=[\n",
        "        'chatterbot.logic.MathematicalEvaluation',\n",
        "        'chatterbot.logic.TimeLogicAdapter',\n",
        "        'chatterbot.logic.BestMatch'\n",
        "    ]\n",
        ")\n",
        "\n",
        "# example converstation prompt followed by response\n",
        "conversation = [\n",
        "    \"Hello\", # prompt\n",
        "    \"Hi there!\", # response\n",
        "    \"Hola\", # prompt \n",
        "    \"Hi there!\", # response ... \n",
        "    \"como estas\",\n",
        "    \"bien y usted!\",\n",
        "    \"How are you doing?\",\n",
        "    \"I'm doing great.\",\n",
        "    \"That is good to hear\",\n",
        "    \"Thank you.\",\n",
        "    \"You're welcome.\"\n",
        "]\n",
        "\n",
        "trainer = ListTrainer(MyBot)\n",
        "\n",
        "trainer.train(conversation)\n",
        "\n",
        "MyBot.get_response('Hello')"
      ],
      "metadata": {
        "colab": {
          "base_uri": "https://localhost:8080/"
        },
        "id": "qtRvJpeixn9G",
        "outputId": "eb1106f3-c826-43b5-a8e2-c57a2e59247d"
      },
      "execution_count": 28,
      "outputs": [
        {
          "output_type": "stream",
          "name": "stdout",
          "text": [
            "List Trainer: [####################] 100%\n"
          ]
        },
        {
          "output_type": "stream",
          "name": "stderr",
          "text": [
            "[nltk_data] Downloading package averaged_perceptron_tagger to\n",
            "[nltk_data]     /root/nltk_data...\n",
            "[nltk_data]   Package averaged_perceptron_tagger is already up-to-\n",
            "[nltk_data]       date!\n",
            "[nltk_data] Downloading package punkt to /root/nltk_data...\n",
            "[nltk_data]   Package punkt is already up-to-date!\n",
            "[nltk_data] Downloading package stopwords to /root/nltk_data...\n",
            "[nltk_data]   Package stopwords is already up-to-date!\n"
          ]
        },
        {
          "output_type": "execute_result",
          "data": {
            "text/plain": [
              "<Statement text:Hi there!>"
            ]
          },
          "metadata": {},
          "execution_count": 28
        }
      ]
    },
    {
      "cell_type": "code",
      "source": [
        "MyBot.get_response('7 + 7')"
      ],
      "metadata": {
        "colab": {
          "base_uri": "https://localhost:8080/"
        },
        "id": "ucZK0ekciPuL",
        "outputId": "ba68b7ee-50af-4f51-f006-8daa5e66e78f"
      },
      "execution_count": 29,
      "outputs": [
        {
          "output_type": "execute_result",
          "data": {
            "text/plain": [
              "<Statement text:7 + 7 = 14>"
            ]
          },
          "metadata": {},
          "execution_count": 29
        }
      ]
    },
    {
      "cell_type": "code",
      "source": [
        "MyBot.get_response('Hola')"
      ],
      "metadata": {
        "colab": {
          "base_uri": "https://localhost:8080/"
        },
        "id": "r_GF5B-wiTZ1",
        "outputId": "c87dd13e-728a-48bf-c99f-d290dfcdbd98"
      },
      "execution_count": 30,
      "outputs": [
        {
          "output_type": "execute_result",
          "data": {
            "text/plain": [
              "<Statement text:Hi there!>"
            ]
          },
          "metadata": {},
          "execution_count": 30
        }
      ]
    },
    {
      "cell_type": "code",
      "source": [
        "MyBot.get_response('Que hora es?')"
      ],
      "metadata": {
        "colab": {
          "base_uri": "https://localhost:8080/"
        },
        "id": "OlpfbB0scjja",
        "outputId": "0be9d0f2-bc6b-46a5-b41d-71a747c0db7a"
      },
      "execution_count": 31,
      "outputs": [
        {
          "output_type": "execute_result",
          "data": {
            "text/plain": [
              "<Statement text:The current time is 05:48 PM>"
            ]
          },
          "metadata": {},
          "execution_count": 31
        }
      ]
    }
  ]
}