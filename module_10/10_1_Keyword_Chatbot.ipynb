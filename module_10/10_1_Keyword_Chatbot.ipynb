{
  "nbformat": 4,
  "nbformat_minor": 0,
  "metadata": {
    "colab": {
      "provenance": [],
      "authorship_tag": "ABX9TyME5SyW3Mt9Gy324YGVlFaf",
      "include_colab_link": true
    },
    "kernelspec": {
      "name": "python3",
      "display_name": "Python 3"
    },
    "language_info": {
      "name": "python"
    }
  },
  "cells": [
    {
      "cell_type": "markdown",
      "metadata": {
        "id": "view-in-github",
        "colab_type": "text"
      },
      "source": [
        "<a href=\"https://colab.research.google.com/github/MonkeyWrenchGang/MGTPython/blob/main/module_10/10_1_Keyword_Chatbot.ipynb\" target=\"_parent\"><img src=\"https://colab.research.google.com/assets/colab-badge.svg\" alt=\"Open In Colab\"/></a>"
      ]
    },
    {
      "cell_type": "markdown",
      "source": [
        "# Keyword Chatbots \n",
        "\n",
        "\n",
        "---\n",
        "\n",
        "Welcome to the notebook on keyword-based chatbots! In this notebook, we will explore the fundamentals of chatbot technology and how to build a keyword-based chatbot using Python.\n",
        "\n",
        "As you know, Chatbots have finally turned the corner and actually are becoming usefull and have the potential to actaully perform quick and efficient customer service. \n",
        "\n",
        "Keyword-based chatbots are the simplilest form of chatbot. They simply use a a pre-defined set of **keywords or phrases** to understand user input and respond appropriately.\n",
        "\n"
      ],
      "metadata": {
        "id": "_VaZVDeWC01l"
      }
    },
    {
      "cell_type": "code",
      "execution_count": 1,
      "metadata": {
        "id": "Nyleeq6JCy03"
      },
      "outputs": [],
      "source": [
        "# -- only thing we need -- \n",
        "import random"
      ]
    },
    {
      "cell_type": "markdown",
      "source": [
        "# Keyword / pharase Chatbot\n",
        "\n",
        "\n",
        "---\n",
        "\n",
        "Here we have a dictionary of responses to prompts. This bot uses a key-value pair approach. The **\"KEY\"** is simply the term or phrase used to look up in the dictionary. IF the term or phrase is found THEN we simply return a random **VALUE** from the response list. \n",
        "\n",
        "when i say \"hola\" it is going to randomly respond with one of these repsonses: `[\"Hello!\", \"Hi there!\", \"Hi!\", \"Hola\", \"Hola Que Tal?\"]`\n"
      ],
      "metadata": {
        "id": "7EBfx7CgC1mB"
      }
    },
    {
      "cell_type": "code",
      "source": [
        "# Define a dictionary of possible chatbot responses\n",
        "responses = {\n",
        "    \"hello\": [\"Hello!\", \"Hi there!\", \"Hi!\"],\n",
        "    \"hola\": [\"Hello!\", \"Hi there!\", \"Hi!\", \"Hola\", \"Hola Que Tal?\"],\n",
        "    \"how are you\": [\"I'm doing well, thanks for asking!\", \"I'm great, how about you?\"],\n",
        "    \"what is your name\": [\"My name is ChatBot!\", \"I'm ChatBot! Nice to meet you.\"],\n",
        "    \"que nombre es\": [\"My name is ChatBot!\", \"I'm ChatBot! Nice to meet you.\"],\n",
        "    \"what can you do\":[\"I can say hello, and tell you my name\", \"not a whole lot - say hello and tell you my name\"],\n",
        "    \"what tasks can you do\":[\"I can say hello, and tell you my name\", \"not much i can say hello and tell you my name\"],\n",
        "    \"default\": [\"I'm sorry, I didn't understand what you said.\", \"Can you please rephrase that?\", \"I'm not sure what you mean.\"]\n",
        "}\n",
        "\n",
        "# Define a function to get a response from the chatbot based on user input\n",
        "def get_response(user_input):\n",
        "    user_input = user_input.lower()\n",
        "    if user_input in responses:\n",
        "        return random.choice(responses[user_input])\n",
        "    elif user_input == \"quit\":\n",
        "        return \"break\"\n",
        "    else:\n",
        "        return random.choice(responses[\"default\"])\n",
        "\n",
        "# Main program loop\n",
        "while True:\n",
        "    user_input = input(\"You: \")\n",
        "    bot_response = get_response(user_input)\n",
        "    if bot_response == \"break\":\n",
        "      print(\"goodbye!\")\n",
        "      break\n",
        "    print(\"ChatBot:\", bot_response)\n"
      ],
      "metadata": {
        "colab": {
          "base_uri": "https://localhost:8080/"
        },
        "id": "gaf8Dr0fC1u4",
        "outputId": "69af2d81-7d14-490a-ee38-ec8e49493572"
      },
      "execution_count": 2,
      "outputs": [
        {
          "output_type": "stream",
          "name": "stdout",
          "text": [
            "You: Hola\n",
            "ChatBot: Hello!\n",
            "You: what is your name\n",
            "ChatBot: I'm ChatBot! Nice to meet you.\n",
            "You: what can you do\n",
            "ChatBot: not a whole lot\n",
            "You: what time is it\n",
            "ChatBot: I'm not sure what you mean.\n",
            "You: quit\n",
            "goodbye!\n"
          ]
        }
      ]
    },
    {
      "cell_type": "code",
      "source": [],
      "metadata": {
        "id": "mREkLt53C2NW"
      },
      "execution_count": 2,
      "outputs": []
    }
  ]
}